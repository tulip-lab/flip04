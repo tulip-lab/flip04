{
 "cells": [
  {
   "cell_type": "markdown",
   "metadata": {},
   "source": [
    "# FLIP (04): Learning Theory (I)\n",
    "**(Module 03: Operation Research)**\n",
    "\n",
    "---\n",
    "- Materials in this module include resources collected from various open-source online repositories.\n",
    "- You are free to use, but NOT allowed to change or distribute this package.\n",
    "\n",
    "Prepared by and for \n",
    "**Student Members** |\n",
    "2006-2018 [TULIP Lab](http://www.tulip.org.au), Australia\n",
    "\n",
    "---"
   ]
  },
  {
   "cell_type": "markdown",
   "metadata": {
    "slideshow": {
     "slide_type": "slide"
    }
   },
   "source": [
    "# Case Study - Landhills Winery"
   ]
  },
  {
   "cell_type": "markdown",
   "metadata": {},
   "source": [
    "This notebook demonstrates the use of linear programming to analyze the case study\n",
    "\n",
    ">Owen Hall and Kenneth Ko. \"Landhills Winery: Developing an Optimal Blending Plan,\" 3 pages, HBS Case W14167-PDF-ENG, published May 21, 2014.\n",
    "\n",
    "The notebook uses MathProg/GLPK to represent the model and calculate solutions."
   ]
  },
  {
   "cell_type": "markdown",
   "metadata": {},
   "source": [
    "### Initializations"
   ]
  },
  {
   "cell_type": "code",
   "execution_count": null,
   "metadata": {
    "collapsed": false
   },
   "outputs": [],
   "source": [
    "%matplotlib inline\n",
    "from pylab import *\n",
    "\n",
    "from IPython.core.display import HTML\n",
    "HTML(open(\"styles/custom.css\", \"r\").read())"
   ]
  },
  {
   "cell_type": "code",
   "execution_count": null,
   "metadata": {
    "collapsed": false
   },
   "outputs": [],
   "source": [
    "%%script glpsol -m /dev/stdin -o /dev/stdout -y display.txt --out output\n",
    "\n",
    "set GRAPES;\n",
    "set WINES;\n",
    "    \n",
    "param gAcid{GRAPES};\n",
    "param gSugr{GRAPES};\n",
    "param gAlch{GRAPES};\n",
    "param gQnty{GRAPES};\n",
    "param gCost{GRAPES}; \n",
    "\n",
    "param wAcid{WINES};\n",
    "param wSugr{WINES};\n",
    "param wAlch{WINES};\n",
    "param wPric{WINES};\n",
    "   \n",
    "var x{WINES,GRAPES}, integer >= 0;\n",
    "var wProd{WINES} >= 0;\n",
    "var gCons{GRAPES} >= 0;\n",
    "\n",
    "maximize Profit : \n",
    "    sum{w in WINES} wPric[w]*wProd[w] - sum{g in GRAPES} gCost[g]*gCons[g];\n",
    "\n",
    "# balances\n",
    "subject to grapes {g in GRAPES} : \n",
    "    sum{w in WINES} x[w,g] == gCons[g];\n",
    "subject to wines {w in WINES} : \n",
    "    sum{g in GRAPES} x[w,g] == wProd[w];\n",
    "\n",
    "# bound on grapes\n",
    "subject to capacity {g in GRAPES} : \n",
    "    gCons[g] <= gQnty[g];\n",
    "\n",
    "# acidity\n",
    "subject to acidity {w in WINES} : \n",
    "    sum{g in GRAPES} x[w,g]*gAcid[g] <= wProd[w]*wAcid[w];\n",
    "\n",
    "# sugar\n",
    "subject to sugar {w in WINES} : \n",
    "    sum{g in GRAPES} x[w,g]*gSugr[g] <= wProd[w]*wSugr[w];\n",
    "\n",
    "# Varietal content\n",
    "subject to v1 {w in {'wSB11','wSL10','wSL11','wCabS'}} : \n",
    "    sum {g in {'gSB11','gSL10','gSL11'}} x[w,g] >= 0.75*wProd[w];\n",
    "\n",
    "subject to v2 {w in {'wMerl'}} : \n",
    "    sum {g in {'gMerl'}} x[w,g] >= 0.75*wProd[w];\n",
    "\n",
    "# alchohol content\n",
    "subject to a1 {w in WINES} : \n",
    "    sum{g in GRAPES} x[w,g]*gAlch[g] >= 10.0*wProd[w];\n",
    "subject to a2 {w in WINES} : \n",
    "    sum{g in GRAPES} x[w,g]*gAlch[g] <= 15.0*wProd[w];\n",
    "\n",
    "# vintage\n",
    "subject to vn1 : \n",
    "    x['wSB11','gSB11'] >= 0.95*wProd['wSB11'];\n",
    "subject to vn2 : \n",
    "    x['wSL10','gSL10'] >= 0.95*wProd['wSL10'];\n",
    "subject to vn3 : \n",
    "    x['wSL11','gSL11'] >= 0.95*wProd['wSL11'];\n",
    "\n",
    "solve;\n",
    "\n",
    "printf \"Profit = %9.2f\\n\\n\", Profit;\n",
    "for {w in WINES} {\n",
    "    printf \"%6s  \", w;\n",
    "    printf \"%8.1f  \", wProd[w];\n",
    "    for {g in GRAPES} printf \"%8.1f   \", x[w,g];\n",
    "    printf \"\\n\";\n",
    "}\n",
    "\n",
    "data;\n",
    "    \n",
    "param : GRAPES : gAcid, gSugr, gAlch,  gQnty, gCost :=\n",
    "        gSB11     0.35   0.12   13.5   50000   2.35\n",
    "        gSL10     0.75   0.25   15.3   60000   2.60\n",
    "        gSL11     0.55   0.30   11.5   30000   2.10\n",
    "        gMerl     0.25   0.08   15.7  200000   1.55;\n",
    "    \n",
    "param : WINES  : wAcid, wSugr, wPric :=\n",
    "        wSB11      0.7    0.2   9.00\n",
    "        wSL10      0.7    0.2   9.00\n",
    "        wSL11      0.7    0.2   9.00\n",
    "        wCabS      0.7    0.3   5.50\n",
    "        wMerl      0.3    1.0   2.95;\n",
    "end;\n"
   ]
  },
  {
   "cell_type": "code",
   "execution_count": null,
   "metadata": {
    "collapsed": false
   },
   "outputs": [],
   "source": [
    "print(open('display.txt').read())"
   ]
  },
  {
   "cell_type": "code",
   "execution_count": null,
   "metadata": {
    "collapsed": false
   },
   "outputs": [],
   "source": [
    "print output"
   ]
  },
  {
   "cell_type": "code",
   "execution_count": null,
   "metadata": {
    "collapsed": false,
    "slideshow": {
     "slide_type": "fragment"
    }
   },
   "outputs": [],
   "source": [
    "%%script glpsol -m /dev/stdin -o /dev/stdout -y display.txt --out output\n",
    "\n",
    "set VARIETALS := {'SB2011','SLO2010','SLO2011'};\n",
    "set NONVARIETALS := {'Cab','Merlot'};\n",
    "set CABERNETs := {'SB2011','SLO2010','SLO2011','Cab'};\n",
    "\n",
    "\n",
    "param price{WINES};\n",
    "\n",
    "param acidity{GRAPES};\n",
    "param sugar{GRAPES};\n",
    "param alcohol{GRAPES};\n",
    "param quantity{GRAPES};\n",
    "param cost{GRAPES}; \n",
    "    \n",
    "var x{WINES,GRAPES} >= 0;\n",
    "var wine{WINES} >= 0;\n",
    "var grape{GRAPES} >= 0;\n",
    "\n",
    "maximize PROFIT: sum{w in WINES} wine[w]*price[w] - sum{g in GRAPES} grape[g]*cost[g];\n",
    "\n",
    "subject to g_cons{g in GRAPES}: sum{w in WINES} x[w,g] = grape[g];\n",
    "subject to w_prod{w in WINES}: sum{g in GRAPES} x[w,g] = wine[w];\n",
    "    \n",
    "subject to acid{w in WINES}\n",
    "\n",
    "subject to qty{g in GRAPES}: sum{w in WINES} x[w,g] <= quantity[g];\n",
    "\n",
    "solve;\n",
    "\n",
    "data;\n",
    "\n",
    "param : WINES : price :=\n",
    "    V1   9.00\n",
    "    V2   9.00\n",
    "    V3   9.00\n",
    "    NV   5.50\n",
    "    M    2.95;\n",
    "\n",
    "param : GRAPES : acidity, sugar, alcohol, quantity, cost :=\n",
    "    G1   0.35   0.12   13.5    50000   2.35\n",
    "    G2   0.75   0.25   15.3    60000   2.60\n",
    "    G3   0.55   0.30   11.5    30000   2.10\n",
    "    G4   0.25   0.08   15.7   200000   1.55;\n",
    " \n",
    "end;\n"
   ]
  },
  {
   "cell_type": "markdown",
   "metadata": {},
   "source": [
    "Looking at the model output"
   ]
  },
  {
   "cell_type": "code",
   "execution_count": null,
   "metadata": {
    "collapsed": false
   },
   "outputs": [],
   "source": [
    "print output"
   ]
  },
  {
   "cell_type": "code",
   "execution_count": null,
   "metadata": {
    "collapsed": false
   },
   "outputs": [],
   "source": []
  }
 ],
 "metadata": {
  "anaconda-cloud": {},
  "kernelspec": {
   "display_name": "Python 2",
   "language": "python",
   "name": "python2"
  },
  "language_info": {
   "codemirror_mode": {
    "name": "ipython",
    "version": 2
   },
   "file_extension": ".py",
   "mimetype": "text/x-python",
   "name": "python",
   "nbconvert_exporter": "python",
   "pygments_lexer": "ipython2",
   "version": "2.7.12"
  }
 },
 "nbformat": 4,
 "nbformat_minor": 0
}
