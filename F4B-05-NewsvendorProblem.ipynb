{
 "cells": [
  {
   "cell_type": "markdown",
   "metadata": {},
   "source": [
    "# FLIP (04): Learning Theory (I)\n",
    "**(Module 03: Operation Research)**\n",
    "\n",
    "---\n",
    "- Materials in this module include resources collected from various open-source online repositories.\n",
    "- You are free to use, but NOT allowed to change or distribute this package.\n",
    "\n",
    "Prepared by and for \n",
    "**Student Members** |\n",
    "2006-2018 [TULIP Lab](http://www.tulip.org.au), Australia\n",
    "\n",
    "---"
   ]
  },
  {
   "cell_type": "markdown",
   "metadata": {},
   "source": [
    "# Newsvendor Problem"
   ]
  },
  {
   "cell_type": "markdown",
   "metadata": {},
   "source": [
    "This [IPython notebook](http://ipython.org/notebook.html) demonstrates the formulation and solution of the well-known \"Newsvendor Problem\" using GLPK/Mathprog."
   ]
  },
  {
   "cell_type": "markdown",
   "metadata": {},
   "source": [
    "### Initializations"
   ]
  },
  {
   "cell_type": "code",
   "execution_count": null,
   "metadata": {
    "collapsed": false
   },
   "outputs": [],
   "source": [
    "from IPython.core.display import HTML\n",
    "HTML(open(\"styles/custom.css\", \"r\").read())"
   ]
  },
  {
   "cell_type": "markdown",
   "metadata": {},
   "source": [
    "## Background"
   ]
  },
  {
   "cell_type": "markdown",
   "metadata": {},
   "source": [
    "<p>\n",
    "    The newsvendor problem is a two stage decision problem with recourse. The \n",
    "    vendor needs to decide how much inventory to order today to fulfill an \n",
    "    uncertain demand. The data includes the unit cost, price, and salvage value of \n",
    "    the product being sold, and a probabilistic forecast of demand. The objective \n",
    "    is to maximize expected profit.\n",
    "</p>\n",
    "<p>\n",
    "    As shown in lecture, this problem can be solved with a plot, and the solution\n",
    "    interpreted in terms of a cumulative probability distribution. The advantage\n",
    "    of a MathProg model is that additional constraints or other criteria may be \n",
    "    considered, such as risk aversion.</p>\n",
    "<p>\n",
    "    There is an extensive literature on the newsvendor problem which has been \n",
    "    studied since at least 1888. See \n",
    "    <a rel=\"external\" href=\"http://www.isye.umn.edu/courses/ie5551/additional%20materials/newsvendort.pdf\">here</a>\n",
    "   for a thorough discussion.\n",
    "</p>\n"
   ]
  },
  {
   "cell_type": "markdown",
   "metadata": {},
   "source": [
    "## Solution"
   ]
  },
  {
   "cell_type": "code",
   "execution_count": null,
   "metadata": {
    "collapsed": false
   },
   "outputs": [],
   "source": [
    "%%script glpsol -m /dev/stdin\n",
    "\n",
    "# Example: Newsvendor.mod\n",
    "\n",
    "/* Unit Price Data */\n",
    "param r >= 0;                              # Price\n",
    "param c >= 0;                              # Cost\n",
    "param w >= 0;                              # Salvage value\n",
    "\n",
    "/* Price data makes sense only if  Price > Cost > Salvage */\n",
    "check: c <= r;\n",
    "check: w <= c;\n",
    "\n",
    "/* Probabilistic Demand Forecast */\n",
    "set SCENS;                                 # Scenarios\n",
    "param D{SCENS} >= 0;                       # Demand\n",
    "param Pr{SCENS} >= 0;                      # Probability\n",
    "\n",
    "/* Probabilities must sum to one. */\n",
    "check: sum{k in SCENS} Pr[k] = 1;\n",
    "\n",
    "/* Expected Demand */\n",
    "param ExD := sum{k in SCENS} Pr[k]*D[k];\n",
    "\n",
    "/* Lower Bound on Profit: Expected Value of the Mean Solution */\n",
    "param EVM := -c*ExD + sum{k in SCENS} Pr[k]*(r*min(ExD,D[k])+w*max(ExD-D[k],0));\n",
    "\n",
    "/* Upper Bound on Profit: Expected Value with Perfect Information */\n",
    "param EVPI := sum{k in SCENS} Pr[k]*(r-c)*D[k];\n",
    "\n",
    "/* Two Stage Stochastic Programming */\n",
    "var x >= 0;                     # Stage 1 (Here and Now): Order Quqntity\n",
    "var y{SCENS}>= 0;               # Stage 2 (Scenario Dep): Actual Sales\n",
    "var ExProfit;                   # Expected Profit\n",
    "\n",
    "/* Maximize Expected Profit */\n",
    "maximize OBJ: ExProfit;\n",
    "\n",
    "/* Goods sold are limited by the order quantities and the demand  */\n",
    "s.t. PRFT: ExProfit = -c*x + sum{k in SCENS} Pr[k]*(r*y[k] + w*(x-y[k]));\n",
    "s.t. SUPL {k in SCENS}: y[k] <= x;\n",
    "s.t. DMND {k in SCENS}: y[k] <= D[k];\n",
    "\n",
    "solve;\n",
    "\n",
    "table Table_EVM {k in SCENS} OUT \"CSV\" \"evm.csv\" \"Table\":\n",
    "   k~Scenario,\n",
    "   Pr[k]~Probability, \n",
    "   D[k]~Demand, \n",
    "   ExD~Order, \n",
    "   min(ExD,D[k])~Sold,\n",
    "   max(ExD-D[k],0)~Salvage, \n",
    "   -c*ExD + r*min(ExD,D[k]) + w*max(ExD-D[k],0)~Profit;\n",
    "   \n",
    "table Table_EVPI {k in SCENS} OUT \"CSV\" \"evpi.csv\" \"Table\":\n",
    "   k~Scenario,\n",
    "   Pr[k]~Probability, \n",
    "   D[k]~Demand, \n",
    "   D[k]~Order, \n",
    "   D[k]~Sold,\n",
    "   0~Salvage, \n",
    "   -c*D[k] + r*D[k]~Profit;\n",
    "   \n",
    "table Table_SP {k in SCENS} OUT \"CSV\" \"evsp.csv\" \"Table\":\n",
    "   k~Scenario,\n",
    "   Pr[k]~Probability, \n",
    "   D[k]~Demand, \n",
    "   x~Order, \n",
    "   y[k]~Sold,\n",
    "   x-y[k]~Salvage, \n",
    "   -c*x + r*y[k] + w*(x-y[k])~Profit;\n",
    "\n",
    "data;\n",
    "\n",
    "/* Problem Data corresponds to a hypothetical case of selling programs prior \n",
    "to a home football game. */\n",
    "\n",
    "param r := 10.00;                         # Unit Price\n",
    "param c :=  6.00;                         # Unit Cost\n",
    "param w :=  2.00;                         # Unit Salvage Value\n",
    "\n",
    "param: SCENS:  Pr    D   :=\n",
    "       HiDmd   0.25  250\n",
    "       MiDmd   0.50  125\n",
    "       LoDmd   0.25   75 ;\n",
    "\n",
    "end;"
   ]
  },
  {
   "cell_type": "markdown",
   "metadata": {},
   "source": [
    "### Expected Value for the Mean Scenario (EVM)"
   ]
  },
  {
   "cell_type": "code",
   "execution_count": null,
   "metadata": {
    "collapsed": false
   },
   "outputs": [],
   "source": [
    "import pandas\n",
    "evm = pandas.read_csv(\"evm.csv\")\n",
    "display(evm)\n",
    "\n",
    "ev_evm = sum(evm['Probability']*evm['Profit'])\n",
    "print \"Expected Value for the Mean Scenario = {:6.2f}\".format(ev_evm)"
   ]
  },
  {
   "cell_type": "markdown",
   "metadata": {},
   "source": [
    "### Expected Value with Perfect Information (EVPI)"
   ]
  },
  {
   "cell_type": "code",
   "execution_count": null,
   "metadata": {
    "collapsed": false
   },
   "outputs": [],
   "source": [
    "evpi = pandas.read_csv(\"evpi.csv\")\n",
    "display(evpi)\n",
    "\n",
    "ev_evpi = sum(evpi['Probability']*evpi['Profit'])\n",
    "print \"Expected Value with Perfect Information = {:6.2f}\".format(ev_evpi)"
   ]
  },
  {
   "cell_type": "markdown",
   "metadata": {},
   "source": [
    "### Expected Value by Stochastic Programming"
   ]
  },
  {
   "cell_type": "code",
   "execution_count": null,
   "metadata": {
    "collapsed": false
   },
   "outputs": [],
   "source": [
    "evsp = pandas.read_csv(\"evsp.csv\")\n",
    "display(evsp)\n",
    "\n",
    "ev_evsp = sum(evsp['Probability']*evsp['Profit'])\n",
    "print \"Expected Value by Stochastic Programming = {:6.2f}\".format(ev_evsp)"
   ]
  },
  {
   "cell_type": "markdown",
   "metadata": {},
   "source": [
    "### Value of Perfect Information"
   ]
  },
  {
   "cell_type": "code",
   "execution_count": null,
   "metadata": {
    "collapsed": false
   },
   "outputs": [],
   "source": [
    "print \"Value of Perfect Information = {:6.2f}\".format(ev_evpi-ev_evsp)"
   ]
  },
  {
   "cell_type": "markdown",
   "metadata": {},
   "source": [
    "### Value of the Stochastic Solution"
   ]
  },
  {
   "cell_type": "code",
   "execution_count": null,
   "metadata": {
    "collapsed": false
   },
   "outputs": [],
   "source": [
    "print \"Value of the Stochastic Solution = {:6.2f}\".format(ev_evsp-ev_evm)"
   ]
  },
  {
   "cell_type": "code",
   "execution_count": null,
   "metadata": {
    "collapsed": false
   },
   "outputs": [],
   "source": []
  },
  {
   "cell_type": "code",
   "execution_count": null,
   "metadata": {
    "collapsed": false
   },
   "outputs": [],
   "source": [
    "r = 1.00\n",
    "c = 0.60\n",
    "w = 0.25\n",
    "\n",
    "def profit(D,x):\n",
    "    return r*min([D,x]) + w*max([0,x-D]) - c*x"
   ]
  },
  {
   "cell_type": "code",
   "execution_count": null,
   "metadata": {
    "collapsed": false
   },
   "outputs": [],
   "source": [
    "scenarios = [['Low Demand',75,.25],['High Demand',200,.75]]"
   ]
  },
  {
   "cell_type": "code",
   "execution_count": null,
   "metadata": {
    "collapsed": false
   },
   "outputs": [],
   "source": [
    "def exprofit(x):\n",
    "    v = 0\n",
    "    for s in scenarios:\n",
    "        v += s[2]*profit(s[1],x)\n",
    "    return profit\n",
    "\n",
    "x = linspace(0,400,400)\n",
    "exprofit(100)\n"
   ]
  },
  {
   "cell_type": "code",
   "execution_count": null,
   "metadata": {
    "collapsed": false
   },
   "outputs": [],
   "source": [
    "x = linspace(0,400,400)\n",
    "plot(x,map(exprofit,x))\n",
    "xlabel('Order size')\n",
    "ylabel('Expected Profit')\n",
    "\n"
   ]
  },
  {
   "cell_type": "code",
   "execution_count": null,
   "metadata": {
    "collapsed": false
   },
   "outputs": [],
   "source": []
  }
 ],
 "metadata": {
  "anaconda-cloud": {},
  "kernelspec": {
   "display_name": "Python 2",
   "language": "python",
   "name": "python2"
  },
  "language_info": {
   "codemirror_mode": {
    "name": "ipython",
    "version": 2
   },
   "file_extension": ".py",
   "mimetype": "text/x-python",
   "name": "python",
   "nbconvert_exporter": "python",
   "pygments_lexer": "ipython2",
   "version": "2.7.12"
  }
 },
 "nbformat": 4,
 "nbformat_minor": 0
}
