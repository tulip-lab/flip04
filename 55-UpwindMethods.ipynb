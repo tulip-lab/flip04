{
 "cells": [
  {
   "cell_type": "markdown",
   "metadata": {},
   "source": [
    "# FLIP (02) Optimization Data Science\n",
    "\n",
    "---\n",
    "Team Director: Meng Ren | mren@tulip.academy<br />\n",
    "\n",
    "TULIP Academy <br />\n",
    "http://www.tulip.academy \n",
    "\n",
    "---"
   ]
  },
  {
   "cell_type": "markdown",
   "metadata": {},
   "source": [
    "Hyperbolic equations and information\n",
    "===================================="
   ]
  },
  {
   "cell_type": "code",
   "execution_count": 1,
   "metadata": {
    "collapsed": false
   },
   "outputs": [],
   "source": [
    "%matplotlib inline"
   ]
  },
  {
   "cell_type": "code",
   "execution_count": 2,
   "metadata": {
    "collapsed": false
   },
   "outputs": [],
   "source": [
    "import numpy as np\n",
    "import matplotlib\n",
    "import matplotlib.pyplot as plt\n",
    "from matplotlib import rcParams\n",
    "rcParams['font.family'] = 'serif'\n",
    "rcParams['font.size'] = 16\n",
    "rcParams['figure.figsize'] = (12,6)"
   ]
  },
  {
   "cell_type": "markdown",
   "metadata": {},
   "source": [
    "Information propagation\n",
    "-----------------------"
   ]
  },
  {
   "cell_type": "markdown",
   "metadata": {},
   "source": [
    "### Partial differential equations"
   ]
  },
  {
   "cell_type": "markdown",
   "metadata": {},
   "source": [
    "Partial differential equations (PDEs) involve derivatives of functions\n",
    "of more than one variable, say $u(x, y)$ or $y(t,\n",
    "  x)$. Hence more complex behaviour and more interesting physics.\n",
    "\n",
    "Only look at linear problems. Also only consider finite difference\n",
    "methods: simple to analyse but not always competitive.\n",
    "\n",
    "Only stable and convergent method for hyperbolic equations seen is\n",
    "Forward Time, Backwards Space (FTBS), sometimes called the *upwind*\n",
    "method. Von Neumann stability “explains” failure of the FTCS method, but\n",
    "does not help in producing more accurate algorithms."
   ]
  },
  {
   "cell_type": "markdown",
   "metadata": {},
   "source": [
    "### Characteristics for the advection equation"
   ]
  },
  {
   "cell_type": "markdown",
   "metadata": {},
   "source": [
    "Focus on advection equation\n",
    "\n",
    "$$\\partial_t y + v \\partial_x y = 0.$$\n",
    "\n",
    "As hyperbolic, write in terms of convection or advection number $c = v \\delta / h$ ($\\delta$ time step, $h$ space step).\n",
    "\n",
    "$$\\partial_t y + v \\partial_x y = 0.$$\n",
    "\n",
    "Hyperbolic equations propagate information. There are curves, $x(t)$,\n",
    "along which $y$ *does not change*.\n",
    "\n",
    "Look at $y\\left( x(t), t \\right)$. \n",
    "\n",
    "If the solution does not change then\n",
    "\n",
    "$$\\begin{aligned}\n",
    "0 & = \\frac{\\text{d}{}}{\\text{d}{t}} y\\left( x(t), t \\right) \\\\\n",
    "  & = \\frac{\\text{d}{x(t)}}{\\text{d}{t}} \\partial_x y + \\partial_t y \\\\\n",
    "  & = \\left( \\frac{\\text{d}{x(t)}}{\\text{d}{t}} - v \\right) \\partial_x y. \\\\\n",
    "\\Rightarrow \\quad x(t) & = v t.\n",
    "\\end{aligned}$$\n",
    "\n",
    "Information is propagated *without changing* along straight lines\n",
    "(*characteristic curves*) in $(x, t)$ with slope $v$."
   ]
  },
  {
   "cell_type": "markdown",
   "metadata": {},
   "source": [
    "Upwind methods\n",
    "--------------"
   ]
  },
  {
   "cell_type": "markdown",
   "metadata": {},
   "source": [
    "### Reinterpreting FTBS"
   ]
  },
  {
   "cell_type": "markdown",
   "metadata": {},
   "source": [
    " Look at characteristics for advection equation on a\n",
    "grid.  Given value of $y^{n+1}_i$, could follow\n",
    "characteristic *back in time* to known data at $t^n$.\n",
    "Will not land on a grid point, so must interpolate. \n",
    "\n",
    "Linear interpolation gives\n",
    "\n",
    "$$y_i^{n+1} = (1 - \\frac{v \\delta}{h}) y_i^n + \\frac{v \\delta}{h}\n",
    "y_{i-1}^n.$$\n",
    "\n",
    " This is exactly FTBS."
   ]
  },
  {
   "cell_type": "markdown",
   "metadata": {},
   "source": [
    "### Interpreting the stability result"
   ]
  },
  {
   "cell_type": "markdown",
   "metadata": {},
   "source": [
    " If timestep $\\delta$ too large ($c > 1$) then\n",
    "characteristic, traced back to known data, does not fall between $x_i$\n",
    "and $x_{i-1}$.  Would be *extrapolating* using FTBS;\n",
    "generically unstable. Known as the *Courant-Friedrichs-Lewy* (CFL)\n",
    "condition.  If $v<0$ then FTBS is an extrapolation; Von\n",
    "Neumann analysis shows FTBS unconditionally unstable (note $c < 0$).\n",
    " Should be clear that FTFS will work in this case."
   ]
  },
  {
   "cell_type": "markdown",
   "metadata": {},
   "source": [
    "### Upwind methods"
   ]
  },
  {
   "cell_type": "markdown",
   "metadata": {},
   "source": [
    "The direction of information propagation depends on sign of $v$; called\n",
    "*wind direction* (climate analogy). Information propagates with wind, or\n",
    "*upwind*: stable numerical algorithms take this into account.\n",
    "\n",
    "Simplest upwind algorithm: choose FTBS or FTFS depending on sign of $v$.\n",
    "\n",
    "$$\\begin{aligned}\n",
    "v & > 0 \\quad \\Rightarrow  \\text{FTBS} \\\\\n",
    "v & < 0 \\quad \\Rightarrow  \\text{FTFS} .\n",
    "\\end{aligned}$$\n",
    "\n",
    "If advection velocity depends on *space*, $v \\equiv v(x)$, make choice\n",
    "*pointwise*. For each $x_i$ check sign of $v(x_i)$. Then update\n",
    "$y_i^{n+1}$ depending on sign of $v(x_i)$."
   ]
  },
  {
   "cell_type": "markdown",
   "metadata": {},
   "source": [
    "Nonlinear equations\n",
    "==================="
   ]
  },
  {
   "cell_type": "markdown",
   "metadata": {},
   "source": [
    "Burger’s equation\n",
    "-----------------"
   ]
  },
  {
   "cell_type": "markdown",
   "metadata": {},
   "source": [
    "Nonlinear hyperbolic equations can produce complex behaviour from simple\n",
    "initial data. Toy problem: *Burger’s equation*\n",
    "\n",
    "$$\\partial_t y + \\partial_x \\left( \\tfrac{1}{2} y^2 \\right) = 0.$$\n",
    "\n",
    "A linearization of Euler equations, useful in gasdynamics.\n",
    "\n",
    "If $y$ remains differentiable, can be written as\n",
    "\n",
    "$$\\partial_t y + y \\partial_x y = 0.$$\n",
    "\n",
    "Looks like advection equation, except advection velocity $v$ varies in\n",
    "space – it is the solution $y$ itself!"
   ]
  },
  {
   "cell_type": "markdown",
   "metadata": {},
   "source": [
    "### Evolving to form shocks"
   ]
  },
  {
   "cell_type": "markdown",
   "metadata": {},
   "source": [
    "Start with smooth initial data. We “trace along the characteristics”:\n",
    "the *form* of the data changes. It steadily steepens.\n",
    "\n",
    "Eventually function not well-defined: in reality, a *shock* forms."
   ]
  },
  {
   "cell_type": "markdown",
   "metadata": {},
   "source": [
    "### Numerical evolutions of Burger’s equation"
   ]
  },
  {
   "cell_type": "markdown",
   "metadata": {},
   "source": [
    "Evolve using upwind methods. If $y_i$ is positive use FTBS, otherwise\n",
    "FTFS.\n",
    "\n",
    "At low resolution see profile steepen and discontinuity form. Increase resolution and see similar behaviour, better resolved leading to the shock."
   ]
  },
  {
   "cell_type": "code",
   "execution_count": 5,
   "metadata": {
    "collapsed": false
   },
   "outputs": [],
   "source": [
    "def initial_data(x):\n",
    "    y = np.sin(2.0 * np.pi *x)\n",
    "            \n",
    "    return y\n",
    "\n",
    "def upwind_burgers(y, ynew, c):\n",
    "    for i in range(1, len(y)-1):\n",
    "        if (y[i] > 0.0):\n",
    "            ynew[i] = y[i] - c * 0.5 * (y[i]**2 - y[i-1]**2)\n",
    "        else:\n",
    "            ynew[i] = y[i] - c * 0.5 * (y[i+1]**2 - y[i]**2)\n",
    "    # Periodic boundary conditions\n",
    "    if (y[0] > 0.0):\n",
    "        ynew[0] = y[0] - c * 0.5 * (y[0]**2 - y[-2]**2)\n",
    "    else:\n",
    "        ynew[0] = y[0] - c * 0.5 * (y[1]**2 - y[0]**2)\n",
    "    ynew[-1] = ynew[0]\n",
    "    \n",
    "Nx = 40\n",
    "h = 1.0 / (Nx + 1.0)\n",
    "t_end = 0.25\n",
    "c = 1.0 / 2.0 # c = delta / h\n",
    "delta = c * h\n",
    "Nt = int(t_end / delta)+1\n",
    "\n",
    "x = np.linspace(0.0, 1.0, Nx+2)\n",
    "y = initial_data(x)\n",
    "ynew = np.zeros_like(y)\n",
    "for n in range(Nt):\n",
    "    upwind_burgers(y, ynew, c)\n",
    "    y = ynew"
   ]
  },
  {
   "cell_type": "code",
   "execution_count": 6,
   "metadata": {
    "collapsed": false
   },
   "outputs": [
    {
     "data": {
      "image/png": "[encoded data removed]",
      "text/plain": [
       "<matplotlib.figure.Figure at 0x1066c8c88>"
      ]
     },
     "metadata": {},
     "output_type": "display_data"
    }
   ],
   "source": [
    "fig = plt.figure(figsize=(8,6))\n",
    "ax = fig.add_subplot(111)\n",
    "ax.plot(x, y, 'kx', label = \"Upwind, Burger's Equation\")\n",
    "ax.legend()\n",
    "plt.show()"
   ]
  },
  {
   "cell_type": "markdown",
   "metadata": {},
   "source": [
    "Summary\n",
    "======="
   ]
  },
  {
   "cell_type": "markdown",
   "metadata": {},
   "source": [
    "\n",
    "-   Upwind methods take into account the direction and speed of information propagation.\n",
    "\n",
    "-   As they rely on information propagation they only work for hyperbolic problems.\n",
    "\n",
    "-   Most upwind methods are explicit and conditionally stable, requiring the CFL condition.\n",
    "\n",
    "-   The upwind condition allows for the reinterpretation of, e.g., FTBS.\n",
    "\n",
    "-   Upwind methods can be extended to problems where the advection velocity varies in space, or to genuinely nonlinear problems.\n",
    "\n",
    "-   Genuinely nonlinear problems that involve discontinuities forming are typically solved using upwind methods; extensions to higher order accuracy are non-trivial work."
   ]
  }
 ],
 "metadata": {
  "anaconda-cloud": {},
  "kernelspec": {
   "display_name": "Python [Root]",
   "language": "python",
   "name": "Python [Root]"
  },
  "language_info": {
   "codemirror_mode": {
    "name": "ipython",
    "version": 3
   },
   "file_extension": ".py",
   "mimetype": "text/x-python",
   "name": "python",
   "nbconvert_exporter": "python",
   "pygments_lexer": "ipython3",
   "version": "3.5.2"
  }
 },
 "nbformat": 4,
 "nbformat_minor": 0
}
