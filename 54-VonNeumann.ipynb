{
 "cells": [
  {
   "cell_type": "markdown",
   "metadata": {},
   "source": [
    "# FLIP (02) Optimization Data Science\n",
    "\n",
    "---\n",
    "Team Director: Meng Ren | mren@tulip.academy<br />\n",
    "\n",
    "TULIP Academy <br />\n",
    "http://www.tulip.academy \n",
    "\n",
    "---"
   ]
  },
  {
   "cell_type": "markdown",
   "metadata": {},
   "source": [
    "Stability\n",
    "========="
   ]
  },
  {
   "cell_type": "code",
   "execution_count": 1,
   "metadata": {
    "collapsed": false
   },
   "outputs": [],
   "source": [
    "%matplotlib inline"
   ]
  },
  {
   "cell_type": "code",
   "execution_count": 2,
   "metadata": {
    "collapsed": false
   },
   "outputs": [],
   "source": [
    "import numpy as np\n",
    "import matplotlib\n",
    "import matplotlib.pyplot as plt\n",
    "from matplotlib import rcParams\n",
    "rcParams['font.family'] = 'serif'\n",
    "rcParams['font.size'] = 16\n",
    "rcParams['figure.figsize'] = (12,6)"
   ]
  },
  {
   "cell_type": "markdown",
   "metadata": {},
   "source": [
    "Evidence\n",
    "--------"
   ]
  },
  {
   "cell_type": "markdown",
   "metadata": {},
   "source": [
    "### Partial differential equations"
   ]
  },
  {
   "cell_type": "markdown",
   "metadata": {},
   "source": [
    "Partial differential equations (PDEs) involve derivatives of functions\n",
    "of more than one variable, say $u(x, y)$ or $y(t,\n",
    "  x)$. Hence more complex behaviour and more interesting physics.\n",
    "\n",
    "Only look at linear problems. Also only consider finite difference\n",
    "methods: simple to analyse but not always competitive.\n",
    "\n",
    "Previously looked at simple finite difference algorithms applied to heat\n",
    "and advection equations. At present have no explanation for which worked\n",
    "and which did not; for that we need stability theory."
   ]
  },
  {
   "cell_type": "markdown",
   "metadata": {},
   "source": [
    "### The results"
   ]
  },
  {
   "cell_type": "markdown",
   "metadata": {},
   "source": [
    "   Algorithm |    Heat equation   |  Advection equation\n",
    "  :---------:|:------------------:|:--------------------:\n",
    "    FTCS     |  Stable $s < 1/2$  |       Unstable\n",
    "    BTCS     | Stable $\\forall s$ |          ??\n",
    "    FTBS     |         ??         |    Stable $c < 1$\n",
    "\n",
    "Here $s = k \\delta / h^2$ for the heat equation\n",
    "\n",
    "$$\\partial_t y - k \\partial_{x x} y = 0,$$\n",
    "\n",
    "and $c = v \\delta / h$ for the advection equation\n",
    "\n",
    "$$\\partial_t y + v \\partial_x y = 0.$$"
   ]
  },
  {
   "cell_type": "markdown",
   "metadata": {},
   "source": [
    "Lax Theorem\n",
    "-----------"
   ]
  },
  {
   "cell_type": "markdown",
   "metadata": {},
   "source": [
    "### Consistency"
   ]
  },
  {
   "cell_type": "markdown",
   "metadata": {},
   "source": [
    " Theory for multistep methods for IVPs related\n",
    "*consistency*, *stability* and *convergence*. Have similar concepts and\n",
    "theory for PDEs.  Finite difference equation\n",
    "*consistent* if it tends to the PDE as grid sizes go to zero\n",
    "*independently*. \n",
    "\n",
    "Local error must vanish as $h, \\delta \\rightarrow 0$ in any way.\n",
    "\n",
    "\n",
    "\n",
    "All the methods defined previously are clearly consistent.\n",
    "\n",
    "\n",
    "The Lax method for the advection equation,\n",
    "\n",
    "$$y_i^{n+1} = \\frac{1}{2} \\left( y_{i+1}^n + y_{i-1}^n \\right) -\n",
    "\\frac{c}{2} \\left( y_{i+1}^n - y_{i-1}^n \\right)$$\n",
    "\n",
    "can be Taylor expanded to give\n",
    "\n",
    "$$\\partial_t y + v \\partial_x y = \\tfrac{1}{2} \\left(\n",
    "h^2 / \\delta - v^2 \\delta \\right) \\partial_{x x} y + \\dots$$\n",
    "\n",
    "which is consistent if, for example, $h / \\delta$ is constant, but not\n",
    "in general."
   ]
  },
  {
   "cell_type": "markdown",
   "metadata": {},
   "source": [
    "### Stability"
   ]
  },
  {
   "cell_type": "markdown",
   "metadata": {},
   "source": [
    "As before a finite difference equation is *stable* if it produces a\n",
    "bounded solution and unstable otherwise.\n",
    "\n",
    "Have seen that BTCS is stable for the heat equation, whilst FTCS was\n",
    "stable only when $s < 1/2$. For heat equation FTCS is *conditionally*\n",
    "stable, whilst BTCS is *unconditionally* stable. Have also seen that\n",
    "FTCS is unstable for advection equation; it is *unconditionally\n",
    "unstable*.\n",
    "\n",
    "As for IVPs there may exist genuine unbounded solutions, and spurious\n",
    "solutions that swamp genuine solutions. Often closely related to the\n",
    "complex concept of well-posedness: shall ignore this issue here."
   ]
  },
  {
   "cell_type": "markdown",
   "metadata": {},
   "source": [
    "### Convergence"
   ]
  },
  {
   "cell_type": "markdown",
   "metadata": {},
   "source": [
    "Key concept is *convergence*: in the limit of zero grid spacing the\n",
    "finite difference solution converges to the exact solution.\n",
    "\n",
    "Exceptionally difficult to directly prove in general. Instead rely on\n",
    "\n",
    "**Lax’s Theorem (1954)**: Given a properly posed linear initial-value problem and a finite\n",
    "difference approximation to it that is consistent, stability is\n",
    "necessary and sufficient for convergence.\n",
    "\n",
    "Can be extended (with some caveats) to nonlinear problems with\n",
    "non-trivial boundary conditions, even when discontinuities form."
   ]
  },
  {
   "cell_type": "markdown",
   "metadata": {},
   "source": [
    "Von Neumann stability theory\n",
    "============================"
   ]
  },
  {
   "cell_type": "markdown",
   "metadata": {},
   "source": [
    "### Determining stability"
   ]
  },
  {
   "cell_type": "markdown",
   "metadata": {},
   "source": [
    "Von Neumann stability method for linear algorithms and equations:\n",
    "\n",
    "1.  Make ansatz that solutions of the finite difference equation have form\n",
    "\n",
    "    $$y_{\\ell}^k =  e^{\\alpha j \\ell h} q^k, \\qquad (\\, j = \\sqrt{-1}, \\alpha \\in {\\mathbb R}, q \\in {\\mathbb C} ).$$\n",
    "\n",
    "2.  Substitute this solution into the finite difference equation.\n",
    "\n",
    "3.  Determine $q$ as a function of $\\alpha$, the grid spacings $h,\\delta$, and known numbers (such as the advection velocity $v$).\n",
    "\n",
    "4.  Determine under what conditions we have stability, i.e. when $$|q| < 1 \\quad \\forall \\alpha.$$\n",
    "\n",
    "Can apply method blindly to produce stability result; but how does\n",
    "it come about?"
   ]
  },
  {
   "cell_type": "markdown",
   "metadata": {},
   "source": [
    "### Von Neumann stability"
   ]
  },
  {
   "cell_type": "markdown",
   "metadata": {},
   "source": [
    "Consider a linear initial-value problem, such as heat\n",
    "or advection equation. Assume we have a consistent finite difference\n",
    "algorithm (easily checked). \n",
    "\n",
    "To prove convergence need to show algorithm is stable: i.e., numerical\n",
    "result is bounded.\n",
    "\n",
    "\n",
    "Assume we can separate variables and write\n",
    "\n",
    "$$y = \\sum_{m = 0}^{\\infty} A_{m}(t) \\cos (m x) +\n",
    "B_{m}(t) \\sin (m x).$$\n",
    "\n",
    "Implies assumptions about e.g. spatial domain (ignore\n",
    "here). \n",
    "\n",
    "Use exponential form of trigonometric terms to write as\n",
    "\n",
    "$$y = \\sum_{m = -\\infty}^{\\infty} a_{m}(t) e^{j m x}$$\n",
    "\n",
    "where $a$ is *complex* function (containing the two degrees of freedom\n",
    "in $A,B$), and $j = \\sqrt{-1}$.\n",
    "\n",
    "\n",
    "As problem is linear can superpose solutions, so each $a_{m}$ is\n",
    "independent. Hence problem stable *only if* $a_{m}$ does not grow with\n",
    "$t$ for *every* $m$."
   ]
  },
  {
   "cell_type": "markdown",
   "metadata": {},
   "source": [
    "### Linear stability"
   ]
  },
  {
   "cell_type": "markdown",
   "metadata": {},
   "source": [
    "From linearity consider just the single mode “solution”\n",
    "\n",
    "$$y = a_{m}(t) e^{j m x}, \\qquad m \\in \\mathbb{Z}.$$\n",
    "\n",
    "Just need to show that $y$ bounded for general $m$.\n",
    "\n",
    "Consider a point on grid $\\{ x_{\\ell} \\} = \\ell h$, so that\n",
    "\n",
    "$$y_{\\ell} = a_{m}(t) e^{j m \\ell h}.$$\n",
    "\n",
    "At first two steps $t^0, t^1 = t^0 + \\delta$, have values\n",
    "\n",
    "$$y_{\\ell}^0 = a_{m}(t^0) e^{j m \\ell h}, \\quad y_{\\ell}^1 =\n",
    "a_{m}(t^1) e^{j m \\ell h}.$$\n",
    "\n",
    "*Define* the growth from one timestep to the next as\n",
    "\n",
    "$$q \\equiv \\frac{y_{\\ell}^{k+1}}{y_{\\ell}^k} =\n",
    "\\frac{a_{m}(t^{k+1})}{a_{m}(t^k)} \\quad \\therefore \\quad\n",
    "\\text{Stability} \\Leftrightarrow | q | < 1.$$"
   ]
  },
  {
   "cell_type": "markdown",
   "metadata": {},
   "source": [
    "Von Neumann stability in practise\n",
    "================================="
   ]
  },
  {
   "cell_type": "markdown",
   "metadata": {},
   "source": [
    "### FTCS for the heat equation"
   ]
  },
  {
   "cell_type": "markdown",
   "metadata": {},
   "source": [
    "Our finite difference algorithm is\n",
    "\n",
    "$$y_i^{n+1} = ( 1 - 2 s ) y_i^n + s \\left( y_{i+1}^n + y_{i-1}^n\n",
    "\\right).$$\n",
    "\n",
    "By identifying $i \\leftrightarrow \\ell$ and $n \\leftrightarrow k$ we can\n",
    "substitute in our ansatz\n",
    "\n",
    "$$\\begin{aligned}\n",
    "&& y_{\\ell}^k & =  e^{\\alpha j \\ell h} q^k. \\\\\n",
    "& \\implies & \n",
    "e^{\\alpha j \\ell h} q^{k+1} &= (1 - 2 s) e^{\\alpha j \\ell h} q^k +\n",
    "s \\left( e^{\\alpha j (\\ell + 1) h} q^k + e^{\\alpha j (\\ell - 1) h}\n",
    "  q^k \\right).\n",
    "\\end{aligned}$$\n",
    "\n",
    "Removing the common factor of $e^{\\alpha j \\ell h} q^k$ gives\n",
    "\n",
    "$$q = (1 - 2 s) + s \\left( e^{\\alpha j h} +  e^{-\\alpha j h} \\right).$$\n",
    "\n",
    "Relates $q$ to (undetermined) $\\alpha$ and (free) $h$ and $s$.\n",
    "\n",
    "\n",
    "$$y_i^{n+1} = ( 1 - 2 s ) y_i^n + s \\left( y_{i+1}^n + y_{i-1}^n\n",
    "\\right).$$\n",
    "\n",
    "$$q = (1 - 2 s) + s \\left( e^{\\alpha j h} +  e^{-\\alpha j h} \\right).$$\n",
    "\n",
    "Now bound $|q|$ for *any* $\\alpha$ (may depend on grid\n",
    "spacing). \n",
    "\n",
    "More obvious by writing\n",
    "\n",
    "$$q = 1 - 4 s \\sin^2 \\left(\\frac{\\alpha h}{2} \\right).$$\n",
    "\n",
    "\n",
    "See that, for arbitrary $\\alpha$, $\\sin$ term bounded between $0$ and\n",
    "$1$.\n",
    "\n",
    "\n",
    "Therefore the limiting values for $q$ are\n",
    "\n",
    "$$\\begin{aligned}\n",
    "q & \\le 1 & (\\sin^2(\\dots) & = 0) \\\\\n",
    "q & \\ge 1 - 4 s & (\\sin^2(\\dots) & = 1).\n",
    "\\end{aligned}$$\n",
    "\n",
    "\n",
    "Therefore stability, and hence convergence, is given when\n",
    "\n",
    "$$|q| < 1 \\Leftrightarrow s < \\tfrac{1}{2} \\Leftrightarrow\n",
    "\\frac{\\delta}{h^2} < \\tfrac{1}{2}.$$"
   ]
  },
  {
   "cell_type": "markdown",
   "metadata": {},
   "source": [
    "### BTCS for the heat equation"
   ]
  },
  {
   "cell_type": "markdown",
   "metadata": {},
   "source": [
    "We look at BTCS in the form\n",
    "\n",
    "$$(1 + 2 s) y_i^{n+1} = y_i^n + s \\left( y_{i+1}^{n+1} +\n",
    "y_{i-1}^{n+1} \\right).$$\n",
    "\n",
    "Use ansatz $y_{\\ell}^k =  \\exp (\\alpha j \\ell h) q^k$ and removing\n",
    "common factors:\n",
    "\n",
    "$$(1 + 2 s) q = 1 + s q \\left( e^{\\alpha j h} +  e^{-\\alpha j h}\n",
    "\\right).$$\n",
    "\n",
    "Rewrite this as\n",
    "\n",
    "$$\\begin{aligned}\n",
    "&& q & = 1 + 2 s \\left( e^{\\alpha j h} +  e^{-\\alpha j h} - 2 \\right)\n",
    "q \\\\\n",
    "&& & = 1 - 4 s q \\sin^2 \\left( \\tfrac{\\alpha h}{2} \\right) \\\\\n",
    "& \\implies & q & = \\left( 1 + 4 s \\sin^2 \\left( \\tfrac{\\alpha\n",
    "      h}{2} \\right) \\right)^{-1}, \n",
    "\\end{aligned}$$\n",
    "\n",
    "which is *always* less than 1. Hence BTCS is unconditionally stable."
   ]
  },
  {
   "cell_type": "markdown",
   "metadata": {},
   "source": [
    "### FTCS for the advection equation"
   ]
  },
  {
   "cell_type": "markdown",
   "metadata": {},
   "source": [
    "Ignore difference in *differential* equation; only need analysis at\n",
    "level of finite difference equation:\n",
    "\n",
    "$$y_i^{n+1} = y_i^n - \\frac{c}{2} \\left( y_{i+1}^n - y_{i-1}^n\n",
    "\\right).$$\n",
    "\n",
    "Use ansatz $y_{\\ell}^k = \\exp (\\alpha j \\ell h) q^k$ and remove common\n",
    "factors:\n",
    "\n",
    "$$\\begin{aligned}\n",
    "&& q & = 1 - \\frac{c}{2} \\left( e^{\\alpha j h} - e^{-\\alpha j h}\n",
    "\\right) \\\\\n",
    "& \\implies & q & = 1 - j c \\sin ( \\alpha h ).\n",
    "\\end{aligned}$$\n",
    "\n",
    "As this is complex the modulus is\n",
    "\n",
    "$$|q|^2 = 1 + c^2 \\sin^2 ( \\alpha h )$$\n",
    "\n",
    "which is always greater than 1: method is unconditionally unstable."
   ]
  },
  {
   "cell_type": "markdown",
   "metadata": {},
   "source": [
    "### FTBS for the advection equation"
   ]
  },
  {
   "cell_type": "markdown",
   "metadata": {},
   "source": [
    "Finally for the upwind method, FTBS, we had the difference equation\n",
    "\n",
    "$$y_i^{n+1} = y_i^n - c \\left( y_{i}^n - y_{i-1}^n \\right).$$\n",
    "\n",
    "Use ansatz $y_{\\ell}^k =  \\exp (\\alpha j \\ell h) q^k$ and remove common\n",
    "factors:\n",
    "\n",
    "$$q = 1 - c \\left( 1 - e^{-\\alpha j h} \\right).$$\n",
    "\n",
    "Describes circle radius $c$ in the complex plane, centre at $1 -\n",
    "  c$. If $c > 1$ there are finite values of $\\alpha$ for which\n",
    "$|q| > 1$, leading to instability; if $c < 1$ then $q$ is at most 1,\n",
    "leading to stability."
   ]
  },
  {
   "cell_type": "markdown",
   "metadata": {},
   "source": [
    "Summary\n",
    "======="
   ]
  },
  {
   "cell_type": "markdown",
   "metadata": {},
   "source": [
    "-   Von Neumann stability analysis is the key tool for understanding the results seen “experimentally” in the last lecture.\n",
    "\n",
    "-   By looking at the growth or decay of individual frequency modes we can check the stability of the method; Lax’s theorem then proves convergence.\n",
    "\n",
    "-   For complex equations and/or algorithms, it is often very difficult or impossible to apply even Von Neumann stability analysis.\n",
    "\n",
    "-   If an algorithm does not work in the linear case then it is highly unlikely to work for more complex problems!"
   ]
  }
 ],
 "metadata": {
  "anaconda-cloud": {},
  "kernelspec": {
   "display_name": "Python [Root]",
   "language": "python",
   "name": "Python [Root]"
  },
  "language_info": {
   "codemirror_mode": {
    "name": "ipython",
    "version": 3
   },
   "file_extension": ".py",
   "mimetype": "text/x-python",
   "name": "python",
   "nbconvert_exporter": "python",
   "pygments_lexer": "ipython3",
   "version": "3.5.2"
  }
 },
 "nbformat": 4,
 "nbformat_minor": 0
}
