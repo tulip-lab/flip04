{
 "cells": [
  {
   "cell_type": "markdown",
   "metadata": {},
   "source": [
    "# FLIP (02) Optimization Data Science\n",
    "\n",
    "---\n",
    "Team Director: Meng Ren | mren@tulip.academy<br />\n",
    "\n",
    "TULIP Academy <br />\n",
    "http://www.tulip.academy \n",
    "\n",
    "---"
   ]
  },
  {
   "cell_type": "markdown",
   "metadata": {},
   "source": [
    "Finite difference methods\n",
    "========================="
   ]
  },
  {
   "cell_type": "code",
   "execution_count": 1,
   "metadata": {
    "collapsed": false
   },
   "outputs": [],
   "source": [
    "%matplotlib inline"
   ]
  },
  {
   "cell_type": "code",
   "execution_count": 2,
   "metadata": {
    "collapsed": false
   },
   "outputs": [],
   "source": [
    "import numpy as np\n",
    "import matplotlib\n",
    "import matplotlib.pyplot as plt\n",
    "from matplotlib import rcParams\n",
    "rcParams['font.family'] = 'serif'\n",
    "rcParams['font.size'] = 16\n",
    "rcParams['figure.figsize'] = (12,6)"
   ]
  },
  {
   "cell_type": "markdown",
   "metadata": {},
   "source": [
    "Background\n",
    "----------"
   ]
  },
  {
   "cell_type": "markdown",
   "metadata": {},
   "source": [
    "### Boundary Value Problems"
   ]
  },
  {
   "cell_type": "markdown",
   "metadata": {},
   "source": [
    "Considering simple boundary value problem\n",
    "\n",
    "$$y'' = f(x, y, y'), \\quad y(a) = A, \\,\\, y(b) = B, \\quad x \\in [a,b].$$\n",
    "\n",
    "Boundary conditions are only examples here.\n",
    "\n",
    "Standard approach: first try *shooting* method. Convert BVP to IVP with\n",
    "some initial data free. Free data then modified, using root finding, to\n",
    "satisfy boundary conditions.\n",
    "\n",
    "Shooting is straightforward and efficient – when it works. Otherwise use\n",
    "*relaxation* methods based on *finite differences*."
   ]
  },
  {
   "cell_type": "markdown",
   "metadata": {},
   "source": [
    "Finite differences for linear problems\n",
    "--------------------------------------"
   ]
  },
  {
   "cell_type": "markdown",
   "metadata": {},
   "source": [
    "### The linear problem"
   ]
  },
  {
   "cell_type": "markdown",
   "metadata": {},
   "source": [
    "Consider the linear problem\n",
    "\n",
    "$$y'' + p(x) y' + q(x) y =  f(x), \\quad y(a) = A, \\,\\, y(b) = B,\n",
    "\\quad x \\in [a,b].$$\n",
    "\n",
    "Introduce a *grid*, evenly spaced over the interval,\n",
    "\n",
    "$$x_i = a + i h, \\quad i = 0, 1, \\dots, n + 1, \\quad h = \\frac{b -\n",
    "a}{n + 1}.$$\n",
    "\n",
    "Contains $n$ *interior* points and 2 boundary points. The value of $y$\n",
    "at the boundary points given by boundary conditions,\n",
    "\n",
    "$$\\begin{aligned}\n",
    "  y_0 & = y(a) = A, \\\\\n",
    "  y_{n+1} & = y(b) = B.\n",
    "\\end{aligned}$$\n",
    "\n",
    "Value of $y$ at interior points unknown; these give approximate\n",
    "solution. Require approximation to converge to true solution as\n",
    "$h \\rightarrow 0$."
   ]
  },
  {
   "cell_type": "markdown",
   "metadata": {},
   "source": [
    "### Finite differences"
   ]
  },
  {
   "cell_type": "markdown",
   "metadata": {},
   "source": [
    "Given grid $\\{x_j\\}$, approximate derivatives using standard finite\n",
    "difference formulas. Typically use centred differencing formulas\n",
    "\n",
    "$$\\begin{aligned}\n",
    "  y' (x_i) & = \\frac{y_{i+1} - y_{i-1}}{2 h} + {\\cal O} (h^2), \\\\\n",
    "  y'' (x_i) & = \\frac{y_{i+1} + y_{i-1} - 2 y_i}{h^2} + {\\cal O} (h^4),\n",
    "\\end{aligned}$$\n",
    "\n",
    "which are second order accurate.\n",
    "\n",
    "Substituting into BVP equation\n",
    "\n",
    "$$y'' + p(x) y' + q(x) y =  f(x), \\quad y(a) = A, \\,\\, y(b) = B,\n",
    "\\quad x \\in [a,b]$$\n",
    "\n",
    "for *interior* points gives finite difference formula ($q_i =\n",
    "  q(x_i)$ etc.)\n",
    "\n",
    "$$y_{i-1} \\left( 1 - \\tfrac{h}{2} p_i \\right) +  y_{i} \\left( h^2\n",
    "q_i - 2 \\right) + y_{i+1} \\left( 1 + \\tfrac{h}{2} p_i \\right) =\n",
    "h^2 f_i.$$"
   ]
  },
  {
   "cell_type": "markdown",
   "metadata": {},
   "source": [
    "### Constructing the linear system"
   ]
  },
  {
   "cell_type": "markdown",
   "metadata": {},
   "source": [
    "Have a system of ($n+2$) linear algebraic equations\n",
    "\n",
    "$$\\begin{aligned}\n",
    "y_0 & = A, \\\\\n",
    "y_{i-1} \\left( 1 - \\tfrac{h}{2} p_i \\right) +  y_{i} \\left( h^2\n",
    "  q_i - 2 \\right) + y_{i+1} \\left( 1 + \\tfrac{h}{2} p_i \\right) & =\n",
    "h^2 f_i, \\quad 1 \\le i \\le n \\\\\n",
    "y_{n+1} & = B.\n",
    "\\end{aligned}$$\n",
    "\n",
    "This is a linear system. Can simplify using the boundary conditions to\n",
    "eliminate $y_0, y_{n+1}$ everywhere.\n",
    "\n",
    "Take $n=3$ for example. In the interior\n",
    "\n",
    "$$\\begin{pmatrix}\n",
    "\\dots & \\dots & \\dots \\\\\n",
    "1 - \\tfrac{h}{2} p_2 & -2 + h^2 q_2 & 1 + \\tfrac{h}{2} p_2 \\\\\n",
    "\\dots & \\dots & \\dots\n",
    "\\end{pmatrix}\n",
    "\\begin{pmatrix}\n",
    "  y_1 \\\\ y_2 \\\\ y_3\n",
    "\\end{pmatrix} =\n",
    "\\begin{pmatrix}\n",
    "  \\dots \\\\ h^2 f_2 \\\\ \\dots\n",
    "\\end{pmatrix}.$$\n",
    "\n",
    "Using boundary conditions replace $y_0, y_{n+1}$. Full system is\n",
    "\n",
    "$$\\begin{pmatrix}\n",
    "-2 + h^2 q_1 & 1 + \\tfrac{h}{2} p_1 & 0 \\\\\n",
    "1 - \\tfrac{h}{2} p_2 & -2 + h^2 q_2 & 1 + \\tfrac{h}{2} p_2 \\\\\n",
    "0 & 1 - \\tfrac{h}{2} p_3 & -2 + h^2 q_3\n",
    "\\end{pmatrix}\n",
    "\\begin{pmatrix}\n",
    "  y_1 \\\\ y_2 \\\\ y_3\n",
    "\\end{pmatrix} =\n",
    "\\begin{pmatrix}\n",
    "  h^2 f_1 - A ( 1 - \\tfrac{h}{2} p_1 ) \\\\ h^2 f_2\n",
    "  \\\\ h^2 f_3 - B ( 1 + \\tfrac{h}{2} p_3 )\n",
    "\\end{pmatrix}.$$"
   ]
  },
  {
   "cell_type": "markdown",
   "metadata": {},
   "source": [
    "### Points about the linear system"
   ]
  },
  {
   "cell_type": "markdown",
   "metadata": {},
   "source": [
    "Important point: provided central differencing is used, the matrix is\n",
    "*tridiagonal*. Very efficient algorithms for solving the linear system.\n",
    "\n",
    "Also note that here the matrix $T$ is not modified by the boundary\n",
    "conditions. Always true for Dirichlet type conditions which fix $y(a)$.\n",
    "Not true for Neumann type conditions which fix $y'(a)$, for example."
   ]
  },
  {
   "cell_type": "markdown",
   "metadata": {},
   "source": [
    "### Example"
   ]
  },
  {
   "cell_type": "markdown",
   "metadata": {},
   "source": [
    "For the problem\n",
    "\n",
    "$$y'' + y' + 1 = 0, \\quad y(0) = 0, \\,\\, y(1) = 1, \\quad x \\in [0, 1]$$\n",
    "\n",
    "we have $p(x) = 1$, $q(x) = 0$, $f(x) = -1$. Look at grid with 3 points\n",
    "($n = 1, h = 1/2$). Gives the equations\n",
    "\n",
    "$$\\begin{aligned}\n",
    "y_0 & = 0, \\\\\n",
    "y_0 \\left( 1 - \\tfrac{h}{2} \\cdot 1 \\right) + y_1 \\left( h^2 \\cdot\n",
    "  0 - 2 \\right) + y_2 \\left( 1 + \\tfrac{h}{2} \\cdot 1 \\right) & =\n",
    "h^2 \\cdot (-1), \\\\\n",
    "y_2 & = 1.\n",
    "  \\end{aligned}$$\n",
    "\n",
    "Boundary points $y_0, y_2$ given by boundary conditions and are exact.\n",
    "Central point $y_1$ has value\n",
    "\n",
    "$$y_1 = \\tfrac{3}{4}; \\quad y_e(x = 1/2) = 0.74492.$$\n",
    "\n",
    "Good accuracy for such a coarse grid, as $y_e(x)$ close to linear."
   ]
  },
  {
   "cell_type": "markdown",
   "metadata": {},
   "source": [
    "The problem\n",
    "\n",
    "$$\\begin{aligned}\n",
    "y'' + y' + 1 &= 0, \\\\ y(0) &= 0, \\\\ y(1) &= 1, \\\\ x &\\in [0, 1]\n",
    "\\end{aligned}$$\n",
    "\n",
    "solved with finite differences is impressively accurate.\n",
    "\n",
    "Increase $n$ the result converges well.\n",
    "\n",
    "The convergence is second order in $h$."
   ]
  },
  {
   "cell_type": "code",
   "execution_count": 3,
   "metadata": {
    "collapsed": false
   },
   "outputs": [
    {
     "name": "stderr",
     "output_type": "stream",
     "text": [
      "/Users/ih3/anaconda/lib/python3.4/site-packages/scipy/sparse/linalg/dsolve/linsolve.py:90: SparseEfficiencyWarning: spsolve requires A be CSC or CSR matrix format\n",
      "  SparseEfficiencyWarning)\n"
     ]
    },
    {
     "data": {
      "image/png": "[encoded data removed]",
      "text/plain": [
       "<matplotlib.figure.Figure at 0x106ad9630>"
      ]
     },
     "metadata": {},
     "output_type": "display_data"
    }
   ],
   "source": [
    "from scipy.sparse import diags\n",
    "from scipy.sparse.linalg import spsolve\n",
    "def p(x):\n",
    "    return np.ones_like(x)\n",
    "def q(x):\n",
    "    return np.zeros_like(x)\n",
    "def f(x):\n",
    "    return -np.ones_like(x)\n",
    "y_bc = [0.0, 1.0]\n",
    "\n",
    "def y_exact(x):\n",
    "    return 2.0 * np.exp(1.0) / (np.exp(1.0) - 1.0) * (1.0 - np.exp(-x)) - x\n",
    "\n",
    "N = 25\n",
    "x = np.linspace(0.0, 1.0, N+2)\n",
    "h = x[1] - x[0]\n",
    "A_diag = h**2 * q(x[1:-1]) - 2.0\n",
    "A_subdiag = 1.0 - h / 2.0 * p(x[2:-1]) \n",
    "A_supdiag = 1.0 + h / 2.0 * p(x[1:-2]) \n",
    "\n",
    "A = diags([A_subdiag, A_diag, A_supdiag], [-1, 0, 1], shape=(N,N))\n",
    "b = h**2 * f(x[1:-1])\n",
    "b[0] -= y_bc[0] * (1.0 - h / 2.0 * p(x[1]))\n",
    "b[-1] -= y_bc[1] * (1.0 + h / 2.0 * p(x[-2]))\n",
    "\n",
    "y_int = spsolve(A, b)\n",
    "y = np.hstack((0.0, y_int, 1.0))\n",
    "plt.plot(x, y, 'kx')\n",
    "plt.show()"
   ]
  },
  {
   "cell_type": "code",
   "execution_count": 4,
   "metadata": {
    "collapsed": false
   },
   "outputs": [
    {
     "data": {
      "image/png": "[encoded data removed]",
      "text/plain": [
       "<matplotlib.figure.Figure at 0x10726def0>"
      ]
     },
     "metadata": {},
     "output_type": "display_data"
    }
   ],
   "source": [
    "from scipy.linalg import norm\n",
    "\n",
    "Npoints = [2**i for i in range(3, 13)]\n",
    "hh = 1.0 / (np.array(Npoints) + 1.0)\n",
    "fd_error = np.zeros_like(hh)\n",
    "\n",
    "for i in range(len(Npoints)):\n",
    "    x = np.linspace(0.0, 1.0, Npoints[i]+2)\n",
    "    h = x[1] - x[0]\n",
    "    A_diag = h**2 * q(x[1:-1]) - 2.0\n",
    "    A_subdiag = 1.0 - h / 2.0 * p(x[2:-1]) \n",
    "    A_supdiag = 1.0 + h / 2.0 * p(x[1:-2]) \n",
    "\n",
    "    A = diags([A_subdiag, A_diag, A_supdiag], [-1, 0, 1], shape=(Npoints[i],Npoints[i]))\n",
    "    b = h**2 * f(x[1:-1])\n",
    "    b[0] -= y_bc[0] * (1.0 - h / 2.0 * p(x[1]))\n",
    "    b[-1] -= y_bc[1] * (1.0 + h / 2.0 * p(x[-2]))\n",
    "\n",
    "    y_int = spsolve(A, b)\n",
    "    y_e = y_exact(x[1:-1])\n",
    "    fd_error[i] = norm(y_int - y_e, 2) * np.sqrt(h) # Remember the definition of finite difference error norms!\n",
    "    \n",
    "fit = np.polyfit(np.log(hh), np.log(fd_error), 1)\n",
    "fig = plt.figure(figsize=(8,6))\n",
    "ax = fig.add_subplot(111)\n",
    "ax.loglog(hh, fd_error, 'kx', label='Numerical Errors')\n",
    "fitlabel = 'Best fit line slope {:.2f}'.format(fit[0])\n",
    "ax.loglog(hh, np.exp(fit[1])*hh**(fit[0]), 'b-', label=fitlabel)\n",
    "ax.legend(loc=2)\n",
    "plt.show()"
   ]
  },
  {
   "cell_type": "markdown",
   "metadata": {},
   "source": [
    "Boundary conditions\n",
    "-------------------"
   ]
  },
  {
   "cell_type": "markdown",
   "metadata": {},
   "source": [
    "When constructing the linear system\n",
    "\n",
    "$$T {\\boldsymbol{y}} = {\\boldsymbol{F}}$$\n",
    "\n",
    "using Dirichlet type boundary conditions, could give value of $y_0,\n",
    "  y_{n+1}$ everywhere; this only modified ${\\boldsymbol{F}}$.\n",
    "\n",
    " If instead have Neumann type boundary conditions, e.g.\n",
    "$y'(b) = \\alpha$, the situation changes.  First need\n",
    "finite difference approximation of *boundary condition itself*.\n",
    "\n",
    "For example could use first order differencing:\n",
    "\n",
    "$$\\frac{y_{n+1} - y_n}{h} = \\alpha.$$\n",
    "\n",
    "\n",
    "Then rearrange to find condition on boundary point $y_{n+1}$:\n",
    "\n",
    "$$y_{n+1} = y_n + h \\alpha.$$\n",
    "\n",
    "\n",
    "$$y'(b) = \\alpha \\rightarrow y_{n+1} = y_n + h \\alpha.$$\n",
    "\n",
    "Note that\n",
    "\n",
    "1.  The value of $y_{n+1}$ is now *not exact* as we specify it by finite differences.\n",
    "\n",
    "     $$y'(b) = \\alpha \\rightarrow y_{n+1} = y_n + h \\alpha.$$\n",
    "\n",
    "2.  Use condition on $y_{n+1}$ to construct the linear system, giving new terms including $y_n$; hence matrix $T$ is modified as well as ${\\boldsymbol{F}}$."
   ]
  },
  {
   "cell_type": "markdown",
   "metadata": {},
   "source": [
    "### Example"
   ]
  },
  {
   "cell_type": "markdown",
   "metadata": {},
   "source": [
    "For the problem\n",
    "\n",
    "$$y'' + y' + 1 = 0, \\quad y(0) = 0, \\,\\, y'(1) = \\tfrac{3 - e}{e -\n",
    "1}, \\quad x \\in [0, 1]$$\n",
    "\n",
    "have same solution as before. Look at grid with 3 points ($n\n",
    "  = 1, h = 1/2$). Gives equations (two match Dirichlet case)\n",
    "\n",
    "$$\\begin{aligned}\n",
    "y_0 & = 0, \\\\\n",
    "y_0 \\left( 1 - \\tfrac{h}{2} \\cdot 1 \\right) + y_1 \\left( h^2 \\cdot\n",
    "  0 - 2 \\right) + y_2 \\left( 1 + \\tfrac{h}{2} \\cdot 1 \\right) & =\n",
    "h^2 \\cdot (-1), \\\\\n",
    "y_2 & = y_1 + h \\tfrac{3 - e}{e - 1}.\n",
    "  \\end{aligned}$$\n",
    "\n",
    "Substituting in expressions for $y_0, y_2$, find central point $y_1$ has\n",
    "value\n",
    "\n",
    "$$\\begin{aligned}\n",
    "&&    y_1 & = \\tfrac{1}{3} + \\tfrac{5 \\alpha}{6} = 0.470; &  y_e(x =\n",
    "1/2) &= 0.74492. \\\\\n",
    "\\Rightarrow && y_2 &= 0.470 + h \\alpha = 0.552; & y_e(x =\n",
    "1) &= 1.\n",
    "  \\end{aligned}$$\n",
    "\n",
    "This result is much worse than the Dirichlet case."
   ]
  },
  {
   "cell_type": "markdown",
   "metadata": {},
   "source": [
    "### Example: 2"
   ]
  },
  {
   "cell_type": "markdown",
   "metadata": {},
   "source": [
    "The approximate solution to\n",
    "\n",
    "$$\\begin{aligned}\n",
    "y'' + y' + 1 &= 0, \\\\ y(0) &= 0, \\\\ y'(1) &= \\tfrac{3 - e}{e -\n",
    "1}, \\\\ x &\\in [0, 1]\n",
    "\\end{aligned}$$\n",
    "\n",
    "is not as good as Dirichlet case.\n",
    "\n",
    "Increasing $n$ the result converges eventually.\n",
    "\n",
    "Convergence only first order in $h$."
   ]
  },
  {
   "cell_type": "code",
   "execution_count": 5,
   "metadata": {
    "collapsed": false
   },
   "outputs": [
    {
     "data": {
      "image/png": "[encoded data removed]",
      "text/plain": [
       "<matplotlib.figure.Figure at 0x10726dc50>"
      ]
     },
     "metadata": {},
     "output_type": "display_data"
    }
   ],
   "source": [
    "dy_bc = [0.0, (3.0 - np.exp(1.0)) / (np.exp(1.0)- 1.0)] # Derivative at 0 is not needed here, so the value is incorrect but wrong.\n",
    "\n",
    "N = 25\n",
    "x = np.linspace(0.0, 1.0, N+2)\n",
    "h = x[1] - x[0]\n",
    "A_diag = h**2 * q(x[1:-1]) - 2.0\n",
    "A_subdiag = 1.0 - h / 2.0 * p(x[2:-1]) \n",
    "A_supdiag = 1.0 + h / 2.0 * p(x[1:-2]) \n",
    "\n",
    "A_diag[-1] += 1.0 + h / 2.0 * p(x[-2]) # Neumann BC changes matrix\n",
    "A = diags([A_subdiag, A_diag, A_supdiag], [-1, 0, 1], shape=(N,N))\n",
    "b = h**2 * f(x[1:-1])\n",
    "b[0] -= y_bc[0] * (1.0 - h / 2.0 * p(x[1]))\n",
    "b[-1] -= h * dy_bc[1] * (1.0 + h / 2.0 * p(x[-2]))\n",
    "\n",
    "y_int = spsolve(A, b)\n",
    "y = np.hstack((0.0, y_int, y_int[-1] + h * dy_bc[1]))\n",
    "plt.plot(x, y, 'kx')\n",
    "plt.show()"
   ]
  },
  {
   "cell_type": "code",
   "execution_count": 6,
   "metadata": {
    "collapsed": false
   },
   "outputs": [
    {
     "data": {
      "image/png": "[encoded data removed]",
      "text/plain": [
       "<matplotlib.figure.Figure at 0x107cc5da0>"
      ]
     },
     "metadata": {},
     "output_type": "display_data"
    }
   ],
   "source": [
    "Npoints = [2**i for i in range(3, 13)]\n",
    "hh = 1.0 / (np.array(Npoints) + 1.0)\n",
    "fd_error = np.zeros_like(hh)\n",
    "\n",
    "for i in range(len(Npoints)):\n",
    "    x = np.linspace(0.0, 1.0, Npoints[i]+2)\n",
    "    h = x[1] - x[0]\n",
    "    A_diag = h**2 * q(x[1:-1]) - 2.0\n",
    "    A_subdiag = 1.0 - h / 2.0 * p(x[2:-1]) \n",
    "    A_supdiag = 1.0 + h / 2.0 * p(x[1:-2]) \n",
    "\n",
    "    A_diag[-1] += 1.0 + h / 2.0 * p(x[-2]) # Neumann BC changes matrix\n",
    "    A = diags([A_subdiag, A_diag, A_supdiag], [-1, 0, 1], shape=(Npoints[i],Npoints[i]))\n",
    "    b = h**2 * f(x[1:-1])\n",
    "    b[0] -= y_bc[0] * (1.0 - h / 2.0 * p(x[1]))\n",
    "    b[-1] -= h * dy_bc[1] * (1.0 + h / 2.0 * p(x[-2]))\n",
    "\n",
    "    y_int = spsolve(A, b)\n",
    "    y_num = np.hstack((y_int, y_int[-1] + h * dy_bc[1]))\n",
    "    y_e = y_exact(x[1:])\n",
    "    fd_error[i] = norm(y_num - y_e, 2) * np.sqrt(h) # Remember the definition of finite difference error norms!\n",
    "    \n",
    "fit = np.polyfit(np.log(hh), np.log(fd_error), 1)\n",
    "fig = plt.figure(figsize=(8,6))\n",
    "ax = fig.add_subplot(111)\n",
    "ax.loglog(hh, fd_error, 'kx', label='Numerical Errors')\n",
    "fitlabel = 'Best fit line slope {:.2f}'.format(fit[0])\n",
    "ax.loglog(hh, np.exp(fit[1])*hh**(fit[0]), 'b-', label=fitlabel)\n",
    "ax.legend(loc=2)\n",
    "plt.show()"
   ]
  },
  {
   "cell_type": "markdown",
   "metadata": {},
   "source": [
    "### Example: 3"
   ]
  },
  {
   "cell_type": "markdown",
   "metadata": {},
   "source": [
    "Take same problem\n",
    "\n",
    "$$\\begin{aligned}\n",
    "y'' + y' + 1 &= 0, \\\\ y(0) &= 0, \\\\ y'(1) &= \\tfrac{3 - e}{e -\n",
    "1}, \\\\ x &\\in [0, 1]\n",
    "\\end{aligned}$$\n",
    "\n",
    "using second order approximation to derivative in boundary condition\n",
    "gives better results.\n",
    "\n",
    "Increasing $n$ the result converges faster.\n",
    "\n",
    "Convergence is second order in $h$."
   ]
  },
  {
   "cell_type": "code",
   "execution_count": 7,
   "metadata": {
    "collapsed": false
   },
   "outputs": [
    {
     "data": {
      "image/png": "[encoded data removed]",
      "text/plain": [
       "<matplotlib.figure.Figure at 0x108751710>"
      ]
     },
     "metadata": {},
     "output_type": "display_data"
    }
   ],
   "source": [
    "\n",
    "N = 25\n",
    "x = np.linspace(0.0, 1.0, N+2)\n",
    "h = x[1] - x[0]\n",
    "A_diag = h**2 * q(x[1:-1]) - 2.0\n",
    "A_subdiag = 1.0 - h / 2.0 * p(x[2:-1]) \n",
    "A_supdiag = 1.0 + h / 2.0 * p(x[1:-2]) \n",
    "\n",
    "A_diag[-1] += 4.0 / 3.0 * (1.0 + h / 2.0 * p(x[-2])) # Neumann BC changes matrix\n",
    "A_subdiag[-1] -= 1.0 / 3.0 * (1.0 + h / 2.0 * p(x[-2])) # Neumann BC changes matrix\n",
    "A = diags([A_subdiag, A_diag, A_supdiag], [-1, 0, 1], shape=(N,N))\n",
    "b = h**2 * f(x[1:-1])\n",
    "b[0] -= y_bc[0] * (1.0 - h / 2.0 * p(x[1]))\n",
    "b[-1] -= 2.0 / 3.0 * h * dy_bc[1] * (1.0 + h / 2.0 * p(x[-2]))\n",
    "\n",
    "y_int = spsolve(A, b)\n",
    "y = np.hstack((0.0, y_int, 1.0 / 3.0 * (4.0 * y_int[-1] - y_int[-2] + 2.0 * h * dy_bc[1])))\n",
    "plt.plot(x, y, 'kx')\n",
    "plt.show()"
   ]
  },
  {
   "cell_type": "code",
   "execution_count": 8,
   "metadata": {
    "collapsed": false
   },
   "outputs": [
    {
     "data": {
      "image/png": "[encoded data removed]",
      "text/plain": [
       "<matplotlib.figure.Figure at 0x1087fea90>"
      ]
     },
     "metadata": {},
     "output_type": "display_data"
    }
   ],
   "source": [
    "Npoints = [2**i for i in range(3, 13)]\n",
    "hh = 1.0 / (np.array(Npoints) + 1.0)\n",
    "fd_error = np.zeros_like(hh)\n",
    "\n",
    "for i in range(len(Npoints)):\n",
    "    x = np.linspace(0.0, 1.0, Npoints[i]+2)\n",
    "    h = x[1] - x[0]\n",
    "    A_diag = h**2 * q(x[1:-1]) - 2.0\n",
    "    A_subdiag = 1.0 - h / 2.0 * p(x[2:-1]) \n",
    "    A_supdiag = 1.0 + h / 2.0 * p(x[1:-2]) \n",
    "\n",
    "    A_diag[-1] += 4.0 / 3.0 * (1.0 + h / 2.0 * p(x[-2])) # Neumann BC changes matrix\n",
    "    A_subdiag[-1] -= 1.0 / 3.0 * (1.0 + h / 2.0 * p(x[-2])) # Neumann BC changes matrix\n",
    "    A = diags([A_subdiag, A_diag, A_supdiag], [-1, 0, 1], shape=(Npoints[i],Npoints[i]))\n",
    "    b = h**2 * f(x[1:-1])\n",
    "    b[0] -= y_bc[0] * (1.0 - h / 2.0 * p(x[1]))\n",
    "    b[-1] -= 2.0 / 3.0 * h * dy_bc[1] * (1.0 + h / 2.0 * p(x[-2]))\n",
    "\n",
    "    y_int = spsolve(A, b)\n",
    "    y_num = np.hstack((y_int, 1.0 / 3.0 * (4.0 * y_int[-1] - y_int[-2] + 2.0 * h * dy_bc[1])))\n",
    "    y_e = y_exact(x[1:])\n",
    "    fd_error[i] = norm(y_num - y_e, 2) * np.sqrt(h) # Remember the definition of finite difference error norms!\n",
    "    \n",
    "fit = np.polyfit(np.log(hh), np.log(fd_error), 1)\n",
    "fig = plt.figure(figsize=(8,6))\n",
    "ax = fig.add_subplot(111)\n",
    "ax.loglog(hh, fd_error, 'kx', label='Numerical Errors')\n",
    "fitlabel = 'Best fit line slope {:.2f}'.format(fit[0])\n",
    "ax.loglog(hh, np.exp(fit[1])*hh**(fit[0]), 'b-', label=fitlabel)\n",
    "ax.legend(loc=2)\n",
    "plt.show()"
   ]
  },
  {
   "cell_type": "markdown",
   "metadata": {},
   "source": [
    "Error analysis\n",
    "--------------"
   ]
  },
  {
   "cell_type": "markdown",
   "metadata": {},
   "source": [
    "Central differencing methods normally converge at second order. Examples\n",
    "above suggest second order convergence for the BVP.\n",
    "\n",
    "Define error vector ${\\boldsymbol{e}}$ and look at linear system $T\n",
    "  {\\boldsymbol{e}}$:\n",
    "\n",
    "$$\\begin{aligned}\n",
    "\\left( y(x_{i-1}) - y_{i-1} \\right)& \\left( 1 - \\tfrac{h}{2} p_i\n",
    "\\right) - \\\\\n",
    "\\left( y(x_{i}) - y_{i} \\right) & \\left( 2 - h^2 q_i \\right) + \\\\\n",
    "\\left( y(x_{i+1}) - y_{i+1} \\right) & \\left( 1 + \\tfrac{h}{2} p_i\n",
    "\\right) \n",
    "  \\end{aligned}$$\n",
    "\n",
    "for the interior entries.\n",
    "\n",
    "Numerical terms ($y_i$ etc.) give $-h^2 f_i$. Taylor expanding exact\n",
    "solution $y(x_i)$ gives original ODE (times $h^2$) plus terms\n",
    "$\\propto h^4$ and higher order in $h$, as all other terms cancel.\n",
    "\n",
    "Hence error also satisfies a linear system\n",
    "\n",
    "$$T {\\boldsymbol{e}} = h^4 {\\boldsymbol{G}}$$\n",
    "\n",
    "where $T$ is the same tridiagonal matrix that defines the method and\n",
    "${\\boldsymbol{G}}$ is independent of $h$.\n",
    "\n",
    "Hence bound the error using\n",
    "\n",
    "$$\\begin{aligned}\n",
    "\\| {\\boldsymbol{e}} \\| & = h^4 \\| T^{-1} \\| \\cdot \\| {\\boldsymbol{G}} \\| \\\\\n",
    "& \\le h^4 G \\| T^{-1} \\|\n",
    "  \\end{aligned}$$\n",
    "\n",
    "as ${\\boldsymbol{G}}$ is a constant vector. As $T$ is a matrix of size\n",
    "$n \\propto h^{-1}$ the best bound is\n",
    "\n",
    "$$\\| T^{-1} \\| \\le K n^2 \\quad \\implies \\quad\n",
    "\\| {\\boldsymbol{e}} \\| \\le \\alpha h^2, \\quad \\alpha \\text{ const.}$$"
   ]
  },
  {
   "cell_type": "markdown",
   "metadata": {},
   "source": [
    "Nonlinear problems\n",
    "=================="
   ]
  },
  {
   "cell_type": "markdown",
   "metadata": {},
   "source": [
    "In linear case\n",
    "\n",
    "$$y'' + p(x) y' + q(x) y =  f(x), \\quad y(a) = A, \\,\\, y(b) = B,\n",
    "\\quad x \\in [a,b]$$\n",
    "have approximate solution on grid after solving one linear system. In\n",
    "nonlinear case\n",
    "\n",
    "$$y'' = f(x, y, y'), \\quad y(a) = A, \\,\\, y(b) = B, \\quad x \\in [a,b]$$\n",
    "\n",
    "as the $f$ depends on unknowns cannot directly write BVP as a linear\n",
    "system.\n",
    "\n",
    "Instead guess solution ${\\boldsymbol{y}}^{(k)}$. Then compute $f$ on\n",
    "grid using old guess ${\\boldsymbol{y}}^{(k)}$ which is *known*, giving\n",
    "linear system for ${\\boldsymbol{y}}^{(k+1)}$.\n",
    "\n",
    "This process of computing a sequence of guesses, each of which requires\n",
    "the solution of a linear system, is called *relaxation*."
   ]
  },
  {
   "cell_type": "markdown",
   "metadata": {},
   "source": [
    "### Newton relaxation"
   ]
  },
  {
   "cell_type": "markdown",
   "metadata": {},
   "source": [
    "Approximate nonlinear problem using\n",
    "\n",
    "$$y_{i-1} + y_{i+1} - 2 y_i - h^2 f \\left( x_i, y_i, \\frac{y_{i+1} -\n",
    "y_{i-1}}{2 h} \\right) = r_i.$$\n",
    "\n",
    "The $r_i$ are the *residuals* to minimize. Nonlinear root finding\n",
    "problem – ${\\boldsymbol{r}}$ is a function of ${\\boldsymbol{y}}$, want\n",
    "to solve ${\\boldsymbol{r}}({\\boldsymbol{y}}) = {\\boldsymbol{0}}$.\n",
    "\n",
    "Imagine doing Newton’s method\n",
    "\n",
    "$${\\boldsymbol{y}}^{(k+1)} = {\\boldsymbol{y}}^{(k)} - \\frac{{\\boldsymbol{r^{(k)}}}}{{\\boldsymbol{r^{(k)}}}'}.$$\n",
    "\n",
    "Meaningless as a vector equation. The equivalent is\n",
    "\n",
    "$$\\frac{\\partial{r_i^{(k)}}}{\\partial{y_j^{(k)}}} \\left( {\\boldsymbol{y}}^{(k+1)} - {\\boldsymbol{y}}^{(k)} \\right) = -\n",
    "{\\boldsymbol{r^{(k)}}}.$$\n",
    "\n",
    "\n",
    "$$\\frac{\\partial{r_i^{(k)}}}{\\partial{y_j^{(k)}}} \\left( {\\boldsymbol{y}}^{(k+1)} - {\\boldsymbol{y}}^{(k)} \\right) = -\n",
    "{\\boldsymbol{r^{(k)}}}.$$\n",
    "\n",
    "This is the linear system\n",
    "\n",
    "$$J^{(k)} {\\boldsymbol{c}}^{(k)} = - {\\boldsymbol{r}}^{(k)}$$\n",
    "\n",
    "where $J$ is the Jacobian matrix, ${\\boldsymbol{c}}$ the correction,\n",
    "giving\n",
    "\n",
    "$${\\boldsymbol{y}}^{(k+1)} = {\\boldsymbol{y}}^{(k)} + {\\boldsymbol{c}}^{(k)}.$$"
   ]
  },
  {
   "cell_type": "markdown",
   "metadata": {},
   "source": [
    "### The algorithm"
   ]
  },
  {
   "cell_type": "markdown",
   "metadata": {},
   "source": [
    "Construct initial guess ${\\boldsymbol{y}}^{(0)}$ (conventionally zero).\n",
    "Then iteratively\n",
    "\n",
    "1.  construct the residual\n",
    "\n",
    "    $$r^{(k)}_i = y^{(k)}_{i-1} + y^{(k)}_{i+1} - 2 y^{(k)}_i - h^2 f\n",
    "      \\left( x_i, y^{(k)}_i, \\frac{y^{(k)}_{i+1} - y^{(k)}_{i-1}}{2 h}\n",
    "      \\right),$$\n",
    "      \n",
    "2.  construct the Jacobian\n",
    "\n",
    "    $$J^{(k)} = \\frac{\\partial{r_i^{(k)}}}{\\partial{y_j^{(k)}}},$$\n",
    "    \n",
    "3.  construct the correction ${\\boldsymbol{c}}$ by solving\n",
    "\n",
    "    $$J^{(k)} {\\boldsymbol{c}}^{(k)} = - {\\boldsymbol{r}}^{(k)},$$\n",
    "\n",
    "4.  construct the new guess by\n",
    "    \n",
    "    $${\\boldsymbol{y}}^{(k+1)} = {\\boldsymbol{y}}^{(k)} + {\\boldsymbol{c}}^{(k)}.$$\n",
    "\n",
    "\n",
    "Repeat until the correction is sufficiently small."
   ]
  },
  {
   "cell_type": "markdown",
   "metadata": {},
   "source": [
    "### The Jacobian"
   ]
  },
  {
   "cell_type": "markdown",
   "metadata": {},
   "source": [
    "Choosing central differencing the Jacobian\n",
    "\n",
    "$$J^{(k)} = \\frac{\\partial{r_i^{(k)}}}{\\partial{y_j^{(k)}}}$$\n",
    "\n",
    "is also tridiagonal, as\n",
    "\n",
    "$$\\frac{\\partial{r_i}}{\\partial{y_j}} = \\left\\{\n",
    "\\begin{aligned}\n",
    "  1 + \\tfrac{h}{2} \\frac{\\partial{f}}{\\partial{y'}} (y_{i-1}) && j & = i - 1, \\\\\n",
    "  -2 - h^2 \\frac{\\partial{f}}{\\partial{y}} (y_{i}) && j & = i, \\\\\n",
    "  1 - \\tfrac{h}{2} \\frac{\\partial{f}}{\\partial{y'}} (y_{i+1}) && j & = i + 1.\n",
    "\\end{aligned} \\right.$$\n",
    "\n",
    "Hence solution of each individual system is still very efficient.\n",
    "\n",
    "Taking advantage of structure, there are Gauss-Seidel and SOR variants\n",
    "of iterative scheme. Can either accelerate convergence or improve\n",
    "stability in particular cases."
   ]
  },
  {
   "cell_type": "markdown",
   "metadata": {},
   "source": [
    "### Example"
   ]
  },
  {
   "cell_type": "markdown",
   "metadata": {},
   "source": [
    "In the problem\n",
    "\n",
    "$$\\begin{aligned}\n",
    "y'' & = - \\frac{1}{1 + y^2}, \\\\ y(0) &= 0, \\\\ y(1) &= 0, \\\\ x\n",
    "&\\in [0, 1] \n",
    "\\end{aligned}$$\n",
    "\n",
    "use Newton relaxation. Initial guess trivial.\n",
    "\n",
    "First iteration already reasonable.\n",
    "\n",
    "After 4 iterations solution has settled down."
   ]
  },
  {
   "cell_type": "markdown",
   "metadata": {},
   "source": [
    "Summary\n",
    "======="
   ]
  },
  {
   "cell_type": "markdown",
   "metadata": {},
   "source": [
    "-   First shoot, then relax.\n",
    "\n",
    "-   Finite difference methods are typically less accurate and efficient,\n",
    "and for nonlinear problems are more complex to implement. However,\n",
    "they are much more likely to work in complex cases.\n",
    "-   For linear problems finite difference methods convert the ODE to a\n",
    "linear system $T {\\boldsymbol{y}} = {\\boldsymbol{F}}$.\n",
    "-   The matrix will be tri-diagonal (when using centred\n",
    "    differencing).\n",
    "-   The boundary conditions are normally directly encoded in the\n",
    "    known vector ${\\boldsymbol{b}}$ (but more complex boundary\n",
    "    conditions may require modification of $A$ as well).\n",
    "-   For nonlinear problems we construct a sequence of guesses\n",
    "${\\boldsymbol{y}}^{(n)}$ that converge to the solution; the previous\n",
    "guess is used to solve a linear system."
   ]
  }
 ],
 "metadata": {
  "kernelspec": {
   "display_name": "Python [Root]",
   "language": "python",
   "name": "Python [Root]"
  },
  "language_info": {
   "codemirror_mode": {
    "name": "ipython",
    "version": 3
   },
   "file_extension": ".py",
   "mimetype": "text/x-python",
   "name": "python",
   "nbconvert_exporter": "python",
   "pygments_lexer": "ipython3",
   "version": "3.5.2"
  }
 },
 "nbformat": 4,
 "nbformat_minor": 0
}
