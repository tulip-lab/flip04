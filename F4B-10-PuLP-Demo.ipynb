{
 "cells": [
  {
   "cell_type": "markdown",
   "metadata": {},
   "source": [
    "# FLIP (04): Learning Theory (I)\n",
    "**(Module 03: Operation Research)**\n",
    "\n",
    "---\n",
    "- Materials in this module include resources collected from various open-source online repositories.\n",
    "- You are free to use, but NOT allowed to change or distribute this package.\n",
    "\n",
    "Prepared by and for \n",
    "**Student Members** |\n",
    "2006-2018 [TULIP Lab](http://www.tulip.org.au), Australia\n",
    "\n",
    "---"
   ]
  },
  {
   "cell_type": "markdown",
   "metadata": {},
   "source": [
    "# Solving Linear Programming Problems with PuLP"
   ]
  },
  {
   "cell_type": "markdown",
   "metadata": {},
   "source": [
    "## Installing PuLP"
   ]
  },
  {
   "cell_type": "markdown",
   "metadata": {},
   "source": [
    "PuLP is an external package that may need to be installed into your python environment. The following cell issues a system command to install PuLP if needed. PuLP includes the [COIN-OR CBC](https://projects.coin-or.org/Cbc) solver."
   ]
  },
  {
   "cell_type": "code",
   "execution_count": null,
   "metadata": {
    "collapsed": false
   },
   "outputs": [],
   "source": [
    "!pip install PuLP"
   ]
  },
  {
   "cell_type": "markdown",
   "metadata": {},
   "source": [
    "## Example: Giapetto's Workshop"
   ]
  },
  {
   "cell_type": "markdown",
   "metadata": {},
   "source": [
    "### Model Formulation"
   ]
  },
  {
   "cell_type": "code",
   "execution_count": null,
   "metadata": {
    "collapsed": false
   },
   "outputs": [],
   "source": [
    "import pulp\n",
    "\n",
    "# Create problem instance\n",
    "giapetto = pulp.LpProblem(\"Giapetto's Workshop\", pulp.LpMaximize)\n",
    "\n",
    "# Define Variables with lower bounds of zero\n",
    "x1 = pulp.LpVariable(\"Soldiers\",0)\n",
    "x2 = pulp.LpVariable(\"Trains\",0)\n",
    "\n",
    "# Add Objective\n",
    "giapetto += 3*x1 + 2*x2, \"Profit\"\n",
    "\n",
    "# Add Constraints\n",
    "giapetto += 2*x1 + x2 <= 100,\"Finishing Labor\"\n",
    "giapetto += x1 + x2 <= 80, \"Carpentry Labor\"\n",
    "giapetto += x1 <= 40, \"Soldier Demand\"\n",
    "giapetto += x1 + x2 == 20, \"Minimum Production\"\n",
    "\n",
    "# Display Problem\n",
    "print giapetto"
   ]
  },
  {
   "cell_type": "markdown",
   "metadata": {},
   "source": [
    "### Model Solution"
   ]
  },
  {
   "cell_type": "code",
   "execution_count": null,
   "metadata": {
    "collapsed": false
   },
   "outputs": [],
   "source": [
    "giapetto.solve()\n",
    "\n",
    "print pulp.LpStatus[giapetto.status]\n",
    "print pulp.LpSenses[giapetto.sense], giapetto.objective.name, \"=\", pulp.value(giapetto.objective)"
   ]
  },
  {
   "cell_type": "markdown",
   "metadata": {},
   "source": [
    "### Displaying the Decision Variables"
   ]
  },
  {
   "cell_type": "markdown",
   "metadata": {},
   "source": [
    "Values for the decision variables can be accessed with the `pulp.value()` method."
   ]
  },
  {
   "cell_type": "code",
   "execution_count": null,
   "metadata": {
    "collapsed": false
   },
   "outputs": [],
   "source": [
    "print x1.name, \"=\" , pulp.value(x1)\n",
    "print x2.name, \"=\" , pulp.value(x2)"
   ]
  },
  {
   "cell_type": "markdown",
   "metadata": {},
   "source": [
    "Alternatively, the decision variables can be accessed by interating through the list created by the `variables()` method."
   ]
  },
  {
   "cell_type": "code",
   "execution_count": null,
   "metadata": {
    "collapsed": false
   },
   "outputs": [],
   "source": [
    "for x in giapetto.variables():\n",
    "    print \"Name:       \", x.name\n",
    "    print \"Value:      \", x.varValue\n",
    "    print \"Category:   \", x.cat\n",
    "    print \"Lower Bound:\", x.lowBound\n",
    "    print \"Upper Bound:\", x.upBound\n",
    "    print "
   ]
  },
  {
   "cell_type": "markdown",
   "metadata": {},
   "source": [
    "[Pandas](http://pandas.pydata.org/) is a python package for managing and analysing data. The following cell shows how to use a list comprehension and panda DataFrame to create and display a table from the solution data."
   ]
  },
  {
   "cell_type": "markdown",
   "metadata": {},
   "source": [
    "### Displaying the Constraints"
   ]
  },
  {
   "cell_type": "markdown",
   "metadata": {},
   "source": [
    "The constraints are stored as an ordered dictionary in `constraints` attribute of the problem. "
   ]
  },
  {
   "cell_type": "code",
   "execution_count": null,
   "metadata": {
    "collapsed": false
   },
   "outputs": [],
   "source": [
    "for (name,constraint) in giapetto.constraints.items():\n",
    "    print \"Name:        \", name\n",
    "    print \"Constraint:  \", constraint\n",
    "    print \"Lower Bound: \", constraint.getLb()\n",
    "    print \"Upper Bound: \", constraint.getUb()\n",
    "    print \"Value:       \", pulp.value(constraint)\n",
    "    print \"Sense:       \", pulp.LpConstraintSenses[constraint.sense]\n",
    "    print \"Constant:    \", constraint.constant\n",
    "    print \"Slack:       \", constraint.slack\n",
    "    print \"Slack (Feas):\", constraint.slack if constraint.sense < 0 else -constraint.slack\n",
    "    print"
   ]
  },
  {
   "cell_type": "markdown",
   "metadata": {},
   "source": [
    "## A simple function to solve and display the solution to a linear program"
   ]
  },
  {
   "cell_type": "code",
   "execution_count": null,
   "metadata": {
    "collapsed": false
   },
   "outputs": [],
   "source": [
    "import pandas\n",
    "\n",
    "def solvelp(lp):\n",
    "    lp.solve();\n",
    "\n",
    "    data = [[lp.objective.name, pulp.LpSenses[lp.sense], pulp.LpStatus[lp.status], pulp.value(lp.objective)]]\n",
    "    objDF = pandas.DataFrame(data,columns=[\"Objective\", \"Sense\", \"Status\", \"Value\"])\n",
    "\n",
    "    data = [[x.name, x.cat, x.lowBound, x.upBound, x.varValue] \n",
    "        for x in lp.variables()]\n",
    "    varDF = pandas.DataFrame(data,columns=[\"Name\",\"Category\",\"Lower Bound\",\"Upper Bound\",\"Value\"])    \n",
    "\n",
    "    data = [[c.name, c.getLb(), c.getUb(), c.slack, pulp.value(c) - c.constant] \n",
    "        for (k,c) in lp.constraints.items()]\n",
    "    conDF = pandas.DataFrame(data,columns=[\"Name\", \"Lower Bound\", \"Upper Bound\", \"Slack\", \"Value\"])\n",
    "\n",
    "    return (objDF,varDF,conDF)"
   ]
  },
  {
   "cell_type": "code",
   "execution_count": null,
   "metadata": {
    "collapsed": false
   },
   "outputs": [],
   "source": [
    "(odf,vdf,cdf) = solvelp(giapetto);\n",
    "\n",
    "from IPython.display import display,HTML\n",
    "\n",
    "display(HTML('<h3>Model</h3>'))\n",
    "display(giapetto)\n",
    "display(HTML('<h3>Objective</h3>'))\n",
    "display(odf)\n",
    "display(HTML('<h3>Variables</h3>'))\n",
    "display(vdf)\n",
    "display(HTML('<h3>Constraints</h3>'))\n",
    "display(cdf)"
   ]
  },
  {
   "cell_type": "code",
   "execution_count": null,
   "metadata": {
    "collapsed": false
   },
   "outputs": [],
   "source": [
    "cdf.plot(title=\"Value\",kind='bar')"
   ]
  }
 ],
 "metadata": {
  "anaconda-cloud": {},
  "kernelspec": {
   "display_name": "Python 2",
   "language": "python",
   "name": "python2"
  },
  "language_info": {
   "codemirror_mode": {
    "name": "ipython",
    "version": 2
   },
   "file_extension": ".py",
   "mimetype": "text/x-python",
   "name": "python",
   "nbconvert_exporter": "python",
   "pygments_lexer": "ipython2",
   "version": "2.7.12"
  }
 },
 "nbformat": 4,
 "nbformat_minor": 0
}
