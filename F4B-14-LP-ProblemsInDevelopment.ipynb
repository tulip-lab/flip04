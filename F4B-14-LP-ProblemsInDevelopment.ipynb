{
 "cells": [
  {
   "cell_type": "markdown",
   "metadata": {},
   "source": [
    "# FLIP (04): Learning Theory (I)\n",
    "**(Module 03: Operation Research)**\n",
    "\n",
    "---\n",
    "- Materials in this module include resources collected from various open-source online repositories.\n",
    "- You are free to use, but NOT allowed to change or distribute this package.\n",
    "\n",
    "Prepared by and for \n",
    "**Student Members** |\n",
    "2006-2018 [TULIP Lab](http://www.tulip.org.au), Australia\n",
    "\n",
    "---"
   ]
  },
  {
   "cell_type": "markdown",
   "metadata": {},
   "source": [
    "# Blending and Mixture Problems"
   ]
  },
  {
   "cell_type": "code",
   "execution_count": null,
   "metadata": {
    "collapsed": false
   },
   "outputs": [],
   "source": [
    "import pulp\n",
    "\n",
    "def dietlp(price,nutrition,requirements, nmin = 0, nmax=100):\n",
    "    diet = pulp.LpProblem('Diet Problem', pulp.LpMinimize)\n",
    "    x = pulp.LpVariable.dicts(\"x\", list(price.index), nmin, nmax, pulp.LpInteger)\n",
    "\n",
    "    diet += pulp.lpSum([price.ix[idx,'price']*x[idx] for idx in list(price.index)])\n",
    "\n",
    "    for n in nutrition.columns:\n",
    "        diet += pulp.lpSum([nutrition.ix[idx,n]*x[idx] for idx in list(price.index)]) >= requirements.ix[n,'n_min'], n + '_min'\n",
    "        diet += pulp.lpSum([nutrition.ix[idx,n]*x[idx] for idx in list(price.index)]) <= requirements.ix[n,'n_max'], n + '_max'\n",
    "    \n",
    "    return diet\n",
    "\n",
    "diet = dietlp(price,nutrition,requirements,0,10)\n"
   ]
  },
  {
   "cell_type": "code",
   "execution_count": null,
   "metadata": {
    "collapsed": false
   },
   "outputs": [],
   "source": []
  },
  {
   "cell_type": "markdown",
   "metadata": {},
   "source": [
    "## Solution"
   ]
  },
  {
   "cell_type": "code",
   "execution_count": null,
   "metadata": {
    "collapsed": false
   },
   "outputs": [],
   "source": [
    "def solvelp(lp):\n",
    "    \n",
    "    lp.solve();\n",
    "\n",
    "    obj = pd.DataFrame(\n",
    "        [[lp.objective.name, \n",
    "          pulp.LpSenses[lp.sense], \n",
    "          pulp.LpStatus[lp.status], \n",
    "          pulp.value(lp.objective)]],\n",
    "        columns=[\"Objective\", \"Sense\", \"Status\", \"Value\"])\n",
    "\n",
    "    var = pd.DataFrame(\n",
    "        [[x.name, x.cat, x.lowBound, x.upBound, x.varValue] for x in lp.variables()],\n",
    "        columns=[\"Name\",\"Category\",\"Lower Bound\",\"Upper Bound\",\"Value\"])    \n",
    "\n",
    "    con = pd.DataFrame(\n",
    "        [[c.name, \n",
    "          pulp.LpConstraintSenses[c.sense], \n",
    "          c.getLb(), \n",
    "          c.getUb(), \n",
    "          c.slack, \n",
    "          pulp.value(c) - c.constant] for (k,c) in lp.constraints.items()],\n",
    "        columns=[\"Name\", 'Sense', \"Lower Bound\", \"Upper Bound\", \"Slack\", \"Value\"])\n",
    "    \n",
    "    return {'Objective':obj, 'Variables':var, 'Constraints':con}\n",
    "\n",
    "soln = solvelp(diet)"
   ]
  },
  {
   "cell_type": "markdown",
   "metadata": {},
   "source": [
    "## Display"
   ]
  },
  {
   "cell_type": "code",
   "execution_count": null,
   "metadata": {
    "collapsed": false
   },
   "outputs": [],
   "source": [
    "from IPython.display import display,HTML\n",
    "\n",
    "display(HTML('<h3>Model</h3>'))\n",
    "display(diet)\n",
    "for k in soln.keys():\n",
    "    display(HTML('<h3>' + k + '</h3>'))\n",
    "    display(soln[k])\n",
    "    "
   ]
  },
  {
   "cell_type": "code",
   "execution_count": null,
   "metadata": {
    "collapsed": false
   },
   "outputs": [],
   "source": [
    "ax = soln['Variables'].ix[:,'Value'].plot(kind='bar')\n",
    "ax.set_xticklabels(list(soln['Variables'].ix[:,'Name']));"
   ]
  },
  {
   "cell_type": "code",
   "execution_count": null,
   "metadata": {
    "collapsed": false
   },
   "outputs": [],
   "source": [
    "nmax = arange(0,60,1)\n",
    "obj = zeros(size(nmax))\n",
    "for n in nmax:\n",
    "    soln = solvelp(dietlp(price,nutrition,requirements,0,n));\n",
    "    obj[n-1] = soln['Objective'].ix[0,'Value'] if (soln['Objective'].ix[0,'Status'] == 'Optimal') else NaN\n",
    "\n",
    "plot(nmax,obj,'r.')\n",
    "xlabel('n_max')\n",
    "ylabel('Cost')"
   ]
  },
  {
   "cell_type": "markdown",
   "metadata": {},
   "source": [
    "## Refinery Operations"
   ]
  },
  {
   "cell_type": "code",
   "execution_count": null,
   "metadata": {
    "collapsed": false
   },
   "outputs": [],
   "source": [
    "%%script glpsol -m /dev/stdin -o /dev/stdout --out output\n",
    "\n",
    "set COMPONENTS;\n",
    "set PRODUCTS;\n",
    "set CRUDES;\n",
    "\n",
    "param feed {COMPONENTS,CRUDES};\n",
    "param avail {CRUDES}; \n",
    "\n",
    "data;\n",
    "\n",
    "set COMPONENTS := \n",
    "    Butane  \n",
    "    Naptha  \n",
    "    Gasoil  \n",
    "    Residue ;\n",
    "    \n",
    "set CRUDES :=\n",
    "    Crude_1\n",
    "    Crude_2 ;\n",
    "    \n",
    "param feed :  Crude_1   Crude_2 :=\n",
    "    Butane     0.03      0.05\n",
    "    Naphtha    0.15      0.20\n",
    "    Gasoil     0.40      0.35\n",
    "    Residue    0.15      0.10 ;\n",
    "    \n",
    "param avail :=\n",
    "    Crude_1    250000\n",
    "    Crude_2    400000 ;\n",
    "    \n",
    "end;\n",
    "\n"
   ]
  },
  {
   "cell_type": "code",
   "execution_count": null,
   "metadata": {
    "collapsed": false
   },
   "outputs": [],
   "source": [
    "print output"
   ]
  },
  {
   "cell_type": "code",
   "execution_count": null,
   "metadata": {
    "collapsed": false
   },
   "outputs": [],
   "source": []
  }
 ],
 "metadata": {
  "anaconda-cloud": {},
  "kernelspec": {
   "display_name": "Python 2",
   "language": "python",
   "name": "python2"
  },
  "language_info": {
   "codemirror_mode": {
    "name": "ipython",
    "version": 2
   },
   "file_extension": ".py",
   "mimetype": "text/x-python",
   "name": "python",
   "nbconvert_exporter": "python",
   "pygments_lexer": "ipython2",
   "version": "2.7.12"
  }
 },
 "nbformat": 4,
 "nbformat_minor": 0
}
