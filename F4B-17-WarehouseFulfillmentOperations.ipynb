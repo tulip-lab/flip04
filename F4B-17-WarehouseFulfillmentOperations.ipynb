{
 "cells": [
  {
   "cell_type": "markdown",
   "metadata": {},
   "source": [
    "# FLIP (04): Learning Theory (I)\n",
    "**(Module 03: Operation Research)**\n",
    "\n",
    "---\n",
    "- Materials in this module include resources collected from various open-source online repositories.\n",
    "- You are free to use, but NOT allowed to change or distribute this package.\n",
    "\n",
    "Prepared by and for \n",
    "**Student Members** |\n",
    "2006-2018 [TULIP Lab](http://www.tulip.org.au), Australia\n",
    "\n",
    "---"
   ]
  },
  {
   "cell_type": "markdown",
   "metadata": {},
   "source": [
    "# Warehouse Fulfullment Operations"
   ]
  },
  {
   "cell_type": "markdown",
   "metadata": {},
   "source": [
    "This [IPython notebook](http://ipython.org/notebook.html) demonstrates use of the [SimPy](http://simpy.readthedocs.org/en/latest/) to simulate the order fulfillment operations of a hypothetical warehouse."
   ]
  },
  {
   "cell_type": "markdown",
   "metadata": {},
   "source": [
    "### Initializations"
   ]
  },
  {
   "cell_type": "code",
   "execution_count": null,
   "metadata": {
    "collapsed": false
   },
   "outputs": [],
   "source": [
    "from IPython.core.display import HTML\n",
    "HTML(open(\"styles/custom.css\", \"r\").read())"
   ]
  },
  {
   "cell_type": "markdown",
   "metadata": {},
   "source": [
    "## Order Fulfillment Model"
   ]
  },
  {
   "cell_type": "markdown",
   "metadata": {},
   "source": [
    "http://kevingue.wordpress.com/2012/02/13/discrete-time-modeling-for-order-picking/"
   ]
  },
  {
   "cell_type": "markdown",
   "metadata": {},
   "source": [
    "### Order Processing"
   ]
  },
  {
   "cell_type": "markdown",
   "metadata": {},
   "source": [
    "The order fulfillment operation is a sequence of eight events\n",
    "\n",
    "1. Order sent to the fulfillment center.\n",
    "1. Picker requested for the order.\n",
    "1. Order picked from the warehouse.\n",
    "1. Picker released.\n",
    "1. Inspector requested to review the order prior to shipping.\n",
    "1. Order reviewed.\n",
    "1. Reviewer released.\n",
    "1. Order shipped."
   ]
  },
  {
   "cell_type": "markdown",
   "metadata": {},
   "source": [
    "### Order Generator"
   ]
  },
  {
   "cell_type": "markdown",
   "metadata": {},
   "source": [
    "`orderGenerator` creates a sequence of orders following a Poisson distribution at an average rate 1/T_ORDER. Each order is tagged with a unique name using `itertools.count()`."
   ]
  },
  {
   "cell_type": "markdown",
   "metadata": {},
   "source": [
    "### Event Logging"
   ]
  },
  {
   "cell_type": "markdown",
   "metadata": {},
   "source": [
    "Events are logged and stored in a dictionary attached to an instance of the fulfillment class. The keys are an (orderId,event) tuple with the time stamp stored as the value. The raw data trace can be accessed as the `._data` field, or as a pandas Dataframe in the `.log` field."
   ]
  },
  {
   "cell_type": "markdown",
   "metadata": {},
   "source": [
    "### Fulfillment Class"
   ]
  },
  {
   "cell_type": "code",
   "execution_count": null,
   "metadata": {
    "collapsed": false
   },
   "outputs": [],
   "source": [
    "# Global variables\n",
    "T_ORDER = 10                      # average time between orders (Poisson)\n",
    "T_PICK = 15                       # mean time to pick order from warehouse (beta)\n",
    "T_REVIEW = 2                      # mean time to review order prior to shipment (beta)\n",
    "T_SHIP_MIN = 8; T_SHIP_MAX = 12   # mean time to ship order (uniform)\n",
    "ALPHA = 2.0; BETA = 5.0           # beta distribution parameters\n",
    "\n",
    "# Global defaults\n",
    "T_SIM = 1440               # simulation period\n",
    "N_PICKER = 2               # number of product pickers\n",
    "N_REVIEWER = 1             # number of product reviewers\n",
    "\n",
    "import simpy\n",
    "import itertools\n",
    "import random\n",
    "import pandas as pd\n",
    "\n",
    "class fulfillment(object):\n",
    "    def __init__(self, n_picker=N_PICKER, n_reviewer=N_REVIEWER):\n",
    "        self.env = simpy.Environment()\n",
    "        self._data = dict()\n",
    "        self.picker = simpy.Resource(self.env,n_picker)\n",
    "        self.reviewer = simpy.Resource(self.env,n_reviewer)\n",
    "        self.env.process(self.orderGenerator())\n",
    "        \n",
    "    def writeLog(self,orderId,event):\n",
    "        self._data[orderId,event] = self.env.now\n",
    "        \n",
    "    @property\n",
    "    def log(self):\n",
    "        df = pd.DataFrame([[a,b,self._data[a,b]] for (a,b) in self._data.keys()])      \n",
    "        df = df.pivot(index=0,columns=1,values=2).reset_index()\n",
    "        return df[list(df.columns)[1:]] \n",
    "    \n",
    "    @property\n",
    "    def stats(self):\n",
    "        tdelta = pd.DataFrame()\n",
    "        for c in self.log.columns:\n",
    "            tdelta[c] = self.log[c] - self.log['Ordered']\n",
    "        return pd.DataFrame([tdelta.mean(),tdelta.std()],index=['mean','std'])\n",
    "        \n",
    "    def order(self,orderId):\n",
    "        self.writeLog(orderId,'Ordered')\n",
    "        with self.picker.request() as preq:\n",
    "            yield preq\n",
    "            self.writeLog(orderId,'Pick Assigned')\n",
    "            yield self.env.timeout(T_PICK*((ALPHA+BETA)/ALPHA)*random.betavariate(ALPHA,BETA))\n",
    "            self.writeLog(orderId,'Picked')\n",
    "            self.picker.release(preq)\n",
    "        with self.reviewer.request() as rreq:\n",
    "            yield rreq\n",
    "            self.writeLog(orderId,'Review Assigned')\n",
    "            yield self.env.timeout(T_REVIEW*((ALPHA+BETA)/ALPHA)*random.betavariate(ALPHA,BETA))\n",
    "            self.writeLog(orderId,'Reviewed')\n",
    "            self.reviewer.release(rreq)\n",
    "                \n",
    "        yield self.env.timeout(random.uniform(T_SHIP_MIN,T_SHIP_MAX))\n",
    "        self.writeLog(orderId,'Shipped')\n",
    "                \n",
    "    def orderGenerator(self):\n",
    "        for orderId in itertools.count():\n",
    "            yield self.env.timeout(random.expovariate(1.0/T_ORDER))\n",
    "            self.env.process(self.order(orderId))\n",
    "             \n",
    "    def run(self,t_sim = T_SIM):\n",
    "        self.env.run(until=t_sim)"
   ]
  },
  {
   "cell_type": "markdown",
   "metadata": {},
   "source": [
    "### Simulation"
   ]
  },
  {
   "cell_type": "code",
   "execution_count": null,
   "metadata": {
    "collapsed": false
   },
   "outputs": [],
   "source": [
    "# create an order fulfillment instance\n",
    "w = fulfillment(n_picker = 2, n_reviewer = 1)\n",
    "\n",
    "# run a simulation for a specified period\n",
    "w.run(10000)\n",
    "\n",
    "print \"Elapsed Time from Order Placement\"\n",
    "display(w.stats)\n",
    "\n",
    "# plot log results\n",
    "w.log.plot()\n",
    "xlabel('Order Number')\n",
    "ylabel('Time [minutes]')"
   ]
  },
  {
   "cell_type": "markdown",
   "metadata": {},
   "source": [
    "## Analyzing Results"
   ]
  },
  {
   "cell_type": "markdown",
   "metadata": {},
   "source": [
    "### Total Processing Time"
   ]
  },
  {
   "cell_type": "code",
   "execution_count": null,
   "metadata": {
    "collapsed": false
   },
   "outputs": [],
   "source": [
    "torder = w.log['Shipped'] - w.log['Ordered']\n",
    "subplot(3,1,1)\n",
    "plot(torder)\n",
    "xlabel('Order Number')\n",
    "ylabel('Time [minutes]')\n",
    "title('Time from Order to Shipment')\n",
    "\n",
    "subplot(2,1,2)\n",
    "torder.hist(bins=30)\n",
    "xlabel('Time [minutes]')\n",
    "ylabel('Count')"
   ]
  },
  {
   "cell_type": "markdown",
   "metadata": {},
   "source": [
    "### Time to Assign Picker"
   ]
  },
  {
   "cell_type": "code",
   "execution_count": null,
   "metadata": {
    "collapsed": false
   },
   "outputs": [],
   "source": [
    "twait = w.log['Pick Assigned'] - w.log['Ordered']\n",
    "subplot(3,1,1)\n",
    "plot(twait)\n",
    "xlabel('Order Number')\n",
    "ylabel('Time [minutes]')\n",
    "title('Time to Assign Picker')\n",
    "\n",
    "subplot(2,1,2)\n",
    "twait.hist(bins=30)\n",
    "xlabel('Time [minutes]')\n",
    "ylabel('Count')"
   ]
  },
  {
   "cell_type": "markdown",
   "metadata": {},
   "source": [
    "### Time to Pick Order"
   ]
  },
  {
   "cell_type": "code",
   "execution_count": null,
   "metadata": {
    "collapsed": false
   },
   "outputs": [],
   "source": [
    "tpick = w.log['Picked'] - w.log['Pick Assigned']\n",
    "subplot(3,1,1)\n",
    "plot(tpick)\n",
    "xlabel('Order Number')\n",
    "ylabel('Time [minutes]')\n",
    "title('Time to Pick Order')\n",
    "\n",
    "subplot(2,1,2)\n",
    "tpick.hist(bins=30)\n",
    "xlabel('Time [minutes]')\n",
    "ylabel('Count')"
   ]
  },
  {
   "cell_type": "markdown",
   "metadata": {},
   "source": [
    "### Time to Assign Reviewer"
   ]
  },
  {
   "cell_type": "code",
   "execution_count": null,
   "metadata": {
    "collapsed": false
   },
   "outputs": [],
   "source": [
    "twait = w.log['Review Assigned'] - w.log['Picked']\n",
    "subplot(3,1,1)\n",
    "plot(twait)\n",
    "xlabel('Order Number')\n",
    "ylabel('Time [minutes]')\n",
    "title('Time to Assign Inspector')\n",
    "\n",
    "subplot(2,1,2)\n",
    "twait.hist(bins=30)\n",
    "xlabel('Time [minutes]')\n",
    "ylabel('Count')"
   ]
  },
  {
   "cell_type": "markdown",
   "metadata": {},
   "source": [
    "### Time to Review Order"
   ]
  },
  {
   "cell_type": "code",
   "execution_count": null,
   "metadata": {
    "collapsed": false
   },
   "outputs": [],
   "source": [
    "treview = w.log['Reviewed'] - w.log['Review Assigned']\n",
    "subplot(3,1,1)\n",
    "plot(treview)\n",
    "xlabel('Order Number')\n",
    "ylabel('Time [minutes]')\n",
    "title('Time to Review Order')\n",
    "\n",
    "subplot(2,1,2)\n",
    "treview.hist(bins=30)\n",
    "xlabel('Time [minutes]')\n",
    "ylabel('Count')"
   ]
  },
  {
   "cell_type": "markdown",
   "metadata": {},
   "source": [
    "### Time to Ship"
   ]
  },
  {
   "cell_type": "code",
   "execution_count": null,
   "metadata": {
    "collapsed": false
   },
   "outputs": [],
   "source": [
    "tship = w.log['Shipped'] - w.log['Reviewed']\n",
    "subplot(3,1,1)\n",
    "plot(tship)\n",
    "xlabel('Order Number')\n",
    "ylabel('Time [minutes]')\n",
    "title('Time to Ship')\n",
    "\n",
    "subplot(2,1,2)\n",
    "tship.hist(bins=30)\n",
    "xlabel('Time [minutes]')\n",
    "ylabel('Count')"
   ]
  },
  {
   "cell_type": "code",
   "execution_count": null,
   "metadata": {
    "collapsed": false
   },
   "outputs": [],
   "source": [
    "display(w.log)"
   ]
  },
  {
   "cell_type": "code",
   "execution_count": null,
   "metadata": {
    "collapsed": false
   },
   "outputs": [],
   "source": []
  }
 ],
 "metadata": {
  "anaconda-cloud": {},
  "kernelspec": {
   "display_name": "Python 2",
   "language": "python",
   "name": "python2"
  },
  "language_info": {
   "codemirror_mode": {
    "name": "ipython",
    "version": 2
   },
   "file_extension": ".py",
   "mimetype": "text/x-python",
   "name": "python",
   "nbconvert_exporter": "python",
   "pygments_lexer": "ipython2",
   "version": "2.7.12"
  }
 },
 "nbformat": 4,
 "nbformat_minor": 0
}
