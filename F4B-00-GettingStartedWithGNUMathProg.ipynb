{
 "cells": [
  {
   "cell_type": "markdown",
   "metadata": {},
   "source": [
    "# FLIP (04): Learning Theory (I)\n",
    "**(Module 03: Operation Research)**\n",
    "\n",
    "---\n",
    "- Materials in this module include resources collected from various open-source online repositories.\n",
    "- You are free to use, but NOT allowed to change or distribute this package.\n",
    "\n",
    "Prepared by and for \n",
    "**Student Members** |\n",
    "2006-2018 [TULIP Lab](http://www.tulip.org.au), Australia\n",
    "\n",
    "---"
   ]
  },
  {
   "cell_type": "markdown",
   "metadata": {},
   "source": [
    "# Getting Started with GNU MathProg"
   ]
  },
  {
   "cell_type": "markdown",
   "metadata": {},
   "source": [
    "This [IPython notebook](http://ipython.org/notebook.html) describes the installation and use of GLPK/MathProg from an IPython notebook."
   ]
  },
  {
   "cell_type": "markdown",
   "metadata": {},
   "source": [
    "###### Initializations"
   ]
  },
  {
   "cell_type": "code",
   "execution_count": null,
   "metadata": {
    "collapsed": false
   },
   "outputs": [],
   "source": [
    "from IPython.core.display import HTML\n",
    "HTML(open(\"styles/custom.css\", \"r\").read())"
   ]
  },
  {
   "cell_type": "markdown",
   "metadata": {},
   "source": [
    "## GNU MathProg is a Mathematical Programming Language"
   ]
  },
  {
   "cell_type": "markdown",
   "metadata": {},
   "source": [
    "Mathematical programming languages are designed for the purpose of writing applied optimization problems in a concise, high-level, maintainable manner with sufficient precision to be translated and solved using optimization software.\n",
    "\n",
    "[GAMS](http://www.gams.com/) (the General Algebraic Modeling System) is generally cited as the first example of a commercially successful mathematical programming language. Since the introduction of GAMS in the late 1970's, a number of succesful languages have been produced including [AIMMS](http://business.aimms.com/), [AMPL](http://www.ampl.com/), [LINDO/LINGO](http://www.lindo.com/), [MPL](http://www.maximalsoftware.com/), [XPRESS-MOSEL](http://www.fico.com/en/products/fico-xpress-optimization-suite/), and many others.  Of these, AMPL appears to be most widely adopted language for university training.\n",
    "\n",
    "[GNU MathProg](http://en.wikibooks.org/wiki/GLPK/GMPL_(MathProg)) is part of the open source [GNU GLPK project](http://www.gnu.org/software/glpk/). MathProg offers a subset of the AMPL language roughly equivalent to AMPL as it distributed in the early 1990's and described in the [AMPL book](http://www.ampl.com/BOOK/download.html). Though distributed as part of GLPK, MathProg interfaces are available for other solvers including [lpsolve](http://lpsolve.sourceforge.net/5.5/MathProg.htm) and COIN-OR CBC. MathProg can export models in a several formats compatiable with most commercial and non-commericial solvers for mixed-integer linear programs."
   ]
  },
  {
   "cell_type": "markdown",
   "metadata": {},
   "source": [
    "## Installing GLPK/MathProg"
   ]
  },
  {
   "cell_type": "markdown",
   "metadata": {},
   "source": [
    "You will need to install a working copy of GLPK before executing code cells in the following tutorial. Here some basic recommendations.\n",
    "\n",
    "1. For Windows/PC hardware, the [Windows for GLPK web site](http://winglpk.sourceforge.net/) maintains a pre-compiled version of GLPK based on the lastest official release.\n",
    "\n",
    "2. For MacOS users, the most convenient installation process is to use a package manager. If you are not already doing so, you may consider installing the excellect [Homebrew package manager](http://brew.sh/) using the instructions on their homepage. Once Homebrew is installed, GLPK can be installed with two commands\n",
    "\n",
    "<pre>\n",
    "  brew tap homebrew/science\n",
    "  brew install glpk\n",
    "</pre>\n"
   ]
  },
  {
   "cell_type": "markdown",
   "metadata": {},
   "source": [
    "If GLPK has been installed correctly on your machine, you should be able to execute the following command. Test this before going further with this tutorial."
   ]
  },
  {
   "cell_type": "code",
   "execution_count": null,
   "metadata": {
    "collapsed": false
   },
   "outputs": [],
   "source": [
    "print \"Hello World\""
   ]
  },
  {
   "cell_type": "code",
   "execution_count": null,
   "metadata": {
    "collapsed": false
   },
   "outputs": [],
   "source": [
    "%%script glpsol -m /dev/stdin -o /dev/stdout --out output\n",
    "\n",
    "printf \"Hello, World\\n\";\n",
    "end;"
   ]
  },
  {
   "cell_type": "code",
   "execution_count": null,
   "metadata": {
    "collapsed": false
   },
   "outputs": [],
   "source": [
    "print output"
   ]
  },
  {
   "cell_type": "markdown",
   "metadata": {},
   "source": [
    "## Using GLPK/MathProg in IPython Notebooks"
   ]
  },
  {
   "cell_type": "markdown",
   "metadata": {},
   "source": [
    "[Cell magics](http://nbviewer.ipython.org/github/ipython/ipython/blob/master/examples/notebooks/Cell%20Magics.ipynb)\n",
    "provide mechanisms for using GLPK/MathProg inside the cells of an IPython notebook. \n",
    "\n",
    "To process a MathProg model from a cell, use the cell magic\n",
    "\n",
    "`%%script glpsol -m /dev/stdin` \n",
    "\n",
    "as the first line of the cell. This line uses the cell magic [`%%script`](http://nbviewer.ipython.org/github/ipython/ipython/blob/master/examples/notebooks/Script%20Magics.ipynb) to run the command `glpsol -m /dev/stdin` as if it were entered directly into a terminal window. [`glpsol`](http://en.wikibooks.org/wiki/GLPK/Using_GLPSOL) calls the glpk solver. The argument `-m /dev/stdin` tells the solver to process a MathProg model from the standard input. In the case of IPython notebooks, is the remaining contents of the cell.\n",
    "\n",
    "We'll demonstrate this for a simple model that adds two parameter values and displays the result. Look for the displayed result among the other output generated by the `glpsol` command."
   ]
  },
  {
   "cell_type": "code",
   "execution_count": null,
   "metadata": {
    "collapsed": false
   },
   "outputs": [],
   "source": [
    "%%script glpsol -m /dev/stdin\n",
    "\n",
    "param a := 12.3;\n",
    "param b := 13;\n",
    "\n",
    "display a + b;\n",
    "\n",
    "end;"
   ]
  },
  {
   "cell_type": "markdown",
   "metadata": {},
   "source": [
    "Often you will want to separate the display output of the MathProg model from other output generated by `glpsol`. "
   ]
  },
  {
   "cell_type": "code",
   "execution_count": null,
   "metadata": {
    "collapsed": false
   },
   "outputs": [],
   "source": [
    "%%script --out output glpsol -m /dev/stdin -y out.txt \n",
    "\n",
    "param a := 12.3;\n",
    "param b := 13;\n",
    "\n",
    "display a + b;\n",
    "\n",
    "end;"
   ]
  },
  {
   "cell_type": "markdown",
   "metadata": {},
   "source": [
    "The `-y out.txt` option redirects display output to the file `out.txt`. The file can be read and displayed using the usual python methods as shown here:"
   ]
  },
  {
   "cell_type": "code",
   "execution_count": null,
   "metadata": {
    "collapsed": false
   },
   "outputs": [],
   "source": [
    "f = open('out.txt')\n",
    "print f.read()\n",
    "f.close()"
   ]
  },
  {
   "cell_type": "markdown",
   "metadata": {},
   "source": [
    "The `--out output` is an option passed to script that redirects normal cell output to a python variable `output`. This will contain the remaining output of the `glpsol` command which can be displayed as follows:"
   ]
  },
  {
   "cell_type": "code",
   "execution_count": null,
   "metadata": {
    "collapsed": false
   },
   "outputs": [],
   "source": [
    "print output"
   ]
  },
  {
   "cell_type": "markdown",
   "metadata": {},
   "source": [
    "## Solving Linear Equations with MathProg"
   ]
  },
  {
   "cell_type": "markdown",
   "metadata": {},
   "source": [
    "GLPK/MathProg will find feasible solutions to a system of linear equations. The basic steps necessary to describe and solve a system of linear equations are demonstrated in the next example."
   ]
  },
  {
   "cell_type": "code",
   "execution_count": null,
   "metadata": {
    "collapsed": false
   },
   "outputs": [],
   "source": [
    "%%script --out output glpsol -m /dev/stdin\n",
    "\n",
    "# declare problem variables\n",
    "var x;\n",
    "var y;\n",
    "var z;\n",
    "\n",
    "# list all equations\n",
    "eqn1 : 3*x + 2*y + z = 12;\n",
    "eqn2 : 2.1*x + y = -3;\n",
    "eqn3 : y - z = 4;\n",
    "\n",
    "# solve\n",
    "solve;\n",
    "\n",
    "# display results\n",
    "display x, y, z;\n",
    "\n",
    "end;"
   ]
  },
  {
   "cell_type": "markdown",
   "metadata": {},
   "source": [
    "A few things to notice are that all unknowns must be declared as variables, and that all equations are written with a unique name followed by the equation itself.\n",
    "\n",
    "First we'll look at the diagnostic output generated by `glpsol`."
   ]
  },
  {
   "cell_type": "code",
   "execution_count": null,
   "metadata": {
    "collapsed": false
   },
   "outputs": [],
   "source": [
    "print output"
   ]
  },
  {
   "cell_type": "markdown",
   "metadata": {},
   "source": [
    "If things went well we should see a line `OPTIMAL LP SOLUTION FOUND` along with additional information that is useful in tuning larger models for efficient solution.  If things didn't go well, an appropriate message will be displayed indicating an error in processing the model description, or problems in finding a numerical solution.\n",
    "\n",
    "In this case `glpsol` says an optimal solution was found. The next step is to show the displayed results that were written to the file `out.txt`."
   ]
  },
  {
   "cell_type": "code",
   "execution_count": null,
   "metadata": {
    "collapsed": false
   },
   "outputs": [],
   "source": [
    "f = open('out.txt');\n",
    "print(f.read())\n",
    "f.close()"
   ]
  },
  {
   "cell_type": "markdown",
   "metadata": {},
   "source": [
    "The extra `.val` appended to each variable name indicates that we are looking at value of the variable found by the solver. Also associated with each variable is a `.dual` value that will be useful in analyzing the results of linear optimization problems. "
   ]
  },
  {
   "cell_type": "markdown",
   "metadata": {},
   "source": [
    "## Reading Data from .csv Files"
   ]
  },
  {
   "cell_type": "code",
   "execution_count": null,
   "metadata": {
    "collapsed": false
   },
   "outputs": [],
   "source": [
    "%%writefile input.csv\n",
    "Name, Age\n",
    "Abigail, 22.1\n",
    "Brent, 24.1\n",
    "Carla, 21.0\n",
    "Doug, 20.0"
   ]
  },
  {
   "cell_type": "code",
   "execution_count": null,
   "metadata": {
    "collapsed": false
   },
   "outputs": [],
   "source": [
    "%%script --out output glpsol -m /dev/stdin\n",
    "\n",
    "set NAMES;\n",
    "\n",
    "param Age{NAMES};\n",
    "\n",
    "table tin IN \"CSV\" \"input.csv\" : NAMES <- [Name], Age;\n",
    "    \n",
    "for {n in NAMES}: printf \"%s\\n\", n;\n",
    "    \n",
    "end;"
   ]
  },
  {
   "cell_type": "code",
   "execution_count": null,
   "metadata": {
    "collapsed": false
   },
   "outputs": [],
   "source": [
    "print output"
   ]
  },
  {
   "cell_type": "code",
   "execution_count": null,
   "metadata": {
    "collapsed": false
   },
   "outputs": [],
   "source": [
    "import pandas\n",
    "pandas.read_csv(\"input.csv\")"
   ]
  },
  {
   "cell_type": "markdown",
   "metadata": {},
   "source": [
    "## Writing MathProg Output to .csv Files"
   ]
  },
  {
   "cell_type": "code",
   "execution_count": null,
   "metadata": {
    "collapsed": false
   },
   "outputs": [],
   "source": [
    "%%script --out output glpsol -m /dev/stdin\n",
    "\n",
    "# declare problem variables\n",
    "var x;\n",
    "var y;\n",
    "var z;\n",
    "\n",
    "# list all equations\n",
    "eqn1 : 3*x + 2*y + z = 12;\n",
    "eqn2 : 2.1*x + y = -3;\n",
    "eqn3 : y - z = 4;\n",
    "\n",
    "# solve\n",
    "solve;\n",
    "\n",
    "# output results to .csv file\n",
    "table result {1..1} OUT \"CSV\" \"out.csv\" : x, y, z;\n",
    "    \n",
    "end;"
   ]
  },
  {
   "cell_type": "markdown",
   "metadata": {},
   "source": [
    "First check the diagnostic output to verify that no errors were encountered."
   ]
  },
  {
   "cell_type": "code",
   "execution_count": null,
   "metadata": {
    "collapsed": false
   },
   "outputs": [],
   "source": [
    "print output"
   ]
  },
  {
   "cell_type": "markdown",
   "metadata": {},
   "source": [
    "The result of the `table` command is a `.csv` file that can be read by virtually any spreadsheet or data analysis software.  Let's first verify the format"
   ]
  },
  {
   "cell_type": "code",
   "execution_count": null,
   "metadata": {
    "collapsed": false
   },
   "outputs": [],
   "source": [
    "f = open('out.csv');\n",
    "print(f.read())\n",
    "f.close()"
   ]
  },
  {
   "cell_type": "markdown",
   "metadata": {},
   "source": [
    "As an example of it's use, here's how the file could be read as a pandas DataFrame and the results plotted."
   ]
  },
  {
   "cell_type": "code",
   "execution_count": null,
   "metadata": {
    "collapsed": false
   },
   "outputs": [],
   "source": [
    "import pandas\n",
    "df = pandas.read_csv(\"out.csv\");\n",
    "display(df)\n",
    "df.plot(kind='bar')"
   ]
  },
  {
   "cell_type": "code",
   "execution_count": null,
   "metadata": {
    "collapsed": false
   },
   "outputs": [],
   "source": [
    "%%writefile input.csv\n",
    "A,B,C\n",
    "12.2, 13.1, 13.2"
   ]
  },
  {
   "cell_type": "code",
   "execution_count": null,
   "metadata": {
    "collapsed": false
   },
   "outputs": [],
   "source": [
    "%%script --out output glpsol -m /dev/stdin\n",
    "\n",
    "set S;\n",
    "\n",
    "param a;\n",
    "param b;\n",
    "param c;\n",
    "\n",
    "table input IN \"CSV\" \"input.csv\": S <- [A], a~A, b~B, c~C;\n",
    "    \n",
    "end;"
   ]
  },
  {
   "cell_type": "code",
   "execution_count": null,
   "metadata": {
    "collapsed": false
   },
   "outputs": [],
   "source": [
    "print output"
   ]
  }
 ],
 "metadata": {
  "anaconda-cloud": {},
  "kernelspec": {
   "display_name": "Python 2",
   "language": "python",
   "name": "python2"
  },
  "language_info": {
   "codemirror_mode": {
    "name": "ipython",
    "version": 2
   },
   "file_extension": ".py",
   "mimetype": "text/x-python",
   "name": "python",
   "nbconvert_exporter": "python",
   "pygments_lexer": "ipython2",
   "version": "2.7.12"
  }
 },
 "nbformat": 4,
 "nbformat_minor": 0
}
