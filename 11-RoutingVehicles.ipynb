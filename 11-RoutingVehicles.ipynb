{
 "cells": [
  {
   "cell_type": "markdown",
   "metadata": {},
   "source": [
    "# FLIP (02) Optimization Data Science\n",
    "\n",
    "---\n",
    "Team Director: Meng Ren | mren@tulip.academy<br />\n",
    "\n",
    "TULIP Academy <br />\n",
    "http://www.tulip.academy \n",
    "\n",
    "---"
   ]
  },
  {
   "cell_type": "markdown",
   "metadata": {},
   "source": [
    "## Multiple Traveling Salesman and the Problem of routing vehicles\n",
    "\n",
    "Imagine we have instead of one salesman traveling to all the sites, that instead the workload is shared among many salesman. This generalization of the traveling salesman problem is called the multiple traveling salesman problem or mTSP. In lots of literature it is studied under the name of Vehicle Routing Problem or [VRP](https://en.wikipedia.org/wiki/Vehicle_routing_problem), but it is equivalent. The problem goes back to the early 1960s where it was applied to oil delivery issues [1]. This is another NP-hard problem so for large amounts of locations a solution might take a long time to find. We can solve it for small values with Pulp though.\n",
    "\n",
    "\n",
    "[1] : https://andresjaquep.files.wordpress.com/2008/10/2627477-clasico-dantzig.pdf"
   ]
  },
  {
   "cell_type": "code",
   "execution_count": 3,
   "metadata": {
    "collapsed": false
   },
   "outputs": [],
   "source": [
    "from pulp import *\n",
    "import numpy as np\n",
    "import matplotlib.pyplot as plt\n",
    "%matplotlib inline\n",
    "import seaborn as sn"
   ]
  },
  {
   "cell_type": "markdown",
   "metadata": {},
   "source": [
    "### 1. First lets make some fake data"
   ]
  },
  {
   "cell_type": "code",
   "execution_count": 67,
   "metadata": {
    "collapsed": false
   },
   "outputs": [
    {
     "name": "stdout",
     "output_type": "stream",
     "text": [
      "16\n"
     ]
    }
   ],
   "source": [
    "#a handful of sites\n",
    "sites = ['org','A','B','C','D','E','F','G','H','I','J','K','L','M','N','O','P']\n",
    "print(len(sites)-1)"
   ]
  },
  {
   "cell_type": "code",
   "execution_count": 68,
   "metadata": {
    "collapsed": false
   },
   "outputs": [],
   "source": [
    "#make some positions (so we can plot this)\n",
    "positions = dict( ( a, (np.random.rand()-.5, np.random.rand()-.5)) for a in sites)\n",
    "\n",
    "positions['org']=(0,0)"
   ]
  },
  {
   "cell_type": "code",
   "execution_count": 69,
   "metadata": {
    "collapsed": false
   },
   "outputs": [
    {
     "data": {
      "image/png": "[encoded data removed]",
      "text/plain": [
       "<matplotlib.figure.Figure at 0x115550550>"
      ]
     },
     "metadata": {},
     "output_type": "display_data"
    }
   ],
   "source": [
    "for s in positions:\n",
    "    p = positions[s]\n",
    "    plt.plot(p[0],p[1],'o')\n",
    "    plt.text(p[0]+.01,p[1],s,horizontalalignment='left',verticalalignment='center')\n",
    "    \n",
    "plt.gca().axis('off');"
   ]
  },
  {
   "cell_type": "code",
   "execution_count": 70,
   "metadata": {
    "collapsed": false
   },
   "outputs": [],
   "source": [
    "#straight line distance for simplicity\n",
    "d = lambda p1,p2: np.sqrt( (p1[0]-p2[0])**2+ (p1[1]-p2[1])**2)\n",
    "\n",
    "#calculate all the pairs\n",
    "distances=dict( ((s1,s2), d(positions[s1],positions[s2])) for s1 in positions for s2 in positions if s1!=s2)"
   ]
  },
  {
   "cell_type": "markdown",
   "metadata": {},
   "source": [
    "### 2. The model\n",
    "\n",
    "With a few modifications, the original traveling salesman problem can support multiple salesman. Instead of making each facility only be visited once, the origin facility will be visited multiple times. If we have two salesman then the origin is visited exactly twice and so on.\n",
    "\n",
    "For $K$ vehicles or sales people\n",
    "\n",
    "#### Variables:\n",
    "\n",
    "indicators:\n",
    "$$x_{i,j} = \\begin{cases}\n",
    "    1, & \\text{if site i comes exactly before j in the tour} \\\\\n",
    "    0, & \\text{otherwise}\n",
    "\\end{cases}\n",
    "$$\n",
    "\n",
    "order dummy variables:\n",
    "$$u_{i} :  \\text{order site i is visited}$$\n",
    "\n",
    "\n",
    "#### Minimize: \n",
    "$$\\sum_{i,j \\space i \\neq j} x_{i,j} Distance(i,j)$$\n",
    "\n",
    "#### Subject to:\n",
    "\n",
    "$$\\sum_{i \\neq j} x_{i,j} = 1 \\space \\forall j \\text{ except the origin}$$\n",
    "$$\\sum_{i \\neq j} x_{i,origin} = K$$\n",
    "\n",
    "$$\\sum_{j \\neq i} x_{i,j} = 1 \\space \\forall i \\text{ except the origin}$$\n",
    "$$\\sum_{j \\neq i} x_{i,origin} = K$$\n",
    "\n",
    "$$u_{i}-u_{j} \\leq  (N \\div M)(1-x_{i,j}) - 1 \\ \\forall i,j \\text{ except origins}$$"
   ]
  },
  {
   "cell_type": "code",
   "execution_count": 71,
   "metadata": {
    "collapsed": true
   },
   "outputs": [],
   "source": [
    "K = 4 #the number of sales people "
   ]
  },
  {
   "cell_type": "code",
   "execution_count": 72,
   "metadata": {
    "collapsed": false
   },
   "outputs": [],
   "source": [
    "#create the problme\n",
    "prob=LpProblem(\"vehicle\",LpMinimize)"
   ]
  },
  {
   "cell_type": "code",
   "execution_count": 73,
   "metadata": {
    "collapsed": true
   },
   "outputs": [],
   "source": [
    "#indicator variable if site i is connected to site j in the tour\n",
    "x = LpVariable.dicts('x',distances, 0,1,LpBinary)\n",
    "#dummy vars to eliminate subtours\n",
    "u = LpVariable.dicts('u', sites, 0, len(sites)-1, LpInteger)"
   ]
  },
  {
   "cell_type": "code",
   "execution_count": 74,
   "metadata": {
    "collapsed": false
   },
   "outputs": [],
   "source": [
    "#the objective\n",
    "cost = lpSum([x[(i,j)]*distances[(i,j)] for (i,j) in distances])\n",
    "prob+=cost"
   ]
  },
  {
   "cell_type": "code",
   "execution_count": 75,
   "metadata": {
    "collapsed": false
   },
   "outputs": [],
   "source": [
    "#constraints\n",
    "for k in sites:\n",
    "    cap = 1 if k != 'org' else K\n",
    "    #inbound connection\n",
    "    prob+= lpSum([ x[(i,k)] for i in sites if (i,k) in x]) ==cap\n",
    "    #outbound connection\n",
    "    prob+=lpSum([ x[(k,i)] for i in sites if (k,i) in x]) ==cap\n",
    "    \n",
    "#subtour elimination\n",
    "N=len(sites)/K\n",
    "for i in sites:\n",
    "    for j in sites:\n",
    "        if i != j and (i != 'org' and j!= 'org') and (i,j) in x:\n",
    "            prob += u[i] - u[j] <= (N)*(1-x[(i,j)]) - 1"
   ]
  },
  {
   "cell_type": "markdown",
   "metadata": {},
   "source": [
    "### Solve it!"
   ]
  },
  {
   "cell_type": "code",
   "execution_count": 79,
   "metadata": {
    "collapsed": false
   },
   "outputs": [
    {
     "name": "stdout",
     "output_type": "stream",
     "text": [
      "CPU times: user 27.5 ms, sys: 6.69 ms, total: 34.2 ms\n",
      "Wall time: 38 s\n",
      "Optimal\n"
     ]
    }
   ],
   "source": [
    "%time prob.solve()\n",
    "#prob.solve(GLPK_CMD(options=['--simplex']))\n",
    "print(LpStatus[prob.status])"
   ]
  },
  {
   "cell_type": "markdown",
   "metadata": {},
   "source": [
    "And the result:"
   ]
  },
  {
   "cell_type": "code",
   "execution_count": 80,
   "metadata": {
    "collapsed": true
   },
   "outputs": [],
   "source": [
    "non_zero_edges = [ e for e in x if value(x[e]) != 0 ]\n",
    "\n",
    "def get_next_site(parent):\n",
    "    '''helper function to get the next edge'''\n",
    "    edges = [e for e in non_zero_edges if e[0]==parent]\n",
    "    for e in edges:\n",
    "        non_zero_edges.remove(e)\n",
    "    return edges"
   ]
  },
  {
   "cell_type": "code",
   "execution_count": 81,
   "metadata": {
    "collapsed": false
   },
   "outputs": [],
   "source": [
    "tours = get_next_site('org')\n",
    "tours = [ [e] for e in tours ]\n",
    "\n",
    "for t in tours:\n",
    "    while t[-1][1] !='org':\n",
    "        t.append(get_next_site(t[-1][1])[-1])"
   ]
  },
  {
   "cell_type": "markdown",
   "metadata": {},
   "source": [
    "The optimal tours:"
   ]
  },
  {
   "cell_type": "code",
   "execution_count": 82,
   "metadata": {
    "collapsed": false
   },
   "outputs": [
    {
     "name": "stdout",
     "output_type": "stream",
     "text": [
      "org -> J -> G -> M -> I -> org\n",
      "org -> D -> A -> E -> N -> org\n",
      "org -> H -> P -> C -> L -> org\n",
      "org -> O -> F -> K -> B -> org\n"
     ]
    }
   ],
   "source": [
    "for t in tours:\n",
    "    print(' -> '.join([ a for a,b in t]+['org']))"
   ]
  },
  {
   "cell_type": "code",
   "execution_count": 83,
   "metadata": {
    "collapsed": false
   },
   "outputs": [
    {
     "data": {
      "image/png": "[encoded data removed]",
      "text/plain": [
       "<matplotlib.figure.Figure at 0x116679ba8>"
      ]
     },
     "metadata": {},
     "output_type": "display_data"
    }
   ],
   "source": [
    "#draw the tours\n",
    "colors = [np.random.rand(3) for i in range(len(tours))]\n",
    "for t,c in zip(tours,colors):\n",
    "    for a,b in t:\n",
    "        p1,p2 = positions[a], positions[b]\n",
    "        plt.plot([p1[0],p2[0]],[p1[1],p2[1]], color=c)\n",
    "\n",
    "#draw the map again\n",
    "for s in positions:\n",
    "    p = positions[s]\n",
    "    plt.plot(p[0],p[1],'o')\n",
    "    plt.text(p[0]+.01,p[1],s,horizontalalignment='left',verticalalignment='center')\n",
    "    \n",
    "plt.gca().axis('off');"
   ]
  },
  {
   "cell_type": "code",
   "execution_count": 84,
   "metadata": {
    "collapsed": false
   },
   "outputs": [
    {
     "name": "stdout",
     "output_type": "stream",
     "text": [
      "5.08506388896\n"
     ]
    }
   ],
   "source": [
    "print(value(prob.objective))"
   ]
  },
  {
   "cell_type": "markdown",
   "metadata": {},
   "source": [
    "### Questions:\n",
    "1. If we wanted the vehicles/salesman to start and end in different locations, how would we modify this?\n",
    "2. How can we limit the miles/km each vehicle/salesman drives?\n",
    "3. How can we incorporate some sort of site priority?\n",
    "4. How can we incorporate ordering? ie site A must be visited before site B\n",
    "5. How can we modify the sites per person to be flexible, ie maybe each person must visist between 3 and 6 sites a day"
   ]
  },
  {
   "cell_type": "code",
   "execution_count": null,
   "metadata": {
    "collapsed": true
   },
   "outputs": [],
   "source": []
  }
 ],
 "metadata": {
  "anaconda-cloud": {},
  "kernelspec": {
   "display_name": "Python [Root]",
   "language": "python",
   "name": "Python [Root]"
  },
  "language_info": {
   "codemirror_mode": {
    "name": "ipython",
    "version": 3
   },
   "file_extension": ".py",
   "mimetype": "text/x-python",
   "name": "python",
   "nbconvert_exporter": "python",
   "pygments_lexer": "ipython3",
   "version": "3.5.2"
  }
 },
 "nbformat": 4,
 "nbformat_minor": 1
}
