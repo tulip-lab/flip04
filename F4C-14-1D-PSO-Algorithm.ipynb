{
 "cells": [
  {
   "cell_type": "markdown",
   "metadata": {},
   "source": [
    "# FLIP (04): Learning Theory (I)\n",
    "**(Module 03: Convex Optimization)**\n",
    "\n",
    "---\n",
    "- Materials in this module include resources collected from various open-source online repositories.\n",
    "- You are free to use, but NOT allowed to change or distribute this package.\n",
    "\n",
    "Prepared by and for \n",
    "**Student Members** |\n",
    "2006-2018 [TULIP Lab](http://www.tulip.org.au), Australia\n",
    "\n",
    "---"
   ]
  },
  {
   "cell_type": "markdown",
   "metadata": {},
   "source": [
    "# Particle Swarm Optimization Algorithm (in Python!) "
   ]
  },
  {
   "cell_type": "markdown",
   "metadata": {},
   "source": [
    "[SPOILER] We will be using the [Particle Swarm Optimization algorithm](https://en.wikipedia.org/wiki/Particle_swarm_optimization) to obtain the minumum of a customed objective function"
   ]
  },
  {
   "cell_type": "markdown",
   "metadata": {},
   "source": [
    "First of all, let's import the libraries we'll need (remember we are using Python 3)"
   ]
  },
  {
   "cell_type": "code",
   "execution_count": null,
   "metadata": {
    "collapsed": false
   },
   "outputs": [],
   "source": [
    "import numpy as np\n",
    "import matplotlib.pyplot as plt\n",
    "# import scipy as sp\n",
    "# import time\n",
    "\n",
    "\n",
    "%matplotlib inline\n",
    "plt.style.use('bmh')"
   ]
  },
  {
   "cell_type": "markdown",
   "metadata": {},
   "source": [
    "We can define and plot the function we want to optimize:"
   ]
  },
  {
   "cell_type": "code",
   "execution_count": null,
   "metadata": {
    "collapsed": false
   },
   "outputs": [],
   "source": [
    "x_lo = 0\n",
    "x_up = 14\n",
    "n_points = 1000\n",
    "\n",
    "x = np.linspace(x_lo, x_up, n_points)\n",
    "\n",
    "def f(x):\n",
    "    return x*np.sin(x) + x*np.cos(x)\n",
    "\n",
    "y = f(x)\n",
    "\n",
    "plt.plot(x,y)\n",
    "plt.ylabel('$f(x) = \\sin(x)+x\\cos(x)$')\n",
    "plt.xlabel('$x$')\n",
    "plt.title('Function to be optimized')"
   ]
  },
  {
   "cell_type": "markdown",
   "metadata": {},
   "source": [
    "## PSO Algorithm"
   ]
  },
  {
   "cell_type": "code",
   "execution_count": null,
   "metadata": {
    "collapsed": false
   },
   "outputs": [],
   "source": [
    "n_iterations = 50\n",
    "    \n",
    "def run_PSO(n_particles=5, omega=0.5, phi_p=0.5, phi_g=0.7):\n",
    "    \"\"\" PSO algorithm to a funcion already defined.\n",
    "    Params:\n",
    "        omega = 0.5  # Particle weight (intertial)\n",
    "        phi_p = 0.1  # particle best weight\n",
    "        phi_g = 0.1  # global global weight\n",
    "    \n",
    "    \"\"\"\n",
    "    global x_best_p_global, x_particles, y_particles, u_particles, v_particles\n",
    "    \n",
    "    # Note: we are using global variables to ease the use of interactive widgets\n",
    "    # This code will work fine without the global (and actually it will be safer)\n",
    "    \n",
    "    ## Initialization:\n",
    "\n",
    "    x_particles = np.zeros((n_particles, n_iterations))\n",
    "    x_particles[:, 0] = np.random.uniform(x_lo, x_up, size=n_particles)\n",
    "\n",
    "    x_best_particles = np.copy(x_particles[:, 0])\n",
    "\n",
    "    y_particles = f(x_particles[:, 0])\n",
    "    y_best_global = np.min(y_particles[:])\n",
    "    index_best_global = np.argmin(y_particles[:])\n",
    "    x_best_p_global = np.copy(x_particles[index_best_global,0])\n",
    "\n",
    "    # velocity units are [Length/iteration]\n",
    "    velocity_lo = x_lo-x_up \n",
    "    velocity_up = x_up-x_lo \n",
    "\n",
    "    u_particles = np.zeros((n_particles, n_iterations))\n",
    "    u_particles[:, 0] = 0.1*np.random.uniform(velocity_lo, velocity_up, size=n_particles)\n",
    "\n",
    "    v_particles = np.zeros((n_particles, n_iterations)) # Needed for plotting the velocity as vectors\n",
    "    \n",
    "    # PSO STARTS\n",
    "\n",
    "    iteration = 1\n",
    "    while iteration <= n_iterations-1:\n",
    "        for i in range(n_particles):\n",
    "                x_p = x_particles[i, iteration-1]\n",
    "                u_p = u_particles[i, iteration-1]\n",
    "                x_best_p = x_best_particles[i]\n",
    "\n",
    "\n",
    "                r_p = np.random.uniform(0, 1)\n",
    "                r_g = np.random.uniform(0, 1)\n",
    "\n",
    "                u_p_new = omega*u_p+ \\\n",
    "                            phi_p*r_p*(x_best_p-x_p) + \\\n",
    "                            phi_g*r_g*(x_best_p_global-x_p)\n",
    "\n",
    "                x_p_new = x_p + u_p_new\n",
    "\n",
    "                if not x_lo <= x_p_new <= x_up: \n",
    "                    x_p_new = x_p # ignore new position, it's out of the domain\n",
    "                    u_p_new = 0\n",
    "\n",
    "                x_particles[i, iteration] = np.copy(x_p_new)\n",
    "                u_particles[i, iteration] = np.copy(u_p_new)\n",
    "\n",
    "                y_p_best = f(x_best_p)\n",
    "                y_p_new = f(x_p_new)\n",
    "\n",
    "\n",
    "                if y_p_new < y_p_best:\n",
    "                    x_best_particles[i] = np.copy(x_p_new)\n",
    "\n",
    "                    y_p_best_global = f(x_best_p_global)\n",
    "                    if y_p_new < y_p_best_global:\n",
    "                        x_best_p_global = x_p_new\n",
    "\n",
    "        iteration = iteration + 1\n",
    "    \n",
    "    \n",
    "    # Plotting convergence\n",
    "    \n",
    "    y_particles = f(x_particles)\n",
    "    y_particles_best_hist = np.min(y_particles, axis=0)\n",
    "    y_particles_worst_hist = np.max(y_particles, axis=0)\n",
    "\n",
    "    y_best_global = np.min(y_particles[:])\n",
    "    index_best_global = np.argmin(y_particles[:])\n",
    "    \n",
    "    \n",
    "    fig, ax1 = plt.subplots(nrows=1, ncols=1, figsize=(10, 2))\n",
    "    \n",
    "\n",
    "    # Limits of the function being plotted   \n",
    "    ax1.plot((0,n_iterations),(np.min(y),np.min(y)), '--g', label=\"min$f(x)$\")\n",
    "    ax1.plot((0,n_iterations),(np.max(y),np.max(y)),'--r',  label=\"max$f(x)$\")\n",
    "    \n",
    "    # Convergence of the best particle and worst particle value\n",
    "    ax1.plot(np.arange(n_iterations),y_particles_best_hist,'b',  label=\"$p_{best}$\")\n",
    "    ax1.plot(np.arange(n_iterations),y_particles_worst_hist,'k', label=\"$p_{worst}$\")\n",
    "    \n",
    "    ax1.set_xlim((0,n_iterations))\n",
    "    \n",
    "    ax1.set_ylabel('$f(x)$')\n",
    "    ax1.set_xlabel('$i$ (iteration)')\n",
    "    ax1.set_title('Convergence')   \n",
    "    \n",
    "    ax1.legend()\n",
    "    \n",
    "    return "
   ]
  },
  {
   "cell_type": "code",
   "execution_count": null,
   "metadata": {
    "collapsed": false
   },
   "outputs": [],
   "source": [
    "run_PSO()"
   ]
  },
  {
   "cell_type": "markdown",
   "metadata": {},
   "source": [
    "# Animation"
   ]
  },
  {
   "cell_type": "code",
   "execution_count": null,
   "metadata": {
    "collapsed": true
   },
   "outputs": [],
   "source": [
    "from __future__ import print_function\n",
    "import ipywidgets as widgets\n",
    "from IPython.display import display, HTML"
   ]
  },
  {
   "cell_type": "code",
   "execution_count": null,
   "metadata": {
    "collapsed": false
   },
   "outputs": [],
   "source": [
    "def plotPSO(i=0): #iteration\n",
    "    \"\"\"Visualization of particles and obj. function\"\"\"\n",
    "    \n",
    "    \n",
    "    fig, ax1 = plt.subplots(nrows=1, ncols=1, figsize=(10, 3))\n",
    "    \n",
    "    ax1.plot(x,y)\n",
    "    \n",
    "    ax1.set_xlim((x_lo,x_up))\n",
    "    \n",
    "    ax1.set_ylabel('$f(x)$')\n",
    "    ax1.set_xlabel('$x$')\n",
    "    ax1.set_title('Function to be optimized')\n",
    "    \n",
    "    #from IPython.core.debugger import Tracer\n",
    "    #Tracer()() #this one triggers the debugger\n",
    "    \n",
    "    y_particles = f(x_particles)\n",
    "\n",
    "    ax1.plot(x_particles[:,i],y_particles[:,i], \"ro\")\n",
    "    ax1.quiver(x_particles[:,i],y_particles[:,i],u_particles[:,i],v_particles[:,i],\n",
    "              angles='xy', scale_units='xy', scale=1)\n",
    "    \n",
    "    n_particles, iterations =  x_particles.shape\n",
    "    tag_particles = range(n_particles)\n",
    "    \n",
    "    for j, txt in enumerate(tag_particles):\n",
    "        ax1.annotate(txt, (x_particles[j,i],y_particles[j,i]))\n",
    "        "
   ]
  },
  {
   "cell_type": "code",
   "execution_count": null,
   "metadata": {
    "collapsed": false
   },
   "outputs": [],
   "source": [
    "w_arg_PSO = widgets.interact_manual(run_PSO,\n",
    "                            n_particles=(2,50),\n",
    "                            omega=(0,1,0.001),\n",
    "                            phi_p=(0,1,0.001),\n",
    "                            phi_g=(0,1,0.001))"
   ]
  },
  {
   "cell_type": "code",
   "execution_count": null,
   "metadata": {
    "collapsed": false,
    "scrolled": false
   },
   "outputs": [],
   "source": [
    "w_viz_PSO = widgets.interact(plotPSO, i=(0,n_iterations-1))"
   ]
  },
  {
   "cell_type": "markdown",
   "metadata": {},
   "source": [
    "Note:\n",
    "<div class=\\\"alert alert-success\\\">\n",
    "As of ipywidgets 5.0, only static images of the widgets in this notebook will show on http://nbviewer.ipython.org. To view the live widgets and interact with them, you will need to download this notebook and run it with a Jupyter Notebook server.\n",
    "</div>"
   ]
  },
  {
   "cell_type": "code",
   "execution_count": null,
   "metadata": {
    "collapsed": true
   },
   "outputs": [],
   "source": [
    "# More examples in https://github.com/ipython/ipywidgets/tree/master/docs/source/examples"
   ]
  }
 ],
 "metadata": {
  "anaconda-cloud": {},
  "kernelspec": {
   "display_name": "Python 2",
   "language": "python",
   "name": "python2"
  },
  "language_info": {
   "codemirror_mode": {
    "name": "ipython",
    "version": 2
   },
   "file_extension": ".py",
   "mimetype": "text/x-python",
   "name": "python",
   "nbconvert_exporter": "python",
   "pygments_lexer": "ipython2",
   "version": "2.7.12"
  }
 },
 "nbformat": 4,
 "nbformat_minor": 0
}
