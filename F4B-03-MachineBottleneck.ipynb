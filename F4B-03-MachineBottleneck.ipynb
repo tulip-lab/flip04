{
 "cells": [
  {
   "cell_type": "markdown",
   "metadata": {},
   "source": [
    "# FLIP (04): Learning Theory (I)\n",
    "**(Module 03: Operation Research)**\n",
    "\n",
    "---\n",
    "- Materials in this module include resources collected from various open-source online repositories.\n",
    "- You are free to use, but NOT allowed to change or distribute this package.\n",
    "\n",
    "Prepared by and for \n",
    "**Student Members** |\n",
    "2006-2018 [TULIP Lab](http://www.tulip.org.au), Australia\n",
    "\n",
    "---"
   ]
  },
  {
   "cell_type": "markdown",
   "metadata": {},
   "source": [
    "# Machine Bottleneck"
   ]
  },
  {
   "cell_type": "markdown",
   "metadata": {},
   "source": [
    "This [IPython notebook](http://ipython.org/notebook.html) demonstrates the formulation and solution of ???? using GLPK/Mathprog."
   ]
  },
  {
   "cell_type": "markdown",
   "metadata": {},
   "source": [
    "### Initializations"
   ]
  },
  {
   "cell_type": "code",
   "execution_count": null,
   "metadata": {
    "collapsed": false
   },
   "outputs": [],
   "source": [
    "from IPython.core.display import HTML\n",
    "HTML(open(\"styles/custom.css\", \"r\").read())"
   ]
  },
  {
   "cell_type": "markdown",
   "metadata": {},
   "source": [
    "## Background"
   ]
  },
  {
   "cell_type": "markdown",
   "metadata": {},
   "source": [
    "<p>\n",
    "    The task is to schedule a set of jobs on a single machine given\n",
    "    the release time, duration, and due time for each job.\n",
    "</p>\n"
   ]
  },
  {
   "cell_type": "markdown",
   "metadata": {},
   "source": [
    "## MathProg Model"
   ]
  },
  {
   "cell_type": "markdown",
   "metadata": {},
   "source": [
    "The model uses a 'Big M' implementation of disjunctive constraints to avoid conflicts for a single machine.  Big M should be larger than the longest time horizon for the completion of all jobs. A bound on the longest horizon is the maximum release plus the sum of durations for all jobs."
   ]
  },
  {
   "cell_type": "code",
   "execution_count": null,
   "metadata": {
    "collapsed": false
   },
   "outputs": [],
   "source": [
    "%%writefile Bottleneck.mod\n",
    "\n",
    "/* Machine Bottleneck Example */\n",
    "\n",
    "set JOBS;\n",
    "\n",
    "param rel{JOBS} default 0;   # Time a job is available to the machine\n",
    "param dur{JOBS};             # Job duration\n",
    "param due{JOBS};             # Job due time\n",
    "\n",
    "/* Data Checks */\n",
    "check {k in JOBS}: rel[k] + dur[k] <= due[k];\n",
    "\n",
    "/* The model uses a 'Big M' implementation of disjunctive constraints\n",
    "to avoid conflicts for a single machine.  Big M should be larger than\n",
    "the longest time horizon for the completion of all jobs. A bound\n",
    "on the longest horizon is the maximum release plus the sum of\n",
    "durations for all jobs. */\n",
    "\n",
    "param BigM := (max {k in JOBS} rel[k] ) + sum{k in JOBS} dur[k];\n",
    "\n",
    "/* Decision variables are the start times for each job, and a\n",
    "disjunctive variable y[j,k] which is 1 if job j precedes job k on\n",
    "the machine. */\n",
    "\n",
    "var start{JOBS} >= 0;\n",
    "var pastdue{JOBS} >= 0;\n",
    "var y{JOBS,JOBS} binary;\n",
    "\n",
    "/* There are many possible objectives, including total pastdue, maximum\n",
    "pastdue (i.e., tardiness), number of jobs pastdue.  */\n",
    "\n",
    "minimize OBJ : sum {k in JOBS} pastdue[k];\n",
    "\n",
    "/* Order Constraints */\n",
    "\n",
    "s.t. START {k in JOBS}: start[k] >= rel[k];\n",
    "s.t. FINIS {k in JOBS}: start[k] + dur[k] <= due[k] + pastdue[k];\n",
    "\n",
    "/* Machine Conflict Constraints */\n",
    "\n",
    "s.t. DA {j in JOBS, k in JOBS : j < k}:\n",
    "   start[j] + dur[j] <= start[k] + BigM*(1-y[j,k]);\n",
    "s.t. DB {j in JOBS, k in JOBS : j < k}:\n",
    "   start[k] + dur[k] <= start[j] + BigM*y[j,k];\n",
    "\n",
    "solve;\n",
    "\n",
    "/* Create Tables */\n",
    "\n",
    "table tout {k in JOBS} OUT \"CSV\" \"Schedule.csv\" \"table\":\n",
    "    k~Job, rel[k]~Release, start[k]~Start, start[k]+dur[k]~Finish, due[k]~Due;\n",
    "\n",
    "/* Print Report */\n",
    "\n",
    "printf \" Task     Rel     Dur     Due   Start  Finish Pastdue\\n\";\n",
    "printf {k in JOBS} \"%5s %7g %7g %7g %7g %7g %7g\\n\",\n",
    "   k,rel[k],dur[k],due[k],start[k],start[k]+dur[k],pastdue[k];\n",
    "\n",
    "end;"
   ]
  },
  {
   "cell_type": "markdown",
   "metadata": {},
   "source": [
    "## Example"
   ]
  },
  {
   "cell_type": "markdown",
   "metadata": {},
   "source": [
    "Machine Bottleneck Example from Christelle Gueret, Christian Prins,\n",
    "Marc Sevaux, \"Applications of Optimization with Xpress-MP,\" Chapter 5,\n",
    "Dash Optimization, 2000."
   ]
  },
  {
   "cell_type": "code",
   "execution_count": null,
   "metadata": {
    "collapsed": false
   },
   "outputs": [],
   "source": [
    "%%script glpsol -m Bottleneck.mod -d /dev/stdin -y results.txt --out output\n",
    "\n",
    "param: JOBS : rel   dur   due :=\n",
    "         A      2     5    10\n",
    "         B      5     6    21\n",
    "         C      4     8    15\n",
    "         D      0     4    10\n",
    "         E      0     2     5\n",
    "         F      8     3    15\n",
    "         G      9     2    22 ;\n",
    "\n",
    "end;"
   ]
  },
  {
   "cell_type": "code",
   "execution_count": null,
   "metadata": {
    "collapsed": false
   },
   "outputs": [],
   "source": [
    "print(open('results.txt').read())"
   ]
  },
  {
   "cell_type": "code",
   "execution_count": null,
   "metadata": {
    "collapsed": false
   },
   "outputs": [],
   "source": [
    "import pandas\n",
    "\n",
    "pandas.read_csv(\"Schedule.csv\")"
   ]
  },
  {
   "cell_type": "code",
   "execution_count": null,
   "metadata": {
    "collapsed": false
   },
   "outputs": [],
   "source": []
  }
 ],
 "metadata": {
  "anaconda-cloud": {},
  "kernelspec": {
   "display_name": "Python 2",
   "language": "python",
   "name": "python2"
  },
  "language_info": {
   "codemirror_mode": {
    "name": "ipython",
    "version": 2
   },
   "file_extension": ".py",
   "mimetype": "text/x-python",
   "name": "python",
   "nbconvert_exporter": "python",
   "pygments_lexer": "ipython2",
   "version": "2.7.12"
  }
 },
 "nbformat": 4,
 "nbformat_minor": 0
}
