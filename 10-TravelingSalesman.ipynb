{
 "cells": [
  {
   "cell_type": "markdown",
   "metadata": {},
   "source": [
    "# FLIP (02) Optimization Data Science\n",
    "\n",
    "---\n",
    "Team Director: Meng Ren | mren@tulip.academy<br />\n",
    "\n",
    "TULIP Academy <br />\n",
    "http://www.tulip.academy \n",
    "\n",
    "---"
   ]
  },
  {
   "cell_type": "markdown",
   "metadata": {},
   "source": [
    "## Traveling as a Salesman\n",
    "\n",
    "The Traveling Salesman Problem [(TSP)](https://en.wikipedia.org/wiki/Travelling_salesman_problem) is a famous and very well studied problem in mathematics, computer science, and operations research. The problem is follows:\n",
    "\n",
    "Biff Koman is a salesman tasked to visit several sites and he wants to visit them in the best order so as to minimize his total travel distance without backtracking. Biff is able to calculate the distance between any two sites but calculating the total distance of every possible route isn’t possible. The number of possible routes is huge! If there are $N$ sites to visit we have $N!$ many routes, or the permutations of the sites. Biff unfortunately doesn't know python or linear programming so he resorts to a plausible greedy approach: the next site to visit should be the one closest to whichever site he is currently in. This doesn't often work though, poor Biff.\n",
    "\n",
    "This problem belongs to a class of problems called [NP-Hard](https://en.wikipedia.org/wiki/NP-hardness) which sorta means we shouldn't expect to solve it in polynomial time without some clever approximations or heuristics. For a small number of sites, a good computer, and a strong solver, linear programming has a solution! Because TSP is a very well studied problem with tons of practical applications, for larger problems there are better solutions available and highly optimized software packages to help out. TSP also has many variants which we will explore later also."
   ]
  },
  {
   "cell_type": "code",
   "execution_count": 1,
   "metadata": {
    "collapsed": false
   },
   "outputs": [],
   "source": [
    "from pulp import *\n",
    "import numpy as np"
   ]
  },
  {
   "cell_type": "markdown",
   "metadata": {},
   "source": [
    "### 1. First lets make some fake data"
   ]
  },
  {
   "cell_type": "code",
   "execution_count": 2,
   "metadata": {
    "collapsed": true
   },
   "outputs": [],
   "source": [
    "#a handful of sites\n",
    "sites = ['org','A','B','C','D','E','F','G','H','I','J','K']"
   ]
  },
  {
   "cell_type": "code",
   "execution_count": 3,
   "metadata": {
    "collapsed": false
   },
   "outputs": [],
   "source": [
    "#non symetric distances\n",
    "distances = dict( ((a,b),np.random.randint(10,50)) for a in sites for b in sites if a!=b )"
   ]
  },
  {
   "cell_type": "markdown",
   "metadata": {},
   "source": [
    "### The model\n",
    "\n",
    "We are going to model this problem as an integer program. Lets imagine we have a tour through our sites, and site i is in the tour followed by site j. We can model this with a binary variable $x_{i,j}$ that should be 1 only when site i is connected to site j.\n",
    "\n",
    "$$x_{i,j} = \\begin{cases}\n",
    "    1, & \\text{if site i comes exactly before j in the tour} \\\\\n",
    "    0, & \\text{otherwise}\n",
    "\\end{cases}\n",
    "$$\n",
    "Where this holds for all i,j combinations except where i = j.\n",
    "\n",
    "Each site is visited exactly once, so that means if we fix j and look at all the $x_{i,j}$, then these represent the connections <b>into</b> that site j so only one of those can be 1. We can express this equivalently by requiring that the sum of those $x_{i,j}$ equal 1 for each fixed j. i.e.,\n",
    "\n",
    "$$\\sum_{i \\neq j} x_{i,j} = 1 \\space \\forall j$$\n",
    "\n",
    "Alternatively, there should be one and only one way of exiting a site, so we have also\n",
    "\n",
    "$$\\sum_{j \\neq i} x_{i,j} = 1 \\space \\forall i$$\n",
    "\n",
    "So we have our variables, what should the objective be?\n",
    "\n",
    "Our objective is the total tour distance:\n",
    "\n",
    "$$\\sum_{i,j \\space i \\neq j} x_{i,j} Distance(i,j)$$\n",
    "\n",
    "This is a lot of variables! If we have $N$ sites then we are creating $N^2 -N$ many binary variables and in general the more integer variables you have the harder the problem gets, often exponentially harder.\n"
   ]
  },
  {
   "cell_type": "code",
   "execution_count": 4,
   "metadata": {
    "collapsed": true
   },
   "outputs": [],
   "source": [
    "#create the problme\n",
    "prob=LpProblem(\"salesman\",LpMinimize)"
   ]
  },
  {
   "cell_type": "code",
   "execution_count": 5,
   "metadata": {
    "collapsed": true
   },
   "outputs": [],
   "source": [
    "#indicator variable if site i is connected to site j in the tour\n",
    "x = LpVariable.dicts('x',distances, 0,1,LpBinary)"
   ]
  },
  {
   "cell_type": "code",
   "execution_count": 6,
   "metadata": {
    "collapsed": false
   },
   "outputs": [],
   "source": [
    "#the objective\n",
    "cost = lpSum([x[(i,j)]*distances[(i,j)] for (i,j) in distances])\n",
    "prob+=cost"
   ]
  },
  {
   "cell_type": "code",
   "execution_count": 7,
   "metadata": {
    "collapsed": true
   },
   "outputs": [],
   "source": [
    "#constraints\n",
    "for k in sites:\n",
    "    #every site has exactly one inbound connection\n",
    "    prob+= lpSum([ x[(i,k)] for i in sites if (i,k) in x]) ==1\n",
    "    #every site has exactly one outbound connection\n",
    "    prob+=lpSum([ x[(k,i)] for i in sites if (k,i) in x]) ==1"
   ]
  },
  {
   "cell_type": "markdown",
   "metadata": {},
   "source": [
    "#### Subtours and why we need way more constraints\n",
    "\n",
    "There is still something missing in our solution. Lets imagine we have 6 sites A,B,C,D,E,F. Does the following satisfy our existing constraints?\n",
    "\n",
    "$$A->B->C->A \\\\ and \\\\ D->E->F->D$$\n",
    "\n",
    "Each site is visited only once and has only one inbound and one outbound connection, so yes, it does. The problem is what is known as a subtour. We need to require that all of our sites are on the same tour! A common brute force way of doing this is to require that every possible subset be connected, but this requires an exponential amount of constraints because of the way the number of subsets grows. Instead we will introduce a new $N$ many dummy variables $u_{i}$ which will track the order at which site i is visited.\n",
    "\n",
    "$$u_{i} :  \\text{order site i is visited}$$\n",
    "\n",
    "Consider what $u_{i}-u_{j}$ should be. It should depend on what $x_{i,j}$ is. If they are connected the delta should be exactly -1. If they are not connected it could be anything up to N-1 cause the tour only has N-1 steps.\n",
    "\n",
    "$$u_{i}-u_{j} \\leq  N(1-x_{i,j}) - 1$$\n",
    "\n",
    "We need to add this for every site connection possible except for the site we start off at. We are adding on the order of $N^2$ many more constraints."
   ]
  },
  {
   "cell_type": "code",
   "execution_count": 8,
   "metadata": {
    "collapsed": true
   },
   "outputs": [],
   "source": [
    "#we need to keep track of the order in the tour to eliminate the possibility of subtours\n",
    "u = LpVariable.dicts('u', sites, 0, len(sites)-1, LpInteger)"
   ]
  },
  {
   "cell_type": "code",
   "execution_count": 9,
   "metadata": {
    "collapsed": false
   },
   "outputs": [],
   "source": [
    "#subtour elimination\n",
    "N=len(sites)\n",
    "for i in sites:\n",
    "    for j in sites:\n",
    "        if i != j and (i != 'org' and j!= 'org') and (i,j) in x:\n",
    "            prob += u[i] - u[j] <= (N)*(1-x[(i,j)]) - 1"
   ]
  },
  {
   "cell_type": "code",
   "execution_count": 10,
   "metadata": {
    "collapsed": false
   },
   "outputs": [
    {
     "name": "stdout",
     "output_type": "stream",
     "text": [
      "CPU times: user 10.4 ms, sys: 6.05 ms, total: 16.4 ms\n",
      "Wall time: 246 ms\n",
      "Optimal\n"
     ]
    }
   ],
   "source": [
    "%time prob.solve()\n",
    "print(LpStatus[prob.status])"
   ]
  },
  {
   "cell_type": "markdown",
   "metadata": {},
   "source": [
    "And the result:"
   ]
  },
  {
   "cell_type": "code",
   "execution_count": 11,
   "metadata": {
    "collapsed": false
   },
   "outputs": [
    {
     "name": "stdout",
     "output_type": "stream",
     "text": [
      "Found optimal tour!\n",
      "org -> E -> B -> H -> I -> J -> D -> G -> K -> A -> F -> C -> org\n"
     ]
    }
   ],
   "source": [
    "sites_left = sites.copy()\n",
    "org = 'org'\n",
    "tour=[]\n",
    "tour.append(sites_left.pop( sites_left.index(org)))\n",
    "\n",
    "while len(sites_left) > 0:\n",
    "    \n",
    "    for k in sites_left:\n",
    "        if x[(org,k)].varValue ==1:\n",
    "            tour.append( sites_left.pop( sites_left.index(k)))\n",
    "            org=k\n",
    "            break\n",
    "            \n",
    "tour.append('org')\n",
    "\n",
    "tour_legs = [distances[(tour[i-1], tour[i])] for i in range(1,len(tour))]\n",
    "\n",
    "print('Found optimal tour!')\n",
    "print(' -> '.join(tour))"
   ]
  },
  {
   "cell_type": "markdown",
   "metadata": {},
   "source": [
    "The total tour length:"
   ]
  },
  {
   "cell_type": "code",
   "execution_count": 12,
   "metadata": {
    "collapsed": false
   },
   "outputs": [
    {
     "data": {
      "text/plain": [
       "181"
      ]
     },
     "execution_count": 12,
     "metadata": {},
     "output_type": "execute_result"
    }
   ],
   "source": [
    "sum(tour_legs)"
   ]
  },
  {
   "cell_type": "code",
   "execution_count": null,
   "metadata": {
    "collapsed": true
   },
   "outputs": [],
   "source": []
  }
 ],
 "metadata": {
  "anaconda-cloud": {},
  "kernelspec": {
   "display_name": "Python [Root]",
   "language": "python",
   "name": "Python [Root]"
  },
  "language_info": {
   "codemirror_mode": {
    "name": "ipython",
    "version": 3
   },
   "file_extension": ".py",
   "mimetype": "text/x-python",
   "name": "python",
   "nbconvert_exporter": "python",
   "pygments_lexer": "ipython3",
   "version": "3.5.2"
  }
 },
 "nbformat": 4,
 "nbformat_minor": 1
}
