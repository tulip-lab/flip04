{
 "cells": [
  {
   "cell_type": "markdown",
   "metadata": {},
   "source": [
    "# FLIP (04): Learning Theory (I)\n",
    "**(Module 03: Operation Research)**\n",
    "\n",
    "---\n",
    "- Materials in this module include resources collected from various open-source online repositories.\n",
    "- You are free to use, but NOT allowed to change or distribute this package.\n",
    "\n",
    "Prepared by and for \n",
    "**Student Members** |\n",
    "2006-2018 [TULIP Lab](http://www.tulip.org.au), Australia\n",
    "\n",
    "---"
   ]
  },
  {
   "cell_type": "markdown",
   "metadata": {},
   "source": [
    "# Optimal Mixture and Blending Problems"
   ]
  },
  {
   "cell_type": "markdown",
   "metadata": {},
   "source": [
    "This [IPython notebook](http://ipython.org/notebook.html) demonstrates the development of models to solve optimal blending and mixture problems using GLPK/MathProg."
   ]
  },
  {
   "cell_type": "markdown",
   "metadata": {},
   "source": [
    "### Initializations"
   ]
  },
  {
   "cell_type": "code",
   "execution_count": null,
   "metadata": {
    "collapsed": false
   },
   "outputs": [],
   "source": [
    "from IPython.core.display import HTML\n",
    "HTML(open(\"styles/custom.css\", \"r\").read())"
   ]
  },
  {
   "cell_type": "markdown",
   "metadata": {},
   "source": [
    "## Background"
   ]
  },
  {
   "cell_type": "markdown",
   "metadata": {},
   "source": [
    "Mixture and blending problems are among the most commonly encountered optimization problems in real world applications. The basic problem is to determine a blend (mixture) of components maximizing subject to constraints on the blend. Examples include diet, product blending, financial portfolios, and many, many others.\n",
    "\n",
    "This notebook uses a the diet problem from [Chapter 2 of the AMPL book](http://www.ampl.com/BOOK/download.html) to demonstrate the formulation and solution of blending problems in MathProg. The problem is solved several times in order to demonstrate features of MathProg useful in constructing models that can be reused for other data sets, and extended to much larger applications."
   ]
  },
  {
   "cell_type": "markdown",
   "metadata": {},
   "source": [
    "## Diet Problem"
   ]
  },
  {
   "cell_type": "markdown",
   "metadata": {},
   "source": [
    "We'll begin by reviewing data for  The data is organized as three [pandas DataFrames](http://pandas.pydata.org/) (some information on DataFrames is [here](http://pandas.pydata.org/pandas-docs/dev/dsintro.html) and [here](http://pandas.pydata.org/pandas-docs/dev/10min.html?highlight=panels)). For larger scale problems, this data  would be extracted from spreadsheets or databases."
   ]
  },
  {
   "cell_type": "markdown",
   "metadata": {},
   "source": [
    "### Weekly Nutrition Requirements"
   ]
  },
  {
   "cell_type": "markdown",
   "metadata": {},
   "source": [
    "The first data set contains lower and upper bounds on weekly nutrition expressed a percentage of the recommended minimum daily requirements."
   ]
  },
  {
   "cell_type": "code",
   "execution_count": null,
   "metadata": {
    "collapsed": false
   },
   "outputs": [],
   "source": [
    "import pandas as pd\n",
    "\n",
    "req = {\n",
    "    'A' : [700, 10000],\n",
    "    'C' : [700, 10000],\n",
    "    'B1': [700, 10000],\n",
    "    'B2': [700, 10000]}\n",
    "\n",
    "display(pd.DataFrame(req.values(), index = req.keys(), columns = ['n_min', 'n_max']))"
   ]
  },
  {
   "cell_type": "markdown",
   "metadata": {},
   "source": [
    "### Nutrition Data"
   ]
  },
  {
   "cell_type": "markdown",
   "metadata": {},
   "source": [
    "The second data set includes 'label data' from some typical package goods."
   ]
  },
  {
   "cell_type": "code",
   "execution_count": null,
   "metadata": {
    "collapsed": false
   },
   "outputs": [],
   "source": [
    "nutr = {\n",
    "    'BEF' : {'A': 60, 'C': 20, 'B1': 10, 'B2': 15},\n",
    "    'CHK' : {'A':  8, 'C':  0, 'B1': 20, 'B2': 20},\n",
    "    'FSH' : {'A':  8, 'C': 10, 'B1': 15, 'B2': 10},\n",
    "    'HAM' : {'A': 40, 'C': 40, 'B1': 35, 'B2': 10},\n",
    "    'MCH' : {'A': 15, 'C': 35, 'B1': 15, 'B2': 15},\n",
    "    'MTL' : {'A': 70, 'C': 30, 'B1': 15, 'B2': 15},\n",
    "    'SPG' : {'A': 25, 'C': 50, 'B1': 25, 'B2': 15},\n",
    "    'TUR' : {'A': 60, 'C': 20, 'B1': 15, 'B2': 10}}\n",
    "\n",
    "display(pd.DataFrame.from_dict(nutr).transpose())"
   ]
  },
  {
   "cell_type": "markdown",
   "metadata": {},
   "source": [
    "### Price Data"
   ]
  },
  {
   "cell_type": "markdown",
   "metadata": {},
   "source": [
    "The third data set provides price information for the packaged foods."
   ]
  },
  {
   "cell_type": "code",
   "execution_count": null,
   "metadata": {
    "collapsed": false
   },
   "outputs": [],
   "source": [
    "price ={'BEF' : ['Beef', 3.19],\n",
    "        'CHK' : ['Chicken', 2.59],\n",
    "        'FSH' : ['Fish', 2.29],\n",
    "        'HAM' : ['Ham', 2.89],\n",
    "        'MCH' : ['Macaroni & Cheese', 1.89],\n",
    "        'MTL' : ['Meat Loaf', 1.99],\n",
    "        'SPG' : ['Spaghetti', 1.99],\n",
    "        'TUR' : ['Turkey', 2.49]}\n",
    "\n",
    "display(pd.DataFrame(price.values(), index = price.keys(), columns = ['food','price']))"
   ]
  },
  {
   "cell_type": "markdown",
   "metadata": {},
   "source": [
    "### Problem Statement"
   ]
  },
  {
   "cell_type": "markdown",
   "metadata": {},
   "source": [
    "Determine a shopping list that meets the nutrition requirements for minimum cost."
   ]
  },
  {
   "cell_type": "markdown",
   "metadata": {},
   "source": [
    "## A Basic Model"
   ]
  },
  {
   "cell_type": "markdown",
   "metadata": {},
   "source": [
    "This first attempt at a model for the diet problem will encode the basic elements of the problem. We'll include a decision variable for each type of packaged good, and explicitly write out the objective function, and each of the nutrition requirements.\n",
    "\n",
    "The following cell uses the `script` cell magic to run the MathProg model with the `glpsol` command line. This requires that you [install the `glpk` package](http://en.wikibooks.org/wiki/GLPK/Obtaining_GLPK) on the machine used to execute this notebook."
   ]
  },
  {
   "cell_type": "code",
   "execution_count": null,
   "metadata": {
    "collapsed": false
   },
   "outputs": [],
   "source": [
    "%%script glpsol -m /dev/stdin -o /dev/stdout\n",
    "\n",
    "var xBEF >= 0; \n",
    "var xCHK >= 0; \n",
    "var xFSH >= 0;\n",
    "var xHAM >= 0; \n",
    "var xMCH >= 0; \n",
    "var xMTL >= 0;\n",
    "var xSPG >= 0; \n",
    "var xTUR >= 0;\n",
    "\n",
    "minimize Total_Cost:\n",
    "    3.19*xBEF + 2.59*xCHK + 2.29*xFSH + 2.89*xHAM \n",
    "  + 1.89*xMCH + 1.99*xMTL + 1.99*xSPG + 2.49*xTUR;\n",
    "    \n",
    "subject to A:\n",
    "    700 <= 60*xBEF +  8*xCHK +  8*xFSH + 40*xHAM \n",
    "         + 15*xMCH + 70*xMTL + 25*xSPG + 60*xTUR <= 10000;\n",
    "    \n",
    "subject to C:\n",
    "    700 <= 20*xBEF +  0*xCHK + 10*xFSH + 40*xHAM\n",
    "         + 35*xMCH + 30*xMTL + 50*xSPG + 20*xTUR <= 10000;\n",
    "    \n",
    "subject to B1:\n",
    "    700 <= 10*xBEF + 20*xCHK + 15*xFSH + 35*xHAM\n",
    "         + 15*xMCH + 15*xMTL + 25*xSPG + 15*xTUR <= 10000;\n",
    "    \n",
    "subject to B2:\n",
    "    700 <= 15*xBEF + 20*xCHK + 10*xFSH + 10*xHAM\n",
    "         + 15*xMCH + 15*xMTL + 15*xSPG + 10*xTUR <= 10000;\n",
    "\n",
    "end;"
   ]
  },
  {
   "cell_type": "markdown",
   "metadata": {},
   "source": [
    "The previous cell used a 'cell magic' to run the model, with the results placed into a file `output.txt`. This next cell uses standard python commands to read and display the output file."
   ]
  },
  {
   "cell_type": "markdown",
   "metadata": {},
   "source": [
    "### Questions"
   ]
  },
  {
   "cell_type": "markdown",
   "metadata": {},
   "source": [
    "* What is the total cost of   What are we eating, and how much does it cost?\n",
    "* Is this a realistic solution? How would like to modify the problem?\n",
    "* What do the shadow costs (also called marginal costs, or sensitivities) mean?\n",
    "* Can we apply this same model to other data sets?"
   ]
  },
  {
   "cell_type": "markdown",
   "metadata": {},
   "source": [
    "## Extending the Model"
   ]
  },
  {
   "cell_type": "markdown",
   "metadata": {},
   "source": [
    "### Introducing MathProg Sets"
   ]
  },
  {
   "cell_type": "markdown",
   "metadata": {},
   "source": [
    "In this second version we introduce a set to represent all types of packaged foods. The use of a set allows us to declare all of the decision variables in one line. The decision variables now have subscripts associated with members from the set of foods."
   ]
  },
  {
   "cell_type": "code",
   "execution_count": null,
   "metadata": {
    "collapsed": false
   },
   "outputs": [],
   "source": [
    "%%script glpsol -m /dev/stdin -o /dev/stdout --out output\n",
    "\n",
    "set FOODS := {'BEF','CHK','FSH','HAM','MCH','MTL','SPG','TUR'};\n",
    "\n",
    "var x{FOODS} >= 0;\n",
    "\n",
    "minimize Total_Cost:\n",
    "    3.19*x['BEF'] + 2.59*x['CHK'] + 2.29*x['FSH'] + 2.89*x['HAM'] \n",
    "  + 1.89*x['MCH'] + 1.99*x['MTL'] + 1.99*x['SPG'] + 2.49*x['TUR'];\n",
    "    \n",
    "subject to A:\n",
    "    700 <= 60*x['BEF'] +  8*x['CHK'] +  8*x['FSH'] + 40*x['HAM']\n",
    "         + 15*x['MCH'] + 70*x['MTL'] + 25*x['SPG'] + 60*x['TUR'] <= 10000;\n",
    "    \n",
    "subject to C:\n",
    "    700 <= 20*x['BEF'] +  0*x['CHK'] + 10*x['FSH'] + 40*x['HAM']\n",
    "         + 35*x['MCH'] + 30*x['MTL'] + 50*x['SPG'] + 20*x['TUR'] <= 10000;\n",
    "    \n",
    "subject to B1:\n",
    "    700 <= 10*x['BEF'] + 20*x['CHK'] + 15*x['FSH'] + 35*x['HAM']\n",
    "         + 15*x['MCH'] + 15*x['MTL'] + 25*x['SPG'] + 15*x['TUR'] <= 10000;\n",
    "    \n",
    "subject to B2:\n",
    "    700 <= 15*x['BEF'] + 20*x['CHK'] + 10*x['FSH'] + 10*x['HAM']\n",
    "         + 15*x['MCH'] + 15*x['MTL'] + 15*x['SPG'] + 10*x['TUR'] <= 10000;\n",
    "\n",
    "end;"
   ]
  },
  {
   "cell_type": "markdown",
   "metadata": {},
   "source": [
    "### Adding a Data Section"
   ]
  },
  {
   "cell_type": "markdown",
   "metadata": {},
   "source": [
    "Next we introduce a set for the nutrients. Much of the problem data can be indexed by memebers of the set of nutrients, and this data is defined in the data section. "
   ]
  },
  {
   "cell_type": "code",
   "execution_count": null,
   "metadata": {
    "collapsed": false
   },
   "outputs": [],
   "source": [
    "%%script glpsol -m /dev/stdin -o /dev/stdout --out output\n",
    "\n",
    "set FOODS;\n",
    "set NUTRS;\n",
    "\n",
    "param price{FOODS} >= 0;\n",
    "param n_min{NUTRS} >= 0;\n",
    "param n_max{NUTRS} >= 0;\n",
    "\n",
    "var x{FOODS} >= 0;\n",
    "\n",
    "minimize Total_Cost: sum {f in FOODS} price[f]*x[f];\n",
    "    \n",
    "subject to A:\n",
    "    n_min['A'] <= 60*x['BEF'] +  8*x['CHK'] +  8*x['FSH'] + 40*x['HAM']\n",
    "                + 15*x['MCH'] + 70*x['MTL'] + 25*x['SPG'] + 60*x['TUR'] <= n_max['A'];\n",
    "    \n",
    "subject to C:\n",
    "    n_min['C'] <= 20*x['BEF'] +  0*x['CHK'] + 10*x['FSH'] + 40*x['HAM']\n",
    "                + 35*x['MCH'] + 30*x['MTL'] + 50*x['SPG'] + 20*x['TUR'] <= n_max['C'];\n",
    "    \n",
    "subject to B1:\n",
    "    n_min['B1'] <= 10*x['BEF'] + 20*x['CHK'] + 15*x['FSH'] + 35*x['HAM']\n",
    "                 + 15*x['MCH'] + 15*x['MTL'] + 25*x['SPG'] + 15*x['TUR'] <= n_max['B1'];\n",
    "    \n",
    "subject to B2:\n",
    "    n_min['B2'] <= 15*x['BEF'] + 20*x['CHK'] + 10*x['FSH'] + 10*x['HAM']\n",
    "                 + 15*x['MCH'] + 15*x['MTL'] + 15*x['SPG'] + 10*x['TUR'] <= n_max['B2'];\n",
    "        \n",
    "data;\n",
    "\n",
    "param : FOODS : price :=\n",
    "    BEF  3.19\n",
    "    CHK  2.59\n",
    "    FSH  2.29\n",
    "    HAM  2.89\n",
    "    MCH  1.89\n",
    "    MTL  1.99\n",
    "    SPG  1.99\n",
    "    TUR  2.49;\n",
    "\n",
    "param : NUTRS : n_min n_max :=\n",
    "    A    700   10000\n",
    "    C    700   10000\n",
    "    B1   700   10000\n",
    "    B2   700   10000;\n",
    "    \n",
    "end;"
   ]
  },
  {
   "cell_type": "markdown",
   "metadata": {},
   "source": [
    "### Factoring the Model and Data"
   ]
  },
  {
   "cell_type": "markdown",
   "metadata": {},
   "source": [
    "The factoring of the problem into separate model and data sections is completed by introducing a two dimensional data set for the nutrient content of the packaged foods. The parameter data is placed in the data section, and the model constraints written in terms of the indexed parameters."
   ]
  },
  {
   "cell_type": "code",
   "execution_count": null,
   "metadata": {
    "collapsed": false
   },
   "outputs": [],
   "source": [
    "%%script glpsol -m /dev/stdin -o /dev/stdout --out output\n",
    "\n",
    "set FOODS;\n",
    "set NUTRS;\n",
    "\n",
    "param price{FOODS} >= 0;\n",
    "param n_min{NUTRS} >= 0;\n",
    "param n_max{NUTRS} >= 0;\n",
    "param a{FOODS,NUTRS} >= 0;\n",
    "\n",
    "var x{FOODS} >= 0;\n",
    "\n",
    "minimize Total_Cost: sum {f in FOODS} price[f]*x[f];\n",
    "\n",
    "subject to n_req {n in NUTRS}:\n",
    "    n_min[n] <= sum {f in FOODS} a[f,n] * x[f] <= n_max[n];\n",
    "\n",
    "data;\n",
    "\n",
    "param : FOODS : price :=\n",
    "    BEF  3.19\n",
    "    CHK  2.59\n",
    "    FSH  2.29\n",
    "    HAM  2.89\n",
    "    MCH  1.89\n",
    "    MTL  1.99\n",
    "    SPG  1.99\n",
    "    TUR  2.49;\n",
    "\n",
    "param : NUTRS : n_min n_max :=\n",
    "    A    700   10000\n",
    "    C    700   10000\n",
    "    B1   700   10000\n",
    "    B2   700   10000;\n",
    "\n",
    "param a :  A   C  B1  B2 :=\n",
    "    BEF   60  20  10  15\n",
    "    CHK    8   0  20  20\n",
    "    FSH    8  10  15  10\n",
    "    HAM   40  40  35  10\n",
    "    MCH   15  35  15  15\n",
    "    MTL   70  30  15  15\n",
    "    SPG   25  50  25  15\n",
    "    TUR   60  20  15  10;\n",
    "    \n",
    "end;"
   ]
  },
  {
   "cell_type": "markdown",
   "metadata": {},
   "source": [
    "### Post-Processing Results"
   ]
  },
  {
   "cell_type": "markdown",
   "metadata": {},
   "source": [
    "The output from glpk/MathProg can be enchanced by adding `printf` statements for selected data, or `table` statements for access to structured data indexed by sets."
   ]
  },
  {
   "cell_type": "code",
   "execution_count": null,
   "metadata": {
    "collapsed": false
   },
   "outputs": [],
   "source": [
    "%%script glpsol -m /dev/stdin -o output.txt -y display.txt --out output\n",
    "\n",
    "set FOODS;\n",
    "set NUTRS;\n",
    "\n",
    "param price{FOODS} >= 0;\n",
    "param x_min{FOODS} >= 0;\n",
    "param x_max{FOODS} >= 0;\n",
    "\n",
    "param n_min{NUTRS} >= 0;\n",
    "param n_max{NUTRS} >= 0;\n",
    "\n",
    "param a{FOODS,NUTRS} >= 0;\n",
    "\n",
    "var x{f in FOODS} >= 0;\n",
    "\n",
    "minimize Total_Cost: sum {f in FOODS} price[f]*x[f];\n",
    "\n",
    "subject to n_req {n in NUTRS}:\n",
    "    n_min[n] <= sum {f in FOODS} a[f,n] * x[f] <= n_max[n];\n",
    "\n",
    "solve;\n",
    "\n",
    "printf \"\\nMinimum Cost Diet = %6.2f $/week.\\n\\n\", Total_Cost;\n",
    "\n",
    "table results {f in FOODS} OUT \"CSV\" \"output.csv\" \"Table\":\n",
    "    f ~ Food,\n",
    "    x[f] ~ Quantity,\n",
    "    price[f] ~ Price;\n",
    "    \n",
    "data;\n",
    "\n",
    "param : FOODS : price :=\n",
    "    BEF  3.19\n",
    "    CHK  2.59\n",
    "    FSH  2.29\n",
    "    HAM  2.89\n",
    "    MCH  1.89\n",
    "    MTL  1.99\n",
    "    SPG  1.99\n",
    "    TUR  2.49;\n",
    "\n",
    "param : NUTRS : n_min n_max :=\n",
    "    A    700   10000\n",
    "    C    700   10000\n",
    "    B1   700   10000\n",
    "    B2   700   10000;\n",
    "\n",
    "param a :  A   C  B1  B2 :=\n",
    "    BEF   60  20  10  15\n",
    "    CHK    8   0  20  20\n",
    "    FSH    8  10  15  10\n",
    "    HAM   40  40  35  10\n",
    "    MCH   15  35  15  15\n",
    "    MTL   70  30  15  15\n",
    "    SPG   25  50  25  15\n",
    "    TUR   60  20  15  10;\n",
    "    \n",
    "end;"
   ]
  },
  {
   "cell_type": "code",
   "execution_count": null,
   "metadata": {
    "collapsed": false
   },
   "outputs": [],
   "source": [
    "print output"
   ]
  },
  {
   "cell_type": "code",
   "execution_count": null,
   "metadata": {
    "collapsed": false
   },
   "outputs": [],
   "source": [
    "print(open('output.txt').read())"
   ]
  },
  {
   "cell_type": "code",
   "execution_count": null,
   "metadata": {
    "collapsed": false
   },
   "outputs": [],
   "source": [
    "print(open('display.txt').read())"
   ]
  },
  {
   "cell_type": "code",
   "execution_count": null,
   "metadata": {
    "collapsed": false
   },
   "outputs": [],
   "source": [
    "import pandas\n",
    "df = pandas.read_csv('output.csv')\n",
    "display(df)\n",
    "df['Quantity'].plot(kind='bar').set_xticklabels(df['Food']);"
   ]
  },
  {
   "cell_type": "markdown",
   "metadata": {},
   "source": [
    "## Adding Problem Features"
   ]
  },
  {
   "cell_type": "markdown",
   "metadata": {},
   "source": [
    "The new model adds a number of additional features, including\n",
    "\n",
    "* Force diversification by imposing bounds on the minimum and maximum number of packages.\n",
    "* Constraining the solution to integer values"
   ]
  },
  {
   "cell_type": "code",
   "execution_count": null,
   "metadata": {
    "collapsed": false
   },
   "outputs": [],
   "source": [
    "%%script glpsol -m /dev/stdin -o display.txt --out output\n",
    "\n",
    "set FOODS;\n",
    "set NUTRS;\n",
    "\n",
    "param price{FOODS} >= 0;\n",
    "param x_min{FOODS} >= 0;\n",
    "param x_max{FOODS} >= 0;\n",
    "\n",
    "param n_min{NUTRS} >= 0;\n",
    "param n_max{NUTRS} >= 0;\n",
    "\n",
    "param a{FOODS,NUTRS} >= 0;\n",
    "\n",
    "var x{f in FOODS} integer >= x_min[f], <= x_max[f];\n",
    "\n",
    "minimize Total_Cost: sum {f in FOODS} price[f]*x[f];\n",
    "\n",
    "subject to n_req {n in NUTRS}:\n",
    "    n_min[n] <= sum {f in FOODS} a[f,n] * x[f] <= n_max[n];\n",
    "    \n",
    "solve;\n",
    "\n",
    "printf \"\\nMinimum Cost Diet = %6.2f $/week.\\n\\n\", Total_Cost;\n",
    "\n",
    "table results {f in FOODS} OUT \"CSV\" \"output.csv\" \"Table\":\n",
    "    f ~ Food,\n",
    "    x[f] ~ Quantity,\n",
    "    price[f] ~ Price;\n",
    "\n",
    "data;\n",
    "\n",
    "param : FOODS : price x_min x_max :=\n",
    "    BEF  3.19  2  30\n",
    "    CHK  2.59  2  30\n",
    "    FSH  2.29  2  30\n",
    "    HAM  2.89  2  30\n",
    "    MCH  1.89  2  30\n",
    "    MTL  1.99  2  30\n",
    "    SPG  1.99  2  30\n",
    "    TUR  2.49  2  30;\n",
    "\n",
    "param : NUTRS : n_min n_max :=\n",
    "    A     700   10000 \n",
    "    C     700   10000\n",
    "    B1    700   10000\n",
    "    B2    700   10000\n",
    "    NA      0   40000\n",
    "    CAL 16000   24000;\n",
    "\n",
    "param a :  A   C  B1  B2    NA  CAL :=\n",
    "    BEF   60  20  10  15   938  295\n",
    "    CHK    8   0  20  20  2180  770\n",
    "    FSH    8  10  15  10   945  440\n",
    "    HAM   40  40  35  10   278  430\n",
    "    MCH   15  35  15  15  1182  315\n",
    "    MTL   70  30  15  15   896  400\n",
    "    SPG   25  50  25  15  1329  370\n",
    "    TUR   60  20  15  10  1397  450;\n",
    "    \n",
    "end;"
   ]
  },
  {
   "cell_type": "code",
   "execution_count": null,
   "metadata": {
    "collapsed": false
   },
   "outputs": [],
   "source": [
    "print output"
   ]
  },
  {
   "cell_type": "code",
   "execution_count": null,
   "metadata": {
    "collapsed": false
   },
   "outputs": [],
   "source": [
    "print(open('display.txt').read())"
   ]
  },
  {
   "cell_type": "code",
   "execution_count": null,
   "metadata": {
    "collapsed": false
   },
   "outputs": [],
   "source": [
    "import pandas\n",
    "df = pandas.read_csv('output.csv')\n",
    "display(df)\n",
    "df['Quantity'].plot(kind='bar').set_xticklabels(df['Food']);"
   ]
  },
  {
   "cell_type": "markdown",
   "metadata": {},
   "source": [
    "## Exercises"
   ]
  },
  {
   "cell_type": "markdown",
   "metadata": {},
   "source": [
    "1. Lowering the upper limit on the number of packages that can be purchased will eventually lead to an infeasible solution. Deliberately modify the constraints so that you see this behavior, and learn how to identify these situations.\n",
    "\n",
    "2. Alter the table output to include the marginal values of the nutrient constraints. What nutrients have the highest marginal values?"
   ]
  },
  {
   "cell_type": "code",
   "execution_count": null,
   "metadata": {
    "collapsed": false
   },
   "outputs": [],
   "source": []
  }
 ],
 "metadata": {
  "anaconda-cloud": {},
  "kernelspec": {
   "display_name": "Python 2",
   "language": "python",
   "name": "python2"
  },
  "language_info": {
   "codemirror_mode": {
    "name": "ipython",
    "version": 2
   },
   "file_extension": ".py",
   "mimetype": "text/x-python",
   "name": "python",
   "nbconvert_exporter": "python",
   "pygments_lexer": "ipython2",
   "version": "2.7.12"
  }
 },
 "nbformat": 4,
 "nbformat_minor": 0
}
