{
 "cells": [
  {
   "cell_type": "markdown",
   "metadata": {},
   "source": [
    "# FLIP (02) Optimization Data Science\n",
    "\n",
    "---\n",
    "Team Director: Meng Ren | mren@tulip.academy<br />\n",
    "\n",
    "TULIP Academy <br />\n",
    "http://www.tulip.academy \n",
    "\n",
    "---"
   ]
  },
  {
   "cell_type": "markdown",
   "metadata": {},
   "source": [
    "Stability of Multistep Methods\n",
    "=============================="
   ]
  },
  {
   "cell_type": "code",
   "execution_count": 1,
   "metadata": {
    "collapsed": false
   },
   "outputs": [],
   "source": [
    "%matplotlib inline"
   ]
  },
  {
   "cell_type": "code",
   "execution_count": 2,
   "metadata": {
    "collapsed": false
   },
   "outputs": [],
   "source": [
    "import numpy as np\n",
    "import matplotlib\n",
    "import matplotlib.pyplot as plt\n",
    "from matplotlib import rcParams\n",
    "rcParams['font.family'] = 'serif'\n",
    "rcParams['font.size'] = 16\n",
    "rcParams['figure.figsize'] = (12,6)"
   ]
  },
  {
   "cell_type": "markdown",
   "metadata": {},
   "source": [
    "### Multistep Methods"
   ]
  },
  {
   "cell_type": "markdown",
   "metadata": {},
   "source": [
    "Looking at IVPs of the form\n",
    "\n",
    "$${\\boldsymbol{y}}'(x) = {\\boldsymbol{f}}(x, {\\boldsymbol{y}}(x)).$$\n",
    "\n",
    "Looked at the multistep methods using the $k$-step method formula\n",
    "\n",
    "$$a_k y_{n+1} + a_{k-1} y_n + \\dots + a_0 y_{n+1-k} = h \\left[ b_k f_{n+1} + b_{k-1} f_n + \\dots + b_0 f_{n+1-k} \\right];$$\n",
    "\n",
    "explicit when $b_k = 0$, implicit otherwise. All multistep methods need\n",
    "a different method to start.\n",
    "\n",
    "Under what circumstances do we get the right results?"
   ]
  },
  {
   "cell_type": "markdown",
   "metadata": {},
   "source": [
    "### Example"
   ]
  },
  {
   "cell_type": "markdown",
   "metadata": {},
   "source": [
    "Integrate\n",
    "\n",
    "$$y'(x) = -y, \\quad y(0) = 1$$\n",
    "\n",
    "with solution $y = \\exp(- y(0) x)$.\n",
    "\n",
    "Using Milne’s method the result diverges in an oscillatory fashion.\n",
    "\n",
    "Improve step size ($h = 0.01 \\rightarrow 0.001$) just delays the\n",
    "oscillations.\n",
    "\n",
    "Contrast with Adams-Bashforth 5, which is fine."
   ]
  },
  {
   "cell_type": "markdown",
   "metadata": {},
   "source": [
    "### Consistency"
   ]
  },
  {
   "cell_type": "markdown",
   "metadata": {},
   "source": [
    "*Consistency*: the numerical algorithm faithfully represents the\n",
    "differential equation.\n",
    "\n",
    "In other words, in the limit of infinite resolution, $h \\rightarrow\n",
    "  0$, the algorithm should match the differential equation.\n",
    "\n",
    "To prove consistency use the Taylor expansion of the algorithm. If the\n",
    "algorithm is consistent then the expansion at order $h^0 = 1$ should be\n",
    "the original differential equation.\n",
    "\n",
    "In practice inconsistent algorithms are useless and will not be seen."
   ]
  },
  {
   "cell_type": "markdown",
   "metadata": {},
   "source": [
    "### Stability"
   ]
  },
  {
   "cell_type": "markdown",
   "metadata": {},
   "source": [
    "*Stability*: the method gives bounded results over a finite interval.\n",
    "\n",
    "In other words, for *any* step size $h$ the iteration\n",
    "${\\boldsymbol{y}}_n$ at $x = X$ is *finite*.\n",
    "\n",
    "Note that we only apply stability criteria to problems where the exact\n",
    "solution is finite; the problem\n",
    "\n",
    "$$y' = \\frac{1}{(1-x)^2}$$\n",
    "\n",
    "with solution\n",
    "\n",
    "$$y(x) = \\frac{1}{1-x}$$\n",
    "\n",
    "cannot be considered on intervals including $x = 1$.\n",
    "\n",
    "Stability is not the only property of an algorithm that we want to show,\n",
    "but combined with consistency it does give us everything we need."
   ]
  },
  {
   "cell_type": "markdown",
   "metadata": {},
   "source": [
    "### Convergence"
   ]
  },
  {
   "cell_type": "markdown",
   "metadata": {},
   "source": [
    "If $y_e(x)$ is the exact solution to the IVP, and $y_h(x)$ the numerical\n",
    "solution computed with step size $h$, then a method is *convergent* if\n",
    "\n",
    "$$\\lim_{h \\rightarrow 0} y_h(x) = y_e(x).$$\n",
    "\n",
    "Convergence is what we want to require of any algorithm.\n",
    "\n",
    "Convergence is difficult to prove directly. Instead we rely on:\n",
    "\n",
    "**Theorem**: A multistep method is convergent if and only if it is consistent and\n",
    "stable."
   ]
  },
  {
   "cell_type": "markdown",
   "metadata": {},
   "source": [
    "### Polynomials for multistep methods"
   ]
  },
  {
   "cell_type": "markdown",
   "metadata": {},
   "source": [
    "From the $k$-step formula\n",
    "\n",
    "$$a_k y_{n+1} + a_{k-1} y_n + \\dots + a_0 y_{n+1-k} = h \\left[ b_k\n",
    "f_{n+1} + b_{k-1} f_n + \\dots + b_0 f_{n+1-k} \\right]$$\n",
    "\n",
    "for multistep methods, define two polynomials\n",
    "\n",
    "$$\\begin{aligned}\n",
    "p(z) & = a_k z^k + \\dots + a_1 z + a_0, \\\\\n",
    "q(z) & = b_k z^k + \\dots + b_1 z + b_0.\n",
    "\\end{aligned}$$\n",
    "\n",
    "$$\\begin{aligned}\n",
    "p(z) & = a_k z^k + \\dots + a_1 z + a_0, \\\\\n",
    "q(z) & = b_k z^k + \\dots + b_1 z + b_0.\n",
    "\\end{aligned}$$\n",
    "\n",
    "Evaluate the *stability* polynomial $p$ and its derivative $p'(z)$ at\n",
    "$z=1$:\n",
    "\n",
    "$$\\begin{aligned}\n",
    "p(1) & = \\sum_{j=0}^k a_j, \\\\\n",
    "p'(1) & = \\sum_{j=0}^k j a_j.\n",
    "\\end{aligned}$$\n",
    "\n",
    "$$\\begin{aligned}\n",
    "p(z) & = a_k z^k + \\dots + a_1 z + a_0, \\\\\n",
    "q(z) & = b_k z^k + \\dots + b_1 z + b_0.\n",
    "\\end{aligned}$$\n",
    "\n",
    "$$\\begin{aligned}\n",
    "p(1) & = \\sum_{j=0}^k a_j, \\\\\n",
    "p'(1) & = \\sum_{j=0}^k j a_j.\n",
    "\\end{aligned}$$\n",
    "\n",
    "Evaluate the second polynomial $q$ at $z=1$:\n",
    "\n",
    "$$\\begin{aligned}\n",
    "q(1) & = \\sum_{j=0}^k b_j.\n",
    "\\end{aligned}$$\n",
    "\n",
    "$$\\begin{aligned}\n",
    "p(z) & = a_k z^k + \\dots + a_1 z + a_0, \\\\\n",
    "q(z) & = b_k z^k + \\dots + b_1 z + b_0.\n",
    "\\end{aligned}$$\n",
    "\n",
    "$$p(1) = \\sum_{j=0}^k a_j, \\quad p'(1)  = \\sum_{j=0}^k j a_j,\n",
    "\\quad q(1) = \\sum_{j=0}^k b_j.$$\n",
    "\n",
    "In the previous lecture we computed the Taylor expansion using the\n",
    "linear functional, showing that for consistency we need\n",
    "\n",
    "$$\\begin{aligned}\n",
    "\\sum_{j=0}^k a_j & = p(1) = 0, \\\\\n",
    "\\sum_{j=0}^k (j a_j - b_j) & = p'(1) - q(1) = 0.\n",
    "\\end{aligned}$$"
   ]
  },
  {
   "cell_type": "markdown",
   "metadata": {},
   "source": [
    "### How many solutions..."
   ]
  },
  {
   "cell_type": "markdown",
   "metadata": {},
   "source": [
    "A differential equation has many solutions; initial conditions pick out\n",
    "one unique solution. With non-zero $h$ and finite precision, we\n",
    "introduce some error: numerical solution picks up a small contribution\n",
    "from other solutions.\n",
    "\n",
    "Two types of stability are\n",
    "\n",
    "1.  Over a finite interval, say $x \\in [0, s]$, the difference between\n",
    "\n",
    "the numerical solution and the true solution is bounded.\n",
    "\n",
    "2.  As the number of steps taken is increased the contribution of the\n",
    "\n",
    "“spurious” solutions tends to zero.\n",
    "\n",
    "Check stability by looking at the roots of the stability polynomial\n",
    "\n",
    "$$p(z) = \\sum_{j=0}^k a_j z^j.$$"
   ]
  },
  {
   "cell_type": "markdown",
   "metadata": {},
   "source": [
    "### Why the roots of the polynomial?"
   ]
  },
  {
   "cell_type": "markdown",
   "metadata": {},
   "source": [
    "For stability the numerical solution must remain finite. Consider the\n",
    "case $f(x, y(x)) = 0$. Algorithm becomes\n",
    "\n",
    "$$\\sum_{j=0}^k a_j y_{n+1-j} = 0.$$\n",
    "\n",
    "Difference equation has $k$ solutions of form $A z^n$: $A$ depends on\n",
    "initial data, $z$ depends on algorithm. To converge, require $|z| < 1$.\n",
    "\n",
    "To find solutions substitute in $A z^n$, finding\n",
    "\n",
    "$$A z^{n+1-k} \\sum_{j=0}^k a_j z^j \\propto p(z).$$\n",
    "\n",
    "Therefore the size of the roots of $p(z)$ are crucial for stability."
   ]
  },
  {
   "cell_type": "markdown",
   "metadata": {},
   "source": [
    "### Stability conditions"
   ]
  },
  {
   "cell_type": "markdown",
   "metadata": {},
   "source": [
    "Write roots of stability polynomial $p$ as $\\{r_j\\}$. Two conditions:\n",
    "\n",
    "1.  If $ | r_j | \\leq 1$ for all of the $k$ roots, *and* any root with $|r_j| = 1$ is simple (i.e. is not repeated), then the *root condition* is satisfied.\n",
    "\n",
    "2.  If $r_0 = 1$ and $ | r_j | < 1$ for all of the other $k-1$ roots then the *strong* root condition is satisfied.\n",
    "\n",
    "Either condition is sufficient for *weak* stability. To ensure correct\n",
    "*long term* integrations, need both stability (guaranteed by root\n",
    "condition) and *relative* stability (given by strong root condition)."
   ]
  },
  {
   "cell_type": "markdown",
   "metadata": {},
   "source": [
    "### Example"
   ]
  },
  {
   "cell_type": "markdown",
   "metadata": {},
   "source": [
    "The Milne method\n",
    "\n",
    "$$y_{n+1} - y_{n-1} = \\frac{h}{3} \\left( f_{n+1} + 4 f_{n} + f_{n-1} \\right)$$\n",
    "\n",
    "is a $k$-step method with coefficients\n",
    "\n",
    "$$\\begin{aligned}\n",
    "a_0 & = -1, & a_1 & = 0, & a_2 & = 1, \\\\\n",
    "b_0 & = 1/3, & b_1 & = 4/3, & b_2 & = 1/3.\n",
    "\\end{aligned}$$\n",
    "\n",
    "Consistency shown when it was proved to have order 4.\n",
    "Can check:\n",
    "\n",
    "$$\\begin{aligned}\n",
    "&&    p(z) & = \\sum_{j=0}^k a_j z^j & q(z) & = \\sum_{j=0}^k b_j z^j \\\\\n",
    "&& & = z^2 - 1 && = \\tfrac{1}{3} \\left( z^2 + 4 z + 1 \\right)\n",
    "\\\\\n",
    "\\Rightarrow && p'(z) & = 2 z\n",
    "\\end{aligned}$$\n",
    "\n",
    "and hence\n",
    "\n",
    "$$p(1)  = 0, \\quad\n",
    "p'(1)  = 2 = q(1).$$\n",
    "\n",
    "Roots of the stability polynomial are $r_j = \\pm 1$:\n",
    "Milne’s method is only weakly stable.  Expect the method\n",
    "to converge, but spurious solutions may dominate for long integrations."
   ]
  },
  {
   "cell_type": "markdown",
   "metadata": {},
   "source": [
    "### Example: 2"
   ]
  },
  {
   "cell_type": "markdown",
   "metadata": {},
   "source": [
    "Integrate\n",
    "\n",
    "$$y'(x) = -y, \\quad y(0) = 1$$\n",
    "\n",
    "with solution $y = \\exp(- y(0) x)$.\n",
    "\n",
    "As the Milne method is not strongly stable we see divergence.\n",
    "\n",
    "As the method is weakly stable, we see that the time the divergence sets\n",
    "in increases with better resolution."
   ]
  },
  {
   "cell_type": "markdown",
   "metadata": {},
   "source": [
    "Summary\n",
    "======="
   ]
  },
  {
   "cell_type": "markdown",
   "metadata": {},
   "source": [
    "-   Convergence to the correct solution is the requirement for any algorithm.\n",
    "-   For differential equations the algorithm must be *consistent* and *stable*; in many cases this is sufficient for convergence.\n",
    "-   For multistep methods we define two polynomials $p$ (the stability polynomial) and $q$ depending on the coefficients in the $k$-step formula.\n",
    "-   Consistency is given by two simple relations between the polynomials (and derivatives) evaluated at $z=1$; it is equivalent to proving that the lowest order local truncation error terms vanish.\n",
    "-   Stability is shown by checking the modulus of the roots of $p$:\n",
    "\n",
    "    1.  If all roots are $|r_j|<1$ (except $r_0=1$) then we have relative stability.\n",
    "    2.  If we do not have relative stability, but all $|r_j| \\leq 1$, then we have *weak* stability which may not be sufficient for good long term integrations."
   ]
  }
 ],
 "metadata": {
  "anaconda-cloud": {},
  "kernelspec": {
   "display_name": "Python [Root]",
   "language": "python",
   "name": "Python [Root]"
  },
  "language_info": {
   "codemirror_mode": {
    "name": "ipython",
    "version": 3
   },
   "file_extension": ".py",
   "mimetype": "text/x-python",
   "name": "python",
   "nbconvert_exporter": "python",
   "pygments_lexer": "ipython3",
   "version": "3.5.2"
  }
 },
 "nbformat": 4,
 "nbformat_minor": 0
}
