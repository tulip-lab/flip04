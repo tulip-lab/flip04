{
 "cells": [
  {
   "cell_type": "markdown",
   "metadata": {},
   "source": [
    "# FLIP (02) Optimization Data Science\n",
    "\n",
    "---\n",
    "Team Director: Meng Ren | mren@tulip.academy<br />\n",
    "\n",
    "TULIP Academy <br />\n",
    "http://www.tulip.academy \n",
    "\n",
    "---"
   ]
  },
  {
   "cell_type": "markdown",
   "metadata": {},
   "source": [
    "Function basis methods\n",
    "======================"
   ]
  },
  {
   "cell_type": "code",
   "execution_count": null,
   "metadata": {
    "collapsed": false
   },
   "outputs": [],
   "source": [
    "%matplotlib inline"
   ]
  },
  {
   "cell_type": "code",
   "execution_count": null,
   "metadata": {
    "collapsed": false
   },
   "outputs": [],
   "source": [
    "import numpy as np\n",
    "import matplotlib\n",
    "import matplotlib.pyplot as plt\n",
    "\n",
    "matplotlib.rcParams.update({'font.size': 14})"
   ]
  },
  {
   "cell_type": "markdown",
   "metadata": {},
   "source": [
    "Introduction to function basis methods\n",
    "--------------------------------------"
   ]
  },
  {
   "cell_type": "markdown",
   "metadata": {},
   "source": [
    "### Boundary Value Problems"
   ]
  },
  {
   "cell_type": "markdown",
   "metadata": {},
   "source": [
    "Considering simple boundary value problem\n",
    "\n",
    "$$y'' = f(x, y, y'), \\quad y(a) = A, \\,\\, y(b) = B, \\quad x \\in [a,b].$$\n",
    "\n",
    "Boundary conditions are only examples here.\n",
    "\n",
    "Have considered the shooting method (accurate, efficient, may not work)\n",
    "and the finite difference (relaxation) method (not particularly accurate\n",
    "or efficient, nearly always works). Both methods require a *grid* with\n",
    "$n$ points. Accuracy of method depends on $h \\propto n^{-1}$.\n",
    "\n",
    "Can instead use a function basis, independently of a grid."
   ]
  },
  {
   "cell_type": "markdown",
   "metadata": {},
   "source": [
    "### Function basis expansion"
   ]
  },
  {
   "cell_type": "markdown",
   "metadata": {},
   "source": [
    "Aim to solve problem\n",
    "\n",
    "$${\\cal L} y = f,$$\n",
    "\n",
    "where ${\\cal L}$ is a differential operator.\n",
    "\n",
    "Function basis methods *assume* the solution $y(x)$ can be written\n",
    "\n",
    "$$y(x) = \\sum_{j} c_j u_j (x);$$\n",
    "\n",
    "constants $c_j$ are *basis coefficients*, $u_j(x)$ are *basis\n",
    "functions*.\n",
    "\n",
    "*Choose* “simple” basis functions $u_j$. Get *approximate* solution by\n",
    "truncating series:\n",
    "\n",
    "$$y(x) = \\sum_{j}^n c_j u_j (x).$$\n",
    "\n",
    "Additional conditions give linear system for unknowns ($c_j$), defining\n",
    "solution everywhere."
   ]
  },
  {
   "cell_type": "markdown",
   "metadata": {},
   "source": [
    "Collocation methods\n",
    "-------------------"
   ]
  },
  {
   "cell_type": "markdown",
   "metadata": {},
   "source": [
    "Simplest function basis method uses a grid. *Collocation* method: fix\n",
    "$c_j$ by insisting that BVP satisfied exactly at fixed set of points.\n",
    "\n",
    "1.   Assume approximate solution has form ($n$ fixed)\n",
    "\n",
    "    $$\\sum_{j}^n c_j u_j (x).$$\n",
    "2.   Boundary conditions $\\implies$ two coefficients (e.g. $c_{0, 1}$).\n",
    "3.  Evaluate ${\\cal L} y$ at collocation points $\\{x_j\\}$ $\\implies$ linear system.\n",
    "4.  Solve the linear system to give the basis coefficients $c_j$."
   ]
  },
  {
   "cell_type": "markdown",
   "metadata": {},
   "source": [
    "### Example"
   ]
  },
  {
   "cell_type": "markdown",
   "metadata": {},
   "source": [
    "We consider the problem (with exact solution $\\exp(x)$)\n",
    "\n",
    "$$y'' - y = 0, \\quad y(0) = 1, \\,\\, y(1) = e.$$\n",
    "\n",
    "Choose basis $u_j = x^j \\implies y = \\sum c_j x^j$. Boundary conditions:\n",
    "\n",
    "$$c_0 = 1, \\quad c_1 = e - \\sum_{j \\ne 1}^n c_j.$$\n",
    "\n",
    "Differential operator ${\\cal L} y = y'' - y$:\n",
    "\n",
    "$$\\sum_{j=2}^n c_j \\left( j (j - 1) x^{j-2} \\right) - \\sum_{k=0}^n\n",
    "c_k x^k = 0.$$\n",
    "\n",
    "Linear system $A {\\boldsymbol{c}} = {\\boldsymbol{b}}$ ($\\{ x_l\\}$\n",
    "collocation points)\n",
    "\n",
    "$$A_{j l} = \\left( j (j - 1) x_l^{j-2} \\right) - x_l^j , \\quad\n",
    "{\\boldsymbol{b}} \\text{ from boundary conditions.}$$"
   ]
  },
  {
   "cell_type": "markdown",
   "metadata": {},
   "source": [
    "When using only three polynomial basis functions we have\n",
    "\n",
    "$$c_0 = 1, \\quad c_1 = e - 1 - c_2.$$\n",
    "\n",
    "We then evaluate the system at the collocation point $x = 1/2$ to get\n",
    "\n",
    "$$\\begin{aligned}\n",
    "   && 0 & = 2 \\cdot 1 \\cdot \\left(\\tfrac{1}{2}\\right)^0 c_2 - 1 -\n",
    "\\tfrac{1}{2} \\left( e - 1 - c_2 \\right) -\n",
    "\\left(\\tfrac{1}{2}\\right)^2 c_2 \\\\ \n",
    "   \\Rightarrow && c_2 & = \\tfrac{2}{9} (1 + e).\n",
    "  \\end{aligned}$$\n",
    "\n",
    "This, combined with boundary conditions, gives approximate solution\n",
    "\n",
    "$$y = 1 + \\tfrac{1}{9} \\left( ( 7e - 11) x + 2(1 + e) x^2 \\right).$$"
   ]
  },
  {
   "cell_type": "markdown",
   "metadata": {},
   "source": [
    "### Example: 3"
   ]
  },
  {
   "cell_type": "markdown",
   "metadata": {},
   "source": [
    "With only a few points the method is very accurate.\n",
    "\n",
    "Use Chebyshev collocation points\n",
    "\n",
    "$$x_k = \\tfrac{1}{2} \\left( 1 + \\cos \\left( \\frac{(k-1) \\pi}{n-1}\n",
    "\\right) \\right)$$\n",
    "to check convergence with $n$.\n",
    "\n",
    "Convergence is very fast."
   ]
  },
  {
   "cell_type": "code",
   "execution_count": null,
   "metadata": {
    "collapsed": false
   },
   "outputs": [],
   "source": [
    "x_exact = np.linspace(0.0, 1.0, 5000)\n",
    "y_exact = np.exp(x_exact)"
   ]
  },
  {
   "cell_type": "code",
   "execution_count": null,
   "metadata": {
    "collapsed": false
   },
   "outputs": [],
   "source": [
    "def CollocationPoly(nbasis):\n",
    "    \"\"\"Find the coefficients in the expansion for the above problem.\"\"\"\n",
    "    \n",
    "    # Collocation points are the Chebyshev points\n",
    "    x = 0.5 * (1.0 + np.cos(np.pi * np.array(range(nbasis-1,-1,-1)) / (nbasis-1)))\n",
    "        \n",
    "    b = np.zeros_like(x) # The RHS vector\n",
    "    A = np.zeros((nbasis, nbasis)) # The matrix\n",
    "    \n",
    "    # Use the left boundary to fix the first coefficient\n",
    "    b[0] = 1.0\n",
    "    A[0, 0] = 1.0\n",
    "    # Use the right boundary to fix the last coefficient\n",
    "    b[-1] = np.exp(1.0)\n",
    "    for j in range(nbasis):\n",
    "        A[-1, j] = 1.0\n",
    "    # Fill the rest of the matrix\n",
    "    for i in range(1, nbasis-1):\n",
    "        for j in range(nbasis):\n",
    "            # The -y' term\n",
    "            A[i, j] -= x[i]**(j)\n",
    "        for j in range(2, nbasis):\n",
    "            # The y'' term\n",
    "            A[i, j] += j*(j-1)*x[i]**(j-2)\n",
    "    \n",
    "    # Solve for coefficients\n",
    "    c = np.linalg.solve(A, b)\n",
    "        \n",
    "    return c"
   ]
  },
  {
   "cell_type": "code",
   "execution_count": null,
   "metadata": {
    "collapsed": false
   },
   "outputs": [],
   "source": [
    "# Do the simple case with 3 basis functions\n",
    "c3 = CollocationPoly(3)\n",
    "y3 = np.zeros_like(x_exact)\n",
    "for j in range(3):\n",
    "    y3 += c3[j] * x_exact**j\n",
    "\n",
    "# Plot result\n",
    "fig = plt.figure(figsize=(12, 8))\n",
    "ax = fig.add_subplot(111)\n",
    "ax.plot(x_exact, y_exact, 'k-', label = \"Exact solution\")\n",
    "ax.plot(x_exact, y3, 'b--', label = \"Using 3 collocation points\")\n",
    "ax.legend(loc=2)\n",
    "ax.set_xlabel(r\"$x$\")\n",
    "ax.set_ylabel(r\"$y$\");"
   ]
  },
  {
   "cell_type": "code",
   "execution_count": null,
   "metadata": {
    "collapsed": false
   },
   "outputs": [],
   "source": [
    "# Check the convergence with resolution.\n",
    "nbasis = range(3, 16)\n",
    "collocation_error = np.zeros((len(nbasis),))\n",
    "for i in range(len(nbasis)):\n",
    "    c = CollocationPoly(nbasis[i])\n",
    "    yn = np.zeros_like(x_exact)\n",
    "    for j in range(nbasis[i]):\n",
    "        yn += c[j] * x_exact**j\n",
    "    collocation_error[i] = np.linalg.norm(yn - y_exact, 2)\n",
    "# Plot errors\n",
    "fig = plt.figure(figsize=(12, 8))\n",
    "ax = fig.add_subplot(111)\n",
    "ax.semilogy(nbasis, collocation_error, 'kx')\n",
    "ax.set_xlabel(\"Number of basis functions\")\n",
    "ax.set_ylabel(r\"$\\|$\"+\"Error\"+r\"$\\|_2$\");"
   ]
  },
  {
   "cell_type": "markdown",
   "metadata": {},
   "source": [
    "Norm method\n",
    "-----------"
   ]
  },
  {
   "cell_type": "markdown",
   "metadata": {},
   "source": [
    "Collocation\n",
    "\n",
    "1.  not independent of grid;\n",
    "\n",
    "2.  convergence depends on location of points;\n",
    "\n",
    "3.  BVP solved only at points, otherwise unconstrained.\n",
    "\n",
    "Instead try to get best solution “on average”. Minimize average error in\n",
    "some norm,\n",
    "\n",
    "$$\\| {\\cal L} (y) (x) - f(x) \\|.$$\n",
    "\n",
    "Assume a function basis expansion\n",
    "\n",
    "$$y = \\sum_{j}^n c_j u_j (x).$$\n",
    "\n",
    "Gives a minimization problem for the coefficients $c_j$."
   ]
  },
  {
   "cell_type": "markdown",
   "metadata": {},
   "source": [
    "### Example"
   ]
  },
  {
   "cell_type": "markdown",
   "metadata": {},
   "source": [
    "For the example given above we have\n",
    "\n",
    "$${\\cal L} = y'' - y, \\quad f = 0,$$\n",
    "\n",
    "and hence we want to minimize\n",
    "\n",
    "$$\\| y'' - y \\|.$$\n",
    "\n",
    "Norm is over whole interval – so integrate. Typically use 2-norm:\n",
    "\n",
    "$$\\begin{aligned}\n",
    "F(c_j) & = \\| y'' - y \\|_2^2 \\\\\n",
    "& = \\int_0^1 \\left[ y'' - y \\right]^2 \\, \\text{d}x.\n",
    "  \\end{aligned}$$\n",
    "\n",
    "This is function of $c_j$ using function basis assumption."
   ]
  },
  {
   "cell_type": "markdown",
   "metadata": {},
   "source": [
    "### Example: 2"
   ]
  },
  {
   "cell_type": "markdown",
   "metadata": {},
   "source": [
    "As normal fix two coefficients using boundary conditions. Using three\n",
    "basis functions\n",
    "\n",
    "$$c_0 = 1, \\quad c_1 = e - 1 - c_2.$$\n",
    "\n",
    "Explicitly computing the quadratic form gives us the “average error”\n",
    "\n",
    "$$F(c_j) = \\tfrac{47}{10} c_2^2 - \\tfrac{13}{6} (1 + e) c_2 +\n",
    "\\tfrac{1+e+e^2}{3}.$$\n",
    "To minimize, differentiate with respect to $c_2$ and set to zero, giving\n",
    "\n",
    "$$c_2 = \\tfrac{65}{282} (1 + e).$$"
   ]
  },
  {
   "cell_type": "markdown",
   "metadata": {},
   "source": [
    "### Example: 3"
   ]
  },
  {
   "cell_type": "markdown",
   "metadata": {},
   "source": [
    "Even with a few coefficients the result is very accurate.\n",
    "\n",
    "Additional analysis required to set up general problem."
   ]
  },
  {
   "cell_type": "markdown",
   "metadata": {},
   "source": [
    "Ritz methods\n",
    "------------"
   ]
  },
  {
   "cell_type": "markdown",
   "metadata": {},
   "source": [
    "General framework: working in Hilbert space $L_2$ define *inner product*\n",
    "\n",
    "$$< u, v > = \\int_a^b u \\cdot v \\, \\text{d} x.$$\n",
    "\n",
    "Need ${\\cal L}$ to be symmetric and positive definite.\n",
    "\n",
    "Inner product can *measure distance* on $L_2$: i.e., measure the\n",
    "distance to the “exact solution” of the ODE.\n",
    "\n",
    "So define *energy* of the element $u$ as\n",
    "\n",
    "$$< {\\cal L}(u), u > \\,\\, \\ge 0,$$\n",
    "\n",
    "where inequality follows by integration by parts. Then to get solution\n",
    "minimize\n",
    "\n",
    "$$J(u) = < {\\cal L}(u), u > - 2 < f, u >.$$"
   ]
  },
  {
   "cell_type": "markdown",
   "metadata": {},
   "source": [
    "### Ritz method applied to a function basis"
   ]
  },
  {
   "cell_type": "markdown",
   "metadata": {},
   "source": [
    "Can minimize the functional\n",
    "\n",
    "$$J(y) = < {\\cal L}(y), y > - 2 < f, y >$$\n",
    "\n",
    "when $y$ is given with respect to a function basis,\n",
    "\n",
    "$$y = \\sum_j^n c_j u_j(x).$$\n",
    "\n",
    "Linearity means this is equivalent to minimizing quadratic form\n",
    "\n",
    "$$J(y) = \\sum_{m,k}^n c_m c_k < {\\cal L}(u_m), u_k > - 2 \\sum_m c_m\n",
    "< f, u_m >.$$\n",
    "\n",
    "Know $u_j$, so re-express as a condition on $c_j$."
   ]
  },
  {
   "cell_type": "markdown",
   "metadata": {},
   "source": [
    "### Ritz method applied to a function basis"
   ]
  },
  {
   "cell_type": "markdown",
   "metadata": {},
   "source": [
    "$$y = \\sum_j^n c_j u_j(x).$$\n",
    "\n",
    "$$J(y) = \\sum_{m,k}^n c_m c_k < {\\cal L}(u_m), u_k > - 2 \\sum_m c_m\n",
    "< f, u_m >.$$\n",
    "Minimizing this functional requires\n",
    "\n",
    "$$\\begin{align}\n",
    "&& \\frac{\\partial{}}{\\partial{c_m}} J & = 0, & m = 1, \\dots, n, \\\\\n",
    "\\Rightarrow && \\sum_m^n c_m < {\\cal L}(u_m), u_k > & = < f, u_k >,\n",
    "& k = 1, \\dots, n.\n",
    "  \\end{align}$$\n",
    "\n",
    "This is just a linear system to solve."
   ]
  },
  {
   "cell_type": "markdown",
   "metadata": {},
   "source": [
    "### Example"
   ]
  },
  {
   "cell_type": "markdown",
   "metadata": {},
   "source": [
    "For the boundary value problem\n",
    "\n",
    "$$y'' = -\\cos(x), \\quad y(0) = 0 = y(\\pi)$$\n",
    "\n",
    "we have the exact solution $y(x) = \\cos(x) + 2 x /\\pi - 1$. Symmetry of\n",
    "problem suggests the function basis\n",
    "\n",
    "$$u_j = \\sin(2 j x):$$\n",
    "\n",
    "satisfies boundary conditions and symmetry.\n",
    "\n",
    "We need to satisfy\n",
    "\n",
    "$$\\sum_m^n c_m < {\\cal L}(u_m), u_k >  = < f, u_k >.$$\n",
    "\n",
    "Vector of unknowns $c_m$; known matrix has elements $A_{m,k} = <\n",
    "  {\\cal L}(u_m), u_k >$; known vector has elements $< f, u_k >$."
   ]
  },
  {
   "cell_type": "markdown",
   "metadata": {},
   "source": [
    "### Example: 2"
   ]
  },
  {
   "cell_type": "markdown",
   "metadata": {},
   "source": [
    "\n",
    "The *matrix* $A_{m,k} = < {\\cal L}(u_m), u_k >$ has elements\n",
    "\n",
    "$$\\begin{aligned}\n",
    "< {\\cal L}(u_m), u_k > & = -\\int_0^{\\pi} 4 m^2 \\sin(2 m x)\n",
    "\\sin(2 k\n",
    "x) \\, \\text{d} x \\\\\n",
    "& =\n",
    "\\begin{cases}\n",
    "  -2 \\pi k^2, & \\text{if $m = k$}, \\\\\n",
    "  0, & \\text{if $m \\ne k$}\n",
    "\\end{cases}.\n",
    "\\end{aligned}$$\n",
    "\n",
    "\n",
    "The *vector* $< f, u_k >$ has elements\n",
    "\n",
    "$$\\begin{aligned}\n",
    "< f, u_k > & = \\int_0^{\\pi} -\\cos(x) \\sin(2 k x) \\, \\text{d} x \\\\\n",
    "& = \\frac{4 k}{4 k^2 - 1}.\n",
    "\\end{aligned}$$\n",
    "\n",
    "\n",
    "$$\\begin{aligned}\n",
    "< {\\cal L}(u_m), u_k > & = \\begin{cases}\n",
    "  -2 \\pi k^2, & \\text{if $m = k$}, \\\\\n",
    "  0, & \\text{if $m \\ne k$}\n",
    "\\end{cases}, \\\\\n",
    "< f, u_k > & = \\frac{4 k}{4 k^2 - 1}.\n",
    "\\end{aligned}$$\n",
    "\n",
    "This gives a *diagonal* system which can be solved to give\n",
    "\n",
    "$$c_m = \\frac{2}{\\pi m (4 m^2 - 1)}$$\n",
    "\n",
    "and hence the approximation\n",
    "\n",
    "$$y = \\frac{2}{\\pi} \\sum_{m=1}^n \\frac{\\sin(2 m x)}{m (4 m^2 - 1)}$$\n",
    "\n",
    "which converges to the Fourier series in the limit $n \\rightarrow\n",
    "\\infty$."
   ]
  },
  {
   "cell_type": "markdown",
   "metadata": {},
   "source": [
    "### Example: 3"
   ]
  },
  {
   "cell_type": "markdown",
   "metadata": {},
   "source": [
    "In fact even with very few coefficients the Ritz method is accurate.\n",
    "\n",
    "It also converges quickly."
   ]
  },
  {
   "cell_type": "code",
   "execution_count": null,
   "metadata": {
    "collapsed": false
   },
   "outputs": [],
   "source": [
    "x_exact = np.linspace(0.0, np.pi, 5000)\n",
    "y_exact = np.cos(x_exact) + 2.0 * x_exact / np.pi - 1.0"
   ]
  },
  {
   "cell_type": "code",
   "execution_count": null,
   "metadata": {
    "collapsed": false
   },
   "outputs": [],
   "source": [
    "def RitzCoefficients(nbasis):\n",
    "    \"\"\"Returns the Ritz coeffcients for the problem above. Note: cheats and use the form computed analytically above.\"\"\"\n",
    "    \n",
    "    A = np.zeros((nbasis,nbasis))\n",
    "    b = np.zeros((nbasis,))\n",
    "    for i in range(nbasis):\n",
    "        b[i] = 4.0 * (i+1) / (4.0 * (i+1)**2 - 1.0)\n",
    "        A[i, i] = 2.0 * np.pi * (i+1)**2\n",
    "    c = np.linalg.solve(A, b)\n",
    "    \n",
    "    return c"
   ]
  },
  {
   "cell_type": "code",
   "execution_count": null,
   "metadata": {
    "collapsed": false
   },
   "outputs": [],
   "source": [
    "# Plot the result with 3 coefficients\n",
    "c3 = RitzCoefficients(3)\n",
    "y3 = np.zeros_like(x_exact)\n",
    "for j in range(3):\n",
    "    y3 += c3[j] * np.sin(2.0*(j+1)*x_exact)\n",
    "\n",
    "# Plot result\n",
    "fig = plt.figure(figsize=(12, 8))\n",
    "ax = fig.add_subplot(111)\n",
    "ax.plot(x_exact, y_exact, 'k-', label = \"Exact solution\")\n",
    "ax.plot(x_exact, y3, 'b--', label = \"Using 3 collocation points\")\n",
    "ax.legend(loc=1)\n",
    "ax.set_xlabel(r\"$x$\")\n",
    "ax.set_ylabel(r\"$y$\");"
   ]
  },
  {
   "cell_type": "code",
   "execution_count": null,
   "metadata": {
    "collapsed": false
   },
   "outputs": [],
   "source": [
    "# Check the convergence with resolution.\n",
    "nbasis = range(3, 33, 2)\n",
    "collocation_error = np.zeros((len(nbasis),))\n",
    "for i in range(len(nbasis)):\n",
    "    c = RitzCoefficients(nbasis[i])\n",
    "    yn = np.zeros_like(x_exact)\n",
    "    for j in range(nbasis[i]):\n",
    "        yn += c[j] * np.sin(2.0*(j+1)*x_exact)\n",
    "    collocation_error[i] = np.linalg.norm(yn - y_exact, 2)\n",
    "# Plot errors\n",
    "fig = plt.figure(figsize=(12, 8))\n",
    "ax = fig.add_subplot(111)\n",
    "ax.loglog(nbasis, collocation_error, 'kx')\n",
    "ax.set_xlabel(\"Number of basis functions\")\n",
    "ax.set_ylabel(r\"$\\|$\"+\"Error\"+r\"$\\|_2$\");"
   ]
  },
  {
   "cell_type": "markdown",
   "metadata": {},
   "source": [
    "Summary\n",
    "=======\n",
    "\n",
    "\n",
    "-   When extreme accuracy is essential then function basis methods are\n",
    "often used.\n",
    "-   Collocation methods are popular; given the right choice of basis and\n",
    "collocation points the convergence can be faster than any\n",
    "polynomial, giving floating point accuracy with a few dozen basis\n",
    "functions at most.\n",
    "-   Norm and Ritz type methods do not use a grid at all; this can make\n",
    "them useful in complex domains, particular as a small part of a\n",
    "larger method (see finite elements).\n",
    "-   The complexity of these methods, particularly norm and Ritz, makes\n",
    "the work involved in setting up the problem quite extreme. The\n",
    "actual coding of the method is, however, very small for the\n",
    "impressive accuracy."
   ]
  }
 ],
 "metadata": {
  "anaconda-cloud": {},
  "kernelspec": {
   "display_name": "Python [Root]",
   "language": "python",
   "name": "Python [Root]"
  },
  "language_info": {
   "codemirror_mode": {
    "name": "ipython",
    "version": 3
   },
   "file_extension": ".py",
   "mimetype": "text/x-python",
   "name": "python",
   "nbconvert_exporter": "python",
   "pygments_lexer": "ipython3",
   "version": "3.5.2"
  }
 },
 "nbformat": 4,
 "nbformat_minor": 0
}
