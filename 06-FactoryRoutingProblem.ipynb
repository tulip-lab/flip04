{
 "cells": [
  {
   "cell_type": "markdown",
   "metadata": {},
   "source": [
    "# FLIP (02) Optimization Data Science\n",
    "\n",
    "---\n",
    "Team Director: Meng Ren | mren@tulip.academy<br />\n",
    "\n",
    "TULIP Academy <br />\n",
    "http://www.tulip.academy \n",
    "\n",
    "---"
   ]
  },
  {
   "cell_type": "markdown",
   "metadata": {},
   "source": [
    "### Example\n",
    "\n",
    "Lets assume we are the manager of operations for a small company. We operate a few factories that make plumbus-es and ship them to many retailers. Our shipping lanes don't have uniform costs, and due to outside factors some lanes have fixed capacity. For example the route connecting the Garfield plumbus factory to the Woolmart warehouse can only handle at most 36 plumbuses per month and has an average shipping cost per plumbus of $1.69. \n",
    "\n",
    "The big boss asks:\n",
    "**What is the best way to supply our retailers?**\n",
    "\n",
    "This question, as stated, cannot be confidently answered. Our coworkers in the conference room suggest some solutions:\n",
    "\n",
    "* \"Supply each retailer from the factory with the lowest shipping cost\"\n",
    "* \"Supply each retailer first from the factory that has the most supply\"\n",
    "* \"Supply Woolmart first because Ted has a friend who works there\"\n",
    "* etc etc\n",
    "\n",
    "These suggestions certainly sound reasonable, but the problem is that \"best\" is loosely defined. Should we optimize for transit time, for cost, for distance? For a first model, lets solve the following problem instead:\n",
    "\n",
    "**What quantity of plumbus-es should we ship from each factory to each warehouse to minimize the total shipping cost?**\n",
    "\n",
    "and the immediate follow up question, \n",
    "\n",
    "**How much will our shipping cost be?**\n",
    "\n",
    "lets solve it!"
   ]
  },
  {
   "cell_type": "markdown",
   "metadata": {},
   "source": [
    "#### 1. Load the data\n",
    "Lets load the data with pandas. It was given to us in excel with three tabs."
   ]
  },
  {
   "cell_type": "code",
   "execution_count": 1,
   "metadata": {
    "collapsed": false
   },
   "outputs": [],
   "source": [
    "import pandas as pd\n",
    "import numpy as np\n",
    "import os\n",
    "file = os.path.join('data','factory_to_warehouse.xlsx')"
   ]
  },
  {
   "cell_type": "code",
   "execution_count": 2,
   "metadata": {
    "collapsed": false
   },
   "outputs": [],
   "source": [
    "factories = pd.read_excel(file, sheetname='Factories')\n",
    "warehouses = pd.read_excel(file, sheetname='Warehouses')\n",
    "lanes = pd.read_excel(file, sheetname='Lanes')"
   ]
  },
  {
   "cell_type": "code",
   "execution_count": 3,
   "metadata": {
    "collapsed": false
   },
   "outputs": [
    {
     "data": {
      "text/html": [
       "<div>\n",
       "<table border=\"1\" class=\"dataframe\">\n",
       "  <thead>\n",
       "    <tr style=\"text-align: right;\">\n",
       "      <th></th>\n",
       "      <th>Factory</th>\n",
       "      <th>Supply</th>\n",
       "    </tr>\n",
       "  </thead>\n",
       "  <tbody>\n",
       "    <tr>\n",
       "      <th>0</th>\n",
       "      <td>Garfield</td>\n",
       "      <td>150</td>\n",
       "    </tr>\n",
       "    <tr>\n",
       "      <th>1</th>\n",
       "      <td>Odie</td>\n",
       "      <td>225</td>\n",
       "    </tr>\n",
       "    <tr>\n",
       "      <th>2</th>\n",
       "      <td>Pikachu</td>\n",
       "      <td>200</td>\n",
       "    </tr>\n",
       "  </tbody>\n",
       "</table>\n",
       "</div>"
      ],
      "text/plain": [
       "    Factory  Supply\n",
       "0  Garfield     150\n",
       "1      Odie     225\n",
       "2   Pikachu     200"
      ]
     },
     "execution_count": 3,
     "metadata": {},
     "output_type": "execute_result"
    }
   ],
   "source": [
    "factories.head(3)"
   ]
  },
  {
   "cell_type": "code",
   "execution_count": 4,
   "metadata": {
    "collapsed": false
   },
   "outputs": [
    {
     "data": {
      "text/html": [
       "<div>\n",
       "<table border=\"1\" class=\"dataframe\">\n",
       "  <thead>\n",
       "    <tr style=\"text-align: right;\">\n",
       "      <th></th>\n",
       "      <th>Warehouse</th>\n",
       "      <th>Demand</th>\n",
       "    </tr>\n",
       "  </thead>\n",
       "  <tbody>\n",
       "    <tr>\n",
       "      <th>0</th>\n",
       "      <td>SuperStore</td>\n",
       "      <td>50</td>\n",
       "    </tr>\n",
       "    <tr>\n",
       "      <th>1</th>\n",
       "      <td>Woolmart</td>\n",
       "      <td>100</td>\n",
       "    </tr>\n",
       "    <tr>\n",
       "      <th>2</th>\n",
       "      <td>Starbucklers</td>\n",
       "      <td>50</td>\n",
       "    </tr>\n",
       "  </tbody>\n",
       "</table>\n",
       "</div>"
      ],
      "text/plain": [
       "      Warehouse  Demand\n",
       "0    SuperStore      50\n",
       "1      Woolmart     100\n",
       "2  Starbucklers      50"
      ]
     },
     "execution_count": 4,
     "metadata": {},
     "output_type": "execute_result"
    }
   ],
   "source": [
    "warehouses.head(3)"
   ]
  },
  {
   "cell_type": "code",
   "execution_count": 5,
   "metadata": {
    "collapsed": false
   },
   "outputs": [
    {
     "data": {
      "text/html": [
       "<div>\n",
       "<table border=\"1\" class=\"dataframe\">\n",
       "  <thead>\n",
       "    <tr style=\"text-align: right;\">\n",
       "      <th></th>\n",
       "      <th>origin</th>\n",
       "      <th>destination</th>\n",
       "      <th>cost</th>\n",
       "      <th>capacity</th>\n",
       "    </tr>\n",
       "  </thead>\n",
       "  <tbody>\n",
       "    <tr>\n",
       "      <th>0</th>\n",
       "      <td>Garfield</td>\n",
       "      <td>SuperStore</td>\n",
       "      <td>1.26</td>\n",
       "      <td>122</td>\n",
       "    </tr>\n",
       "    <tr>\n",
       "      <th>1</th>\n",
       "      <td>Garfield</td>\n",
       "      <td>Woolmart</td>\n",
       "      <td>1.69</td>\n",
       "      <td>36</td>\n",
       "    </tr>\n",
       "    <tr>\n",
       "      <th>2</th>\n",
       "      <td>Garfield</td>\n",
       "      <td>Starbucklers</td>\n",
       "      <td>1.31</td>\n",
       "      <td>29</td>\n",
       "    </tr>\n",
       "  </tbody>\n",
       "</table>\n",
       "</div>"
      ],
      "text/plain": [
       "     origin   destination  cost  capacity\n",
       "0  Garfield    SuperStore  1.26       122\n",
       "1  Garfield      Woolmart  1.69        36\n",
       "2  Garfield  Starbucklers  1.31        29"
      ]
     },
     "execution_count": 5,
     "metadata": {},
     "output_type": "execute_result"
    }
   ],
   "source": [
    "lanes.head(3)"
   ]
  },
  {
   "cell_type": "markdown",
   "metadata": {},
   "source": [
    "#### 2. Check that your problem is solvable\n",
    "While we don't have to check everything. Rather than spend hours trying to debug our program, it helps to spend a few moments and make sure the data you have to work with makes sense. Certainly this doesn't have to be exhaustive, but it saves headaches later.\n",
    "\n",
    "Some common things to check, specifically in this context:\n",
    "\n",
    "1. Missing variables\n",
    "    * Do we have lanes defined for factories or warehouses that don't exist?\n",
    "2. Impossible conditions\n",
    "    * Is the total demand more than the total supply?\n",
    "    * Is the inbound capacity obviously too small to feed each retailer?\n",
    "    * etc"
   ]
  },
  {
   "cell_type": "code",
   "execution_count": 6,
   "metadata": {
    "collapsed": false
   },
   "outputs": [],
   "source": [
    "#Do we have lanes defined for factories or warehouses that don't exist?\n",
    "all_locations = set(lanes.origin) | set(lanes.destination)\n",
    "\n",
    "for f in factories.Factory:\n",
    "    if f not in all_locations:\n",
    "        print('missing ', f)\n",
    "        \n",
    "for w in warehouses.Warehouse:\n",
    "    if w not in all_locations:\n",
    "        print('missing ', w)"
   ]
  },
  {
   "cell_type": "code",
   "execution_count": 7,
   "metadata": {
    "collapsed": false
   },
   "outputs": [],
   "source": [
    "#Is the total demand more than the total supply?\n",
    "assert factories.Supply.sum() >= warehouses.Demand.sum()"
   ]
  },
  {
   "cell_type": "code",
   "execution_count": 8,
   "metadata": {
    "collapsed": false
   },
   "outputs": [],
   "source": [
    "#Is the inbound capacity obviously too small to feed each retailer?\n",
    "capacity_in = lanes.groupby('destination').capacity.sum()\n",
    "check = warehouses.set_index('Warehouse').join(capacity_in)\n",
    "assert np.all(check.capacity >= check.Demand)"
   ]
  },
  {
   "cell_type": "markdown",
   "metadata": {},
   "source": [
    "#### 3. Model the data with a graph\n",
    "Our data has a very obvious graph structure to it. We have factories and warehouses (nodes), and we have lanes that connect them (edges). In many cases the extra effort of explicitly making a graph allows us to have very natural looking constraint and objective formulations. This is absolutely not required but makes reasoning very straightforward. To make a graph, we will use networkx"
   ]
  },
  {
   "cell_type": "code",
   "execution_count": 9,
   "metadata": {
    "collapsed": false
   },
   "outputs": [],
   "source": [
    "import networkx as nx"
   ]
  },
  {
   "cell_type": "code",
   "execution_count": 10,
   "metadata": {
    "collapsed": true
   },
   "outputs": [],
   "source": [
    "G = nx.DiGraph()"
   ]
  },
  {
   "cell_type": "code",
   "execution_count": 11,
   "metadata": {
    "collapsed": false
   },
   "outputs": [],
   "source": [
    "#add all the nodes\n",
    "for i, row in factories.iterrows():\n",
    "    G.add_node(row.Factory, supply=row.Supply, node_type='factory')\n",
    "    \n",
    "for i, row in warehouses.iterrows():\n",
    "    G.add_node(row.Warehouse, demand=row.Demand, node_type='warehouse')"
   ]
  },
  {
   "cell_type": "code",
   "execution_count": 12,
   "metadata": {
    "collapsed": false
   },
   "outputs": [],
   "source": [
    "#add the lanes (edges)\n",
    "for i, row in lanes.iterrows():\n",
    "    G.add_edge(row.origin, row.destination, cost=row.cost, capacity=row.capacity)"
   ]
  },
  {
   "cell_type": "code",
   "execution_count": 13,
   "metadata": {
    "collapsed": false
   },
   "outputs": [
    {
     "data": {
      "image/png": "[encoded data removed]",
      "text/plain": [
       "<matplotlib.figure.Figure at 0x114cd5d68>"
      ]
     },
     "metadata": {},
     "output_type": "display_data"
    }
   ],
   "source": [
    "#lets make a quick rendering to spot check the connections\n",
    "%matplotlib inline\n",
    "layout = nx.layout.circular_layout(G)\n",
    "nx.draw(G,layout)\n",
    "nx.draw_networkx_labels(G,layout);"
   ]
  },
  {
   "cell_type": "markdown",
   "metadata": {},
   "source": [
    "#### 4. Define the actual Linear Program\n",
    "So far everything we have done hasn't concerned itself with solving a linear program. We have one primary question to answer here:\n",
    "\n",
    "**What quantity of plumbus-es should we ship from each factory to each warehouse to minimize the total shipping cost?**\n",
    "\n",
    "Taking this apart, we are looking for quantities from each factory to each warehouse - these are our shipping lanes. We will need as many variables as we have lanes."
   ]
  },
  {
   "cell_type": "code",
   "execution_count": 14,
   "metadata": {
    "collapsed": true
   },
   "outputs": [],
   "source": [
    "from pulp import *"
   ]
  },
  {
   "cell_type": "markdown",
   "metadata": {},
   "source": [
    "The variables are the amounts to put on each edge. ```LpVariable.dicts``` allows us to access the variables using dictionary access syntax, i.e., the quantity from Garfield to BurgerQueen is\n",
    "```python\n",
    "qty[('Garfield','BurgerQueen')]\n",
    "```\n",
    "the actual variable name created under the hood is \n",
    "```\n",
    "qty_('Garfield',_'BurgerQueen')\n",
    "```"
   ]
  },
  {
   "cell_type": "code",
   "execution_count": 15,
   "metadata": {
    "collapsed": false
   },
   "outputs": [],
   "source": [
    "qty = LpVariable.dicts(\"qty\", G.edges(), lowBound=0)"
   ]
  },
  {
   "cell_type": "markdown",
   "metadata": {},
   "source": [
    "okay cool, so what about our objective? Revisiting the question:\n",
    "\n",
    "**What quantity of plumbus-es should we ship from each factory to each warehouse to minimize the total shipping cost?**\n",
    "\n",
    "We are seeking to minimize the shipping cost. So we need to calculate our shipping cost as a function of our variables (the lanes), and it needs to be linear. This is just the lane quantity multiplied by the lane cost.\n",
    "\n",
    "$$f(Lanes) = \\sum_{o,d \\in Lanes} qty_{o,d}*cost_{o,d} $$\n",
    "\n",
    "When dealing with sums in pulp, it is most efficient to use its supplied lpSum function."
   ]
  },
  {
   "cell_type": "code",
   "execution_count": 16,
   "metadata": {
    "collapsed": false
   },
   "outputs": [],
   "source": [
    "#the total cost of this routing is the cost per unit * the qty sent on each lane\n",
    "def objective():\n",
    "    shipping_cost = lpSum([ qty[(org,dest)]*data['cost'] for (org,dest,data) in G.edges(data=True)])\n",
    "    return shipping_cost"
   ]
  },
  {
   "cell_type": "markdown",
   "metadata": {
    "collapsed": true
   },
   "source": [
    "We have a few constraints to define:\n",
    "\n",
    "1. The demand at each retailer must be satisfied. In graph syntax this means the sum of all inbound edges must match the demand we have on file: $$\\sum_{o,d \\in in\\_edges(d)} qty_{o,d} = Demand(d)$$\n",
    "\n",
    "2. We must not use more supply than each factory has. i.e., the sum of the outbound edges from a factory must be less than or equal to the supply: $$\\sum_{o,d \\in out\\_edges(o)} qty_{o,d} \\leq Supply(o)$$\n",
    "\n",
    "3. Each qty must be less than or equal to the lane capacity: $$qty_{o,d} \\leq Capacity_{o,d}$$\n",
    "\n",
    "\n",
    "networkx makes this very easy to program because we can simply ask for all the inbound edges to a given node using ```nx.Digraph.in_edges```\n",
    "    "
   ]
  },
  {
   "cell_type": "code",
   "execution_count": 17,
   "metadata": {
    "collapsed": true
   },
   "outputs": [],
   "source": [
    "def constraints():\n",
    "    \n",
    "    constraints=[]\n",
    "    \n",
    "    for x, data in G.nodes(data=True):\n",
    "        #demand must be met\n",
    "        if data['node_type'] =='warehouse':\n",
    "            inbound_qty = lpSum([ qty[(org,x)] for org, _ in G.in_edges(x)])\n",
    "            c = inbound_qty == data['demand']\n",
    "            constraints.append(c)\n",
    "        #must not use more than the available supply\n",
    "        elif data['node_type'] =='factory':\n",
    "            out_qty = lpSum([ qty[(x,dest)] for _,dest in G.out_edges(x)])\n",
    "            c = out_qty <= data['supply']\n",
    "            constraints.append(c)\n",
    "            \n",
    "    #now the edge constraints\n",
    "    #we qty <= capacity on each lane\n",
    "    for org,dest, data in G.edges(data=True):\n",
    "        c = qty[(org,dest)] <= data['capacity']\n",
    "        constraints.append(c)\n",
    "        \n",
    "    return constraints"
   ]
  },
  {
   "cell_type": "markdown",
   "metadata": {},
   "source": [
    "Finally ready to create the problem, add the objective, and add the constraints"
   ]
  },
  {
   "cell_type": "code",
   "execution_count": 18,
   "metadata": {
    "collapsed": true
   },
   "outputs": [],
   "source": [
    "#setup the problem\n",
    "prob = LpProblem('warehouse_routing',LpMinimize)"
   ]
  },
  {
   "cell_type": "code",
   "execution_count": 19,
   "metadata": {
    "collapsed": true
   },
   "outputs": [],
   "source": [
    "#add the objective\n",
    "prob += objective()"
   ]
  },
  {
   "cell_type": "code",
   "execution_count": 20,
   "metadata": {
    "collapsed": true
   },
   "outputs": [],
   "source": [
    "#add all the constraints\n",
    "for c in constraints():\n",
    "    prob+=c"
   ]
  },
  {
   "cell_type": "markdown",
   "metadata": {},
   "source": [
    "Solve it!"
   ]
  },
  {
   "cell_type": "code",
   "execution_count": 21,
   "metadata": {
    "collapsed": false
   },
   "outputs": [
    {
     "name": "stdout",
     "output_type": "stream",
     "text": [
      "CPU times: user 3.07 ms, sys: 5.37 ms, total: 8.44 ms\n",
      "Wall time: 89.2 ms\n",
      "Optimal\n"
     ]
    }
   ],
   "source": [
    "%time prob.solve()\n",
    "print(LpStatus[prob.status])"
   ]
  },
  {
   "cell_type": "markdown",
   "metadata": {},
   "source": [
    "Now we can finally answer:\n",
    "\n",
    "**What quantity of plumbus-es should we ship from each factory to each warehouse?**"
   ]
  },
  {
   "cell_type": "code",
   "execution_count": 22,
   "metadata": {
    "collapsed": false
   },
   "outputs": [
    {
     "name": "stdout",
     "output_type": "stream",
     "text": [
      "Odie BurgerQueen 30.0\n",
      "Odie Starbucklers 50.0\n",
      "Odie Castco 47.0\n",
      "Odie Woolmart 38.0\n",
      "Walter Castco 26.0\n",
      "Pikachu BurgerQueen 40.0\n",
      "Pikachu McRonalds 57.0\n",
      "Pikachu Woolmart 62.0\n",
      "Garfield BurgerQueen 5.0\n",
      "Garfield SuperStore 50.0\n",
      "Garfield McRonalds 43.0\n",
      "Garfield Castco 52.0\n"
     ]
    }
   ],
   "source": [
    "#you can also use the value() function instead of .varValue\n",
    "for org,dest in G.edges():\n",
    "    v= value(qty[(org,dest)])\n",
    "    if v >0:\n",
    "        print(org,dest, v)"
   ]
  },
  {
   "cell_type": "markdown",
   "metadata": {},
   "source": [
    "and,\n",
    "\n",
    "**How much will our shipping cost be?**"
   ]
  },
  {
   "cell_type": "code",
   "execution_count": 23,
   "metadata": {
    "collapsed": false
   },
   "outputs": [
    {
     "data": {
      "text/plain": [
       "799.9499999999999"
      ]
     },
     "execution_count": 23,
     "metadata": {},
     "output_type": "execute_result"
    }
   ],
   "source": [
    "value(prob.objective)"
   ]
  },
  {
   "cell_type": "markdown",
   "metadata": {},
   "source": [
    "It is a good idea to verify explicitly that all the constraints were met. Sometimes it is easy to forget a necessary constraint."
   ]
  },
  {
   "cell_type": "code",
   "execution_count": 24,
   "metadata": {
    "collapsed": true
   },
   "outputs": [],
   "source": [
    "#lets verify all the conditions\n",
    "#first lets stuff our result into a dataframe for export\n",
    "result=[]\n",
    "for org,dest in G.edges():\n",
    "    v= value(qty[(org,dest)])\n",
    "    result.append({'origin':org,'destination':dest,'qty':v})\n",
    "result_df = pd.DataFrame(result)"
   ]
  },
  {
   "cell_type": "code",
   "execution_count": 25,
   "metadata": {
    "collapsed": false
   },
   "outputs": [],
   "source": [
    "lanes['key']=lanes.origin+lanes.destination\n",
    "result_df['key'] = result_df.origin+result_df.destination"
   ]
  },
  {
   "cell_type": "code",
   "execution_count": 26,
   "metadata": {
    "collapsed": false
   },
   "outputs": [],
   "source": [
    "lanes = lanes.set_index('key').merge(result_df.set_index('key'))"
   ]
  },
  {
   "cell_type": "code",
   "execution_count": 27,
   "metadata": {
    "collapsed": false
   },
   "outputs": [],
   "source": [
    "#any lane over capacity?\n",
    "assert np.all(lanes.qty <= lanes.capacity)"
   ]
  },
  {
   "cell_type": "code",
   "execution_count": 28,
   "metadata": {
    "collapsed": false
   },
   "outputs": [],
   "source": [
    "#check that we met the demand\n",
    "out_qty =lanes.groupby('destination').qty.sum()\n",
    "check = warehouses.set_index('Warehouse').join(out_qty)\n",
    "assert np.all(check.qty == check.Demand)"
   ]
  },
  {
   "cell_type": "code",
   "execution_count": 29,
   "metadata": {
    "collapsed": false
   },
   "outputs": [],
   "source": [
    "#check that we met the supply\n",
    "in_qty =lanes.groupby('origin').qty.sum()\n",
    "check = factories.set_index('Factory').join(in_qty)\n",
    "assert np.all(check.qty <= check.Supply)"
   ]
  },
  {
   "cell_type": "code",
   "execution_count": 30,
   "metadata": {
    "collapsed": false
   },
   "outputs": [
    {
     "data": {
      "text/html": [
       "<div>\n",
       "<table border=\"1\" class=\"dataframe\">\n",
       "  <thead>\n",
       "    <tr style=\"text-align: right;\">\n",
       "      <th></th>\n",
       "      <th>origin</th>\n",
       "      <th>destination</th>\n",
       "      <th>cost</th>\n",
       "      <th>capacity</th>\n",
       "      <th>qty</th>\n",
       "    </tr>\n",
       "  </thead>\n",
       "  <tbody>\n",
       "    <tr>\n",
       "      <th>0</th>\n",
       "      <td>Garfield</td>\n",
       "      <td>SuperStore</td>\n",
       "      <td>1.26</td>\n",
       "      <td>122</td>\n",
       "      <td>50.0</td>\n",
       "    </tr>\n",
       "    <tr>\n",
       "      <th>3</th>\n",
       "      <td>Garfield</td>\n",
       "      <td>Castco</td>\n",
       "      <td>1.64</td>\n",
       "      <td>78</td>\n",
       "      <td>52.0</td>\n",
       "    </tr>\n",
       "    <tr>\n",
       "      <th>4</th>\n",
       "      <td>Garfield</td>\n",
       "      <td>McRonalds</td>\n",
       "      <td>1.41</td>\n",
       "      <td>72</td>\n",
       "      <td>43.0</td>\n",
       "    </tr>\n",
       "    <tr>\n",
       "      <th>5</th>\n",
       "      <td>Garfield</td>\n",
       "      <td>BurgerQueen</td>\n",
       "      <td>1.78</td>\n",
       "      <td>86</td>\n",
       "      <td>5.0</td>\n",
       "    </tr>\n",
       "    <tr>\n",
       "      <th>7</th>\n",
       "      <td>Odie</td>\n",
       "      <td>Woolmart</td>\n",
       "      <td>1.41</td>\n",
       "      <td>91</td>\n",
       "      <td>38.0</td>\n",
       "    </tr>\n",
       "    <tr>\n",
       "      <th>8</th>\n",
       "      <td>Odie</td>\n",
       "      <td>Starbucklers</td>\n",
       "      <td>1.34</td>\n",
       "      <td>77</td>\n",
       "      <td>50.0</td>\n",
       "    </tr>\n",
       "    <tr>\n",
       "      <th>9</th>\n",
       "      <td>Odie</td>\n",
       "      <td>Castco</td>\n",
       "      <td>1.91</td>\n",
       "      <td>47</td>\n",
       "      <td>47.0</td>\n",
       "    </tr>\n",
       "    <tr>\n",
       "      <th>11</th>\n",
       "      <td>Odie</td>\n",
       "      <td>BurgerQueen</td>\n",
       "      <td>1.75</td>\n",
       "      <td>30</td>\n",
       "      <td>30.0</td>\n",
       "    </tr>\n",
       "    <tr>\n",
       "      <th>13</th>\n",
       "      <td>Pikachu</td>\n",
       "      <td>Woolmart</td>\n",
       "      <td>1.36</td>\n",
       "      <td>62</td>\n",
       "      <td>62.0</td>\n",
       "    </tr>\n",
       "    <tr>\n",
       "      <th>16</th>\n",
       "      <td>Pikachu</td>\n",
       "      <td>McRonalds</td>\n",
       "      <td>1.71</td>\n",
       "      <td>57</td>\n",
       "      <td>57.0</td>\n",
       "    </tr>\n",
       "    <tr>\n",
       "      <th>17</th>\n",
       "      <td>Pikachu</td>\n",
       "      <td>BurgerQueen</td>\n",
       "      <td>2.17</td>\n",
       "      <td>116</td>\n",
       "      <td>40.0</td>\n",
       "    </tr>\n",
       "    <tr>\n",
       "      <th>21</th>\n",
       "      <td>Walter</td>\n",
       "      <td>Castco</td>\n",
       "      <td>1.95</td>\n",
       "      <td>26</td>\n",
       "      <td>26.0</td>\n",
       "    </tr>\n",
       "  </tbody>\n",
       "</table>\n",
       "</div>"
      ],
      "text/plain": [
       "      origin   destination  cost  capacity   qty\n",
       "0   Garfield    SuperStore  1.26       122  50.0\n",
       "3   Garfield        Castco  1.64        78  52.0\n",
       "4   Garfield     McRonalds  1.41        72  43.0\n",
       "5   Garfield   BurgerQueen  1.78        86   5.0\n",
       "7       Odie      Woolmart  1.41        91  38.0\n",
       "8       Odie  Starbucklers  1.34        77  50.0\n",
       "9       Odie        Castco  1.91        47  47.0\n",
       "11      Odie   BurgerQueen  1.75        30  30.0\n",
       "13   Pikachu      Woolmart  1.36        62  62.0\n",
       "16   Pikachu     McRonalds  1.71        57  57.0\n",
       "17   Pikachu   BurgerQueen  2.17       116  40.0\n",
       "21    Walter        Castco  1.95        26  26.0"
      ]
     },
     "execution_count": 30,
     "metadata": {},
     "output_type": "execute_result"
    }
   ],
   "source": [
    "#the result!\n",
    "lanes[lanes.qty !=0]"
   ]
  },
  {
   "cell_type": "code",
   "execution_count": null,
   "metadata": {
    "collapsed": true
   },
   "outputs": [],
   "source": []
  }
 ],
 "metadata": {
  "anaconda-cloud": {},
  "kernelspec": {
   "display_name": "Python [Root]",
   "language": "python",
   "name": "Python [Root]"
  },
  "language_info": {
   "codemirror_mode": {
    "name": "ipython",
    "version": 3
   },
   "file_extension": ".py",
   "mimetype": "text/x-python",
   "name": "python",
   "nbconvert_exporter": "python",
   "pygments_lexer": "ipython3",
   "version": "3.5.2"
  }
 },
 "nbformat": 4,
 "nbformat_minor": 1
}
