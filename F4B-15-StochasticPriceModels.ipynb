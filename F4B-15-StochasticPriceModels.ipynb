{
 "cells": [
  {
   "cell_type": "markdown",
   "metadata": {},
   "source": [
    "# FLIP (04): Learning Theory (I)\n",
    "**(Module 03: Operation Research)**\n",
    "\n",
    "---\n",
    "- Materials in this module include resources collected from various open-source online repositories.\n",
    "- You are free to use, but NOT allowed to change or distribute this package.\n",
    "\n",
    "Prepared by and for \n",
    "**Student Members** |\n",
    "2006-2018 [TULIP Lab](http://www.tulip.org.au), Australia\n",
    "\n",
    "---"
   ]
  },
  {
   "cell_type": "markdown",
   "metadata": {},
   "source": [
    "# Stochastic Price Models"
   ]
  },
  {
   "cell_type": "markdown",
   "metadata": {},
   "source": [
    "This [IPython notebook](http://ipython.org/notebook.html) demonstrates the development and analysis of stochastic price models for commodity and financial goods."
   ]
  },
  {
   "cell_type": "markdown",
   "metadata": {},
   "source": [
    "### Initializations"
   ]
  },
  {
   "cell_type": "code",
   "execution_count": null,
   "metadata": {
    "collapsed": false
   },
   "outputs": [],
   "source": [
    "%matplotlib inline\n",
    "import matplotlib.pyplot as plt\n",
    "import numpy as np\n",
    "\n",
    "import pandas as pd\n",
    "import datetime\n",
    "from pandas.io.data import DataReader\n",
    "\n",
    "from IPython.core.display import HTML\n",
    "HTML(open(\"styles/custom.css\", \"r\").read())"
   ]
  },
  {
   "cell_type": "markdown",
   "metadata": {},
   "source": [
    "## Where to get Price Data"
   ]
  },
  {
   "cell_type": "markdown",
   "metadata": {},
   "source": [
    "Price data is available from a number of sources. Here we demonstrate the process of obtaining price data on financial goods from [Yahoo Finance](http://finance.yahoo.com/) and [Google Finance](https://www.google.com/finance), and downloading price data sets from [Quandl](http://www.quandl.com/)."
   ]
  },
  {
   "cell_type": "markdown",
   "metadata": {},
   "source": [
    "### Yahoo Finance"
   ]
  },
  {
   "cell_type": "markdown",
   "metadata": {},
   "source": [
    "[Yahoo Finance](http://finance.yahoo.com/) provides historical Open, High, Low, Close, and Volume date for quotes on traded securities. In addition, Yahoo Finance provides historical [Adjusted Close](http://marubozu.blogspot.com/2006/09/how-yahoo-calculates-adjusted-closing.html) price data that corrects for splits and dividend distributions. The Adjusted Close is a useful tool for computing the return on long-term investments.\n",
    "\n",
    "The following cell demonstrates how to download historical Adjusted Close price for a selected security into a pandas DataFrame."
   ]
  },
  {
   "cell_type": "code",
   "execution_count": null,
   "metadata": {
    "collapsed": false
   },
   "outputs": [],
   "source": [
    "symbol = 'XOM'\n",
    "description = 'ExxonMobil, Inc.'\n",
    "\n",
    "end = datetime.datetime.today().date()\n",
    "start = end - datetime.timedelta(3*365)\n",
    "\n",
    "S = DataReader(symbol,\"yahoo\",start,end)['Adj Close']\n",
    "\n",
    "plt.figure(figsize=(10,4))\n",
    "S.plot()\n",
    "plt.title(description)\n",
    "plt.ylabel('Price $/share')"
   ]
  },
  {
   "cell_type": "markdown",
   "metadata": {},
   "source": [
    "### Google Finance"
   ]
  },
  {
   "cell_type": "markdown",
   "metadata": {},
   "source": [
    "[Google Finance](https://www.google.com/finance) provides historical Open, High, Low, Close, and Volume date for quotes on traded securities. The following cell demonstrates how to download historical Close price for a selected security into a pandas DataFrame."
   ]
  },
  {
   "cell_type": "code",
   "execution_count": null,
   "metadata": {
    "collapsed": false
   },
   "outputs": [],
   "source": [
    "symbol = 'XOM'\n",
    "description = 'ExxonMobil, Inc.'\n",
    "\n",
    "end = datetime.datetime.today().date()\n",
    "start = end - datetime.timedelta(3*365)\n",
    "\n",
    "S = DataReader(symbol,\"google\",start,end)['Close']\n",
    "\n",
    "plt.figure(figsize=(10,4))\n",
    "S.plot()\n",
    "plt.title(description)\n",
    "plt.ylabel('Price $/share')"
   ]
  },
  {
   "cell_type": "markdown",
   "metadata": {},
   "source": [
    "### Quandl"
   ]
  },
  {
   "cell_type": "markdown",
   "metadata": {},
   "source": [
    "[Quandl](http://www.quandl.com/) is a searchable source of time-series data on a wide range of commodities, financials, and many other economic and social indicators. Data from Quandl can be downloaded as files in various formats, or accessed directly using the [Quandl API](http://www.quandl.com/help/api) or software-specific package. Here we use demonstrate use of the [Quandl Python package](http://www.quandl.com/help/packages#Python). \n",
    "\n",
    "The first step is execute a system command to check that the Quandl package has been installed."
   ]
  },
  {
   "cell_type": "code",
   "execution_count": null,
   "metadata": {
    "collapsed": false
   },
   "outputs": [],
   "source": [
    "!pip install Quandl"
   ]
  },
  {
   "cell_type": "markdown",
   "metadata": {},
   "source": [
    "Here are examples of energy datasets. These were found by searching Quandl, then identifying the Quandl code used for accessing the dataset, a description, the name of the field containing the desired price information."
   ]
  },
  {
   "cell_type": "code",
   "execution_count": null,
   "metadata": {
    "collapsed": false
   },
   "outputs": [],
   "source": [
    "code = 'WSJ/NG_HH'\n",
    "description = 'Cash commodity price for Natural Gas, Henry Hub. Units: $ per MMBTU'\n",
    "field = 'Value'\n",
    "\n",
    "code = 'OFDP/FUTURE_CL1'\n",
    "description = 'NYMEX Crude Oil Futures, Continuous Contract #1 (CL1) (Front Month)'\n",
    "field = 'Settle'"
   ]
  },
  {
   "cell_type": "code",
   "execution_count": null,
   "metadata": {
    "collapsed": false
   },
   "outputs": [],
   "source": [
    "import Quandl\n",
    "\n",
    "end = datetime.datetime.today().date()\n",
    "start = end - datetime.timedelta(5*365)\n",
    "\n",
    "S = Quandl.get(code, collapse='daily', \\\n",
    "    trim_start=start.isoformat(), trim_end=end.isoformat())[field]\n",
    "\n",
    "plt.figure(figsize=(10,4))\n",
    "S.plot()\n",
    "plt.title(description)\n",
    "plt.ylabel('Price $/bbl')"
   ]
  },
  {
   "cell_type": "markdown",
   "metadata": {},
   "source": [
    "## Returns"
   ]
  },
  {
   "cell_type": "markdown",
   "metadata": {},
   "source": [
    "The statistical properties of financial series are usually studied in terms of the change in prices. There are several reasons for this, key among them is that the changes can often be closely approximated as stationary random variables whereas prices are generally non-stationary sequences. \n",
    "\n",
    "A common model is \n",
    "\n",
    "$$S_{t+1} = R_{t} S_{t}$$\n",
    "\n",
    "so, recursively,\n",
    "\n",
    "$$S_{t+1} = R_{t} R_{t-1} \\cdots R_{0} S_{0}$$"
   ]
  },
  {
   "cell_type": "markdown",
   "metadata": {},
   "source": [
    "### Compounded (Log) Returns"
   ]
  },
  {
   "cell_type": "markdown",
   "metadata": {},
   "source": [
    "Compounded, or log returns, are defined as\n",
    "\n",
    "$$r^{log}_{t} = \\log R_t = \\log \\frac{S_{t+1}}{S_{t}}$$\n",
    "\n",
    "The log returns have a very useful compounding property for aggregating price changes across time\n",
    "\n",
    "$$ \\log \\frac{S_{t+k}}{S_{t}} = r^{log}_{t} + r^{log}_{t+1} + \\cdots + r^{log}_{t+k-1}$$\n",
    "\n",
    "If the compounded returns are statistically independent and identically distributed, then this property provides a means to aggregate returns and develop statistical price projections."
   ]
  },
  {
   "cell_type": "markdown",
   "metadata": {},
   "source": [
    "### Linear Returns"
   ]
  },
  {
   "cell_type": "markdown",
   "metadata": {},
   "source": [
    "Linear, or arithmetic returns, are defined as\n",
    "\n",
    "$$S_{t+1} = \\left(1 + r^{lin}_{t+1}\\right) S_{t}$$\n",
    "\n",
    "so that \n",
    "\n",
    "$$r^{lin}_{t} = \\left(\\frac{S_{t+1}}{S_{t}} - 1\\right) = R_{t} - 1$$\n",
    "\n",
    "Linear returns can be aggregated across a portfolio. Consider a portfolio composed of $N$ different assets that holds $x_{t,n}$ units of asset $n$ at time $t$. The value of portfolio at time $t$ is\n",
    "\n",
    "$$W_t = x_{t,n} S_{t,1} + x_{t,n} S_{t,2} + \\cdots x_{t,N} S_{t,N}$$\n",
    "\n",
    "The value of the portfolio at time $t+1$ (before any rebalancing) is given by\n",
    "\n",
    "$$\\begin{align*}\n",
    "W_{t+1} & = x_{t,1} S_{t+1,1} + x_{t,2} S_{t+1,2} + \\cdots x_{t,N} S_{t+1,N} \\\\\n",
    "& = x_{t,1}(1+r^{lin}_{t,1})S_{t,1} + x_{t,2}(1+r^{lin}_{t,2})S_{t,2} + \\cdots + x_{t,N}(1+r^{lin}_{t,N})S_{t,N} \\\\\n",
    "& = W_{t} + r^{lin}_{t,1}x_{t,1}S_{t,1} + r^{lin}_{t,2}x_{t,2}S_{t,2} + \\cdots + r^{lin}_{t,N}x_{t,N}S_{t,N}\n",
    "\\end{align*}$$\n",
    "\n",
    "Defining $w_{t,n}$ as the fraction of the portfolio's value invested in asset $n$ at time $t$\n",
    "\n",
    "$$w_{t,n} = \\frac{x_{t,n}S_{t,n}}{W_t}$$\n",
    "\n",
    "gives the final result\n",
    "\n",
    "$$\\begin{align*}\n",
    "r^{lin}_{t,W} & = \\frac{W_{t+1}}{W_t} - 1 \\\\\n",
    "& = w_{t,1}r^{lin}_{t,1} + w_{t,2}r^{lin}_{t,2} + \\cdots + w_{t,N}r^{lin}_{t,N}\n",
    "\\end{align*}$$\n",
    "\n",
    "showing that the linear return on the portfolio is a weighted linear sum of the linear returns on the individual assets."
   ]
  },
  {
   "cell_type": "markdown",
   "metadata": {},
   "source": [
    "### Volatility Drag and the Relationship between Linear and Log Returns"
   ]
  },
  {
   "cell_type": "markdown",
   "metadata": {},
   "source": [
    "For long-term financial decision making, it's important to understand the relationship between $r_t^{log}$ and $r_t^{lin}$. Algebraically, the relationships are simple.\n",
    "\n",
    "$$r^{log}_t = \\log \\left(1+r^{lin}_t\\right)$$\n",
    "\n",
    "$$r^{lin}_t = e^{r^{log}_t} - 1$$\n",
    "\n",
    "The linear return $r_t^{lin}$ is the fraction of value that is earned from an asset in a single period. It is a direct measure of earnings. The average value $\\bar{r}^{lin}$ over many periods this gives the average fractional earnings per period. If you care about consuming the earnings from an asset and not about growth in value, then $\\bar{r}^{lin}$ is the quantity of interest to you.\n",
    "\n",
    "Log return $r_t^{log}$ is the rate of growth in value of an asset over a single period. When averaged over many periods, $\\bar{r}^{log}$ measures the compounded rate of growth of valuu. If you care about the growth in value of an asset, then $\\bar{r}^{log}$ is the quantity of interest to you.\n",
    "\n",
    "The compounded rate of growth $r_t^{log}$ is generally smaller than average linear return $\\bar{r}^{lin}$ due to the effects of volatility. To see this, consider an asset that has a linear return of -50% in period 1, and +100% in period 2. The average linear return is would be +25%, but the compounded growth in value would be 0%.\n",
    "\n",
    "A general formula for the relationship between $\\bar{r}^{log}$ and $\\bar{r}^{lin}$ is derived as follows:\n",
    "\n",
    "$$\\begin{align*}\n",
    "\\bar{r}^{log} & = \\frac{1}{T}\\sum_{t=0}^{T-1} r_t^{log} \\\\\n",
    "& = \\frac{1}{T}\\sum_{t=0}^{T-1} \\log\\left(1+r_t^{lin}\\right) \\\\\n",
    "& = \\frac{1}{T}\\sum_{t=0}^{T-1} \\left(\\log(1) + r_t^{lin} - \\frac{1}{2} (r_t^{lin})^2 + \\cdots\n",
    "\\right) \\\\\n",
    "& = \\frac{1}{T}\\sum_{t=0}^{T-1} r_t^{lin} - \\frac{1}{2}\\frac{1}{T}\\sum_{t=0}^{T-1} (r_t^{lin})^2 + \\cdots \\\\\n",
    "& = \\bar{r}^{lin} - \\frac{1}{2}\\left(\\frac{1}{T}\\sum_{t=0}^{T-1} (r_t^{lin})^2\\right) + \\cdots \\\\\n",
    "& = \\bar{r}^{lin} - \\frac{1}{2}\\left((\\bar{r}^{lin})^2 + \\frac{1}{T}\\sum_{t=0}^{T-1} (r_t^{lin}-\\bar{r}^{lin})^2\\right) + \\cdots\n",
    "\\end{align*}$$\n",
    "\n",
    "For typical values $\\bar{r}^{lin}$ of and long horizons $T$, this results in a formula\n",
    "\n",
    "$$\\begin{align*}\n",
    "\\bar{r}^{log} & \\approx \\bar{r}^{lin} - \\frac{1}{2} \\left(\\sigma^{lin}\\right)^2\n",
    "\\end{align*}$$\n",
    "\n",
    "where $\\sigma^{lin}$ is the standard deviation of linear returns, more commonly called the volatility.\n",
    "\n",
    "The difference $- \\frac{1}{2} \\left(\\sigma^{lin}\\right)^2$ is the _volatility drag_ imposed on the compounded growth in value of an asset due to volatility in linear returns. This can be significant and a source of confusion for many investors. \n",
    "\n",
    "It's indeed possible to have a positive average linear return, but negative compounded growth.  To see this, consider a \\$100 investment which earns 20% on even-numbered years, and loses 18% on odd-numbered years. The average linear return is 1%, and the average log return is -0.81%.\n",
    "\n"
   ]
  },
  {
   "cell_type": "markdown",
   "metadata": {},
   "source": [
    "### Computing Linear and Log Returns"
   ]
  },
  {
   "cell_type": "markdown",
   "metadata": {},
   "source": [
    "Given the price data stored as a pandas `DataSeries` `S`, a corresponding data series for returns is computed using the pandas `shift()` function, followed by the `dropna()` function to remove missing values."
   ]
  },
  {
   "cell_type": "code",
   "execution_count": null,
   "metadata": {
    "collapsed": false
   },
   "outputs": [],
   "source": [
    "rLog = (np.log(S/S.shift(+1))).dropna()\n",
    "rLin = (S/S.shift(+1)).dropna() - 1.0\n",
    "\n",
    "plt.figure(figsize=(10,9))\n",
    "plt.subplot(3,1,1)\n",
    "S.plot()\n",
    "plt.ylabel('Price')\n",
    "plt.title(description)\n",
    "\n",
    "plt.subplot(3,1,2)\n",
    "rLog.plot()\n",
    "plt.ylabel('Log Return')\n",
    "\n",
    "plt.subplot(3,1,3)\n",
    "rLin.plot()\n",
    "plt.ylabel('Linear Return')\n",
    "\n",
    "plt.tight_layout()"
   ]
  },
  {
   "cell_type": "code",
   "execution_count": null,
   "metadata": {
    "collapsed": false
   },
   "outputs": [],
   "source": [
    "print \"Mean Linear Return = {0:.6f}\".format(rLin.mean())\n",
    "print \"Linear Volatility = {0:.6f}\".format(rLin.std())\n",
    "print \"Volatility Drag -0.5*vol**2 = {0:.6f}\".format(-0.5*rLin.std()**2)\n",
    "print \"rLin - 0.5*vol = {0:.6f}\\n\".format(rLin.mean() - 0.5*rLin.std()**2)\n",
    "\n",
    "print \"Mean Log Return = {0:.6f}\".format(rLog.mean())"
   ]
  },
  {
   "cell_type": "markdown",
   "metadata": {},
   "source": [
    "## Statistical Properties of Returns"
   ]
  },
  {
   "cell_type": "markdown",
   "metadata": {},
   "source": [
    "### Distribution of Returns"
   ]
  },
  {
   "cell_type": "markdown",
   "metadata": {},
   "source": [
    "A basic assumption in developing developing stochastic price models is that the residuals are indepdendent and identically distributed (i.i.d.) random variates.  Here we show the results of several common statistical tests that would screen out non-i.i.d. random variates."
   ]
  },
  {
   "cell_type": "code",
   "execution_count": null,
   "metadata": {
    "collapsed": false
   },
   "outputs": [],
   "source": [
    "bins = np.linspace(-0.12,0.10,50)\n",
    "plt.figure(figsize=(10,5))\n",
    "\n",
    "plt.subplot(2,2,1)\n",
    "rLog.hist(bins=bins, normed=True, color='b', alpha=0.5)\n",
    "plt.xlim(bins.min(),bins.max())\n",
    "plt.title('Log Returns')\n",
    "\n",
    "plt.subplot(2,2,3)\n",
    "rLog.hist(bins=bins, normed=True, cumulative=True, color='b',alpha=0.5)\n",
    "plt.xlim(bins.min(),bins.max())\n",
    "\n",
    "plt.subplot(2,2,2)\n",
    "rLin.hist(bins=bins, normed=True, color='y', alpha=0.5)\n",
    "plt.xlim(bins.min(),bins.max())\n",
    "plt.title('Linear Returns')\n",
    "\n",
    "plt.subplot(2,2,4)\n",
    "rLin.hist(bins=bins, normed=True, cumulative=True, color='y',alpha=0.5)\n",
    "plt.xlim(bins.min(),bins.max())\n",
    "\n",
    "plt.tight_layout()"
   ]
  },
  {
   "cell_type": "markdown",
   "metadata": {},
   "source": [
    "### Distribution of First Half versus Second Half of the Data Set"
   ]
  },
  {
   "cell_type": "code",
   "execution_count": null,
   "metadata": {
    "collapsed": false
   },
   "outputs": [],
   "source": [
    "from scipy.stats import t\n",
    "\n",
    "k = int(len(rLog)/2)\n",
    "r = np.linspace(rLog.min(),rLog.max())\n",
    "\n",
    "plt.figure();\n",
    "plt.hold(True)\n",
    "\n",
    "param = t.fit(rLog[:k])\n",
    "rLog[:k].hist(bins=r,normed=1,alpha=0.35,color='r')\n",
    "plt.plot(r,t.pdf(r,df=param[0],loc=param[1],scale=param[2]),'r-',lw=3);\n",
    "\n",
    "rLog[k:].hist(bins=r,normed=1,alpha=0.35,color='c')\n",
    "param = t.fit(rLog[k:])\n",
    "plt.plot(r,t.pdf(r,df=param[0],loc=param[1],scale=param[2]),'c-',lw=3);\n",
    "plt.hold(False)\n",
    "\n",
    "plt.legend(['rLog[:k]','rLog[k:]'])\n",
    "plt.title('Change in Distribution of Log Returns')"
   ]
  },
  {
   "cell_type": "markdown",
   "metadata": {},
   "source": [
    "### Lag Plot of $r^{log}_{t+1}$ versus $r^{log}_t$"
   ]
  },
  {
   "cell_type": "code",
   "execution_count": null,
   "metadata": {
    "collapsed": false
   },
   "outputs": [],
   "source": [
    "plt.plot(rLog[0:-1],rLog[1:],'.')\n",
    "plt.axis('equal');\n",
    "plt.xlabel('$r^{log}_{t}$')\n",
    "plt.ylabel('$r^{log}_{t+1}$')\n",
    "plt.grid()\n",
    "plt.title('Lag Plot for Log Returns');"
   ]
  },
  {
   "cell_type": "markdown",
   "metadata": {},
   "source": [
    "### Autocorrelation"
   ]
  },
  {
   "cell_type": "code",
   "execution_count": null,
   "metadata": {
    "collapsed": false
   },
   "outputs": [],
   "source": [
    "from statsmodels.graphics.tsaplots import plot_acf, plot_pacf\n",
    "plot_acf(rLog,lags=min(30,len(rLog)));\n",
    "plt.xlabel('Lag');\n",
    "plot_pacf(rLog,lags=min(30,len(rLog)));\n",
    "plt.xlabel('Lag');"
   ]
  },
  {
   "cell_type": "markdown",
   "metadata": {},
   "source": [
    "## Price Forecasting using the Bootstrap"
   ]
  },
  {
   "cell_type": "markdown",
   "metadata": {},
   "source": [
    "Our basic model for prices is \n",
    "\n",
    "$$S_{t+1} = R_{t}S_{t}$$ \n",
    "\n",
    "where $R_{t}$ represent total return and are assumed to be independent and identically distributed random variates. Previously we have computed log and linear returns as\n",
    "\n",
    "$$r^{log}_{t} = \\log \\frac{S_{t+1}}{S_{t}} = \\log R_t$$\n",
    "\n",
    "$$r^{lin}_{t} = \\frac{S_{t+1} - S_{t}}{S_{t}} = R_t - 1$$\n",
    "\n",
    "and executed several tests of the hypothesis that they behave as independent, identically distributed (i.i.d.) random variables. If we're satisfied with this hypothesis, then we can randomly sample the historical return data $R_{t}$ to simulate future prices.  This bootstrap technique is relatively simple to implement as shown below."
   ]
  },
  {
   "cell_type": "markdown",
   "metadata": {},
   "source": [
    "### Trading Days"
   ]
  },
  {
   "cell_type": "markdown",
   "metadata": {},
   "source": [
    "Typical sources of price data report information for trading days. Most years will have between 251 and 253 trading days. For the purpose of price forecasting, therefore, we create python functions for generating trading days for future years using the New York Stock Exchange calendar. These functions are implemented using rule sets from `dateutil` library."
   ]
  },
  {
   "cell_type": "code",
   "execution_count": null,
   "metadata": {
    "collapsed": false
   },
   "outputs": [],
   "source": [
    "from dateutil import rrule \n",
    "import datetime\n",
    "\n",
    "# Generate ruleset for holiday observances on the NYSE\n",
    "\n",
    "def NYSE_holidays(a=datetime.date.today(), b=datetime.date.today()+datetime.timedelta(days=365)):\n",
    "    rs = rrule.rruleset()\n",
    "\n",
    "    # Include all potential holiday observances\n",
    "    rs.rrule(rrule.rrule(rrule.YEARLY, dtstart=a, until=b, bymonth=12, bymonthday=31, byweekday=rrule.FR)) # New Years Day  \n",
    "    rs.rrule(rrule.rrule(rrule.YEARLY, dtstart=a, until=b, bymonth= 1, bymonthday= 1))                     # New Years Day  \n",
    "    rs.rrule(rrule.rrule(rrule.YEARLY, dtstart=a, until=b, bymonth= 1, bymonthday= 2, byweekday=rrule.MO)) # New Years Day    \n",
    "    rs.rrule(rrule.rrule(rrule.YEARLY, dtstart=a, until=b, bymonth= 1, byweekday= rrule.MO(3)))            # Martin Luther King Day   \n",
    "    rs.rrule(rrule.rrule(rrule.YEARLY, dtstart=a, until=b, bymonth= 2, byweekday= rrule.MO(3)))            # Washington's Birthday\n",
    "    rs.rrule(rrule.rrule(rrule.YEARLY, dtstart=a, until=b, byeaster= -2))                                  # Good Friday\n",
    "    rs.rrule(rrule.rrule(rrule.YEARLY, dtstart=a, until=b, bymonth= 5, byweekday= rrule.MO(-1)))           # Memorial Day\n",
    "    rs.rrule(rrule.rrule(rrule.YEARLY, dtstart=a, until=b, bymonth= 7, bymonthday= 3, byweekday=rrule.FR)) # Independence Day\n",
    "    rs.rrule(rrule.rrule(rrule.YEARLY, dtstart=a, until=b, bymonth= 7, bymonthday= 4))                     # Independence Day\n",
    "    rs.rrule(rrule.rrule(rrule.YEARLY, dtstart=a, until=b, bymonth= 7, bymonthday= 5, byweekday=rrule.MO)) # Independence Day\n",
    "    rs.rrule(rrule.rrule(rrule.YEARLY, dtstart=a, until=b, bymonth= 9, byweekday= rrule.MO(1)))            # Labor Day\n",
    "    rs.rrule(rrule.rrule(rrule.YEARLY, dtstart=a, until=b, bymonth=11, byweekday= rrule.TH(4)))            # Thanksgiving Day\n",
    "    rs.rrule(rrule.rrule(rrule.YEARLY, dtstart=a, until=b, bymonth=12, bymonthday=24, byweekday=rrule.FR)) # Christmas  \n",
    "    rs.rrule(rrule.rrule(rrule.YEARLY, dtstart=a, until=b, bymonth=12, bymonthday=25))                     # Christmas  \n",
    "    rs.rrule(rrule.rrule(rrule.YEARLY, dtstart=a, until=b, bymonth=12, bymonthday=26, byweekday=rrule.MO)) # Christmas \n",
    "    \n",
    "    # Exclude potential holidays that fall on weekends\n",
    "    rs.exrule(rrule.rrule(rrule.WEEKLY, dtstart=a, until=b, byweekday=(rrule.SA,rrule.SU)))\n",
    "\n",
    "    return rs\n",
    "    \n",
    "# Generate ruleset for NYSE trading days\n",
    "\n",
    "def NYSE_tradingdays(a=datetime.date.today(), b=datetime.date.today()+datetime.timedelta(days=365)):\n",
    "    rs = rrule.rruleset()\n",
    "    rs.rrule(rrule.rrule(rrule.DAILY, dtstart=a, until=b))\n",
    "    \n",
    "    # Exclude weekends and holidays\n",
    "    rs.exrule(rrule.rrule(rrule.WEEKLY, dtstart=a, byweekday=(rrule.SA,rrule.SU)))\n",
    "    rs.exrule(NYSE_holidays(a,b))\n",
    "    \n",
    "    return rs\n",
    "\n",
    "# Examples\n",
    "\n",
    "# List all NYSE holiday observances for the coming year\n",
    "print \"NYSE Holidays\\n\"\n",
    "for dy in NYSE_holidays():\n",
    "    print dy.strftime('%b %d %Y')\n",
    "\n",
    "# Count NYSE trading days in next 5 years\n",
    "print \"\\n\\nTrading Days\\n\"\n",
    "for yr in range(2015,2020):\n",
    "    tdays = len(list(NYSE_tradingdays(datetime.datetime(yr,1,1),datetime.datetime(yr,12,31))))\n",
    "    print \"{0}  {1}\".format(yr,tdays)"
   ]
  },
  {
   "cell_type": "code",
   "execution_count": null,
   "metadata": {
    "collapsed": false
   },
   "outputs": [],
   "source": [
    "from scipy.stats import lognorm\n",
    "\n",
    "N = 400\n",
    "#start_date = S.index[-252]\n",
    "start_date = S.index[-1]\n",
    "end_date = datetime.date.today() + datetime.timedelta(days=365)\n",
    "\n",
    "plt.figure(figsize=(10,6))\n",
    "plt.subplot(2,1,1)\n",
    "\n",
    "plt.plot(S.index,S,lw=0.5)\n",
    "plt.title(description)\n",
    "\n",
    "# Initialize P using the last available price\n",
    "P = np.array([S.ix[start_date]]*N)\n",
    "\n",
    "# The generator returns one array of N random samples from the history of total returns\n",
    "# for each t in the history of future horizon.\n",
    "R = (S/S.shift(+1)).dropna() #[0:start_date]\n",
    "Zgenerator = ((d,np.array([np.random.choice(R) for _ in xrange(N)])) \n",
    "                for d in NYSE_tradingdays(start_date,end_date))\n",
    "\n",
    "plt.hold(True)\n",
    "for d,Z in Zgenerator:\n",
    "    P *= Z\n",
    "    plt.plot([d]*N,P,'r.',ms=0.1,alpha=0.6)\n",
    "    plt.plot([d]*5,np.percentile(P,[95,75,50,25,5]),'g.',ms=0.8,alpha=0.6)\n",
    "    \n",
    "plt.hold(False)\n",
    "plt.grid()\n",
    "plt.ylim(0,plt.ylim()[1])\n",
    "\n",
    "# Histogram\n",
    "plt.subplot(2,2,3)\n",
    "plt.hold(True)\n",
    "plt.hist(P,bins=min(100,int(1.5*np.sqrt(N))),normed=1,alpha=0.35,color='b');\n",
    "shape,loc,scale = lognorm.fit(P,floc=0)\n",
    "x=np.linspace(0,max(P),100)\n",
    "pdf_fitted = lognorm.pdf(x, shape, loc=loc, scale=scale) # fitted distribution\n",
    "plt.plot(x,pdf_fitted,'b-',lw=3)\n",
    "p = np.mean(P)\n",
    "ylim = plt.ylim()\n",
    "plt.plot([p,p],ylim,'r--',lw=2)\n",
    "plt.ylim(ylim)\n",
    "plt.text(p,0.97*ylim[1],\"      Mean = {0:.2f}\".format(p),va = 'top')\n",
    "plt.hold(False)\n",
    "\n",
    "plt.xlim(min(P),max(P))\n",
    "plt.xlabel('Final Price')\n",
    "plt.ylabel('Probability');\n",
    "plt.title(\"Price Distribution for {1}\".format(description,d.strftime(\"%b %d %Y\")))\n",
    "\n",
    "# Cumulative Distribution\n",
    "plt.subplot(2,2,4)\n",
    "nbins = min(100,int(1.5*np.sqrt(N)))\n",
    "plt.hist(P,bins=nbins,normed=1,cumulative=True,alpha=0.35,color='b');\n",
    "plt.xlim(min(P),max(P))\n",
    "plt.xlabel('Final Price')\n",
    "plt.ylabel('Probability');\n",
    "plt.title(\"Cumulative Distribution for {1}\".format(description,d.strftime(\"%b %d %Y\")))\n",
    "\n",
    "def plotPercentile(p,va='baseline'):\n",
    "    x = np.percentile(P,100.0*p)\n",
    "    dp = -0.02 if va=='top' else 0.02\n",
    "    plt.text(min(P) + 0.05*(max(P)-min(P)),p+dp,'{0:.2f}'.format(x),ha='left',va=va)\n",
    "    plt.plot([0,x,x],[p,p,0],'r--',lw=2)\n",
    "\n",
    "plt.hold(True)\n",
    "plotPercentile(0.05)\n",
    "plotPercentile(0.50)\n",
    "plotPercentile(0.95,va='top')\n",
    "plt.hold(False)\n",
    "plt.grid()\n",
    "plt.tight_layout()\n",
    "\n",
    "plt.savefig('img/StochasticPriceModelBootstrap.png')"
   ]
  },
  {
   "cell_type": "markdown",
   "metadata": {},
   "source": [
    "## Geometric Brownian Motion"
   ]
  },
  {
   "cell_type": "markdown",
   "metadata": {},
   "source": [
    "$$S_{t+1} = S_t + \\mu h S_t + \\sigma \\sqrt{h} S_t Z_t$$\n",
    "\n",
    "where $Z_t \\sim N(0,1)$ and $h$ corresponds to a sampling period of 1 'trading day'. There are typically 252 trading days in a calendar year, 63 trading days in a quarter, and 21 trading days in a month.\n",
    "\n",
    "Defining return as\n",
    "\n",
    "$$r^{lin}_{t} = \\frac{S_{t+1} - S_{t}}{S_{t}} = \\mu h + \\sigma \\sqrt{h} Z_t$$\n",
    "\n",
    "then the statistical model for $r^{lin}_{t}$ becomes\n",
    "\n",
    "$$r^{lin}_{t} = \\mu h + \\sigma \\sqrt{h} Z_t$$\n",
    "\n",
    "For the case of Geometric Brownian Motion the hypothesis is that $r^{lin}_t$ is a random variable drawn from a the normal distribution $r^{lin}_t \\sim N(\\mu h, \\sigma\\sqrt{h}$)."
   ]
  },
  {
   "cell_type": "code",
   "execution_count": null,
   "metadata": {
    "collapsed": false
   },
   "outputs": [],
   "source": [
    "from scipy.stats import norm\n",
    "from statsmodels.graphics.gofplots import qqplot\n",
    "\n",
    "rLin = (S/S.shift(+1)).dropna() - 1.0\n",
    "(mu,sigma) = norm.fit(rLin)\n",
    "rv = norm(mu, sigma )\n",
    "\n",
    "def plotFittedReturns(r,description = '',rv=norm):\n",
    "    \n",
    "    # plot returns\n",
    "    plt.figure(figsize=(9,6))\n",
    "    plt.subplot(2,1,1)\n",
    "    r.plot()\n",
    "    plt.title(description)\n",
    "    \n",
    "    # fit returns to a given distribution\n",
    "    params = rv.fit(r)\n",
    "    rv = rv(args=params)\n",
    "\n",
    "    ax = plt.subplot(2,2,3)\n",
    "    plt.hold(True)\n",
    "    rSpace = np.linspace(r.min(),r.max())\n",
    "    print rv.pdf(rSpace)\n",
    "    r.hist(bins=rSpace,normed=1,alpha=0.4);\n",
    "    plt.plot(rSpace,rv.pdf(rSpace),'r-',lw=3,alpha=0.6)\n",
    "    plt.text(0.06,0.85,\"mean = {0:.3}\".format(rv.mean()),transform=ax.transAxes)\n",
    "    plt.text(0.06,0.75,\"std = {0:.3}\".format(rv.std()),transform=ax.transAxes)\n",
    "    plt.grid(False)\n",
    "    plt.hold(False)\n",
    "    plt.xlabel('$r^{log}_t$')\n",
    "    plt.title('Histogram of Returns')\n",
    "\n",
    "    ax = plt.subplot(2,2,4)\n",
    "    plt.axis('equal')\n",
    "    plt.hold(True)\n",
    "    #qqplot(r,dist=t,distargs=(df,), loc=mu, scale=scale,line='45',ax=ax)\n",
    "    plt.hold(False)\n",
    "    plt.title('qqplot')\n",
    "    plt.tight_layout()\n",
    "    \n",
    "    return rv\n",
    "\n",
    "plotFittedReturns(rLin,'Linear Returns ' + description,t);\n"
   ]
  },
  {
   "cell_type": "code",
   "execution_count": null,
   "metadata": {
    "collapsed": false
   },
   "outputs": [],
   "source": [
    "from scipy.stats import norm,t\n",
    "\n",
    "a = norm.fit(rLin)\n",
    "b = t.fit(rLin)\n",
    "print a\n",
    "q = norm(loc=a[-2],scale=a[-1])\n",
    "q.pdf([0.01, 0.02, 0.03, 0.04])\n",
    "\n"
   ]
  },
  {
   "cell_type": "code",
   "execution_count": null,
   "metadata": {
    "collapsed": false
   },
   "outputs": [],
   "source": [
    "N = 2000    # number of realizations\n",
    "T = 252    # simulation time horizon in trading days\n",
    "h = 1\n",
    "\n",
    "plt.figure(figsize=(10,6))\n",
    "plt.subplot(2,1,1)\n",
    "plt.plot(S.index,S)\n",
    "plt.title(description)\n",
    "\n",
    "start_date = S.index[-1]\n",
    "end_date = start_date + datetime.timedelta(365)\n",
    "\n",
    "# Initialize P\n",
    "P = np.array([S[-1]]*N)\n",
    "\n",
    "# generator of random variates\n",
    "Zgenerator = ((d,np.array(norm.rvs(loc=mu*h,scale=np.sqrt(h)*sigma,size=N)))\n",
    "              for d in NYSE_tradingdays(start_date,end_date))\n",
    "\n",
    "plt.hold(True)\n",
    "for (d,Z) in Zgenerator:\n",
    "    P += P*Z\n",
    "    plt.plot([d]*N,P,'r.',ms=0.1,alpha=0.5)\n",
    "    plt.plot([d]*5,np.percentile(P,[95,75,50,25,5]),'g.',ms=0.8,alpha=0.6)\n",
    "    \n",
    "plt.hold(False)\n",
    "plt.grid()\n",
    "plt.ylim(0,plt.ylim()[1])\n",
    "\n",
    "# Histogram\n",
    "plt.subplot(2,2,3)\n",
    "plt.hold(True)\n",
    "plt.hist(P,bins=min(100,int(1.5*np.sqrt(N))),normed=1,alpha=0.35,color='b');\n",
    "shape,loc,scale = lognorm.fit(P,floc=0)\n",
    "x=np.linspace(0,max(P),100)\n",
    "pdf_fitted = lognorm.pdf(x, shape, loc=loc, scale=scale) # fitted distribution\n",
    "plt.plot(x,pdf_fitted,'b-',lw=3)\n",
    "p = np.mean(P)\n",
    "ylim = plt.ylim()\n",
    "plt.plot([p,p],ylim,'r--',lw=2)\n",
    "plt.ylim(ylim)\n",
    "plt.text(p,0.97*ylim[1],\"      Mean = {0:.2f}\".format(p),va = 'top')\n",
    "\n",
    "T = len(list(NYSE_tradingdays(start_date,end_date)))\n",
    "\n",
    "alpha = np.log(S[-1]) + (mu-sigma*sigma/2.0)*T\n",
    "beta = sigma*np.sqrt(T)\n",
    "pdf_pred = lognorm.pdf(x, beta, loc=0, scale=np.exp(alpha)) # fitted distribution\n",
    "plt.plot(x,pdf_pred,'g--',lw=3)\n",
    "\n",
    "print T,alpha,beta\n",
    "print shape,loc,scale\n",
    "\n",
    "plt.hold(False)\n",
    "\n",
    "plt.xlim(min(P),max(P))\n",
    "plt.xlabel('Final Price')\n",
    "plt.ylabel('Probability');\n",
    "plt.title(\"Price Distribution for {1}\".format(description,d.strftime(\"%b %d %Y\")))\n",
    "\n",
    "# Cumulative Distribution\n",
    "plt.subplot(2,2,4)\n",
    "nbins = min(100,int(1.5*np.sqrt(N)))\n",
    "plt.hist(P,bins=nbins,normed=1,cumulative=True,alpha=0.35,color='b');\n",
    "plt.xlim(min(P),max(P))\n",
    "plt.xlabel('Final Price')\n",
    "plt.ylabel('Probability');\n",
    "plt.title(\"Cumulative Distribution for {1}\".format(description,d.strftime(\"%b %d %Y\")))\n",
    "\n",
    "def plotPercentile(p,va='baseline'):\n",
    "    x = np.percentile(P,100.0*p)\n",
    "    dp = -0.02 if va=='top' else 0.02\n",
    "    plt.text(min(P) + 0.05*(max(P)-min(P)),p+dp,'{0:.2f}'.format(x),ha='left',va=va)\n",
    "    plt.plot([0,x,x],[p,p,0],'r--',lw=2)\n",
    "\n",
    "plt.hold(True)\n",
    "plotPercentile(0.05)\n",
    "plotPercentile(0.50)\n",
    "plotPercentile(0.95,va='top')\n",
    "plt.hold(False)\n",
    "plt.grid()\n",
    "plt.tight_layout()\n",
    "\n",
    "plt.savefig('img/StochasticPriceModelGBM.png')"
   ]
  },
  {
   "cell_type": "markdown",
   "metadata": {},
   "source": [
    "## Price Forecasting with a Student's t-Distribution for Log Returns"
   ]
  },
  {
   "cell_type": "markdown",
   "metadata": {},
   "source": [
    "The definition of log returns can be rearranged to a recursive form\n",
    "\n",
    "$$\\log S_{t+1} = \\log S_{t} + r^{log}_{t}$$\n",
    "\n",
    "Assuming log returns are independent and identically distributed, we begin by fitting a Student's T-distribution\n",
    "\n",
    "$$f(r | \\nu,\\mu,s) = \\frac{\\Gamma(\\frac{\\nu+1}{2})}{s\\Gamma(\\frac{\\nu}{2})\\sqrt{\\pi\\nu}}\\left(1+\\frac{1}{\\nu}\\left(\\frac{r-\\mu}{s}\\right)^2\\right)^{-\\frac{\\nu+1}{2}}$$\n",
    "\n",
    "to historical data. This particular version of the distribution is presented in 'location-scale' form where $\\nu$ denotes the 'degrees of freedom', $\\mu$ is location, and $s$ is scale. The distribution is frequently used to model heavy tailed data where the degrees of freedom controls and scale parameters controls kurtosis. The Student's t-distribution is symmetric around $\\mu$ (which is the mean, median, and mode of the distribution). Smaller values of $\\nu$ correspond to heavier tails.  Key statistics for the distribution are\n",
    "\n",
    "$$\\begin{align*}\n",
    "E[r] & = \\mu \\quad\\mbox{for}\\quad \\nu > 1 \\\\\n",
    "\\mbox{Var}[r] & = s^2\\frac{\\nu}{\\nu-2} \\quad\\mbox{for}\\quad \\nu > 2\n",
    "\\end{align*}$$\n"
   ]
  },
  {
   "cell_type": "code",
   "execution_count": null,
   "metadata": {
    "collapsed": false
   },
   "outputs": [],
   "source": [
    "from scipy.stats import t\n",
    "\n",
    "# compute log returns, fit to t-distribution and freeze \n",
    "rLog = np.log(S/S.shift(+1)).dropna() \n",
    "df,mu,scale = t.fit(rLog)\n",
    "rv = t(df=df,loc=mu,scale=scale)\n",
    "\n",
    "plotFittedReturns(rLog,rv,'Log Returns ' + description)"
   ]
  },
  {
   "cell_type": "code",
   "execution_count": null,
   "metadata": {
    "collapsed": false
   },
   "outputs": [],
   "source": [
    "qqplot?"
   ]
  },
  {
   "cell_type": "code",
   "execution_count": null,
   "metadata": {
    "collapsed": false
   },
   "outputs": [],
   "source": [
    "N = 2000     # number of realizations\n",
    "H = 365      # simulation horizon in calendar days\n",
    "\n",
    "# initialize simulation\n",
    "start_date = S.index[-1]\n",
    "end_date = start_date + datetime.timedelta(H)\n",
    "P = np.array([np.log(S[-1])]*N)\n",
    "\n",
    "# create generator for N samples for each trading day\n",
    "Zgenerator = ((d,np.array(rv.rvs(size=N))) \n",
    "              for d in NYSE_tradingdays(start_date,end_date))\n",
    "\n",
    "# do simulation and plot results\n",
    "plt.figure(figsize=(10,6))\n",
    "plt.subplot(2,1,1)\n",
    "plt.hold(True)\n",
    "plt.plot(S.index,S)\n",
    "\n",
    "for (d,Z) in Zgenerator:\n",
    "    P += Z\n",
    "    plt.plot([d]*N,np.exp(P),'r.',ms=0.1,alpha=0.6)\n",
    "    plt.plot([d]*5,np.percentile(np.exp(P),[95,75,50,25,5]),'g.',ms=0.8,alpha=0.5)\n",
    "    \n",
    "plt.hold(False)\n",
    "plt.ylim(0,plt.ylim()[1])\n",
    "plt.grid()\n",
    "plt.title(description)\n",
    "\n",
    "P = np.exp(P)\n",
    "\n",
    "# histogram\n",
    "plt.subplot(2,2,3)\n",
    "plt.hold(True)\n",
    "nbins = min(100,int(1.5*np.sqrt(N)))\n",
    "plt.hist(P,bins=nbins,normed=1,alpha=0.35,color='b');\n",
    "ylim = plt.ylim()\n",
    "plt.plot([P.mean(),P.mean()],ylim,'r--',lw=2)\n",
    "plt.ylim(ylim)\n",
    "plt.text(p,0.97*ylim[1],\"      Mean = {0:.2f}\".format(P.mean()),va = 'top')\n",
    "\n",
    "#T = len(list(NYSE_tradingdays(start_date,end_date)))\n",
    "#alpha = np.log(S[-1]) + (mu-sigma*sigma/2.0)*T\n",
    "#beta = sigma*np.sqrt(T)\n",
    "#pdf_pred = lognorm.pdf(x, beta, loc=0, scale=np.exp(alpha)) # fitted distribution\n",
    "#plt.plot(x,pdf_pred,'g--',lw=3)\n",
    "plt.hold(False)\n",
    "plt.xlim(min(P),max(P))\n",
    "plt.xlabel('Final Price')\n",
    "plt.ylabel('Probability');\n",
    "plt.title(\"Price Distribution {0}\".format(d.strftime(\"%b %d %Y\")))\n",
    "\n",
    "# Cumulative Distribution\n",
    "plt.subplot(2,2,4)\n",
    "plt.hist(P,bins=nbins,normed=1,cumulative=True,alpha=0.35,color='b');\n",
    "plt.xlim(min(P),max(P))\n",
    "plt.ylim(0,1)\n",
    "plt.xlabel('Final Price')\n",
    "plt.ylabel('Probability');\n",
    "plt.title(\"Cumulative Distribution {0}\".format(d.strftime(\"%b %d %Y\")))\n",
    "\n",
    "def plotPercentile(p,va='baseline'):\n",
    "    x = np.percentile(P,100.0*p)\n",
    "    dp = -0.02 if va=='top' else 0.02\n",
    "    plt.text(min(P) + 0.05*(max(P)-min(P)),p+dp,'{0:.2f}'.format(x),ha='left',va=va)\n",
    "    plt.plot([0,x,x],[p,p,0],'r--',lw=2)\n",
    "\n",
    "plt.hold(True)\n",
    "plotPercentile(0.05)\n",
    "plotPercentile(0.50)\n",
    "plotPercentile(0.95,va='top')\n",
    "plt.hold(False)\n",
    "plt.grid()\n",
    "plt.tight_layout()\n",
    "\n",
    "plt.savefig('img/StochasticPriceModelLogT.png')"
   ]
  },
  {
   "cell_type": "markdown",
   "metadata": {},
   "source": [
    "## Regressing Returns to Alternative Models"
   ]
  },
  {
   "cell_type": "code",
   "execution_count": null,
   "metadata": {
    "collapsed": false
   },
   "outputs": [],
   "source": [
    "df = pd.DataFrame({'S':S,'R':R}, index = R.index)"
   ]
  },
  {
   "cell_type": "code",
   "execution_count": null,
   "metadata": {
    "collapsed": false
   },
   "outputs": [],
   "source": [
    "df = pd.DataFrame({'Price':S,'LnS':log(S),'Return':R})\n",
    "df = df[~isnan(df['Return'])]\n",
    "#plot(df['LnS'],df['Return'],'.')\n",
    "\n",
    "import statsmodels.api as sm\n",
    "df = sm.add_constant(df)\n",
    "mod = sm.OLS(df['Return'],df[['const','LnS']])\n",
    "res = mod.fit()\n",
    "print res.summary()\n",
    "print res.params\n",
    "res.resid.plot()"
   ]
  }
 ],
 "metadata": {
  "anaconda-cloud": {},
  "kernelspec": {
   "display_name": "Python 2",
   "language": "python",
   "name": "python2"
  },
  "language_info": {
   "codemirror_mode": {
    "name": "ipython",
    "version": 2
   },
   "file_extension": ".py",
   "mimetype": "text/x-python",
   "name": "python",
   "nbconvert_exporter": "python",
   "pygments_lexer": "ipython2",
   "version": "2.7.12"
  }
 },
 "nbformat": 4,
 "nbformat_minor": 0
}
