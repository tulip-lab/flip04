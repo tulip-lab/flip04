{
 "cells": [
  {
   "cell_type": "markdown",
   "metadata": {},
   "source": [
    "# FLIP (02) Optimization Data Science\n",
    "\n",
    "---\n",
    "Team Director: Meng Ren | mren@tulip.academy<br />\n",
    "\n",
    "TULIP Academy <br />\n",
    "http://www.tulip.academy \n",
    "\n",
    "---"
   ]
  },
  {
   "cell_type": "markdown",
   "metadata": {},
   "source": [
    "Implicit Multistep Methods\n",
    "=========================="
   ]
  },
  {
   "cell_type": "code",
   "execution_count": 1,
   "metadata": {
    "collapsed": false
   },
   "outputs": [],
   "source": [
    "%matplotlib inline"
   ]
  },
  {
   "cell_type": "code",
   "execution_count": 2,
   "metadata": {
    "collapsed": false
   },
   "outputs": [],
   "source": [
    "import numpy as np\n",
    "import matplotlib\n",
    "import matplotlib.pyplot as plt\n",
    "\n",
    "matplotlib.rcParams.update({'font.size': 14})"
   ]
  },
  {
   "cell_type": "markdown",
   "metadata": {},
   "source": [
    "Looking at IVPs of the form\n",
    "\n",
    "$${\\boldsymbol{y}}'(x) = {\\boldsymbol{f}}(x, {\\boldsymbol{y}}(x)).$$\n",
    "\n",
    "Looked at multistep methods using the $k$-step method formula\n",
    "\n",
    "$$a_k y_{n+1} + a_{k-1} y_n + \\dots + a_0 y_{n+1-k} = h \\left[ b_k f_{n+1} + b_{k-1} f_n + \\dots + b_0 f_{n+1-k} \\right].$$\n",
    "\n",
    "Explicit when $b_k = 0$, as in Adams-Bashforth methods. Even an explicit\n",
    "multistep method still needs a different method to start; multistage\n",
    "methods such as Runge-Kutta are typically used.\n",
    "\n",
    "May want to use an *implicit* formula where $b_k \\neq 0$. This may be\n",
    "either for accuracy or stability, as we shall consider later."
   ]
  },
  {
   "cell_type": "markdown",
   "metadata": {},
   "source": [
    "Adams-Moulton Methods\n",
    "---------------------"
   ]
  },
  {
   "cell_type": "markdown",
   "metadata": {},
   "source": [
    "Compare the explicit Adams-Bashforth methods\n",
    "\n",
    "$$y_{n+1} - y_n = h\\left[ b_{k-1} f_n + b_{k-2} f_{n-1} + \\dots \\right]$$\n",
    "\n",
    "with the *implicit* Adams-Moulton methods\n",
    "\n",
    "$$y_{n+1} - y_n = h \\left[ b_k f_{n+1} + b_{k-1} f_{n} + \\dots \\right]$$\n",
    "\n",
    " As before assume the $x_j$ are evenly spaced. Efficient\n",
    "as function evaluations can be stored, but difficult to use with\n",
    "adaptive step sizes. Formula cannot be used directly:\n",
    "$f_{n+1}$ cannot be computed directly. \n",
    "\n",
    "Standard practice to use Adams-Moulton methods as part of a\n",
    "predictor-correct method, where estimate $y^{(p)}_{n+1}$ is computed,\n",
    "and then the unknown $f_{n+1}$ estimated as\n",
    "\n",
    "$$f_{n+1} = f(x_{n+1}, y^{(p)}_{n+1}).$$\n",
    "\n",
    "Typically use Adams-Bashforth as the predictor\n",
    "(minimizes function evaluations), but any method (e.g. RK45) valid."
   ]
  },
  {
   "cell_type": "markdown",
   "metadata": {},
   "source": [
    "### Computing the coefficients"
   ]
  },
  {
   "cell_type": "markdown",
   "metadata": {},
   "source": [
    "Computing the fixed coefficients $b_m$ is identical to Adams-Bashforth:\n",
    "integrate the formula\n",
    "\n",
    "$$y_{n+1} - y_n = h \\left[ b_k f_{n+1} + b_{k-1} f_{n} + \\dots b_1 f_{n+2-k} \\right]$$\n",
    "\n",
    "over the range, assuming $f(x) = p_s(x)$ for polynomials of degree\n",
    "$s = 0, \\dots k-1$.\n",
    "\n",
    "As before we choose as a basis for the polynomials\n",
    "\n",
    "$$p_s(x) = x (x + h) \\dots (x + h (s-1))$$\n",
    "\n",
    "as $p_s$ vanishes at $x = 0, -h, \\dots, -h (s-1)$. Then choose\n",
    "$x_{n+1} = 0, x_{n} = -h$ and so on: the resulting system of equations\n",
    "is in upper-triangular form – solve by back substitution."
   ]
  },
  {
   "cell_type": "markdown",
   "metadata": {},
   "source": [
    "### Adams-Moulton example"
   ]
  },
  {
   "cell_type": "markdown",
   "metadata": {},
   "source": [
    "The Adams-Moulton method of order 5 has formula\n",
    "\n",
    "$$y_{n+1} - y_n = h \\left[ b_5 f_{n+1} + b_4 f_{n} + b_3 f_{n-1} + b_2 f_{n-2} + b_1 f_{n-3} \\right],$$\n",
    "\n",
    "and the coefficients follow from\n",
    "\n",
    "\\begin{align}\n",
    "p_0 & = 1: & h & = h \\left[ b_5 + b_4 + b_3 + b_2 + b_1 \\right] \\\\\n",
    "p_1 & = x: & -\\frac{h^2}{2} & = h \\left[ -h \\left( b_4 + 2 b_3 + 3\n",
    "    b_2 + 4 b_1 \\right) \\right] \\\\\n",
    "p_2 & = x (x + h): & -\\frac{h^3}{6} & = h \\left[ h^2 \\left( 2 b_3\n",
    "    + 6 b_2 + 12 b_1 \\right) \\right] \\\\ \n",
    "p_3 & = x (x + h) (x + 2 h): & -\\frac{h^4}{4} & = h \\left[ -h^3\n",
    "  \\left( 6 b_2 + 24 b_1 \\right) \\right] \\\\\n",
    "p_4 & = x (x + h) (x + 2 h) (x + 3 h): & -19 \\frac{h^5}{30} & = h\n",
    "\\left[ 24 h^4 b_1 \\right].\n",
    "\\end{align}"
   ]
  },
  {
   "cell_type": "markdown",
   "metadata": {},
   "source": [
    "### Standard example"
   ]
  },
  {
   "cell_type": "markdown",
   "metadata": {},
   "source": [
    "Apply the 5 step Adams-Moulton method to\n",
    "\n",
    "$$y'(x) = - \\sin(x), \\quad y(0) = 1$$\n",
    "\n",
    "and integrate to $x = 0.5$. Use RK4 to start algorithm and\n",
    "Adams-Bashforth 5 to predict. Using $h = 0.05$ gives\n",
    "\n",
    "|$n$|$x_n$|$y_n$|$f(x_n, y_n)$|$\\cos(x_n)$|\n",
    "|---|-----|-----|-------------|-----------|\n",
    "|0  | 0.0 |1.000| 0.000       | 1.000     |\n",
    "|1  | 0.1 |0.995| -0.100      | 0.995     |\n",
    "|2  | 0.2 |0.980| -0.199      | 0.980     |\n",
    "|3  | 0.3 |0.955| -0.296      | 0.955     |\n",
    "|4  | 0.4 |0.921| -0.389      | 0.921     |\n",
    "|5  | 0.5 |0.878|             | 0.878     |\n",
    "\n",
    "The error is is $2 \\times 10^{-9}\\%$, not visible at this precision.\n",
    "With $h = 0.01$ the error is $0.9 \\times 10^{-12}\\%$. Convergence is\n",
    "slightly worse than fifth order; result is slightly biased by the\n",
    "starting method."
   ]
  },
  {
   "cell_type": "code",
   "execution_count": 3,
   "metadata": {
    "collapsed": false
   },
   "outputs": [
    {
     "name": "stdout",
     "output_type": "stream",
     "text": [
      "Solution at x = 0.5 using h = 0.1 is y = 0.877582541412.\n",
      "Error at x = 0.5 using h = 0.1 is y = 2.04779130319e-08.\n",
      "Solution at x = 0.5 using h = 0.01 is y = 0.87758256189.\n",
      "Error at x = 0.5 using h = 0.01 is y = 8.2911455479e-13.\n"
     ]
    }
   ],
   "source": [
    "def am5_method(f, x_end, y0, N):\n",
    "    \"\"\"Solve IVP y'=f(x, y(x)) on x \\in [0, x_end] with y(0) = y0 using N+1 points, using 5th order Adams-Moulton method.\"\"\"\n",
    "    \n",
    "    h = x_end / N\n",
    "    x = np.linspace(0.0, x_end, N+1)\n",
    "    \n",
    "    y = np.zeros((N+1, len(y0)))\n",
    "    fn = np.zeros_like(y)\n",
    "    y[0, :] = y0\n",
    "    \n",
    "    # Start using RK4 steps\n",
    "    for n in range(4):\n",
    "        fn[n, :] = f(x[n], y[n, :])\n",
    "        k1 = h * fn[n, :]\n",
    "        k2 = h * f(x[n] + h / 2.0, y[n, :] + k1 / 2.0)\n",
    "        k3 = h * f(x[n] + h / 2.0, y[n, :] + k2 / 2.0)\n",
    "        k4 = h * f(x[n] + h, y[n, :] + k3)\n",
    "        y[n+1, :] = y[n, :] +  (k1 + k4 + 2.0 * (k2 + k3)) / 6.0\n",
    "    \n",
    "    # Solve for the coefficients\n",
    "    \n",
    "    coeff_A = np.array([[1.0, 1.0, 1.0, 1.0, 1.0],[0.0, -1.0, -2.0, -3.0, -4.0],[0.0, 0.0, 2.0, 6.0, 12.0],\n",
    "                        [0.0, 0.0, 0.0, -6.0, -24.0],[0.0, 0.0, 0.0, 0.0, 24.0]])\n",
    "    coeff_b = np.array([1.0, 1.0 / 2.0, 5.0/6.0, 9.0/4.0, 251.0/30.0])\n",
    "    b_ab4 = np.linalg.solve(coeff_A, coeff_b)\n",
    "    b_am5 = np.array([251.0, 646.0, -264.0, 106.0, -19.0])/720.0\n",
    "    \n",
    "    for n in range(4, N):\n",
    "        fn[n, :] = f(x[n], y[n, :])\n",
    "        yp = y[n, :] + h * (b_ab4[0]*fn[n, :] + b_ab4[1]*fn[n-1, :] + b_ab4[2]*fn[n-2, :] + \n",
    "                            b_ab4[3]*fn[n-3, :] + b_ab4[4]*fn[n-4, :])\n",
    "        y[n+1, :] = y[n, :] + h * (b_am5[0]*f(x[n+1], yp) + b_am5[1]*fn[n, :] + b_am5[2]*fn[n-1, :] + \n",
    "                                   b_am5[3]*fn[n-2, :] + b_am5[4]*fn[n-3, :])\n",
    "        \n",
    "    return x, y\n",
    "\n",
    "def fn_simple(x, y):\n",
    "    \"\"\"Simple function for example\"\"\"\n",
    "    \n",
    "    return -np.sin(x)\n",
    "\n",
    "# Example given above\n",
    "x_5, y_5 = am5_method(fn_simple, 0.5, [1.0], 5)\n",
    "x_50, y_50 = am5_method(fn_simple, 0.5, [1.0], 50)\n",
    "\n",
    "print(\"Solution at x = 0.5 using h = 0.1 is y = {}.\".format(y_5[-1, 0]))\n",
    "print(\"Error at x = 0.5 using h = 0.1 is y = {}.\".format(abs(np.cos(0.5) - y_5[-1, 0])))\n",
    "print(\"Solution at x = 0.5 using h = 0.01 is y = {}.\".format(y_50[-1, 0]))\n",
    "print(\"Error at x = 0.5 using h = 0.01 is y = {}.\".format(abs(np.cos(0.5) - y_50[-1, 0])))"
   ]
  },
  {
   "cell_type": "markdown",
   "metadata": {},
   "source": [
    "### Standard Example: 2"
   ]
  },
  {
   "cell_type": "markdown",
   "metadata": {},
   "source": [
    "Consider the system\n",
    "\n",
    "$$\\left\\{\n",
    "\\begin{aligned}\n",
    "  \\dot{x} & = -y \\\\ \\dot{y} & = x\n",
    "\\end{aligned} \\right., \\quad x(0) = 1, \\, \\, y(0) = 0.$$"
   ]
  },
  {
   "cell_type": "markdown",
   "metadata": {},
   "source": [
    "In polar coordinates this is $\\dot{r} = 0$, $\\dot{\\phi} = 1$.\n",
    "\n",
    "Use Adams-Moulton 5 step method with $h=0.1$. At\n",
    "$t=500$ the result matches the correct answer to the eye. \n",
    "\n",
    "The growth of the radius makes the errors visible.\n",
    "\n",
    "Use Adams-Moulton 5 step method with $h=0.01$. At\n",
    "$t=500$ the result matches the correct answer to the eye.\n",
    "\n",
    "Looking at the growth of the radius makes the errors visible even now."
   ]
  },
  {
   "cell_type": "code",
   "execution_count": 4,
   "metadata": {
    "collapsed": false
   },
   "outputs": [
    {
     "data": {
      "image/png": "[encoded data removed]",
      "text/plain": [
       "<matplotlib.figure.Figure at 0x7f1de8ab3cd0>"
      ]
     },
     "metadata": {},
     "output_type": "display_data"
    }
   ],
   "source": [
    "def fn_circular_motion(x, y):\n",
    "    \"\"\"Simple function for circular motion example\"\"\"\n",
    "    \n",
    "    dfdt = np.zeros_like(y)\n",
    "    dfdt[0] = -y[1]\n",
    "    dfdt[1] =  y[0]\n",
    "    \n",
    "    return dfdt\n",
    "\n",
    "# Example given above\n",
    "y0 = np.array([1.0, 0.0])\n",
    "t_0_1, y_0_1 = am5_method(fn_circular_motion, 50.0, y0, 500)\n",
    "t_0_01, y_0_01 = am5_method(fn_circular_motion, 50.0, y0, 5000)\n",
    "\n",
    "  \n",
    "fig = plt.figure(figsize = (10,6))\n",
    "ax1 = fig.add_subplot(121)\n",
    "ax1.plot(y_0_1[:, 0], y_0_1[:, 1], 'b-', label = '$h = 0.1$')\n",
    "ax1.set_xlabel('$x$')\n",
    "ax1.set_ylabel('$y$')\n",
    "ax2 = fig.add_subplot(122)\n",
    "ax2.plot(y_0_01[:, 0], y_0_01[:, 1], 'b-', label = '$h = 0.01$')\n",
    "ax2.set_xlabel('$x$')\n",
    "ax2.set_ylabel('$y$')\n",
    "fig.tight_layout()\n",
    "plt.show()"
   ]
  },
  {
   "cell_type": "code",
   "execution_count": 5,
   "metadata": {
    "collapsed": false
   },
   "outputs": [
    {
     "data": {
      "image/png": "[encoded data removed]",
      "text/plain": [
       "<matplotlib.figure.Figure at 0x7f1de8788850>"
      ]
     },
     "metadata": {},
     "output_type": "display_data"
    }
   ],
   "source": [
    "fig = plt.figure(figsize = (10,6))\n",
    "ax1 = fig.add_subplot(121)\n",
    "ax1.plot(t_0_1, np.sqrt(y_0_1[:, 0]**2 + y_0_1[:, 1]**2)-1.0, 'b-', label = '$h = 0.1$')\n",
    "ax1.set_xlabel('$t$')\n",
    "ax1.set_ylabel('$r - 1$')\n",
    "ax2 = fig.add_subplot(122)\n",
    "ax2.plot(t_0_01, np.sqrt(y_0_01[:, 0]**2 + y_0_01[:, 1]**2)-1.0, 'b-', label = '$h = 0.01$')\n",
    "ax2.set_xlabel('$t$')\n",
    "ax2.set_ylabel('$r - 1$')\n",
    "fig.tight_layout()\n",
    "plt.show()"
   ]
  },
  {
   "cell_type": "code",
   "execution_count": 6,
   "metadata": {
    "collapsed": false
   },
   "outputs": [
    {
     "data": {
      "image/png": "[encoded data removed]",
      "text/plain": [
       "<matplotlib.figure.Figure at 0x7f1de8aa06d0>"
      ]
     },
     "metadata": {},
     "output_type": "display_data"
    }
   ],
   "source": [
    "Npoints = np.array([50*2**i for i in range(2, 10)])\n",
    "h = np.zeros_like(Npoints, float)\n",
    "h = 50.0 / Npoints\n",
    "err = np.zeros_like(h)\n",
    "\n",
    "for i in range(len(Npoints)):\n",
    "    N = Npoints[i]\n",
    "    x, y = am5_method(fn_circular_motion, 50.0, y0, N)\n",
    "    err[i] = np.abs(y[-1, 0]**2 + y[-1, 1]**2 - 1.0)\n",
    "\n",
    "# Find the best fit to the data: if err ~ A h^s then the best fit straight line of log(err) vs log(h) has slope s.\n",
    "p = np.polyfit(np.log(h[1:]), np.log(err[1:]), 1)\n",
    "    \n",
    "fig = plt.figure(figsize = (10,6))\n",
    "ax = fig.add_subplot(111)\n",
    "ax.loglog(h, err, 'kx', label = 'Numerical data')\n",
    "ax.loglog(h, np.exp(p[1])*h**(p[0]), 'b-', label = \"Line slope {:.2f}\".format(p[0]))\n",
    "ax.set_xlabel('h')\n",
    "ax.set_ylabel('$\\|$ Error $\\|$')\n",
    "ax.set_title(\"Convergence of $5^{th}$ order Adams-Bashforth method for circular motion example\")\n",
    "ax.legend(loc = 2)\n",
    "fig.tight_layout()\n",
    "plt.show()"
   ]
  },
  {
   "cell_type": "markdown",
   "metadata": {},
   "source": [
    "Order of multistep methods\n",
    "--------------------------"
   ]
  },
  {
   "cell_type": "markdown",
   "metadata": {},
   "source": [
    "A $k$-step multistep method should be $k^{\\text{th}}$ order accurate as\n",
    "$k^{\\text{th}}$ order polynomials are exactly represented. To check\n",
    "compute the local truncation error.\n",
    "\n",
    "For the general $k$-step method\n",
    "\n",
    "$$a_k y_{n+1} + a_{k-1} y_n + \\dots + a_0 y_{n+1-k} = h \\left[ b_k f_{n+1} + b_{k-1} f_n + \\dots + b_0 f_{n+1-k} \\right]$$\n",
    "\n",
    "use the linear functional\n",
    "\n",
    "$$L(y) = \\sum_{p=0}^k \\left[ a_p y(x_{n-k} + p h) - h b_p y'(x_{n-k}+ ph) \\right].$$\n",
    "\n",
    "Substitute $y' = f(x, y)$ to see that the functional represents the\n",
    "$k$-step formula. Leading order term therefore gives the local\n",
    "truncation error.\n",
    "\n",
    "Another way of thinking about the functional is the following. The local\n",
    "truncation error is given by $| y_{n+1} - y(x_{n+1}) |$, assuming that\n",
    "$y_n, y_{n-1}, \\dots$ are all exact. We can then write\n",
    "\n",
    "\\begin{align}\n",
    "  \\text{Error} & \\propto | a_k \\left( y_{n+1} - y(x_{n+1}) \\right) |\n",
    "  \\\\\n",
    "  & = | -a_k y(x_{n+1}) + h \\sum_{p=0}^k b_p f_{n+1-k+p} -\n",
    "  \\sum_{\\ell=0}^{k-1} a_p y_{n+1-k+p} | \n",
    "\\end{align}\n",
    "using the $k$-step formula, then\n",
    "\\begin{align}\n",
    "  & = | -a_k y(x_{n+1}) + h \\sum_{p=0}^k b_p y'(x_{n+1-k+p}) -\n",
    "  \\sum_{\\ell=0}^{k-1} a_p y(x_{n+1-k+p}) | \\\\\n",
    "\\end{align}\n",
    "from the IVP $y' = f$, and using that $y_n$ etc. are exact,\n",
    "\\begin{align}\n",
    "  & = | \\sum_{p=0}^k \\left[ a_p y(x_{n-k} + p h) - h b_p y'(x_{n-k} +\n",
    "ph) \\right] |\n",
    "\\end{align}\n",
    "\n",
    "by re-ordering the sum and shifting the location of the $x_n$ points\n",
    "(which we are free to do)."
   ]
  },
  {
   "cell_type": "markdown",
   "metadata": {},
   "source": [
    "### Local truncation error of multistep methods"
   ]
  },
  {
   "cell_type": "markdown",
   "metadata": {},
   "source": [
    "Take the Taylor series expansion of both $y$ and $y'$,\n",
    "\n",
    "$$y(x_0 + p h)  = \\sum_j \\frac{(p h)^j}{j!} y^{(j)}(x_0), \\quad y'(x_0 + p h) = \\sum_j \\frac{(p h)^j}{j!} y^{(j+1)}(x_0),$$\n",
    "\n",
    "and substitute in the linear functional\n",
    "\n",
    "$$L(y) = \\sum_{p=0}^k \\left[ a_p y(x_{n-k} + p h) - h b_p y'(x_{n-k} + ph) \\right]$$\n",
    "\n",
    "to give\n",
    "\n",
    "$$L(y) = d_0 y(x_0) + d_1 h y'(x_0) + d_2 h^2 y''(x_0) + \\dots$$\n",
    "\n",
    "Expect that the first $k$ coefficients should vanish in a $k$-step\n",
    "method."
   ]
  },
  {
   "cell_type": "markdown",
   "metadata": {},
   "source": [
    "### Relating the coefficients"
   ]
  },
  {
   "cell_type": "markdown",
   "metadata": {},
   "source": [
    "The $k$-step method depends on the $a_m$ and $b_m$ coefficients; the\n",
    "accuracy of the method depends on the $d_m$ coefficients. By matching\n",
    "terms in the Taylor expansion get\n",
    "\n",
    "$$\\begin{aligned}\n",
    "d_0 & = \\sum_{p=0}^k a_p, \\\\ \n",
    "d_1 & = \\sum_{p=0}^k p a_p - b_p, \\\\\n",
    "d_2 & = \\sum_{p=0}^k \\frac{p^2}{2} a_p - p b_p,\n",
    "\\end{aligned}$$\n",
    "\n",
    "and in general\n",
    "\n",
    "$$d_j = \\sum_{p=0}^k \\left( \\frac{p^j}{j!} a_p - \\frac{p^{j-1}}{(j-1)!} b_p \\right), \\quad j \\geq 2.$$"
   ]
  },
  {
   "cell_type": "markdown",
   "metadata": {},
   "source": [
    "### Example"
   ]
  },
  {
   "cell_type": "markdown",
   "metadata": {},
   "source": [
    "For the two step Adams-Bashforth method have \n",
    "\n",
    "$$y_{n+1} - y_n = \\frac{h}{2} \\left[ 3 f_n - f_{n-1} \\right].$$\n",
    "\n",
    "Equivalent to the coefficients \n",
    "\n",
    "$$a_2 = 1, \\,\\, a_1 = -1, \\quad b_1 = 3/2, \\,\\, b_0 = -1/2.$$\n",
    "\n",
    "\n",
    "From this compute the $d_m$ coefficients:\n",
    "\n",
    "$$\\begin{aligned}\n",
    "d_0 & = \\textstyle\\sum_{p=0}^k a_p = (1 - 1) = 0, \\\\\n",
    "d_1 & = \\textstyle\\sum_{p=0}^k p a_p - b_p = \\left(2 - 1\n",
    "\\right) - \\left( 3/2 - 1/2 \\right) = 0, \\\\\n",
    "d_2 & = \\textstyle\\sum_{p=0}^k \\tfrac{p^2}{2} a_p - p b_p =\n",
    "\\left( 2 - 1/2 \\right) - \\left( 3/2 + 0 \\right) = 0, \\\\\n",
    "d_3 & = \\textstyle\\sum_{p=0}^k \\tfrac{p^3}{6} a_p -\n",
    "\\tfrac{p^2}{2} b_p = \\left( 4/3 - 1/6 \\right) - \\left( 1/2 \\cdot\n",
    "  3/2 \\right) \\neq 0. \n",
    "\\end{aligned}$$\n",
    "\n",
    "Hence the local truncation error is ${\\cal O}(h^3)$ and the global\n",
    "truncation error ${\\cal O}(h^2)$."
   ]
  },
  {
   "cell_type": "markdown",
   "metadata": {},
   "source": [
    "### Example: Milne’s method"
   ]
  },
  {
   "cell_type": "markdown",
   "metadata": {},
   "source": [
    "Milne’s method represents $y'$ using central differencing and the\n",
    "integral with Simpson’s rule:\n",
    "\n",
    "$$y_{n+1} - y_{n-1} = \\frac{h}{3} \\left( f_{n+1} + 4 f_{n} + f_{n-1} \\right).$$\n",
    "\n",
    "This is a $k$-step method with coefficients\n",
    "\n",
    "$$\\begin{aligned}\n",
    "a_0 & = -1, & a_1 & = 0, & a_2 & = 1, \\\\\n",
    "b_0 & = 1/3, & b_1 & = 4/3, & b_2 & = 1/3.\n",
    "\\end{aligned}$$\n",
    "\n",
    "From this compute the accuracy coefficients\n",
    "\n",
    "\\begin{align}\n",
    "  d_0 &= a_0 + a_1 + a_2 = 0,\\\\\n",
    "  d_1 &= (0 a_0 - b_0) + (a_1 - b_1) + (2 a_2 - b_2) = 0,\\\\\n",
    "  d_2 &= (0 a_0 - 0 b_0) + (\\frac{1}{2} a_1 - b_1) +(\\frac{2^2}{2} a_2 - 2 b_2) = 0,\\\\\n",
    "  d_3 &= (0 a_0 - 0 b_0) + (\\frac{1}{6} a_1 - \\frac{1}{2} b_1) +(\\frac{2^3}{6} a_2 - \\frac{2^2}{2} b_2) = 0,\\\\\n",
    "  d_4 &= (0 a_0 - 0 b_0) + (\\frac{1}{24} a_1 - \\frac{1}{6} b_1) +(\\frac{2^4}{24} a_2 - \\frac{2^3}{6} b_2) = 0,\\\\\n",
    "  d_5 &= (0 a_0 - 0 b_0) + (\\frac{1}{120} a_1 - \\frac{1}{24} b_1) + (\\frac{2^5}{120} a_2 - \\frac{2^4}{24} b_2) \\neq 0.\n",
    "\\end{align}\n",
    "\n",
    "Hence the local truncation error is $\\propto h^5$ giving a fourth\n",
    "order method."
   ]
  },
  {
   "cell_type": "markdown",
   "metadata": {},
   "source": [
    "Summary\n",
    "======="
   ]
  },
  {
   "cell_type": "markdown",
   "metadata": {},
   "source": [
    "-   Implicit multistep methods can be used in a predictor-corrector\n",
    "fashion.\n",
    "\n",
    "-   Typically the implicit *Adams-Moulton* methods use the explicit\n",
    "Adams-Bashforth methods as a predictor, but any explicit method\n",
    "(such as the Euler method) can be used.\n",
    "\n",
    "-   To check the accuracy of a general $k$-step method we Taylor expand\n",
    "the appropriate linear functional.\n",
    "\n",
    "-   The functional gives the error made in taking a single step; its\n",
    "local truncation error.\n",
    "\n",
    "-   The coefficients of the linear functional $d_m$ are given by a\n",
    "simple relation to the coefficients $a_m,b_m$ of the $k$-step\n",
    "method."
   ]
  }
 ],
 "metadata": {
  "anaconda-cloud": {},
  "kernelspec": {
   "display_name": "Python [Root]",
   "language": "python",
   "name": "Python [Root]"
  },
  "language_info": {
   "codemirror_mode": {
    "name": "ipython",
    "version": 3
   },
   "file_extension": ".py",
   "mimetype": "text/x-python",
   "name": "python",
   "nbconvert_exporter": "python",
   "pygments_lexer": "ipython3",
   "version": "3.5.2"
  }
 },
 "nbformat": 4,
 "nbformat_minor": 0
}
