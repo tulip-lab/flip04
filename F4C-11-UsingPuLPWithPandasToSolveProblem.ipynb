{
 "cells": [
  {
   "cell_type": "markdown",
   "metadata": {},
   "source": [
    "# FLIP (04): Learning Theory (I)\n",
    "**(Module 03: Convex Optimization)**\n",
    "\n",
    "---\n",
    "- Materials in this module include resources collected from various open-source online repositories.\n",
    "- You are free to use, but NOT allowed to change or distribute this package.\n",
    "\n",
    "Prepared by and for \n",
    "**Student Members** |\n",
    "2006-2018 [TULIP Lab](http://www.tulip.org.au), Australia\n",
    "\n",
    "---"
   ]
  },
  {
   "cell_type": "markdown",
   "metadata": {},
   "source": [
    "## Using PuLP with pandas and binary constraints to solve a scheduling problem"
   ]
  },
  {
   "cell_type": "markdown",
   "metadata": {},
   "source": [
    "In this example, we'll be solving a scheduling problem. We have 2 offshore production plants in 2 locations and an estimated demand for our products. \n",
    "\n",
    "We want to produce a schedule of production from both plants that meets our demand with the lowest cost.\n",
    "\n",
    "A factory can be in 2 states:\n",
    "* Off - Producing zero units\n",
    "* On - Producing between its minimum and maximum production capacities\n",
    "\n",
    "Both factories have fixed costs, that are incurred as long as the factory is on, and variable costs, a cost per unit of production. These vary month by month. \n",
    "\n",
    "We also know that factory B is down for maintenance in month 5.\n",
    "\n",
    "We'll start by importing our data. \n",
    "\n",
    "The data is imported into a multi-index pandas DataFrame using 'Month' and 'Factory' as our index columns."
   ]
  },
  {
   "cell_type": "code",
   "execution_count": null,
   "metadata": {
    "collapsed": false
   },
   "outputs": [],
   "source": [
    "import pandas as pd\n",
    "import pulp"
   ]
  },
  {
   "cell_type": "code",
   "execution_count": null,
   "metadata": {
    "collapsed": false
   },
   "outputs": [],
   "source": [
    "factories = pd.DataFrame.from_csv('csv/factory_variables.csv', index_col=['Month', 'Factory'])\n",
    "factories"
   ]
  },
  {
   "cell_type": "markdown",
   "metadata": {},
   "source": [
    "We'll also import our demand data"
   ]
  },
  {
   "cell_type": "code",
   "execution_count": null,
   "metadata": {
    "collapsed": true
   },
   "outputs": [],
   "source": [
    "demand = pd.DataFrame.from_csv('csv/monthly_demand.csv', index_col=['Month'])"
   ]
  },
  {
   "cell_type": "code",
   "execution_count": null,
   "metadata": {
    "collapsed": false,
    "scrolled": true
   },
   "outputs": [],
   "source": [
    "demand"
   ]
  },
  {
   "cell_type": "markdown",
   "metadata": {},
   "source": [
    "As we have fixed costs and variable costs, we'll need to model both production and the status of the factory i.e. whether it is on or off.\n",
    "\n",
    "Production is modelled as an integer variable. \n",
    "\n",
    "We have a value for production for each month for each factory, this is given by the tuples of our multi-index pandas DataFrame index."
   ]
  },
  {
   "cell_type": "code",
   "execution_count": null,
   "metadata": {
    "collapsed": false
   },
   "outputs": [],
   "source": [
    "production = pulp.LpVariable.dicts(\"production\",\n",
    "                                     ((month, factory) for month, factory in factories.index),\n",
    "                                     lowBound=0,\n",
    "                                     cat='Integer')"
   ]
  },
  {
   "cell_type": "markdown",
   "metadata": {},
   "source": [
    "Factory status is modelled as a binary variable. It will have a value of 1 if the factory is on and a value of 0 when the factory is off.\n",
    "\n",
    "Binary variables are the same as integer variables but constrained to be >= 0 and <=1\n",
    "\n",
    "Again this has a value for each month for each factory, again given by the index of our DataFrame"
   ]
  },
  {
   "cell_type": "code",
   "execution_count": null,
   "metadata": {
    "collapsed": false
   },
   "outputs": [],
   "source": [
    "factory_status = pulp.LpVariable.dicts(\"factory_status\",\n",
    "                                     ((month, factory) for month, factory in factories.index),\n",
    "                                     cat='Binary')"
   ]
  },
  {
   "cell_type": "markdown",
   "metadata": {},
   "source": [
    "We instantiate our model and use LpMinimize as the aim is to minimise costs."
   ]
  },
  {
   "cell_type": "code",
   "execution_count": null,
   "metadata": {
    "collapsed": false
   },
   "outputs": [],
   "source": [
    "model = pulp.LpProblem(\"Cost minimising scheduling problem\", pulp.LpMinimize)"
   ]
  },
  {
   "cell_type": "markdown",
   "metadata": {},
   "source": [
    "In our objective function we include our 2 costs: \n",
    "* Our variable costs is the product of the variable costs per unit and production\n",
    "* Our fixed costs is the factory status - 1 (on) or 0 (off) - multiplied by the fixed cost of production"
   ]
  },
  {
   "cell_type": "code",
   "execution_count": null,
   "metadata": {
    "collapsed": false
   },
   "outputs": [],
   "source": [
    "model += pulp.lpSum(\n",
    "    [production[month, factory] * factories.loc[(month, factory), 'Variable_Costs'] for month, factory in factories.index]\n",
    "    + [factory_status[month, factory] * factories.loc[(month, factory), 'Fixed_Costs'] for month, factory in factories.index]\n",
    ")"
   ]
  },
  {
   "cell_type": "markdown",
   "metadata": {},
   "source": [
    "We build up our constraints"
   ]
  },
  {
   "cell_type": "code",
   "execution_count": null,
   "metadata": {
    "collapsed": false
   },
   "outputs": [],
   "source": [
    "# Production in any month must be equal to demand\n",
    "months = demand.index\n",
    "for month in months:\n",
    "    model += production[(month, 'A')] + production[(month, 'B')] == demand.loc[month, 'Demand']"
   ]
  },
  {
   "cell_type": "markdown",
   "metadata": {},
   "source": [
    "An issue we run into here is that in linear programming we can't use conditional constraints. \n",
    "\n",
    "For example we can't add to our model that if the factory is off factory status must be 0, and if it is on factory status must be 1. Before we've solved our model though, we don't know if the factory will be on or off in a given month.\n",
    "\n",
    "In this case construct constraints that have minimum and maximum capacities that are constant variables, which we multiply by the factory status.\n",
    "\n",
    "Now, either factory status is 0 and:\n",
    "* min_production >= 0\n",
    "* max_production <= 0\n",
    "\n",
    "Or factory status is 1 and:\n",
    "* min_production >= min_capacity\n",
    "* max_production <= max_capacity\n",
    "\n",
    "*(In some cases we can use linear constraints to model conditional statements, we'll explore this in part 6)*"
   ]
  },
  {
   "cell_type": "code",
   "execution_count": null,
   "metadata": {
    "collapsed": true
   },
   "outputs": [],
   "source": [
    "# Production in any month must be between minimum and maximum capacity, or zero.\n",
    "for month, factory in factories.index:\n",
    "    min_production = factories.loc[(month, factory), 'Min_Capacity']\n",
    "    max_production = factories.loc[(month, factory), 'Max_Capacity']\n",
    "    model += production[(month, factory)] >= min_production * factory_status[month, factory]\n",
    "    model += production[(month, factory)] <= max_production * factory_status[month, factory]"
   ]
  },
  {
   "cell_type": "code",
   "execution_count": null,
   "metadata": {
    "collapsed": true
   },
   "outputs": [],
   "source": [
    "# Factory B is off in May\n",
    "model += factory_status[5, 'B'] == 0\n",
    "model += production[5, 'B'] == 0"
   ]
  },
  {
   "cell_type": "markdown",
   "metadata": {},
   "source": [
    "We then solve the model"
   ]
  },
  {
   "cell_type": "code",
   "execution_count": null,
   "metadata": {
    "collapsed": false
   },
   "outputs": [],
   "source": [
    "model.solve()\n",
    "pulp.LpStatus[model.status]"
   ]
  },
  {
   "cell_type": "markdown",
   "metadata": {},
   "source": [
    "Let's take a look at the optimal production schedule output for each month from each factory. For ease of viewing we'll output the data to a pandas DataFrame."
   ]
  },
  {
   "cell_type": "code",
   "execution_count": null,
   "metadata": {
    "collapsed": false
   },
   "outputs": [],
   "source": [
    "output = []\n",
    "for month, factory in production:\n",
    "    var_output = {\n",
    "        'Month': month,\n",
    "        'Factory': factory,\n",
    "        'Production': production[(month, factory)].varValue,\n",
    "        'Factory Status': factory_status[(month, factory)].varValue\n",
    "    }\n",
    "    output.append(var_output)\n",
    "output_df = pd.DataFrame.from_records(output).sort_values(['Month', 'Factory'])\n",
    "output_df.set_index(['Month', 'Factory'], inplace=True)\n",
    "output_df"
   ]
  },
  {
   "cell_type": "markdown",
   "metadata": {},
   "source": [
    "Notice above that the factory status is 0 when not producing and 1 when it is producing"
   ]
  },
  {
   "cell_type": "code",
   "execution_count": null,
   "metadata": {
    "collapsed": false
   },
   "outputs": [],
   "source": [
    "# Print our objective function value (Total Costs)\n",
    "print pulp.value(model.objective)"
   ]
  }
 ],
 "metadata": {
  "anaconda-cloud": {},
  "kernelspec": {
   "display_name": "Python 2",
   "language": "python",
   "name": "python2"
  },
  "language_info": {
   "codemirror_mode": {
    "name": "ipython",
    "version": 2
   },
   "file_extension": ".py",
   "mimetype": "text/x-python",
   "name": "python",
   "nbconvert_exporter": "python",
   "pygments_lexer": "ipython2",
   "version": "2.7.12"
  }
 },
 "nbformat": 4,
 "nbformat_minor": 0
}
