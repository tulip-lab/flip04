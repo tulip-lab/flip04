{
 "cells": [
  {
   "cell_type": "markdown",
   "metadata": {},
   "source": [
    "# FLIP (02) Optimization Data Science\n",
    "\n",
    "---\n",
    "Team Director: Meng Ren | mren@tulip.academy<br />\n",
    "\n",
    "TULIP Academy <br />\n",
    "http://www.tulip.academy \n",
    "\n",
    "---"
   ]
  },
  {
   "cell_type": "markdown",
   "metadata": {},
   "source": [
    "# Energy ETF's"
   ]
  },
  {
   "cell_type": "code",
   "execution_count": null,
   "metadata": {
    "collapsed": false
   },
   "outputs": [],
   "source": [
    "# This line configures the computational environment for this notebook.\n",
    "%pylab inline\n",
    "%run -i CBEformats"
   ]
  },
  {
   "cell_type": "markdown",
   "metadata": {},
   "source": [
    "## Introduction"
   ]
  },
  {
   "cell_type": "code",
   "execution_count": null,
   "metadata": {
    "collapsed": false
   },
   "outputs": [],
   "source": [
    "import datetime as dt\n",
    "import numpy as np\n",
    "from scipy import stats\n",
    "import pandas as pa\n",
    "from pandas.io.data import DataReader"
   ]
  },
  {
   "cell_type": "code",
   "execution_count": null,
   "metadata": {
    "collapsed": false
   },
   "outputs": [],
   "source": [
    "#symbols = ['USO']\n",
    "symbols = ['GLD','SLV','DBS','F']\n",
    "start_date = dt.datetime.now() + dt.timedelta(-10*365.25)"
   ]
  },
  {
   "cell_type": "markdown",
   "metadata": {},
   "source": [
    "## Gathering Historical Price Information"
   ]
  },
  {
   "cell_type": "code",
   "execution_count": null,
   "metadata": {
    "collapsed": false
   },
   "outputs": [],
   "source": [
    "adj_close = dict()\n",
    "for s in symbols:\n",
    "    adj_close[s] = DataReader(s, \"yahoo\", start_date)[\"Adj Close\"]\n",
    "    adj_close[s].plot()\n",
    "    \n",
    "    \n",
    "legend(symbols);"
   ]
  },
  {
   "cell_type": "code",
   "execution_count": null,
   "metadata": {
    "collapsed": false
   },
   "outputs": [],
   "source": []
  },
  {
   "cell_type": "markdown",
   "metadata": {},
   "source": [
    "## Log Returns"
   ]
  },
  {
   "cell_type": "code",
   "execution_count": null,
   "metadata": {
    "collapsed": false
   },
   "outputs": [],
   "source": [
    "returns = dict()\n",
    "\n",
    "for s in symbols:\n",
    "    returns[s] = log(adj_close[s]/adj_close[s].shift(1))\n",
    "    \n",
    "for k in range(len(symbols)):\n",
    "    \n",
    "    # Descriptive statistics\n",
    "    r = returns[symbols[k]][~np.isnan(returns[symbols[k]])]\n",
    "    df,loc,scale = stats.t.fit(r)\n",
    "    print \"\\n\\n\"\n",
    "    print \"{:>4s}: annual mean= {:7.4f}  annual std= {:7.4f}\".format(symbols[k], 252*r.mean(), sqrt(252)*r.std())\n",
    "    print \"    df= {:4.2f}  loc= {:7.4f}       scale= {:7.4f}\".format(df, 252*loc, sqrt(252)*scale)\n",
    "    \n",
    "    # Returns\n",
    "    ax1 = subplot2grid((2,3),(0,0), colspan=3)\n",
    "    r.plot()\n",
    "    ylabel('Log Return')\n",
    "    subplots_adjust(hspace=0.75)\n",
    "    \n",
    "    # Lag Plot\n",
    "    ax2 = subplot2grid((2,3),(1,0))\n",
    "    pa.tools.plotting.lag_plot(returns[symbols[k]],marker='.',color='blue')\n",
    "    axis('equal');\n",
    "    \n",
    "    # Histogram with fitted t distribution\n",
    "    ax3 = subplot2grid((2,3),(1,1))\n",
    "    ax3.hist(r,bins=40,normed=1)\n",
    "    x = linspace(ax3.axis()[0],ax3.axis()[1],100);\n",
    "    plot(x,stats.t.pdf(x,df,loc,scale),'r',lw=2)\n",
    "    \n",
    "    # Probability (qq) plot compared to t distribution\n",
    "    ax4 = subplot2grid((2,3),(1,2))\n",
    "    stats.probplot(r, sparams = (df,loc,scale), dist='t', plot=plt)\n",
    "    show()"
   ]
  },
  {
   "cell_type": "markdown",
   "metadata": {},
   "source": [
    "## Copulas"
   ]
  },
  {
   "cell_type": "code",
   "execution_count": null,
   "metadata": {
    "collapsed": false
   },
   "outputs": [],
   "source": [
    "q = dict()\n",
    "for k in range(len(symbols)):\n",
    "    print symbols[k]\n",
    "    r = returns[symbols[k]][~np.isnan(returns[symbols[k]])]\n",
    "    df,loc,scale = stats.t.fit(r)\n",
    "    print len(returns[symbols[k]])\n",
    "    print \"df {:7.4f}  loc {:9.6f}  scale {:9.6f}\".format(df,loc,scale)\n",
    "    q[symbols[k]] = stats.t.cdf(r,3.66,0.000857,0.00918)\n",
    "\n",
    "\n",
    "for j in range(len(symbols)):\n",
    "    for k in range(len(symbols)):\n",
    "        subplot2grid((len(symbols),len(symbols)),(j,k))\n",
    "        plot(q[symbols[j]],q[symbols[k]],'.',ms=1)\n",
    "        axis('equal')\n",
    "        title(symbols[k])\n",
    "        ylabel(symbols[j])\n",
    "        "
   ]
  },
  {
   "cell_type": "code",
   "execution_count": null,
   "metadata": {
    "collapsed": true
   },
   "outputs": [],
   "source": []
  }
 ],
 "metadata": {
  "anaconda-cloud": {},
  "kernelspec": {
   "display_name": "Python 2",
   "language": "python",
   "name": "python2"
  },
  "language_info": {
   "codemirror_mode": {
    "name": "ipython",
    "version": 2
   },
   "file_extension": ".py",
   "mimetype": "text/x-python",
   "name": "python",
   "nbconvert_exporter": "python",
   "pygments_lexer": "ipython2",
   "version": "2.7.12"
  }
 },
 "nbformat": 4,
 "nbformat_minor": 0
}
