{
 "cells": [
  {
   "cell_type": "markdown",
   "metadata": {},
   "source": [
    "# FLIP (04): Learning Theory (I)\n",
    "**(Module 03: Operation Research)**\n",
    "\n",
    "---\n",
    "- Materials in this module include resources collected from various open-source online repositories.\n",
    "- You are free to use, but NOT allowed to change or distribute this package.\n",
    "\n",
    "Prepared by and for \n",
    "**Student Members** |\n",
    "2006-2018 [TULIP Lab](http://www.tulip.org.au), Australia\n",
    "\n",
    "---"
   ]
  },
  {
   "cell_type": "markdown",
   "metadata": {
    "slideshow": {
     "slide_type": "slide"
    }
   },
   "source": [
    "# Transportation Networks"
   ]
  },
  {
   "cell_type": "markdown",
   "metadata": {},
   "source": [
    "This [IPython notebook](http://ipython.org/notebook.html) demonstrates the solution of transportation network problems using GLPK/MathProg. Problem data is adapted from Chapter 5 of Johannes Bisschop, \"AIMMS Optimization Modeling\", Paragon Decision Sciences, 1999. "
   ]
  },
  {
   "cell_type": "markdown",
   "metadata": {},
   "source": [
    "### Initializations"
   ]
  },
  {
   "cell_type": "code",
   "execution_count": null,
   "metadata": {
    "collapsed": false
   },
   "outputs": [],
   "source": [
    "from IPython.core.display import HTML\n",
    "HTML(open(\"styles/custom.css\", \"r\").read())"
   ]
  },
  {
   "cell_type": "markdown",
   "metadata": {
    "slideshow": {
     "slide_type": "slide"
    }
   },
   "source": [
    "## Background"
   ]
  },
  {
   "cell_type": "markdown",
   "metadata": {},
   "source": [
    "The prototypical transportation problem deals with the distribution of a commodity from a set of sources to a set of destinations. The object is to minimize total transportation costs while satisfying constraints on the supplies available at each of the sources, and satisfying demand requirements at each of the destinations.\n",
    "\n",
    "Here we illustrate the transportation problem using an example from Chapter 5 of Johannes Bisschop, \"AIMMS Optimization Modeling\", Paragon Decision Sciences, 1999. In this example there are two factories and six customer sites located in 8 European cities as shown in the following map. The customer sites are labeled in red, the factories are labeled in blue."
   ]
  },
  {
   "cell_type": "markdown",
   "metadata": {},
   "source": [
    "<img src = \"img/TransportationNetworksMap.png\"  style=\"width:1000px\"/>"
   ]
  },
  {
   "cell_type": "markdown",
   "metadata": {
    "slideshow": {
     "slide_type": "fragment"
    }
   },
   "source": [
    "Transportation costs between sources and destinations are given in units of &euro;/ton of goods shipped, and list in the following table along with source capacity and demand requirements.\n",
    "\n",
    "#### Table of Transportation Costs, Customer Demand, and Available Supplies\n",
    "\n",
    "| Customer\\Source | Arnhem [&euro;/ton] | Gouda [&euro;/ton] | Demand [tons]|\n",
    "| :--: | :----: | :---: | :----: |\n",
    "| London | n/a | 2.5 | 125 |\n",
    "| Berlin | 2.5 | n/a | 175 |\n",
    "| Maastricht | 1.6 | 2.0 | 225 |\n",
    "| Amsterdam | 1.4 | 1.0 | 250 |\n",
    "| Utrecht | 0.8 | 1.0 | 225 |\n",
    "| The Hague | 1.4 | 0.8 | 200 |\n",
    "| **Supply [tons]** | 550 tons | 700 tons |  |\n",
    "\n",
    "The situation can be modeled by links connecting a set nodes representing sources to a set of nodes representing customers.\n",
    "\n",
    "<img src=\"img/TransportNet.png\" style=\"height:400px\">\n",
    "\n",
    "For each link we can have a parameter $T[c,s]$ denoting the cost of shipping a ton of goods over the link. What we need to determine is the amount of goods to be shipped over each link, which we will represent as a non-negative decision variable $x[c,s]$.\n",
    "\n",
    "The problem objective is to minimize the total shipping cost to all customers from all sources. \n",
    "\n",
    "$$\\mbox{minimize:}\\quad \\mbox{Cost} = \\sum_{c \\in Customers}\\sum_{s \\in Sources} T[c,s] x[c,s]$$\n",
    "\n",
    "Shipments from all sources can not exceed the manufacturing capacity of the source.\n",
    "\n",
    "$$\\sum_{c \\in Customers} x[c,s] \\leq \\mbox{Supply}[s] \\qquad \\forall s \\in Sources$$\n",
    "\n",
    "Shipments to each customer must satisfy their demand.\n",
    "\n",
    "$$\\sum_{s\\in Sources} x[c,s] = \\mbox{Demand}[c] \\qquad \\forall c \\in Customers$$"
   ]
  },
  {
   "cell_type": "markdown",
   "metadata": {
    "slideshow": {
     "slide_type": "slide"
    }
   },
   "source": [
    "## MathProg Model"
   ]
  },
  {
   "cell_type": "markdown",
   "metadata": {},
   "source": [
    "### Model File"
   ]
  },
  {
   "cell_type": "code",
   "execution_count": null,
   "metadata": {
    "collapsed": false
   },
   "outputs": [],
   "source": [
    "%%writefile TransportNet.mod\n",
    "\n",
    "# Step 1: Define the sets\n",
    "set SOURCES;\n",
    "set CUSTOMERS;\n",
    "\n",
    "# Step 2: Define parameters. Note the use of checks and defaults values.\n",
    "param Demand {CUSTOMERS} >= 0;\n",
    "param Supply {SOURCES}   >= 0;\n",
    "param T {CUSTOMERS, SOURCES} default 1000;\n",
    "\n",
    "# Step 3: Define the decision variables\n",
    "var x {CUSTOMERS, SOURCES} >= 0;\n",
    "\n",
    "# Step 4: Write the objective\n",
    "minimize Cost: sum{c in CUSTOMERS, s in SOURCES} T[c,s]*x[c,s];\n",
    "\n",
    "# Step 5: Write the constraints\n",
    "subject to SRC {s in SOURCES}: sum {c in CUSTOMERS} x[c,s] <= Supply[s];\n",
    "subject to DST {c in CUSTOMERS}: sum {s in SOURCES} x[c,s] = Demand[c];\n",
    "\n",
    "# Step 6: Call for a solution\n",
    "solve;\n",
    "\n",
    "# Step 7: Write results to .csv files\n",
    "printf \"\\nTotal Cost = %7.2f\\n\\n\", Cost;\n",
    "\n",
    "table shiptable {c in CUSTOMERS, s in SOURCES} OUT \"CSV\" \"ship.csv\" :\n",
    "    c~Customer, s~Source, x[c,s]~Quantity, x[c,s].dual~Marginal, T[c,s]*x[c,s]~Cost;\n",
    "\n",
    "table sources {s in SOURCES} OUT \"CSV\" \"source.csv\" :\n",
    "    s~Source, Supply[s]~Supply, SRC[s]~Activity, SRC[s].dual~Marginal;\n",
    "    \n",
    "table customers {c in CUSTOMERS} OUT \"CSV\" \"customer.csv\" :\n",
    "    c~Customer, Demand[c]~Demand, DST[c]~Activity, DST[c].dual~Marginal;\n",
    "\n",
    "end;\n",
    "\n"
   ]
  },
  {
   "cell_type": "markdown",
   "metadata": {},
   "source": [
    "### Data File"
   ]
  },
  {
   "cell_type": "code",
   "execution_count": null,
   "metadata": {
    "collapsed": false
   },
   "outputs": [],
   "source": [
    "%%script glpsol -m TransportNet.mod -d /dev/stdin -o output.txt\n",
    "\n",
    "/* \n",
    "Problem Data from Chapter 5 of Johannes Bisschop, \"AIMMS Optimization Modeling\",\n",
    "Paragon Decision Sciences, 1999. \n",
    "*/\n",
    "\n",
    "param: CUSTOMERS: Demand :=\n",
    "   Lon   125        # London\n",
    "   Ber   175        # Berlin\n",
    "   Maa   225        # Maastricht\n",
    "   Ams   250        # Amsterdam\n",
    "   Utr   225        # Utrecht\n",
    "   Hag   200 ;      # The Hague\n",
    "\n",
    "param: SOURCES: Supply :=\n",
    "   Arn   550        # Arnhem\n",
    "   Gou   700 ;      # Gouda\n",
    "\n",
    "param T : Arn   Gou :=\n",
    "   Lon        .    2.5\n",
    "   Ber       2.5    .\n",
    "   Maa       1.6   2.0\n",
    "   Ams       1.4   1.0\n",
    "   Utr       0.8   1.0\n",
    "   Hag       1.4   0.8 ;\n",
    "\n",
    "end;"
   ]
  },
  {
   "cell_type": "markdown",
   "metadata": {
    "slideshow": {
     "slide_type": "slide"
    }
   },
   "source": [
    "## Solution"
   ]
  },
  {
   "cell_type": "code",
   "execution_count": null,
   "metadata": {
    "collapsed": false
   },
   "outputs": [],
   "source": [
    "import pandas as pd\n",
    "df = pd.read_csv('ship.csv')\n",
    "df[df['Quantity'] > 0]"
   ]
  },
  {
   "cell_type": "markdown",
   "metadata": {},
   "source": [
    "The solution has the interesting property that, with the exception of Utrecht, customers are served by just one source.\n",
    "\n",
    "<img src=\"img/TransportNet_soln.png\" style=\"height:400px\">\n"
   ]
  },
  {
   "cell_type": "markdown",
   "metadata": {
    "slideshow": {
     "slide_type": "slide"
    }
   },
   "source": [
    "## Sensitivity Analysis"
   ]
  },
  {
   "cell_type": "markdown",
   "metadata": {
    "slideshow": {
     "slide_type": "slide"
    }
   },
   "source": [
    "#### Analysis by Source"
   ]
  },
  {
   "cell_type": "code",
   "execution_count": null,
   "metadata": {
    "collapsed": false
   },
   "outputs": [],
   "source": [
    "import pandas as pd\n",
    "pd.read_csv('source.csv')"
   ]
  },
  {
   "cell_type": "markdown",
   "metadata": {},
   "source": [
    "The 'marginal' values are telling us how much the total costs will be increased for each one ton increase in the available supply from each source. The optimization calculation says that only 650 tons of the 700 available from Gouda should used for a minimum cost solution, which rules out any further cost reductions by increasing the available supply. In fact, we could decrease the supply Gouda without any harm. The marginal value of Gouda is 0.\n",
    "\n",
    "The source at Arnhem is a different matter. First, all 550 available tons are being used. Second, from the marginal value we see that the total transportations costs would be reduced by 0.2 Euros for each additional ton of supply.  \n",
    "\n",
    "The management conclusion we can draw is that there is excess supply available at Gouda which should, if feasible, me moved to Arnhem.\n",
    "\n",
    "Now that's a valuable piece of information!"
   ]
  },
  {
   "cell_type": "markdown",
   "metadata": {
    "slideshow": {
     "slide_type": "slide"
    }
   },
   "source": [
    "#### Analysis by Customer"
   ]
  },
  {
   "cell_type": "code",
   "execution_count": null,
   "metadata": {
    "collapsed": false
   },
   "outputs": [],
   "source": [
    "pd.read_csv('customer.csv')"
   ]
  },
  {
   "cell_type": "markdown",
   "metadata": {},
   "source": [
    "Looking at the demand constraints, we see that all of the required demands have been met by the optimal solution.\n",
    "\n",
    "The marginal values of these constraints indicate how much the total transportation costs will increase if there is an additional ton of demand at any of the locations. In particular, note that increasing the demand at Berlin will increase costs by 2.7 Euros per ton. This is actually **greater** than the list price for shipping to Berlin which is 2.5 Euros per ton.  Why is this?\n",
    "\n",
    "To see what's going on, let's resolve the problem with a one ton increase in the demand at Berlin."
   ]
  },
  {
   "cell_type": "code",
   "execution_count": null,
   "metadata": {
    "collapsed": false
   },
   "outputs": [],
   "source": [
    "%%script glpsol -m TransportNet.mod -d /dev/stdin -o output.txt\n",
    "\n",
    "/* \n",
    "Problem Data from Chapter 5 of Johannes Bisschop, \"AIMMS Optimization Modeling\",\n",
    "Paragon Decision Sciences, 1999. \n",
    "*/\n",
    "\n",
    "param: CUSTOMERS: Demand :=\n",
    "   Lon   125        # London\n",
    "   Ber   176        # Berlin      <=== INCREASE BY ONE TON\n",
    "   Maa   225        # Maastricht\n",
    "   Ams   250        # Amsterdam\n",
    "   Utr   225        # Utrecht\n",
    "   Hag   200 ;      # The Hague\n",
    "\n",
    "param: SOURCES: Supply :=\n",
    "   Arn   550        # Arnhem\n",
    "   Gou   700 ;      # Gouda\n",
    "\n",
    "param T : Arn   Gou :=\n",
    "   Lon        .    2.5\n",
    "   Ber       2.5    .\n",
    "   Maa       1.6   2.0\n",
    "   Ams       1.4   1.0\n",
    "   Utr       0.8   1.0\n",
    "   Hag       1.4   0.8 ;\n",
    "\n",
    "end;"
   ]
  },
  {
   "cell_type": "markdown",
   "metadata": {},
   "source": [
    "We see the total cost has increased from 1715.0 to 1717.7 Euros, an increase of 2.7 Euros just as predicted by the marginal value assocated with the demand constraint for Berlin.\n",
    "\n",
    "Now let's look at the solution."
   ]
  },
  {
   "cell_type": "code",
   "execution_count": null,
   "metadata": {
    "collapsed": false
   },
   "outputs": [],
   "source": [
    "df = pd.read_csv('ship.csv')\n",
    "df[df['Quantity'] > 0]"
   ]
  },
  {
   "cell_type": "markdown",
   "metadata": {},
   "source": [
    "Here we see that increasing the demand in Berlin resulted in a number of other changes. This figure shows the changes shipments.\n",
    "\n",
    "<img src=\"img/TransportNet_sens.png\" style=\"height:400px\">\n",
    "\n",
    "* Shipments to Berlin increased from 175 to 175 tons, increasing costs for that link from 437.5 to 440.0, or a net increase of 2.5 Euros.\n",
    "* Since Arnhem is operating at full capacity, increasing the shipments from Arnhem to Berlin resulted in decreasing the shipments from Arhhem to Utrecht from 150 to 149 reducing those shipping costs from 120.0 to 119.2, a net decrease of 0.8 Euros.\n",
    "* To meet demand at Utrecht, shipments from Gouda to Utrecht had to increase from 75 to 76, increasing shipping costs by a net amount of 1.0 Euros.\n",
    "* The net effect on shipping costs is 2.5 - 0.8 + 1.0 = 2.7 Euros.\n",
    "\n",
    "The important conclusion to draw is that when operating under optimal conditions, a change in demand or supply can have a ripple effect on the optimal solution that can only be measured through a proper sensitivity analysis."
   ]
  },
  {
   "cell_type": "markdown",
   "metadata": {
    "slideshow": {
     "slide_type": "slide"
    }
   },
   "source": [
    "### Exercises\n",
    "\n",
    "1. Move 50 tons of supply capacity from Gouda to Arnhem, and repeat the sensitivity analysis. How has the situation improved?  In practice, would you recommend this change, or would you propose something different?\n",
    "2. What other business improvements would you recommend?"
   ]
  }
 ],
 "metadata": {
  "anaconda-cloud": {},
  "kernelspec": {
   "display_name": "Python 2",
   "language": "python",
   "name": "python2"
  },
  "language_info": {
   "codemirror_mode": {
    "name": "ipython",
    "version": 2
   },
   "file_extension": ".py",
   "mimetype": "text/x-python",
   "name": "python",
   "nbconvert_exporter": "python",
   "pygments_lexer": "ipython2",
   "version": "2.7.12"
  }
 },
 "nbformat": 4,
 "nbformat_minor": 0
}
