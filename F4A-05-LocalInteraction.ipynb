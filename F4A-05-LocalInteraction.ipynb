{
 "cells": [
  {
   "cell_type": "markdown",
   "metadata": {},
   "source": [
    "# FLIP (04): Learning Theory (I)\n",
    "**(Module 01: Game Theory)**\n",
    "\n",
    "---\n",
    "- Materials in this module include resources collected from various open-source online repositories.\n",
    "- You are free to use, but NOT allowed to change or distribute this package.\n",
    "\n",
    "Prepared by and for \n",
    "**Student Members** |\n",
    "2006-2018 [TULIP Lab](http://www.tulip.org.au), Australia\n",
    "\n",
    "---"
   ]
  },
  {
   "cell_type": "markdown",
   "metadata": {},
   "source": [
    "# Local Interaction"
   ]
  },
  {
   "cell_type": "markdown",
   "metadata": {},
   "source": [
    "**Tomohiro Kusano**  \n",
    "*Graduate School of Economics, University of Tokyo*"
   ]
  },
  {
   "cell_type": "markdown",
   "metadata": {},
   "source": [
    "This notebook demonstrates how to study local interaction model using the **`localint`** Python library."
   ]
  },
  {
   "cell_type": "code",
   "execution_count": null,
   "metadata": {
    "collapsed": false
   },
   "outputs": [],
   "source": [
    "import numpy as np\n",
    "import networkx as nx\n",
    "import matplotlib.pyplot as plt\n",
    "import random\n",
    "from matplotlib.animation import FuncAnimation\n",
    "from __future__ import division\n",
    "from localint import LocalInteraction\n",
    "from IPython.display import Image\n",
    "import io\n",
    "import base64\n",
    "from IPython.display import HTML"
   ]
  },
  {
   "cell_type": "markdown",
   "metadata": {},
   "source": [
    "**Note:** We don't use `%matplotlib inline` here because if use it, `animation`, which is a function defined in this notebook, doesn't work in ordinary environment."
   ]
  },
  {
   "cell_type": "markdown",
   "metadata": {},
   "source": [
    "## Local Interaction Game"
   ]
  },
  {
   "cell_type": "markdown",
   "metadata": {},
   "source": [
    "Let $\\chi$ be a finite set of players and $P:\\chi \\times \\chi \\to \\mathbb{R}_+$ be a function such that\n",
    "\n",
    "* $P(x,x) = 0$ for all $x \\in \\chi$\n",
    "* $P(x,y) = P(y,x)$ for all $x,y \\in \\chi$.\n",
    "\n",
    "A *local interaction system* is the undirected graph induced by $(\\chi, P)$. Note that $P$ can be represented by a matrix, which will be introduced as \"adjacency matrix\" in the next section, since $\\chi$ is finite here.\n"
   ]
  },
  {
   "cell_type": "markdown",
   "metadata": {},
   "source": [
    "For example, $(\\chi, P)$, where $\\chi = {0,1,2}$ and \n",
    "\n",
    "\\begin{equation*}\n",
    "P =\n",
    "\\begin{bmatrix}\n",
    "0 & 1 & 0 \\\\\n",
    "0 & 0 & 2 \\\\\n",
    "3 & 0 & 0\n",
    "\\end{bmatrix}\n",
    "\\end{equation*}\n",
    "\n",
    "\n",
    "represents the following local interaction system."
   ]
  },
  {
   "cell_type": "code",
   "execution_count": null,
   "metadata": {
    "collapsed": false
   },
   "outputs": [],
   "source": [
    "Image(filename='./localint_materials/figure_1.png')"
   ]
  },
  {
   "cell_type": "markdown",
   "metadata": {},
   "source": [
    "The integer on each edge denote the corresponding weight on the edge."
   ]
  },
  {
   "cell_type": "markdown",
   "metadata": {},
   "source": [
    "In each period, given the local interaction system, each player plays a game constructing his/her belief, which is a distribution on the action space, according to the weights on the edges and what other players are taking."
   ]
  },
  {
   "cell_type": "markdown",
   "metadata": {},
   "source": [
    "For example, let's consider the above system. Suppose that each player has two actions (0 and 1), and Player 1, 2 are taking action 0, 1 respectively. Given the system and other players' action, Player 0 constructs a belief $(1, 3)$, which means the ratio of the probability that Player 0 meets a player taking action 0 to the probability that Player 0 meets a player taking action 1 is 1:3."
   ]
  },
  {
   "cell_type": "markdown",
   "metadata": {},
   "source": [
    "## The `LocalInteraction` class"
   ]
  },
  {
   "cell_type": "markdown",
   "metadata": {},
   "source": [
    "The **`LocalInteraction`** class requires two parameters, **payoff matrix** and **adjacency matrix**."
   ]
  },
  {
   "cell_type": "markdown",
   "metadata": {},
   "source": [
    "### Payoff Matrix"
   ]
  },
  {
   "cell_type": "markdown",
   "metadata": {},
   "source": [
    "Payoff matrix must be 2-dimensional square numpy array.   In a game-theoretic model, it means that both the set of actions and the payoff function are the same across all players."
   ]
  },
  {
   "cell_type": "markdown",
   "metadata": {},
   "source": [
    "For instance, consider a coordination game where the payoff table is given by the following:"
   ]
  },
  {
   "cell_type": "markdown",
   "metadata": {},
   "source": [
    "1$\\backslash$2 | $A$           | $B$ \n",
    " ------------- |---------------| ---------\n",
    " $A$           | 4, 4          |    0, 2   \n",
    " $B$           | 2, 0          |   3, 3       "
   ]
  },
  {
   "cell_type": "markdown",
   "metadata": {},
   "source": [
    "Note that this payoff table implies that the game is symmetric. Because of the symmetricity, it suffices to record the only one of the player's payoffs like the following:"
   ]
  },
  {
   "cell_type": "code",
   "execution_count": null,
   "metadata": {
    "collapsed": false
   },
   "outputs": [],
   "source": [
    "payoff_matrix = np.asarray([[4, 0], \n",
    "                            [2, 3]])\n",
    "print payoff_matrix"
   ]
  },
  {
   "cell_type": "markdown",
   "metadata": {},
   "source": [
    "### Adjacency Matrix"
   ]
  },
  {
   "cell_type": "markdown",
   "metadata": {},
   "source": [
    "Adjacency matrix represents how the nodes in the system are connected. In particular, in the context of the local interaction model, it represents whether each pair of players interacts and how strong the interaction of them is if they are connected."
   ]
  },
  {
   "cell_type": "markdown",
   "metadata": {},
   "source": [
    "Let's consider an adjacency matrix given by the following:\n",
    "\\begin{equation}\n",
    "[a_{ij}] = \n",
    "\\begin{bmatrix}\n",
    "0 &1 &3\\\\\n",
    "2 &0 &1\\\\\n",
    "3 &2 &0\n",
    "\\end{bmatrix}\n",
    "\\end{equation}"
   ]
  },
  {
   "cell_type": "code",
   "execution_count": null,
   "metadata": {
    "collapsed": false
   },
   "outputs": [],
   "source": [
    "adj_matrix = np.asarray([[0, 1, 3],\n",
    "                         [2, 0, 1],\n",
    "                         [3, 2, 0]])\n",
    "print adj_matrix"
   ]
  },
  {
   "cell_type": "markdown",
   "metadata": {},
   "source": [
    "For example, $a_{12}(=1)$ denotes the weight on player 2's action to player 1. Note that the weight on player 1's action  player 2 ($a_{21}=2$) is different. That is, the **`LocalInteraction`** class allow adjacency matrix to be asymmetric."
   ]
  },
  {
   "cell_type": "markdown",
   "metadata": {},
   "source": [
    "### Creating a `LocalInteraction`"
   ]
  },
  {
   "cell_type": "markdown",
   "metadata": {},
   "source": [
    "Now that we have two parameters, `payoff_matrix` and `adj_matrix`, we can create a `LocalInteraction`:"
   ]
  },
  {
   "cell_type": "code",
   "execution_count": null,
   "metadata": {
    "collapsed": false
   },
   "outputs": [],
   "source": [
    "li = LocalInteraction(payoff_matrix, adj_matrix)"
   ]
  },
  {
   "cell_type": "code",
   "execution_count": null,
   "metadata": {
    "collapsed": false
   },
   "outputs": [],
   "source": [
    "li.players[0]"
   ]
  },
  {
   "cell_type": "markdown",
   "metadata": {},
   "source": [
    "The adjacency matrix is saved in the form of [`csr_matrix`](https://docs.scipy.org/doc/scipy-0.15.1/reference/sparse.html)."
   ]
  },
  {
   "cell_type": "code",
   "execution_count": null,
   "metadata": {
    "collapsed": false
   },
   "outputs": [],
   "source": [
    "li.adj_matrix"
   ]
  },
  {
   "cell_type": "markdown",
   "metadata": {},
   "source": [
    "### Initializing current actions"
   ]
  },
  {
   "cell_type": "markdown",
   "metadata": {},
   "source": [
    "Originally, current actions are $N$-dimensional zero vector, where $N =$ \"the number of players\"."
   ]
  },
  {
   "cell_type": "code",
   "execution_count": null,
   "metadata": {
    "collapsed": false
   },
   "outputs": [],
   "source": [
    "li.N, li.current_actions"
   ]
  },
  {
   "cell_type": "markdown",
   "metadata": {},
   "source": [
    "To initialize `current_actions`, we can use `set_init_actions`:"
   ]
  },
  {
   "cell_type": "code",
   "execution_count": null,
   "metadata": {
    "collapsed": false
   },
   "outputs": [],
   "source": [
    "init_actions = [1, 0, 1]\n",
    "li.set_init_actions(init_actions)"
   ]
  },
  {
   "cell_type": "code",
   "execution_count": null,
   "metadata": {
    "collapsed": false
   },
   "outputs": [],
   "source": [
    "li.current_actions"
   ]
  },
  {
   "cell_type": "markdown",
   "metadata": {},
   "source": [
    "If we don't specify the list of the players' actions, `set_init_actions` randomly set `current_actions`."
   ]
  },
  {
   "cell_type": "code",
   "execution_count": null,
   "metadata": {
    "collapsed": false
   },
   "outputs": [],
   "source": [
    "li.set_init_actions()"
   ]
  },
  {
   "cell_type": "code",
   "execution_count": null,
   "metadata": {
    "collapsed": false
   },
   "outputs": [],
   "source": [
    "li.current_actions"
   ]
  },
  {
   "cell_type": "markdown",
   "metadata": {},
   "source": [
    "## Examples"
   ]
  },
  {
   "cell_type": "markdown",
   "metadata": {},
   "source": [
    "In this section, we give you a couple of examples for typical graphs, and analyze the local interaction models corresponding to those graphs."
   ]
  },
  {
   "cell_type": "markdown",
   "metadata": {},
   "source": [
    "In order to show those results graphically, we have to define functions to draw a graph and generate an animation."
   ]
  },
  {
   "cell_type": "code",
   "execution_count": null,
   "metadata": {
    "collapsed": false
   },
   "outputs": [],
   "source": [
    "def draw_graph(graph_dict, figsize=(16,10), node_size=200, linewidth=2):\n",
    "    fig = plt.figure(figsize=figsize, facecolor='w')\n",
    "    nx.draw_networkx_nodes(graph_dict['G'], graph_dict['pos'],\n",
    "                           node_size=node_size, node_color='w')\n",
    "    nx.draw_networkx_edges(graph_dict['G'], graph_dict['pos'],\n",
    "                           alpha=0.5, width=linewidth, arrows=False)\n",
    "    plt.axis('off')\n",
    "    plt.show()"
   ]
  },
  {
   "cell_type": "code",
   "execution_count": null,
   "metadata": {
    "collapsed": false
   },
   "outputs": [],
   "source": [
    "def animation(li, init_actions=None, pos='circular', node_size=200,\n",
    "              node_colors=None, linewidth=2, interval=200, figsize=(16,10)):\n",
    "    num_actions = li.num_actions\n",
    "\n",
    "    if node_colors is None:\n",
    "        node_colors = mpl.rcParams['axes.color_cycle']\n",
    "    num_colors = len(node_colors)\n",
    "    if num_colors < num_actions:\n",
    "        raise ValueError('{0} colors required '.format(num_actions) +\n",
    "                         '(only {0} provided)'.format(num_colors))\n",
    "\n",
    "    G = nx.DiGraph(li.adj_matrix)\n",
    "\n",
    "    if isinstance(pos, dict):\n",
    "        pos = pos\n",
    "    else:\n",
    "        try:\n",
    "            layout_func = getattr(nx, '{0}_layout'.format(pos))\n",
    "            pos = layout_func(G)\n",
    "        except:\n",
    "            raise ValueError(\n",
    "                \"pos must be a dictionary of node-position pairs, or one of \" +\n",
    "                \"{'circular', 'random', 'shell', 'spring', 'spectral'}\")\n",
    "\n",
    "    def get_fig(n):\n",
    "        for i in range(num_actions):\n",
    "            nodelist = np.where(li.current_actions == i)[0].tolist()\n",
    "            nx.draw_networkx_nodes(G, pos, node_size=node_size,\n",
    "                                   nodelist=nodelist,\n",
    "                                   node_color=node_colors[i])\n",
    "        li.play()\n",
    "        return fig\n",
    "\n",
    "    li.set_init_actions(init_actions)\n",
    "\n",
    "    fig = plt.figure(figsize=figsize, facecolor='w')\n",
    "    nx.draw_networkx_edges(G, pos, alpha=0.5, width=linewidth, arrows=False)\n",
    "    anim = FuncAnimation(fig, get_fig, interval=interval)\n",
    "    plt.axis('off')\n",
    "    plt.show()\n",
    "    plt.close()"
   ]
  },
  {
   "cell_type": "markdown",
   "metadata": {},
   "source": [
    "### 2-actions case"
   ]
  },
  {
   "cell_type": "markdown",
   "metadata": {},
   "source": [
    "For convenience, we focus on a coordination game, which is given by the following:"
   ]
  },
  {
   "cell_type": "code",
   "execution_count": null,
   "metadata": {
    "collapsed": false
   },
   "outputs": [],
   "source": [
    "coordination_game = np.array([[11, 0],\n",
    "                              [9, 8]])"
   ]
  },
  {
   "cell_type": "markdown",
   "metadata": {},
   "source": [
    "Also, let `node_colors_2` be a list whose $i$-th ($i = 0, 1$) element denotes a color of players taking action $i$:"
   ]
  },
  {
   "cell_type": "code",
   "execution_count": null,
   "metadata": {
    "collapsed": false
   },
   "outputs": [],
   "source": [
    "node_colors_2 = ['b', 'y']"
   ]
  },
  {
   "cell_type": "markdown",
   "metadata": {},
   "source": [
    "Actually, in this case, the action 1, which leads to the risk-dominant but inefficient outcome if both players take it, is *contageous* in some sense although we don't formally define it. You would see what it means in the following section before long."
   ]
  },
  {
   "cell_type": "markdown",
   "metadata": {},
   "source": [
    "#### Circle"
   ]
  },
  {
   "cell_type": "markdown",
   "metadata": {},
   "source": [
    "We first examine one of the simplest graph, called \"circle graph\"."
   ]
  },
  {
   "cell_type": "code",
   "execution_count": null,
   "metadata": {
    "collapsed": false
   },
   "outputs": [],
   "source": [
    "N = 100\n",
    "circle = {}\n",
    "G = nx.cycle_graph(n=N)\n",
    "circle['G'] = G\n",
    "circle['adj_matrix'] = nx.adjacency_matrix(G)\n",
    "circle['pos'] = nx.circular_layout(G)"
   ]
  },
  {
   "cell_type": "markdown",
   "metadata": {},
   "source": [
    "Note that we have to specify not only the graph and the adjacency matrix but also positions of nodes since `draw_graph` and `animation` require it."
   ]
  },
  {
   "cell_type": "code",
   "execution_count": null,
   "metadata": {
    "collapsed": false
   },
   "outputs": [],
   "source": [
    "draw_graph(circle)"
   ]
  },
  {
   "cell_type": "code",
   "execution_count": null,
   "metadata": {
    "collapsed": false
   },
   "outputs": [],
   "source": [
    "li_coor = LocalInteraction(coordination_game, circle['adj_matrix'])"
   ]
  },
  {
   "cell_type": "code",
   "execution_count": null,
   "metadata": {
    "collapsed": false
   },
   "outputs": [],
   "source": [
    "init_actions = np.zeros(li_coor.N, dtype=int)\n",
    "init_actions[[0, -1]] = 1\n",
    "animation(li_coor, init_actions=init_actions, pos=circle['pos'],\n",
    "          node_colors=node_colors_2, interval=100)"
   ]
  },
  {
   "cell_type": "markdown",
   "metadata": {},
   "source": [
    "You can see that the distribution of the players taking action 1 is spreaded across all nodes as time goes on."
   ]
  },
  {
   "cell_type": "markdown",
   "metadata": {},
   "source": [
    "#### Two-dimensional lattice"
   ]
  },
  {
   "cell_type": "markdown",
   "metadata": {},
   "source": [
    "We next examine another simple graph, called \"Two-dimensional lattice\". Actually, Its procedure for simulation is the same as the circle graph, except for that it is tedious to specify the positions of nodes in this case."
   ]
  },
  {
   "cell_type": "code",
   "execution_count": null,
   "metadata": {
    "collapsed": false
   },
   "outputs": [],
   "source": [
    "N = 100\n",
    "lattice2d = {}\n",
    "m, n = 10, 10\n",
    "G = nx.grid_2d_graph(m, n)\n",
    "lattice2d['adj_matrix'] = nx.adjacency_matrix(G)\n",
    "lattice2d['G'] = nx.Graph(lattice2d['adj_matrix'])\n",
    "lattice2d['pos'] = {}\n",
    "for i, (x, y) in enumerate(G.nodes_iter()):\n",
    "    lattice2d[(x, y)] = i \n",
    "    lattice2d['pos'][i] = (x/(m-1), y/(n-1))"
   ]
  },
  {
   "cell_type": "code",
   "execution_count": null,
   "metadata": {
    "collapsed": false
   },
   "outputs": [],
   "source": [
    "draw_graph(lattice2d)"
   ]
  },
  {
   "cell_type": "code",
   "execution_count": null,
   "metadata": {
    "collapsed": false
   },
   "outputs": [],
   "source": [
    "li_coor = LocalInteraction(coordination_game, lattice2d['adj_matrix'])"
   ]
  },
  {
   "cell_type": "code",
   "execution_count": null,
   "metadata": {
    "collapsed": false
   },
   "outputs": [],
   "source": [
    "# m, n = 10, 10\n",
    "init_actions = np.zeros(li_coor.N, dtype=int)\n",
    "for node in [(m//2-i, n//2-j) for i in range(2) for j in range(2)]:\n",
    "    init_actions[lattice2d[node]] = 1\n",
    "animation(li_coor, init_actions=init_actions, pos=lattice2d['pos'],\n",
    "          node_colors=node_colors_2, figsize=(14,8), interval=500)"
   ]
  },
  {
   "cell_type": "markdown",
   "metadata": {},
   "source": [
    "### 3-actions case"
   ]
  },
  {
   "cell_type": "markdown",
   "metadata": {},
   "source": [
    "The `localint` module works even in 3-actions case. Let's consider the following game, which is called \"Bilingual Game\":"
   ]
  },
  {
   "cell_type": "code",
   "execution_count": null,
   "metadata": {
    "collapsed": false
   },
   "outputs": [],
   "source": [
    "def bilingual_game(e, a=11, b=0, c=9, d=8):\n",
    "    A = np.array([[a  , a  , b],\n",
    "                  [a-e, a-e, d-e],\n",
    "                  [c  , d  , d]])\n",
    "    return A"
   ]
  },
  {
   "cell_type": "code",
   "execution_count": null,
   "metadata": {
    "collapsed": false
   },
   "outputs": [],
   "source": [
    "bg = bilingual_game(e=0.1)\n",
    "bg"
   ]
  },
  {
   "cell_type": "code",
   "execution_count": null,
   "metadata": {
    "collapsed": false
   },
   "outputs": [],
   "source": [
    "node_colors_3 = ['b', 'r', 'y']"
   ]
  },
  {
   "cell_type": "markdown",
   "metadata": {},
   "source": [
    "We show that even the action 0, which leads to Pareto efficient outcome, can be contagious in this case. "
   ]
  },
  {
   "cell_type": "markdown",
   "metadata": {},
   "source": [
    "#### Circle"
   ]
  },
  {
   "cell_type": "code",
   "execution_count": null,
   "metadata": {
    "collapsed": false
   },
   "outputs": [],
   "source": [
    "li_bg = LocalInteraction(bg, circle['adj_matrix'])"
   ]
  },
  {
   "cell_type": "code",
   "execution_count": null,
   "metadata": {
    "collapsed": false
   },
   "outputs": [],
   "source": [
    "init_actions = np.ones(li_bg.N, dtype=int) * 2\n",
    "init_actions[[0, 1, -2, -1]] = 0\n",
    "animation(li_bg, init_actions=init_actions, pos=circle['pos'],\n",
    "          node_colors=node_colors_3, interval=100)"
   ]
  },
  {
   "cell_type": "markdown",
   "metadata": {},
   "source": [
    "#### Two-dimensional lattice"
   ]
  },
  {
   "cell_type": "code",
   "execution_count": null,
   "metadata": {
    "collapsed": false
   },
   "outputs": [],
   "source": [
    "li_bg = LocalInteraction(bg, lattice2d['adj_matrix'])"
   ]
  },
  {
   "cell_type": "code",
   "execution_count": null,
   "metadata": {
    "collapsed": false
   },
   "outputs": [],
   "source": [
    "# m, n = 10, 10\n",
    "init_actions = np.ones(li_bg.N, dtype=int) * 2\n",
    "for node in [(m//2-i, n//2-j) for i in range(2) for j in range(2)]:\n",
    "    init_actions[lattice2d[node]] = 0\n",
    "animation(li_bg, init_actions=init_actions, pos=lattice2d['pos'],\n",
    "          node_colors=node_colors_3, interval=500)"
   ]
  }
 ],
 "metadata": {
  "anaconda-cloud": {},
  "kernelspec": {
   "display_name": "Python 2",
   "language": "python",
   "name": "python2"
  },
  "language_info": {
   "codemirror_mode": {
    "name": "ipython",
    "version": 2
   },
   "file_extension": ".py",
   "mimetype": "text/x-python",
   "name": "python",
   "nbconvert_exporter": "python",
   "pygments_lexer": "ipython2",
   "version": "2.7.12"
  }
 },
 "nbformat": 4,
 "nbformat_minor": 0
}
