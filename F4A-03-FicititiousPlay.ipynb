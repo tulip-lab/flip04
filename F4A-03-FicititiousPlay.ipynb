{
 "cells": [
  {
   "cell_type": "markdown",
   "metadata": {},
   "source": [
    "# FLIP (04): Learning Theory (I)\n",
    "**(Module 01: Game Theory)**\n",
    "\n",
    "---\n",
    "- Materials in this module include resources collected from various open-source online repositories.\n",
    "- You are free to use, but NOT allowed to change or distribute this package.\n",
    "\n",
    "Prepared by and for \n",
    "**Student Members** |\n",
    "2006-2018 [TULIP Lab](http://www.tulip.org.au), Australia\n",
    "\n",
    "---"
   ]
  },
  {
   "cell_type": "markdown",
   "metadata": {},
   "source": [
    "# Ficititious Play"
   ]
  },
  {
   "cell_type": "code",
   "execution_count": null,
   "metadata": {
    "collapsed": false
   },
   "outputs": [],
   "source": [
    "%matplotlib inline\n",
    "import matplotlib.pyplot as plt\n",
    "from mpl_toolkits.mplot3d import Axes3D\n",
    "import fictplay"
   ]
  },
  {
   "cell_type": "code",
   "execution_count": null,
   "metadata": {
    "collapsed": false
   },
   "outputs": [],
   "source": [
    "reload(fictplay)"
   ]
  },
  {
   "cell_type": "markdown",
   "metadata": {},
   "source": [
    "## Two-Action Games"
   ]
  },
  {
   "cell_type": "code",
   "execution_count": null,
   "metadata": {
    "collapsed": false
   },
   "outputs": [],
   "source": [
    "matching_pennies = [[( 1, -1), (-1,  1)],\n",
    "                    [(-1,  1), ( 1, -1)]]\n",
    "fp0 = fictplay.FictitiousPlay(matching_pennies)"
   ]
  },
  {
   "cell_type": "code",
   "execution_count": null,
   "metadata": {
    "collapsed": false
   },
   "outputs": [],
   "source": [
    "ts_length = 1000\n",
    "belief_sequences = fp0.simulate(ts_length)\n",
    "\n",
    "fig, ax = plt.subplots(figsize=(8, 5))\n",
    "ax.set_color_cycle(['b', 'g'])\n",
    "for belief_sequence in belief_sequences:\n",
    "    ax.plot(belief_sequence[:, 1], linewidth=2)\n",
    "ax.set_ylim(0, 1)\n",
    "plt.show()"
   ]
  },
  {
   "cell_type": "markdown",
   "metadata": {},
   "source": [
    "## Three-Action Games"
   ]
  },
  {
   "cell_type": "code",
   "execution_count": null,
   "metadata": {
    "collapsed": false
   },
   "outputs": [],
   "source": [
    "def customize_ax(ax):\n",
    "    ax.set_xlim(0, 1)\n",
    "    ax.set_ylim(0, 1)\n",
    "    ax.set_zlim(0, 1)\n",
    "    ax.set_xticks((0, 0.25, 0.5, 0.75, 1))\n",
    "    ax.set_yticks((0.25, 0.5, 0.75))\n",
    "    ax.set_zticks((0, 0.25, 0.5, 0.75, 1))\n",
    "    ax.set_aspect('equal')\n",
    "    ax.view_init(ax.elev, 45)\n",
    "    \n",
    "def plot3d(belief_sequences, mult_subplots=False, figsize=(12, 7.5)):\n",
    "    player_ind = [0, 1]\n",
    "    fig = plt.figure(figsize=figsize)\n",
    "    colors = ['b', 'r']\n",
    "    \n",
    "    if mult_subplots:\n",
    "        axes = [fig.add_subplot(1, 2, i+1, projection='3d') for i in player_ind]\n",
    "    else:\n",
    "        axes = [fig.add_subplot(111, projection='3d')] * 2\n",
    "    \n",
    "    for i, color in zip(player_ind, colors):\n",
    "        axes[i].scatter(belief_sequences[i][:, 0],\n",
    "                        belief_sequences[i][:, 1],\n",
    "                        belief_sequences[i][:, 2],\n",
    "                        c=color, s=60)\n",
    "        customize_ax(axes[i])\n",
    "\n",
    "    plt.show()"
   ]
  },
  {
   "cell_type": "code",
   "execution_count": null,
   "metadata": {
    "collapsed": false
   },
   "outputs": [],
   "source": [
    "shapley_game = [[(1, 0), (0, 0), (0, 1)],\n",
    "                [(0, 1), (1, 0), (0, 0)],\n",
    "                [(0, 0), (0, 1), (1, 0)]]\n",
    "fp1 = fictplay.FictitiousPlay(shapley_game)"
   ]
  },
  {
   "cell_type": "code",
   "execution_count": null,
   "metadata": {
    "collapsed": false
   },
   "outputs": [],
   "source": [
    "ts_length = 1000\n",
    "belief_sequences = fp1.simulate(ts_length, init_actions=(1, 0))"
   ]
  },
  {
   "cell_type": "code",
   "execution_count": null,
   "metadata": {
    "collapsed": false
   },
   "outputs": [],
   "source": [
    "T0 = 0\n",
    "plot3d((belief_sequences[0][T0:], belief_sequences[1][T0:]))"
   ]
  },
  {
   "cell_type": "code",
   "execution_count": null,
   "metadata": {
    "collapsed": false
   },
   "outputs": [],
   "source": [
    "plot3d((belief_sequences[0][T0:], belief_sequences[1][T0:]), mult_subplots=True)"
   ]
  },
  {
   "cell_type": "code",
   "execution_count": null,
   "metadata": {
    "collapsed": false
   },
   "outputs": [],
   "source": []
  }
 ],
 "metadata": {
  "anaconda-cloud": {},
  "kernelspec": {
   "display_name": "Python 2",
   "language": "python",
   "name": "python2"
  },
  "language_info": {
   "codemirror_mode": {
    "name": "ipython",
    "version": 2
   },
   "file_extension": ".py",
   "mimetype": "text/x-python",
   "name": "python",
   "nbconvert_exporter": "python",
   "pygments_lexer": "ipython2",
   "version": "2.7.12"
  }
 },
 "nbformat": 4,
 "nbformat_minor": 0
}
