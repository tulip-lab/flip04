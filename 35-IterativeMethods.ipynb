{
 "cells": [
  {
   "cell_type": "markdown",
   "metadata": {},
   "source": [
    "# FLIP (02) Optimization Data Science\n",
    "\n",
    "---\n",
    "Team Director: Meng Ren | mren@tulip.academy<br />\n",
    "\n",
    "TULIP Academy <br />\n",
    "http://www.tulip.academy \n",
    "\n",
    "---"
   ]
  },
  {
   "cell_type": "markdown",
   "metadata": {},
   "source": [
    "# Iterative Methods"
   ]
  },
  {
   "cell_type": "code",
   "execution_count": 1,
   "metadata": {
    "collapsed": false
   },
   "outputs": [],
   "source": [
    "%matplotlib inline"
   ]
  },
  {
   "cell_type": "code",
   "execution_count": 2,
   "metadata": {
    "collapsed": false
   },
   "outputs": [],
   "source": [
    "import numpy as np\n",
    "import matplotlib.pyplot as plt\n",
    "from matplotlib import rcParams\n",
    "rcParams['font.family'] = 'serif'\n",
    "rcParams['font.size'] = 16\n",
    "rcParams['figure.figsize'] = (12,6)"
   ]
  },
  {
   "cell_type": "markdown",
   "metadata": {},
   "source": [
    "$$\n",
    "\\newcommand{\\bb}{{\\boldsymbol{b}}}\n",
    "\\newcommand{\\bx}{{\\boldsymbol{x}}}\n",
    "\\newcommand{\\by}{{\\boldsymbol{y}}}\n",
    "$$\n",
    "\n",
    "The *direct* methods (such as Gaussian Elimination and $LU$ decomposition) we have introduced to solve the linear system\n",
    "\n",
    "\\begin{equation}\n",
    "     A \\bx = \\bb.\n",
    "\\end{equation}\n",
    " \n",
    "require ${\\cal O}(n^3)$ operations. For large matrices this takes time and each operation introduces error that\n",
    "   may accumulate. Other methods may be preferable. \n",
    "   \n",
    "\n",
    "   Iterative methods build a \\emph{sequence} of approximate\n",
    "   solutions. Start from ``guess'' $\\bx^{(0)}$ and compute\n",
    "   approximations $\\bx^{(1)}, \\bx^{(2)}, \\dots, \\bx^{(N)}$ which\n",
    "   converge to the exact solution. \n",
    "\n",
    "   Sequence can be truncated to save time or when solution found to\n",
    "   sufficient accuracy. \n",
    "\n",
    "   Key elements of an iterative method:\n",
    "   \n",
    "1. A rapid convergence to the correct solution,\n",
    "2. A fast algorithm for computing each successive approximation.\n"
   ]
  },
  {
   "cell_type": "markdown",
   "metadata": {},
   "source": [
    "## A general framework"
   ]
  },
  {
   "cell_type": "markdown",
   "metadata": {},
   "source": [
    "\n",
    "Standard “notation” is to split the matrix as\n",
    "\n",
    "$$A = N - P,$$\n",
    "\n",
    "where $N$ and $P$ are (as yet unknown) $n \\times n$ matrices. The linear\n",
    "system becomes\n",
    "\n",
    "$$N {\\boldsymbol{x}} = P {\\boldsymbol{x}} + {\\boldsymbol{b}}.$$\n",
    "\n",
    "Then *assume* that we have an approximate solution, or guess,\n",
    "${\\boldsymbol{x}}^{(0)}$, and define the sequence\n",
    "\n",
    "$$N {\\boldsymbol{x}}^{(i)} = P {\\boldsymbol{x}}^{(i - 1)} + {\\boldsymbol{b}}, \\quad i = 1, 2, \\dots$$\n",
    "\n",
    "Obviously consistent with the original equation. The algorithm will only\n",
    "be useful if\n",
    "\n",
    "1.  $N$ is nonsingular, and\n",
    "\n",
    "2.  The linear system $N {\\boldsymbol{y}} = {\\boldsymbol{z}}$ is “easy”\n",
    "    to solve.\n"
   ]
  },
  {
   "cell_type": "markdown",
   "metadata": {},
   "source": [
    "## Convergence"
   ]
  },
  {
   "cell_type": "markdown",
   "metadata": {},
   "source": [
    "\n",
    "To work, the sequence\n",
    "\n",
    "$${\\boldsymbol{x}}^{(i)} = N^{-1} \\left( P {\\boldsymbol{x}}^{(i - 1)} + {\\boldsymbol{b}} \\right), \\quad i =\n",
    "    1, 2, \\dots$$\n",
    "\n",
    "must have a limit. Intuitively clear that the matrix $M =\n",
    "  N^{-1} P$ is central to the convergence or otherwise of this sequence.\n",
    "\n",
    "**Theorem**: The iterative method described converges if and only if $M = N^{-1} P$\n",
    "exists and\n",
    "\n",
    "$$\\varrho (M) \\equiv \\max_i | \\lambda_i | < 1.$$\n",
    "\n",
    "View ${\\boldsymbol{x}}^{(i)}$ as a vector in\n",
    "$n$-dimensional space: ensures that repeatedly multiplying by $M$ does\n",
    "not cause result to diverge.\n",
    "\n",
    "The *spectral radius* $\\varrho (M)$ can be hard to compute. Often use\n",
    "the weaker condition\n",
    "\n",
    "$$\\| M \\| < 1 \\Rightarrow \\text{Method converges}.$$\n"
   ]
  },
  {
   "cell_type": "markdown",
   "metadata": {},
   "source": [
    "## General assumptions"
   ]
  },
  {
   "cell_type": "markdown",
   "metadata": {},
   "source": [
    "\n",
    "In what follows we shall always assume that all diagonal entries are 1.\n",
    "\n",
    "If this is not true, we can always arrange it to be so by dividing each\n",
    "row by its diagonal element.\n",
    "\n",
    "If the diagonal element of any row is zero, permute the rows. It must be\n",
    "possible to arrange a *nonsingular* matrix such that every diagonal\n",
    "element is non-zero just by row operations.\n"
   ]
  },
  {
   "cell_type": "markdown",
   "metadata": {},
   "source": [
    "## Jacobi's Method"
   ]
  },
  {
   "cell_type": "markdown",
   "metadata": {},
   "source": [
    "\n",
    "One key requirement on the split\n",
    "\n",
    "$$A = N - P$$\n",
    "\n",
    "was that the $N {\\boldsymbol{y}} = {\\boldsymbol{z}}$ should be easy to\n",
    "solve. The simplest possible problem would be $N = I$.\n",
    "\n",
    "This means (as $A$ is 1 on the diagonal) that\n",
    "\n",
    "$$P = A_L + A_U$$\n",
    "\n",
    "where $A_L$ and $A_U$ are the “triangular” parts of $-A$ (note sign!).\n",
    "The iteration scheme is\n",
    "\n",
    "$${\\boldsymbol{x}}^{(i)} =  (A_L + A_U) {\\boldsymbol{x}}^{(i - 1)} + {\\boldsymbol{b}}, \\quad i = 1, 2, \\dots$$\n",
    "\n",
    "and the convergence matrix is $M = P$.\n"
   ]
  },
  {
   "cell_type": "markdown",
   "metadata": {},
   "source": [
    "### Example"
   ]
  },
  {
   "cell_type": "markdown",
   "metadata": {},
   "source": [
    "We look at the solution of the simple linear system\n",
    "\n",
    "$$\\begin{pmatrix}\n",
    "      3 & 1 \\\\\n",
    "      1 & 3\n",
    "    \\end{pmatrix}\n",
    "    \\begin{pmatrix}\n",
    "      x_1 \\\\ x_2\n",
    "    \\end{pmatrix} =\n",
    "    \\begin{pmatrix}\n",
    "      5 \\\\ 7\n",
    "    \\end{pmatrix}$$\n",
    "\n",
    "using Jacobi’s Method. Ensure the diagonal elements are all 1:\n",
    "\n",
    "$$A =\n",
    "    \\begin{pmatrix}\n",
    "      1 & \\tfrac{1}{3} \\\\\n",
    "      \\tfrac{1}{3} & 1 \\\\\n",
    "    \\end{pmatrix}, \n",
    "    \\quad {\\boldsymbol{b}} = \n",
    "    \\begin{pmatrix}\n",
    "      \\tfrac{5}{3} \\\\ \\tfrac{7}{3}\n",
    "    \\end{pmatrix}.$$\n",
    "\n",
    "Check convergence by computing\n",
    "\n",
    "$$M = P =\n",
    "    \\begin{pmatrix}\n",
    "      0 & -\\tfrac{1}{3} \\\\\n",
    "      -\\tfrac{1}{3} & 0\n",
    "    \\end{pmatrix}$$\n",
    "\n",
    "which implies, as $\\varrho(M) = 1 / 3 < 1$, that the method will\n",
    "converge.\n",
    "\n",
    "The explicit sequence is then\n",
    "\n",
    "\\begin{equation}\n",
    "  \\begin{pmatrix}\n",
    "    \\bx_1^{(i)} \\\\ \\bx_2^{(i)}\n",
    "  \\end{pmatrix} = \n",
    "  \\begin{pmatrix}\n",
    "    \\tfrac{5}{3} - \\tfrac{1}{3} \\bx_2^{(i-1)} \\\\ \\tfrac{7}{3} - \\tfrac{1}{3} \\bx_1^{(i-1)}\n",
    "  \\end{pmatrix}.\n",
    "\\end{equation}\n",
    "\n",
    "Using the trivial initial guess $\\bx = \\boldsymbol{0}$, the sequence has entries\n",
    "\n",
    "|  $i$    |   $x_1$     |   $x_2$    |\n",
    "|:-------:|:-----------:|:----------:|\n",
    "|  $0$    |    $0$      |    $0$     |\n",
    "|  $1$    |  $5 / 3$    |  $7 / 3$   |\n",
    "|  $2$    | $0.888889$  | $1.777778$ |\n",
    "|  $5$    | $1.008230$  | $2.004115$ |\n",
    "| $10$    | $0.999983$  | $1.999966$ |\n",
    "| $100$   | $1.000000$  | $2.000000$ |\n",
    "\n",
    "A starting “guess” of ${\\boldsymbol{x}} = {\\boldsymbol{0}}$ appears to\n",
    "converge to ${\\boldsymbol{x}}  = (1, 2)^T$. The convergence is exponential with a slope $\\sim 1$.\n"
   ]
  },
  {
   "cell_type": "code",
   "execution_count": 3,
   "metadata": {
    "collapsed": false
   },
   "outputs": [
    {
     "name": "stdout",
     "output_type": "stream",
     "text": [
      "Solution at i = 0 is x = ( 0.0, 0.0 ).\n",
      "Solution at i = 1 is x = ( 1.6666666666666667, 2.3333333333333335 ).\n",
      "Solution at i = 2 is x = ( 0.888888888888889, 1.777777777777778 ).\n",
      "Solution at i = 5 is x = ( 1.0082304526748973, 2.004115226337449 ).\n",
      "Solution at i = 10 is x = ( 0.9999830649121916, 1.9999661298243832 ).\n",
      "Solution at i = 100 is x = ( 1.0, 2.0 ).\n"
     ]
    }
   ],
   "source": [
    "x = np.zeros((101, 2)) # First index is the iteration number. Second index is the component\n",
    "x[0, :] = 0.0\n",
    "\n",
    "for i in range(1, 101):\n",
    "    x[i, 0] = 5.0 / 3.0 - x[i-1, 1] / 3.0\n",
    "    x[i, 1] = 7.0 / 3.0 - x[i-1, 0] / 3.0\n",
    "\n",
    "for i in [0, 1, 2, 5, 10, 100]:\n",
    "    print(\"Solution at i = {} is x = ( {}, {} ).\".format(i, x[i, 0], x[i, 1]))"
   ]
  },
  {
   "cell_type": "code",
   "execution_count": 4,
   "metadata": {
    "collapsed": false
   },
   "outputs": [
    {
     "data": {
      "image/png": "[encoded data removed]",
      "text/plain": [
       "<matplotlib.figure.Figure at 0x1065a35f8>"
      ]
     },
     "metadata": {},
     "output_type": "display_data"
    }
   ],
   "source": [
    "err = np.linalg.norm(x - np.tile(np.array([1.0, 2.0]), [101, 1]), 2, axis = 1)\n",
    "imax = np.max([i for i in range(len(err)) if err[i] > 1.0e-20])\n",
    "plt.figure()\n",
    "plt.semilogy(range(imax), err[:imax], 'kx', label = 'Numerical Error')\n",
    "plt.xlabel('Iteration')\n",
    "plt.ylabel('$\\|$ Error $\\|_2$')\n",
    "plt.legend()\n",
    "plt.show()"
   ]
  },
  {
   "cell_type": "markdown",
   "metadata": {},
   "source": [
    "## Gauss-Seidel"
   ]
  },
  {
   "cell_type": "markdown",
   "metadata": {},
   "source": [
    "In the Gauss-Seidel method split the coefficient matrix as\n",
    "\n",
    "$$A = I - (A_L + A_U)$$\n",
    "\n",
    "as before. Choose\n",
    "\n",
    "$$\\begin{aligned}\n",
    "    N & = I - A_L, \\\\\n",
    "    P & = A_U.\n",
    "  \\end{aligned}$$\n",
    "\n",
    "This makes the iteration scheme\n",
    "\n",
    "$${\\boldsymbol{x}}^{(i)} =  A_L {\\boldsymbol{x}}^{(i)} + A_U {\\boldsymbol{x}}^{(i - 1)} + {\\boldsymbol{b}}, \\quad i = 1,\n",
    "    2, \\dots$$\n",
    "\n",
    "Written in this form as $A_L$ *strictly* lower triangular. Consider each\n",
    "component of the iteration scheme from the top down: each coefficient of\n",
    "${\\boldsymbol{x}}^{(i)}$ is computed on the left before it is used on\n",
    "the right."
   ]
  },
  {
   "cell_type": "markdown",
   "metadata": {},
   "source": [
    "### Example"
   ]
  },
  {
   "cell_type": "markdown",
   "metadata": {},
   "source": [
    "\n",
    "As above we look at\n",
    "\n",
    "$$\\begin{pmatrix}\n",
    "      3 & 1 \\\\\n",
    "      1 & 3\n",
    "    \\end{pmatrix}\n",
    "    \\begin{pmatrix}\n",
    "      x_1 \\\\ x_2\n",
    "    \\end{pmatrix} =\n",
    "    \\begin{pmatrix}\n",
    "      5 \\\\ 7\n",
    "    \\end{pmatrix} \\rightarrow     \n",
    "    \\begin{pmatrix}\n",
    "      1 & \\tfrac{1}{3} \\\\\n",
    "      \\tfrac{1}{3} & 1 \\\\\n",
    "    \\end{pmatrix}\n",
    "    \\begin{pmatrix}\n",
    "      x_1 \\\\ x_2\n",
    "    \\end{pmatrix} =\n",
    "    \\begin{pmatrix}\n",
    "      \\tfrac{5}{3} \\\\ \\tfrac{7}{3}\n",
    "    \\end{pmatrix}.$$\n",
    "\n",
    "We have\n",
    "\n",
    "$$A_L =\n",
    "    \\begin{pmatrix}\n",
    "      0 & 0 \\\\\n",
    "      -1/3 & 0\n",
    "    \\end{pmatrix}, \\quad\n",
    "    A_U =\n",
    "    \\begin{pmatrix}\n",
    "      0 & -1/3 \\\\\n",
    "      0 & 0\n",
    "    \\end{pmatrix}$$\n",
    "\n",
    "and hence the iteration algorithm becomes\n",
    "\n",
    "$$\\begin{aligned}\n",
    "    \\begin{pmatrix}\n",
    "      x_1^{(i)} \\\\ x_2^{(i)}\n",
    "    \\end{pmatrix} & = \\frac{1}{3} \\left[\n",
    "      \\begin{pmatrix}\n",
    "        -x_2^{(i-1)} \\\\ - x_1^{(i)}\n",
    "      \\end{pmatrix} +\n",
    "      \\begin{pmatrix}\n",
    "        5 \\\\ 7\n",
    "      \\end{pmatrix} \\right] \n",
    "    = \\frac{1}{3}\n",
    "    \\begin{pmatrix}\n",
    "      5 - x_2^{(i-1)} \\\\ 7 - x_1^{(i)}\n",
    "    \\end{pmatrix}.\n",
    "  \\end{aligned}$$\n",
    "\n",
    "If read row-by-row from the top we have always computed the\n",
    "${\\boldsymbol{x}}^{(i)}$ entries before they are used.\n",
    "\n",
    "The sequence has entries\n",
    "\n",
    "|  $i$    |  $x_1$       |   $x_2$      |\n",
    "|:-------:|:------------:|:------------:|\n",
    "|    $0$  |     $0$      |    $0$       |\n",
    "|    $1$  |   $5 / 3$    |  $16 / 9$    |\n",
    "|    $2$  |  $1.074074$  | $1.975309$   |\n",
    "|    $5$  |  $1.000102$  | $1.999966$   |\n",
    "|   $10$  |  $1.000000$  | $2.000000$   |\n",
    "|   $100$ |  $1.000000$  | $2.000000$   |\n",
    "\n",
    "A starting “guess” of ${\\boldsymbol{x}} = {\\boldsymbol{0}}$ appears to\n",
    "converge to ${\\boldsymbol{x}}\n",
    "  = (1, 2)^T$. The convergence is exponential with a slope $\\sim 2$,\n",
    "much faster than Jacobi’s Method.\n"
   ]
  },
  {
   "cell_type": "code",
   "execution_count": 5,
   "metadata": {
    "collapsed": false
   },
   "outputs": [
    {
     "name": "stdout",
     "output_type": "stream",
     "text": [
      "Solution at i = 0 is x = ( 0.0, 0.0 ).\n",
      "Solution at i = 1 is x = ( 1.6666666666666667, 1.777777777777778 ).\n",
      "Solution at i = 2 is x = ( 1.074074074074074, 1.9753086419753088 ).\n",
      "Solution at i = 5 is x = ( 1.0001016105268508, 1.9999661298243832 ).\n",
      "Solution at i = 10 is x = ( 1.000000001720783, 1.9999999994264057 ).\n",
      "Solution at i = 100 is x = ( 1.0, 2.0 ).\n"
     ]
    }
   ],
   "source": [
    "x = np.zeros((101, 2)) # First index is the iteration number. Second index is the component\n",
    "x[0, :] = 0.0\n",
    "\n",
    "for i in range(1, 101):\n",
    "    x[i, 0] = 5.0 / 3.0 - x[i-1, 1] / 3.0\n",
    "    x[i, 1] = 7.0 / 3.0 - x[i  , 0] / 3.0\n",
    "\n",
    "for i in [0, 1, 2, 5, 10, 100]:\n",
    "    print(\"Solution at i = {} is x = ( {}, {} ).\".format(i, x[i, 0], x[i, 1]))"
   ]
  },
  {
   "cell_type": "code",
   "execution_count": 6,
   "metadata": {
    "collapsed": false
   },
   "outputs": [
    {
     "data": {
      "image/png": "[encoded data removed]",
      "text/plain": [
       "<matplotlib.figure.Figure at 0x106f2c828>"
      ]
     },
     "metadata": {},
     "output_type": "display_data"
    }
   ],
   "source": [
    "err = np.linalg.norm(x - np.tile(np.array([1.0, 2.0]), [101, 1]), 2, axis = 1)\n",
    "imax = np.max([i for i in range(len(err)) if err[i] > 1.0e-20])\n",
    "plt.figure()\n",
    "plt.semilogy(range(imax), err[:imax], 'kx', label = 'Numerical Error')\n",
    "plt.xlabel('Iteration')\n",
    "plt.ylabel('$\\|$ Error $\\|_2$')\n",
    "plt.legend()\n",
    "plt.show()"
   ]
  },
  {
   "cell_type": "markdown",
   "metadata": {},
   "source": [
    "## Successive Over Relaxation"
   ]
  },
  {
   "cell_type": "markdown",
   "metadata": {},
   "source": [
    "\n",
    "View the sequence as repeated “corrections” to the previous term,\n",
    "\n",
    "$${\\boldsymbol{x}}^{(i)} = {\\boldsymbol{x}}^{(i-1)} + {\\boldsymbol{c}},$$\n",
    "\n",
    "where correction is based e.g. on Gauss-Seidel method,\n",
    "\n",
    "$${\\boldsymbol{c}} = A_L {\\boldsymbol{x}}^{(i)} + (A_U - I) {\\boldsymbol{x}}^{(i-1)} + {\\boldsymbol{b}}.$$\n",
    "\n",
    "Modify correction by factor $\\omega$:\n",
    "\n",
    "$${\\boldsymbol{x}}^{(i)} = {\\boldsymbol{x}}^{(i-1)} + \\omega {\\boldsymbol{c}}.$$\n",
    "\n",
    "*A priori* best value of $\\omega$ not clear. Typically it is set close\n",
    "to one. However, poor choices may cause the algorithm to diverge!\n"
   ]
  },
  {
   "cell_type": "markdown",
   "metadata": {},
   "source": [
    "### Example"
   ]
  },
  {
   "cell_type": "markdown",
   "metadata": {},
   "source": [
    "\n",
    "Solving the previous example using $\\omega = 1.035$, the sequence has\n",
    "entries\n",
    "\n",
    "|    $i$  |    $x_1$     |   $x_2$      |\n",
    "|:-------:|:------------:|:------------:|\n",
    "|    $0$  |     $0$      |    $0$       |\n",
    "|    $1$  |  $1.725000$  | $1.819875$   |\n",
    "|    $2$  |  $1.036768$  | $1.993619$   |\n",
    "|    $5$  |  $0.999999$  | $2.000000$   |\n",
    "|   $10$  |  $1.000000$  | $2.000000$   |\n",
    "|   $100$ |  $1.000000$  | $2.000000$   |\n",
    "\n",
    "A starting “guess” of ${\\boldsymbol{x}} = {\\boldsymbol{0}}$ appears to\n",
    "converge to ${\\boldsymbol{x}}\n",
    "  = (1, 2)^T$. The convergence is exponential with a slope $\\sim 3$, the\n",
    "fastest method so far.\n"
   ]
  },
  {
   "cell_type": "code",
   "execution_count": 7,
   "metadata": {
    "collapsed": false
   },
   "outputs": [
    {
     "name": "stdout",
     "output_type": "stream",
     "text": [
      "Solution at i = 0 is x = ( 0.0, 0.0 ).\n",
      "Solution at i = 1 is x = ( 1.7249999999999999, 1.8198750000000001 ).\n",
      "Solution at i = 2 is x = ( 1.036768125, 1.993619371875 ).\n",
      "Solution at i = 5 is x = ( 0.9999988694806217, 2.000000274589937 ).\n",
      "Solution at i = 10 is x = ( 1.0000000000000828, 1.999999999999986 ).\n",
      "Solution at i = 100 is x = ( 1.0, 2.0 ).\n"
     ]
    }
   ],
   "source": [
    "x = np.zeros((101, 2)) # First index is the iteration number. Second index is the component\n",
    "x[0, :] = 0.0\n",
    "\n",
    "omega = 1.035\n",
    "\n",
    "for i in range(1, 101):\n",
    "    x[i, 0] = x[i-1, 0] + omega * ( 5.0 / 3.0 - x[i-1, 1] / 3.0 - x[i-1, 0] )\n",
    "    x[i, 1] = x[i-1, 1] + omega * ( 7.0 / 3.0 - x[i  , 0] / 3.0 - x[i-1, 1] )\n",
    "\n",
    "for i in [0, 1, 2, 5, 10, 100]:\n",
    "    print(\"Solution at i = {} is x = ( {}, {} ).\".format(i, x[i, 0], x[i, 1]))"
   ]
  },
  {
   "cell_type": "code",
   "execution_count": 8,
   "metadata": {
    "collapsed": false
   },
   "outputs": [
    {
     "data": {
      "image/png": "[encoded data removed]",
      "text/plain": [
       "<matplotlib.figure.Figure at 0x106bebbe0>"
      ]
     },
     "metadata": {},
     "output_type": "display_data"
    }
   ],
   "source": [
    "err = np.linalg.norm(x - np.tile(np.array([1.0, 2.0]), [101, 1]), 2, axis = 1)\n",
    "imax = np.max([i for i in range(len(err)) if err[i] > 1.0e-20])\n",
    "plt.figure()\n",
    "plt.semilogy(range(imax), err[:imax], 'kx', label = 'Numerical Error')\n",
    "plt.xlabel('Iteration')\n",
    "plt.ylabel('$\\|$ Error $\\|_2$')\n",
    "plt.legend()\n",
    "plt.show()"
   ]
  },
  {
   "cell_type": "markdown",
   "metadata": {},
   "source": [
    "However, using $\\omega = 1.2$, the sequence has entries\n",
    "\n",
    "|    $i$  |    $x_1$     |   $x_2$      |\n",
    "|:-------:|:------------:|:------------:|\n",
    "|    $0$  |     $0$      |    $0$       |\n",
    "|    $1$  |  $2.000000$  | $2.000000$   |\n",
    "|    $2$  |  $0.800000$  | $2.080000$   |\n",
    "|    $5$  |  $0.998221$  | $2.000430$   |\n",
    "|   $10$  |  $1.000000$  | $2.000000$   |\n",
    "|   $100$ |  $1.000000$  | $2.000000$   |\n",
    "\n",
    "\n",
    "A starting “guess” of ${\\boldsymbol{x}} = {\\boldsymbol{0}}$ appears to\n",
    "converge to ${\\boldsymbol{x}}\n",
    "  = (1, 2)^T$. The convergence is exponential with a slope $\\sim 1.6$,\n",
    "which is not as good as Gauss-Seidel.\n"
   ]
  },
  {
   "cell_type": "code",
   "execution_count": 9,
   "metadata": {
    "collapsed": false
   },
   "outputs": [
    {
     "name": "stdout",
     "output_type": "stream",
     "text": [
      "Solution at i = 0 is x = ( 0.0, 0.0 ).\n",
      "Solution at i = 1 is x = ( 2.0, 2.0000000000000004 ).\n",
      "Solution at i = 2 is x = ( 0.8, 2.08 ).\n",
      "Solution at i = 5 is x = ( 0.9982207999999999, 2.00043008 ).\n",
      "Solution at i = 10 is x = ( 1.0000000160419023, 2.000000225675051 ).\n",
      "Solution at i = 100 is x = ( 1.0, 2.0 ).\n"
     ]
    }
   ],
   "source": [
    "x = np.zeros((101, 2)) # First index is the iteration number. Second index is the component\n",
    "x[0, :] = 0.0\n",
    "\n",
    "omega = 1.2\n",
    "\n",
    "for i in range(1, 101):\n",
    "    x[i, 0] = x[i-1, 0] + omega * ( 5.0 / 3.0 - x[i-1, 1] / 3.0 - x[i-1, 0] )\n",
    "    x[i, 1] = x[i-1, 1] + omega * ( 7.0 / 3.0 - x[i  , 0] / 3.0 - x[i-1, 1] )\n",
    "\n",
    "for i in [0, 1, 2, 5, 10, 100]:\n",
    "    print(\"Solution at i = {} is x = ( {}, {} ).\".format(i, x[i, 0], x[i, 1]))"
   ]
  },
  {
   "cell_type": "code",
   "execution_count": 10,
   "metadata": {
    "collapsed": false
   },
   "outputs": [
    {
     "data": {
      "image/png": "[encoded data removed]",
      "text/plain": [
       "<matplotlib.figure.Figure at 0x106b46080>"
      ]
     },
     "metadata": {},
     "output_type": "display_data"
    }
   ],
   "source": [
    "err = np.linalg.norm(x - np.tile(np.array([1.0, 2.0]), [101, 1]), 2, axis = 1)\n",
    "imax = np.max([i for i in range(len(err)) if err[i] > 1.0e-20])\n",
    "plt.figure()\n",
    "plt.semilogy(range(imax), err[:imax], 'kx', label = 'Numerical Error')\n",
    "plt.xlabel('Iteration')\n",
    "plt.ylabel('$\\|$ Error $\\|_2$')\n",
    "plt.legend()\n",
    "plt.show()"
   ]
  },
  {
   "cell_type": "markdown",
   "metadata": {},
   "source": [
    "### The relaxation parameter"
   ]
  },
  {
   "cell_type": "markdown",
   "metadata": {},
   "source": [
    "The convergence behaviour depends in a highly non-trivial way on $\\omega$.\n",
    "\n",
    "SOR algorithms are much harder to analyze than Jacobi or Gauss-Seidel.\n",
    "\n",
    "Compare the convergence rate after four iterations for different values of $\\omega$."
   ]
  },
  {
   "cell_type": "code",
   "execution_count": 11,
   "metadata": {
    "collapsed": false
   },
   "outputs": [
    {
     "data": {
      "image/png": "[encoded data removed]",
      "text/plain": [
       "<matplotlib.figure.Figure at 0x106f314e0>"
      ]
     },
     "metadata": {},
     "output_type": "display_data"
    }
   ],
   "source": [
    "all_omega = np.linspace(0.0, 2.0, 500)\n",
    "err = np.zeros_like(all_omega)\n",
    "\n",
    "for om in range(len(all_omega)):\n",
    "    x = np.zeros((5, 2)) # First index is the iteration number. Second index is the component\n",
    "    x[0, :] = 0.0\n",
    "    omega = all_omega[om]\n",
    "    \n",
    "    for i in range(1, 5):\n",
    "        x[i, 0] = x[i-1, 0] + omega * ( 5.0 / 3.0 - x[i-1, 1] / 3.0 - x[i-1, 0] )\n",
    "        x[i, 1] = x[i-1, 1] + omega * ( 7.0 / 3.0 - x[i  , 0] / 3.0 - x[i-1, 1] )\n",
    "\n",
    "    err[om] = np.linalg.norm( x[-1, :] - np.array([1.0, 2.0]), 2)\n",
    "\n",
    "plt.figure(figsize = (14, 6))\n",
    "plt.subplot(121)\n",
    "plt.plot(all_omega, err)\n",
    "plt.xlabel('$\\omega$')\n",
    "plt.ylabel('$\\|$ Error $\\|_2$')\n",
    "plt.title('SOR error after 4 iterations, varying $\\omega$')\n",
    "plt.subplot(122)\n",
    "plt.plot(all_omega[240:280], err[240:280])\n",
    "plt.xlabel('$\\omega$')\n",
    "plt.ylabel('$\\|$ Error $\\|_2$')\n",
    "plt.title('Detail of best values of $\\omega$')\n",
    "plt.tight_layout()\n",
    "plt.show()"
   ]
  },
  {
   "cell_type": "markdown",
   "metadata": {},
   "source": [
    "## Convergence analysis"
   ]
  },
  {
   "cell_type": "markdown",
   "metadata": {},
   "source": [
    "\n",
    "Two theorems about *when* these methods will work:\n",
    "\n",
    "**Theorem 1**: If the coefficient matrix $A$ is *strictly* diagonally dominant then\n",
    "both the Jacobi method and the Gauss-Seidel method will converge.\n",
    "\n",
    "**Theorem 2**: If the coefficient matrix $A$ is symmetric and positive definite then\n",
    "the Gauss-Seidel method will converge.\n"
   ]
  },
  {
   "cell_type": "markdown",
   "metadata": {},
   "source": [
    "# Other matrix operations"
   ]
  },
  {
   "cell_type": "markdown",
   "metadata": {},
   "source": [
    "We have so far only considered the linear system\n",
    "\n",
    "$$A {\\boldsymbol{x}} = {\\boldsymbol{b}}.$$\n",
    "\n",
    "We have given methods to solve this system accurately without computing\n",
    "the matrix inverse or determinant. However, these methods can also be\n",
    "used to efficiently and accurately compute these quantities."
   ]
  },
  {
   "cell_type": "markdown",
   "metadata": {},
   "source": [
    "## Determinants"
   ]
  },
  {
   "cell_type": "markdown",
   "metadata": {},
   "source": [
    "Given the $LU$ decomposition we have\n",
    "\n",
    "$$\\det (A) = \\det(L) \\times \\det(U), \\quad \\text{and} \\quad \\det(U)\n",
    "    = \\prod_{i=1}^n u_{ii}.$$\n",
    "\n",
    "Choose $\\ell_{ii}=1$ giving $\\det(L) = 1$: determinant follows.\n",
    "\n",
    "Similarly Gaussian elimination with partial pivoting gives\n",
    "\n",
    "$$\\det(A) = \\pm \\prod_{i=1}^n u_{ii},$$\n",
    "\n",
    "where the sign depends on the number of row swaps performed.\n",
    "\n",
    "**Note:**\n",
    "\n",
    "Gaussian elimination, and hence finding the determinant, is an\n",
    "${\\cal O}(n^3)$ operation. The expansion in minors is an ${\\cal O}(n!)$\n",
    "operation."
   ]
  },
  {
   "cell_type": "markdown",
   "metadata": {},
   "source": [
    "## Matrix inversion"
   ]
  },
  {
   "cell_type": "markdown",
   "metadata": {},
   "source": [
    "Solving for the matrix inverse can be written as a set of linear system\n",
    "problems. We write\n",
    "\n",
    "$$A A^{-1} = I$$\n",
    "\n",
    "and consider each column of $A^{-1}$ as a separate problem. Writing\n",
    "${\\boldsymbol{c}}_i$ for the (unknown) column of $A^{-1}$ we have\n",
    "\n",
    "$$A {\\boldsymbol{c}}_i =\n",
    "    \\begin{pmatrix}\n",
    "       \\vdots \\\\ 0 \\\\ 1 \\\\ 0 \\\\ \\vdots\n",
    "    \\end{pmatrix}$$\n",
    "\n",
    "where the $1$ appears in the $i^{\\text{th}}$ row.\n",
    "\n",
    "This finds the inverse by solving $n$ linear systems, which is much\n",
    "faster than evaluating the $n+1$ determinants required by Cramer’s rule."
   ]
  }
 ],
 "metadata": {
  "anaconda-cloud": {},
  "kernelspec": {
   "display_name": "Python [Root]",
   "language": "python",
   "name": "Python [Root]"
  },
  "language_info": {
   "codemirror_mode": {
    "name": "ipython",
    "version": 3
   },
   "file_extension": ".py",
   "mimetype": "text/x-python",
   "name": "python",
   "nbconvert_exporter": "python",
   "pygments_lexer": "ipython3",
   "version": "3.5.2"
  }
 },
 "nbformat": 4,
 "nbformat_minor": 0
}
