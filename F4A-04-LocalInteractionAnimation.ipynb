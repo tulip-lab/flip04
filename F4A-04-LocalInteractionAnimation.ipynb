{
 "cells": [
  {
   "cell_type": "markdown",
   "metadata": {},
   "source": [
    "# FLIP(04): Learning Theory (I)\n",
    "**(Module 01: Game Theory)**\n",
    "\n",
    "---\n",
    "- Materials in this module include resources collected from various open-source online repositories.\n",
    "- You are free to use, but NOT allowed to change or distribute this package.\n",
    "\n",
    "Prepared by and for \n",
    "**Student Members** |\n",
    "2006-2018 [TULIP Lab](http://www.tulip.org.au), Australia\n",
    "\n",
    "---"
   ]
  },
  {
   "cell_type": "markdown",
   "metadata": {},
   "source": [
    "# Local Interaction: Animation"
   ]
  },
  {
   "cell_type": "code",
   "execution_count": 1,
   "metadata": {
    "collapsed": false
   },
   "outputs": [],
   "source": [
    "from __future__ import division, print_function\n",
    "import numpy as np\n",
    "import matplotlib as mpl\n",
    "import matplotlib.pyplot as plt\n",
    "from matplotlib.animation import FuncAnimation\n",
    "import networkx as nx\n",
    "from localint import LocalInteraction"
   ]
  },
  {
   "cell_type": "code",
   "execution_count": 2,
   "metadata": {
    "collapsed": false
   },
   "outputs": [],
   "source": [
    "def animation(li, init_actions=None, pos='circular', node_size=200,\n",
    "              node_colors=None, linewidth=2, interval=200, figsize=(16,10)):\n",
    "    num_actions = li.num_actions\n",
    "\n",
    "    if node_colors is None:\n",
    "        node_colors = mpl.rcParams['axes.color_cycle']\n",
    "    num_colors = len(node_colors)\n",
    "    if num_colors < num_actions:\n",
    "        raise ValueError('{0} colors required '.format(num_actions) +\n",
    "                         '(only {0} provided)'.format(num_colors))\n",
    "\n",
    "    G = nx.DiGraph(li.adj_matrix)\n",
    "\n",
    "    if isinstance(pos, dict):\n",
    "        pos = pos\n",
    "    else:\n",
    "        try:\n",
    "            layout_func = getattr(nx, '{0}_layout'.format(pos))\n",
    "            pos = layout_func(G)\n",
    "        except:\n",
    "            raise ValueError(\n",
    "                \"pos must be a dictionary of node-position pairs, or one of \" +\n",
    "                \"{'circular', 'random', 'shell', 'spring', 'spectral'}\")\n",
    "\n",
    "    def get_fig(n):\n",
    "        for i in range(num_actions):\n",
    "            nodelist = np.where(li.current_actions == i)[0].tolist()\n",
    "            nx.draw_networkx_nodes(G, pos, node_size=node_size,\n",
    "                                   nodelist=nodelist,\n",
    "                                   node_color=node_colors[i])\n",
    "        li.play()\n",
    "        return fig\n",
    "\n",
    "    li.set_init_actions(init_actions)\n",
    "\n",
    "    fig = plt.figure(figsize=figsize, facecolor='w')\n",
    "    nx.draw_networkx_edges(G, pos, alpha=0.5, width=linewidth, arrows=False)\n",
    "    anim = FuncAnimation(fig, get_fig, interval=interval)\n",
    "    plt.axis('off')\n",
    "    plt.show()\n",
    "    plt.close()"
   ]
  },
  {
   "cell_type": "markdown",
   "metadata": {},
   "source": [
    "## Networks"
   ]
  },
  {
   "cell_type": "code",
   "execution_count": 3,
   "metadata": {
    "collapsed": false
   },
   "outputs": [],
   "source": [
    "def draw_graph(graph_dict, figsize=(16,10), node_size=200, linewidth=2):\n",
    "    fig = plt.figure(figsize=figsize, facecolor='w')\n",
    "    nx.draw_networkx_nodes(graph_dict['G'], graph_dict['pos'],\n",
    "                           node_size=node_size, node_color='w')\n",
    "    nx.draw_networkx_edges(graph_dict['G'], graph_dict['pos'],\n",
    "                           alpha=0.5, width=linewidth, arrows=False)\n",
    "    plt.axis('off')\n",
    "    plt.show()"
   ]
  },
  {
   "cell_type": "markdown",
   "metadata": {},
   "source": [
    "### Circle"
   ]
  },
  {
   "cell_type": "code",
   "execution_count": 4,
   "metadata": {
    "collapsed": false
   },
   "outputs": [],
   "source": [
    "N = 100\n",
    "circle = {}\n",
    "G = nx.cycle_graph(n=N)\n",
    "circle['G'] = G\n",
    "circle['adj_matrix'] = nx.adjacency_matrix(G)\n",
    "circle['pos'] = nx.circular_layout(G)"
   ]
  },
  {
   "cell_type": "code",
   "execution_count": 5,
   "metadata": {
    "collapsed": false
   },
   "outputs": [],
   "source": [
    "draw_graph(circle)"
   ]
  },
  {
   "cell_type": "markdown",
   "metadata": {},
   "source": [
    "### Two-dimensional lattice"
   ]
  },
  {
   "cell_type": "code",
   "execution_count": 6,
   "metadata": {
    "collapsed": false
   },
   "outputs": [],
   "source": [
    "N = 100\n",
    "lattice2d = {}\n",
    "m, n = 10, 10\n",
    "G = nx.grid_2d_graph(m, n)\n",
    "lattice2d['adj_matrix'] = nx.adjacency_matrix(G)\n",
    "lattice2d['G'] = nx.Graph(lattice2d['adj_matrix'])\n",
    "lattice2d['pos'] = {}\n",
    "for i, (x, y) in enumerate(G.nodes_iter()):\n",
    "    lattice2d[(x, y)] = i \n",
    "    lattice2d['pos'][i] = (x/(m-1), y/(n-1))"
   ]
  },
  {
   "cell_type": "code",
   "execution_count": 7,
   "metadata": {
    "collapsed": false
   },
   "outputs": [],
   "source": [
    "draw_graph(lattice2d)"
   ]
  },
  {
   "cell_type": "markdown",
   "metadata": {},
   "source": [
    "## Coordination Games"
   ]
  },
  {
   "cell_type": "code",
   "execution_count": 8,
   "metadata": {
    "collapsed": false
   },
   "outputs": [],
   "source": [
    "a, b, c, d = 11, 0, 3, 10"
   ]
  },
  {
   "cell_type": "code",
   "execution_count": 9,
   "metadata": {
    "collapsed": false
   },
   "outputs": [],
   "source": [
    "coordination_game = np.array([[a, b],\n",
    "                              [c, d]])"
   ]
  },
  {
   "cell_type": "code",
   "execution_count": 10,
   "metadata": {
    "collapsed": false
   },
   "outputs": [
    {
     "data": {
      "text/plain": [
       "array([[11,  0],\n",
       "       [ 3, 10]])"
      ]
     },
     "execution_count": 10,
     "metadata": {},
     "output_type": "execute_result"
    }
   ],
   "source": [
    "coordination_game"
   ]
  },
  {
   "cell_type": "code",
   "execution_count": 11,
   "metadata": {
    "collapsed": false
   },
   "outputs": [],
   "source": [
    "def coordination_game_normalized(q):\n",
    "    a = np.array([[q, 0  ],\n",
    "                  [0, 1-q]])\n",
    "    return a"
   ]
  },
  {
   "cell_type": "code",
   "execution_count": 12,
   "metadata": {
    "collapsed": false
   },
   "outputs": [
    {
     "data": {
      "text/plain": [
       "array([[ 0.2,  0. ],\n",
       "       [ 0. ,  0.8]])"
      ]
     },
     "execution_count": 12,
     "metadata": {},
     "output_type": "execute_result"
    }
   ],
   "source": [
    "coordination_game_normalized(0.2)"
   ]
  },
  {
   "cell_type": "code",
   "execution_count": 13,
   "metadata": {
    "collapsed": false
   },
   "outputs": [],
   "source": [
    "node_colors_2 = ['b', 'y']"
   ]
  },
  {
   "cell_type": "markdown",
   "metadata": {},
   "source": [
    "### Circle"
   ]
  },
  {
   "cell_type": "code",
   "execution_count": 14,
   "metadata": {
    "collapsed": false
   },
   "outputs": [],
   "source": [
    "li_coor = LocalInteraction(coordination_game, circle['adj_matrix'])"
   ]
  },
  {
   "cell_type": "code",
   "execution_count": 15,
   "metadata": {
    "collapsed": false
   },
   "outputs": [],
   "source": [
    "init_actions = np.zeros(li_coor.N, dtype=int)\n",
    "init_actions[[0, -1]] = 1\n",
    "animation(li_coor, init_actions=init_actions, pos=circle['pos'],\n",
    "          node_colors=node_colors_2, interval=100)"
   ]
  },
  {
   "cell_type": "markdown",
   "metadata": {},
   "source": [
    "### Two-dimensional lattice"
   ]
  },
  {
   "cell_type": "code",
   "execution_count": 16,
   "metadata": {
    "collapsed": false
   },
   "outputs": [],
   "source": [
    "coor = coordination_game_normalized(0.2)\n",
    "li_coor = LocalInteraction(coor, lattice2d['adj_matrix'])"
   ]
  },
  {
   "cell_type": "code",
   "execution_count": 17,
   "metadata": {
    "collapsed": false
   },
   "outputs": [],
   "source": [
    "# m, n = 10, 10\n",
    "init_actions = np.zeros(li_coor.N, dtype=int)\n",
    "for node in [(m//2-i, n//2-j) for i in range(2) for j in range(2)]:\n",
    "    init_actions[lattice2d[node]] = 1\n",
    "animation(li_coor, init_actions=init_actions, pos=lattice2d['pos'],\n",
    "          node_colors=node_colors_2, interval=500)"
   ]
  },
  {
   "cell_type": "markdown",
   "metadata": {},
   "source": [
    "## Bilingual Game"
   ]
  },
  {
   "cell_type": "code",
   "execution_count": 18,
   "metadata": {
    "collapsed": false
   },
   "outputs": [],
   "source": [
    "def bilingual_game(e, a=11, b=0, c=3, d=10):\n",
    "    a = np.array([[a  , a  , b],\n",
    "                  [a-e, a-e, d-e],\n",
    "                  [c  , d  , d]])\n",
    "    return a"
   ]
  },
  {
   "cell_type": "code",
   "execution_count": 19,
   "metadata": {
    "collapsed": false
   },
   "outputs": [
    {
     "data": {
      "text/plain": [
       "array([[ 11. ,  11. ,   0. ],\n",
       "       [ 10.9,  10.9,   9.9],\n",
       "       [  3. ,  10. ,  10. ]])"
      ]
     },
     "execution_count": 19,
     "metadata": {},
     "output_type": "execute_result"
    }
   ],
   "source": [
    "bg = bilingual_game(e=0.1)\n",
    "bg"
   ]
  },
  {
   "cell_type": "code",
   "execution_count": 20,
   "metadata": {
    "collapsed": false
   },
   "outputs": [],
   "source": [
    "node_colors_3=['b', 'r', 'y']"
   ]
  },
  {
   "cell_type": "markdown",
   "metadata": {},
   "source": [
    "### Circle"
   ]
  },
  {
   "cell_type": "code",
   "execution_count": 21,
   "metadata": {
    "collapsed": false
   },
   "outputs": [],
   "source": [
    "li_bg = LocalInteraction(bg, circle['adj_matrix'])"
   ]
  },
  {
   "cell_type": "code",
   "execution_count": 22,
   "metadata": {
    "collapsed": false
   },
   "outputs": [],
   "source": [
    "init_actions = np.ones(li_bg.N, dtype=int) * 2\n",
    "init_actions[[0, 1, -2, -1]] = 0\n",
    "animation(li_bg, init_actions=init_actions, pos=circle['pos'],\n",
    "          node_colors=node_colors_3, interval=100)"
   ]
  },
  {
   "cell_type": "markdown",
   "metadata": {},
   "source": [
    "### Two-dimensional lattice"
   ]
  },
  {
   "cell_type": "code",
   "execution_count": 23,
   "metadata": {
    "collapsed": false
   },
   "outputs": [],
   "source": [
    "li_bg = LocalInteraction(bg, lattice2d['adj_matrix'])"
   ]
  },
  {
   "cell_type": "code",
   "execution_count": 24,
   "metadata": {
    "collapsed": false
   },
   "outputs": [],
   "source": [
    "# m, n = 10, 10\n",
    "init_actions = np.ones(li_bg.N, dtype=int) * 2\n",
    "for node in [(m//2-i, n//2-j) for i in range(2) for j in range(2)]:\n",
    "    init_actions[lattice2d[node]] = 0\n",
    "animation(li_bg, init_actions=init_actions, pos=lattice2d['pos'],\n",
    "          node_colors=node_colors_3, interval=500)"
   ]
  },
  {
   "cell_type": "markdown",
   "metadata": {},
   "source": [
    "## Tree versus Ladder"
   ]
  },
  {
   "cell_type": "markdown",
   "metadata": {},
   "source": [
    "### Tree"
   ]
  },
  {
   "cell_type": "code",
   "execution_count": 25,
   "metadata": {
    "collapsed": false
   },
   "outputs": [],
   "source": [
    "r = 2\n",
    "h = 7\n",
    "N = r**h - 1  # 127\n",
    "tree = {}\n",
    "G = nx.balanced_tree(r=r, h=h)\n",
    "tree['G'] = G\n",
    "tree['adj_matrix'] = nx.adjacency_matrix(G)\n",
    "tree['pos'] = nx.spring_layout(G)"
   ]
  },
  {
   "cell_type": "code",
   "execution_count": 26,
   "metadata": {
    "collapsed": false
   },
   "outputs": [],
   "source": [
    "draw_graph(tree)"
   ]
  },
  {
   "cell_type": "markdown",
   "metadata": {},
   "source": [
    "### Ladder"
   ]
  },
  {
   "cell_type": "code",
   "execution_count": 27,
   "metadata": {
    "collapsed": false
   },
   "outputs": [],
   "source": [
    "N = 128\n",
    "ladder = {}\n",
    "G = nx.ladder_graph(n=N//2)\n",
    "ladder['G'] = G\n",
    "ladder['adj_matrix'] = nx.adjacency_matrix(G)\n",
    "ladder['pos'] = {}\n",
    "for i in range(N//2):\n",
    "    ladder['pos'][i] = (i/(N-1), 0.4)\n",
    "    ladder['pos'][N//2+i] = (i/(N-1), 0.6)"
   ]
  },
  {
   "cell_type": "code",
   "execution_count": 28,
   "metadata": {
    "collapsed": false
   },
   "outputs": [],
   "source": [
    "draw_graph(ladder)"
   ]
  },
  {
   "cell_type": "markdown",
   "metadata": {},
   "source": [
    "### Coordination game"
   ]
  },
  {
   "cell_type": "code",
   "execution_count": 29,
   "metadata": {
    "collapsed": false
   },
   "outputs": [],
   "source": [
    "coor = coordination_game_normalized(0.3)\n",
    "li_coor_tree = LocalInteraction(coor, tree['adj_matrix'])\n",
    "li_coor_ladder = LocalInteraction(coor, ladder['adj_matrix'])"
   ]
  },
  {
   "cell_type": "markdown",
   "metadata": {},
   "source": [
    "#### Tree"
   ]
  },
  {
   "cell_type": "code",
   "execution_count": 30,
   "metadata": {
    "collapsed": false
   },
   "outputs": [],
   "source": [
    "init_actions = np.zeros(li_coor_tree.N, dtype=int)\n",
    "init_actions[[0, 1, 2]] = 1\n",
    "animation(li_coor_tree, init_actions=init_actions, pos=tree['pos'],\n",
    "          node_colors=node_colors_2, interval=500)"
   ]
  },
  {
   "cell_type": "markdown",
   "metadata": {},
   "source": [
    "#### Ladder"
   ]
  },
  {
   "cell_type": "code",
   "execution_count": 31,
   "metadata": {
    "collapsed": false
   },
   "outputs": [],
   "source": [
    "init_actions = np.zeros(li_coor_ladder.N, dtype=int)\n",
    "init_actions[[li_coor_ladder.N//4, li_coor_ladder.N*3//4]] = 1\n",
    "animation(li_coor_ladder, init_actions=init_actions, pos=ladder['pos'],\n",
    "          node_colors=node_colors_2, interval=200)"
   ]
  },
  {
   "cell_type": "markdown",
   "metadata": {},
   "source": [
    "### Bilingual game"
   ]
  },
  {
   "cell_type": "code",
   "execution_count": 32,
   "metadata": {
    "collapsed": false
   },
   "outputs": [
    {
     "data": {
      "text/plain": [
       "array([[ 11. ,  11. ,   0. ],\n",
       "       [  7.9,   7.9,   6.9],\n",
       "       [  3. ,  10. ,  10. ]])"
      ]
     },
     "execution_count": 32,
     "metadata": {},
     "output_type": "execute_result"
    }
   ],
   "source": [
    "bg = bilingual_game(e=3.1)\n",
    "bg"
   ]
  },
  {
   "cell_type": "code",
   "execution_count": 33,
   "metadata": {
    "collapsed": false
   },
   "outputs": [],
   "source": [
    "li_bg_tree = LocalInteraction(bg, tree['adj_matrix'])\n",
    "li_bg_ladder = LocalInteraction(bg, ladder['adj_matrix'])"
   ]
  },
  {
   "cell_type": "code",
   "execution_count": 34,
   "metadata": {
    "collapsed": false
   },
   "outputs": [
    {
     "name": "stdout",
     "output_type": "stream",
     "text": [
      "best response to (2, 1, 0): 0\n",
      "best response to (2, 0, 1): 1\n",
      "best response to (1, 1, 1): 2\n"
     ]
    }
   ],
   "source": [
    "action_dists = [(2, 1, 0), (2, 0, 1), (1, 1, 1)]\n",
    "for action_dist in action_dists:\n",
    "    br = li_bg_tree.players[0].best_response(action_dist)\n",
    "    print('best response to {a}: {b}'.format(a=action_dist, b=br))"
   ]
  },
  {
   "cell_type": "markdown",
   "metadata": {},
   "source": [
    "#### Tree"
   ]
  },
  {
   "cell_type": "code",
   "execution_count": 35,
   "metadata": {
    "collapsed": false
   },
   "outputs": [],
   "source": [
    "init_actions = np.zeros(li_bg_tree.N, dtype=int) * 0\n",
    "init_actions[range(0, 31)] = 2\n",
    "animation(li_bg_tree, init_actions=init_actions, pos=tree['pos'],\n",
    "          node_colors=node_colors_3, interval=500)"
   ]
  },
  {
   "cell_type": "markdown",
   "metadata": {},
   "source": [
    "#### Ladder"
   ]
  },
  {
   "cell_type": "code",
   "execution_count": 36,
   "metadata": {
    "collapsed": false
   },
   "outputs": [],
   "source": [
    "init_actions = np.zeros(li_bg_ladder.N, dtype=int)\n",
    "init_actions[[li_coor_ladder.N*k//4-i for i in range(2) for k in [1, 3]]] = 2\n",
    "animation(li_bg_ladder, init_actions=init_actions, pos=ladder['pos'],\n",
    "          node_colors=node_colors_3, interval=200)"
   ]
  },
  {
   "cell_type": "markdown",
   "metadata": {},
   "source": [
    "## Random Networks"
   ]
  },
  {
   "cell_type": "markdown",
   "metadata": {},
   "source": [
    "### Random regular graph"
   ]
  },
  {
   "cell_type": "code",
   "execution_count": 37,
   "metadata": {
    "collapsed": false
   },
   "outputs": [],
   "source": [
    "N = 500\n",
    "d = 3  # Degree\n",
    "random_regular = {}\n",
    "G = nx.random_regular_graph(d=d, n=N)\n",
    "random_regular['G'] = G\n",
    "random_regular['adj_matrix'] = nx.adjacency_matrix(G)\n",
    "random_regular['pos'] = nx.random_layout(G)"
   ]
  },
  {
   "cell_type": "code",
   "execution_count": 38,
   "metadata": {
    "collapsed": false
   },
   "outputs": [],
   "source": [
    "draw_graph(random_regular)"
   ]
  },
  {
   "cell_type": "markdown",
   "metadata": {},
   "source": [
    "#### Coordination game"
   ]
  },
  {
   "cell_type": "code",
   "execution_count": 39,
   "metadata": {
    "collapsed": false
   },
   "outputs": [],
   "source": [
    "# coor = coordination_game_normalized(0.3)\n",
    "li_coor = LocalInteraction(coordination_game, random_regular['adj_matrix'])"
   ]
  },
  {
   "cell_type": "code",
   "execution_count": 40,
   "metadata": {
    "collapsed": false
   },
   "outputs": [],
   "source": [
    "init_actions = np.ones(li_coor.N, dtype=int)\n",
    "init_actions[np.random.randint(li_coor.N, size=150)] = 0\n",
    "animation(li_coor, init_actions=init_actions, pos=random_regular['pos'],\n",
    "          linewidth=0.5, node_colors=node_colors_2, interval=300)"
   ]
  },
  {
   "cell_type": "markdown",
   "metadata": {},
   "source": [
    "#### Bilingual game"
   ]
  },
  {
   "cell_type": "code",
   "execution_count": 41,
   "metadata": {
    "collapsed": false
   },
   "outputs": [],
   "source": [
    "bg = bilingual_game(e=0.1)\n",
    "li_bg = LocalInteraction(bg, random_regular['adj_matrix'])"
   ]
  },
  {
   "cell_type": "code",
   "execution_count": 42,
   "metadata": {
    "collapsed": false
   },
   "outputs": [],
   "source": [
    "init_actions = np.ones(li_bg.N, dtype=int) * 2\n",
    "init_actions[np.random.randint(li_bg.N, size=1)] = 0\n",
    "animation(li_bg, init_actions=init_actions, pos=random_regular['pos'],\n",
    "          linewidth=0.2, node_colors=node_colors_3, interval=300)"
   ]
  },
  {
   "cell_type": "markdown",
   "metadata": {},
   "source": [
    "### Erdos-Renyi graph"
   ]
  },
  {
   "cell_type": "code",
   "execution_count": 43,
   "metadata": {
    "collapsed": false
   },
   "outputs": [],
   "source": [
    "N = 250\n",
    "p=0.1\n",
    "erdos_reny = {}\n",
    "G = nx.fast_gnp_random_graph(n=N, p=p)\n",
    "erdos_reny['G'] = G\n",
    "erdos_reny['adj_matrix'] = nx.adjacency_matrix(G)\n",
    "erdos_reny['pos'] = nx.spring_layout(G)"
   ]
  },
  {
   "cell_type": "code",
   "execution_count": 44,
   "metadata": {
    "collapsed": false
   },
   "outputs": [],
   "source": [
    "draw_graph(erdos_reny, linewidth=0.2)"
   ]
  },
  {
   "cell_type": "markdown",
   "metadata": {},
   "source": [
    "#### Coordination game"
   ]
  },
  {
   "cell_type": "code",
   "execution_count": 45,
   "metadata": {
    "collapsed": false
   },
   "outputs": [],
   "source": [
    "li_coor = LocalInteraction(coordination_game, erdos_reny['adj_matrix'])"
   ]
  },
  {
   "cell_type": "code",
   "execution_count": 46,
   "metadata": {
    "collapsed": false
   },
   "outputs": [],
   "source": [
    "init_actions = np.ones(li_coor.N, dtype=int)\n",
    "init_actions[np.random.randint(li_coor.N, size=N//5)] = 0\n",
    "animation(li_coor, init_actions=init_actions, pos=erdos_reny['pos'],\n",
    "          linewidth=0.5, node_colors=node_colors_2, interval=300)"
   ]
  },
  {
   "cell_type": "markdown",
   "metadata": {},
   "source": [
    "#### Bilingual game"
   ]
  },
  {
   "cell_type": "code",
   "execution_count": 47,
   "metadata": {
    "collapsed": false
   },
   "outputs": [],
   "source": [
    "bg = bilingual_game(e=0.1)\n",
    "li_bg = LocalInteraction(bg, erdos_reny['adj_matrix'])"
   ]
  },
  {
   "cell_type": "code",
   "execution_count": 48,
   "metadata": {
    "collapsed": false
   },
   "outputs": [],
   "source": [
    "init_actions = np.ones(li_bg.N, dtype=int) * 2\n",
    "init_actions[np.random.randint(li_bg.N, size=2)] = 0\n",
    "animation(li_bg, init_actions=init_actions, pos=erdos_reny['pos'],\n",
    "          linewidth=0.2, node_colors=node_colors_3, interval=1000)"
   ]
  },
  {
   "cell_type": "code",
   "execution_count": 48,
   "metadata": {
    "collapsed": false
   },
   "outputs": [],
   "source": []
  }
 ],
 "metadata": {
  "anaconda-cloud": {},
  "kernelspec": {
   "display_name": "Python 2",
   "language": "python",
   "name": "python2"
  },
  "language_info": {
   "codemirror_mode": {
    "name": "ipython",
    "version": 2
   },
   "file_extension": ".py",
   "mimetype": "text/x-python",
   "name": "python",
   "nbconvert_exporter": "python",
   "pygments_lexer": "ipython2",
   "version": "2.7.12"
  }
 },
 "nbformat": 4,
 "nbformat_minor": 0
}
