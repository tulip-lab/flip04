{
 "cells": [
  {
   "cell_type": "markdown",
   "metadata": {},
   "source": [
    "# FLIP (04): Learning Theory (I)\n",
    "**(Module 03: Operation Research)**\n",
    "\n",
    "---\n",
    "- Materials in this module include resources collected from various open-source online repositories.\n",
    "- You are free to use, but NOT allowed to change or distribute this package.\n",
    "\n",
    "Prepared by and for \n",
    "**Student Members** |\n",
    "2006-2018 [TULIP Lab](http://www.tulip.org.au), Australia\n",
    "\n",
    "---"
   ]
  },
  {
   "cell_type": "markdown",
   "metadata": {},
   "source": [
    "# Getting Started with Discrete Event Simulation"
   ]
  },
  {
   "cell_type": "markdown",
   "metadata": {},
   "source": [
    "This [IPython notebook](http://ipython.org/notebook.html) demonstrates elementary use of the [SimPy](http://simpy.readthedocs.org/en/latest/) package for discrete event simulation."
   ]
  },
  {
   "cell_type": "markdown",
   "metadata": {},
   "source": [
    "### Initializations"
   ]
  },
  {
   "cell_type": "code",
   "execution_count": null,
   "metadata": {
    "collapsed": false
   },
   "outputs": [],
   "source": [
    "from IPython.core.display import HTML\n",
    "HTML(open(\"styles/custom.css\", \"r\").read())"
   ]
  },
  {
   "cell_type": "markdown",
   "metadata": {},
   "source": [
    "### SimPy Installation"
   ]
  },
  {
   "cell_type": "code",
   "execution_count": null,
   "metadata": {
    "collapsed": false
   },
   "outputs": [],
   "source": [
    "!pip install simpy\n",
    "import simpy as simpy\n",
    "#simpy.test()"
   ]
  },
  {
   "cell_type": "markdown",
   "metadata": {},
   "source": [
    "## Introduction to Modeling with SimPy"
   ]
  },
  {
   "cell_type": "markdown",
   "metadata": {},
   "source": [
    "### A Minimal SimPy Model"
   ]
  },
  {
   "cell_type": "markdown",
   "metadata": {},
   "source": [
    "A typical simpy model consists of an environment, processes that create events for the environment to process, and resources. We'll start by setting up an environment and running a simulation. This won't do anything, but it is valid (if useless) simulation."
   ]
  },
  {
   "cell_type": "code",
   "execution_count": null,
   "metadata": {
    "collapsed": false
   },
   "outputs": [],
   "source": [
    "import simpy\n",
    "\n",
    "# create the simulation environment\n",
    "env = simpy.Environment()\n",
    "\n",
    "# run the simulation\n",
    "env.run()"
   ]
  },
  {
   "cell_type": "markdown",
   "metadata": {},
   "source": [
    "### Adding a Process"
   ]
  },
  {
   "cell_type": "markdown",
   "metadata": {},
   "source": [
    "An example of a process is a clock that ticks at regular intervals, and at each tick prints a message showing the current time. \n",
    "\n",
    "The clock is a regular python function that executes until it encounters the  `yield env.timeout(tick)` statement. At that point a new event is scheduled for tick time units in the future after which execution will continue.\n",
    "\n",
    "The `env.process(clock(env, 2.0))` statement adds a clock to the simulation environment. The `env.run(until=10)` statement processes the environment 10 simulated time units."
   ]
  },
  {
   "cell_type": "code",
   "execution_count": null,
   "metadata": {
    "collapsed": false
   },
   "outputs": [],
   "source": [
    "import simpy\n",
    "\n",
    "# define a clock process\n",
    "def clock(env,tick):\n",
    "    while True:\n",
    "        print \"Time = {:8.6f} minutes\".format(env.now)\n",
    "        yield env.timeout(tick)\n",
    "\n",
    "# create the simulation environment\n",
    "env = simpy.Environment()\n",
    "\n",
    "# add the clock process to the environment. Set the tick interval.\n",
    "env.process(clock(env, 2.0))\n",
    "\n",
    "# run the simulation for a fixed period of time\n",
    "env.run(until=10)"
   ]
  },
  {
   "cell_type": "markdown",
   "metadata": {},
   "source": [
    "### Mutliple Instances of a Process"
   ]
  },
  {
   "cell_type": "markdown",
   "metadata": {},
   "source": []
  },
  {
   "cell_type": "code",
   "execution_count": null,
   "metadata": {
    "collapsed": false
   },
   "outputs": [],
   "source": [
    "import simpy\n",
    "\n",
    "# define a clock process\n",
    "def clock(env,name,tick):\n",
    "    while True:\n",
    "        print \"Clock {:s} ticks. Time = {:8.6f} minutes\".format(name, env.now)\n",
    "        yield env.timeout(tick)\n",
    "\n",
    "# create the simulation environment\n",
    "env = simpy.Environment()\n",
    "\n",
    "# add the clock process to the environment. Set the tick interval.\n",
    "env.process(clock(env, \"A\", 2.0))\n",
    "env.process(clock(env, \"B\", 1.3))\n",
    "\n",
    "# run the simulation for a fixed period of time\n",
    "env.run(until=10)"
   ]
  },
  {
   "cell_type": "markdown",
   "metadata": {},
   "source": [
    "### Processes Manage their own State"
   ]
  },
  {
   "cell_type": "code",
   "execution_count": null,
   "metadata": {
    "collapsed": false
   },
   "outputs": [],
   "source": [
    "import simpy\n",
    "\n",
    "# define a clock process\n",
    "def clock(env,name,tick):\n",
    "    nTicks = 0\n",
    "    while True:\n",
    "        nTicks += 1\n",
    "        print \"Clock {:s}, tick number {:d}. Time = {:8.6f} minutes\".format(name, nTicks, env.now)\n",
    "        yield env.timeout(tick)\n",
    "\n",
    "# create the simulation environment\n",
    "env = simpy.Environment()\n",
    "\n",
    "# add the clock process to the environment. Set the tick interval.\n",
    "env.process(clock(env, \"A\", 2.0))\n",
    "env.process(clock(env, \"B\", 1.3))\n",
    "\n",
    "# run the simulation for a fixed period of time\n",
    "env.run(until=10)"
   ]
  },
  {
   "cell_type": "markdown",
   "metadata": {},
   "source": [
    "## Application Examples"
   ]
  },
  {
   "cell_type": "markdown",
   "metadata": {},
   "source": [
    "### Geometric Brownian Motion"
   ]
  },
  {
   "cell_type": "code",
   "execution_count": null,
   "metadata": {
    "collapsed": false
   },
   "outputs": [],
   "source": [
    "import simpy\n",
    "import random        \n",
    "\n",
    "# geometric brownian motion\n",
    "def gbm(env,name,tick,P,mu,sigma):\n",
    "    t = 0;\n",
    "    while True:\n",
    "        Plog.append(P)\n",
    "        tlog.append(t)\n",
    "        yield env.timeout(tick)\n",
    "        P += P*(mu*tick + sigma*random.normalvariate(0,1)*sqrt(tick))\n",
    "        t += tick\n",
    "    \n",
    "# create the simulation environment\n",
    "env = simpy.Environment()\n",
    "\n",
    "# add the clock process to the environment. Set the tick interval.\n",
    "env.process(gbm_old(env, \"A\", sqrt(1.0/252), 80.0, 0, .3))\n",
    "\n",
    "# run the simulation for a fixed period of time\n",
    "    \n",
    "Plog = []\n",
    "tlog = []\n",
    "env.run(until=10)\n",
    "\n",
    "plot(tlog,Plog)\n",
    "xlabel('Date')\n",
    "ylabel('Price')"
   ]
  },
  {
   "cell_type": "code",
   "execution_count": null,
   "metadata": {
    "collapsed": false
   },
   "outputs": [],
   "source": [
    "import simpy\n",
    "import random\n",
    "\n",
    "class gbm(object):\n",
    "    def __init__(self,env,name,tick,val,mu,sigma):\n",
    "        self.env = env\n",
    "        self.name = name\n",
    "        self.tick = tick\n",
    "        self.val = val\n",
    "        self.mu = mu\n",
    "        self.sigma = sigma\n",
    "        self.t = 0\n",
    "        \n",
    "    def process(self):\n",
    "        while True:\n",
    "            yield self.env.timeout(self.tick)\n",
    "            self.t += self.tick\n",
    "            self.val += self.val*(self.mu*self.tick + self.sigma*random.normalvariate(0,1)*sqrt(self.tick))\n",
    "\n",
    "def reporter(env,tick,gbm):\n",
    "    t = 0\n",
    "    while True:\n",
    "        yield env.timeout(tick)\n",
    "        t += tick\n",
    "        print t, gbm.val\n",
    "\n",
    "env = simpy.Environment()\n",
    "a = gbm(env,'A',1.0/sqrt(12.0),80.0,0,0.30)\n",
    "env.process(a.process())\n",
    "env.process(reporter(env,1.0,a))\n",
    "env.run(until=5)\n",
    "\n"
   ]
  },
  {
   "cell_type": "markdown",
   "metadata": {},
   "source": [
    "## Application"
   ]
  },
  {
   "cell_type": "markdown",
   "metadata": {},
   "source": [
    "Setting up a class provides a means of modeling more complex behaviors. Here we'll consider a Roomba cleaning robot that can be either in a running mode or a charging mode."
   ]
  },
  {
   "cell_type": "code",
   "execution_count": null,
   "metadata": {
    "collapsed": false
   },
   "outputs": [],
   "source": [
    "\n",
    "class Roomba(object):\n",
    "    def __init__(self,env,name,charge_duration,clean_duration):\n",
    "        self.env = env\n",
    "        self.name = name\n",
    "        self.charge_duration = charge_duration\n",
    "        self.clean_duration = clean_duration\n",
    "        self.proc = env.process(self.run())\n",
    "\n",
    "    def run(self):\n",
    "        while True:\n",
    "            yield env.process(self.charge())\n",
    "            yield env.process(self.clean())\n",
    "    \n",
    "    def clean(self):\n",
    "        print \"{:<3s} start charging at {:4.1f}\".format(self.name,env.now)\n",
    "        yield env.timeout(self.clean_duration)\n",
    "    \n",
    "    def charge(self):\n",
    "        print \"{:<3s} start cleaning at {:4.1f}\".format(self.name,env.now)\n",
    "        yield env.timeout(self.charge_duration)\n",
    "\n",
    "import simpy\n",
    "env = simpy.Environment()\n",
    "\n",
    "A = Roomba(env,'A',1.1,2.3)\n",
    "B = Roomba(env,'B',0.9,3.1)\n",
    "\n",
    "# start processes\n",
    "env.run(until=6)"
   ]
  }
 ],
 "metadata": {
  "anaconda-cloud": {},
  "kernelspec": {
   "display_name": "Python 2",
   "language": "python",
   "name": "python2"
  },
  "language_info": {
   "codemirror_mode": {
    "name": "ipython",
    "version": 2
   },
   "file_extension": ".py",
   "mimetype": "text/x-python",
   "name": "python",
   "nbconvert_exporter": "python",
   "pygments_lexer": "ipython2",
   "version": "2.7.12"
  }
 },
 "nbformat": 4,
 "nbformat_minor": 0
}
