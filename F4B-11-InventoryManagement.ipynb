{
 "cells": [
  {
   "cell_type": "markdown",
   "metadata": {},
   "source": [
    "# FLIP (04): Learning Theory (I)\n",
    "**(Module 03: Operation Research)**\n",
    "\n",
    "---\n",
    "- Materials in this module include resources collected from various open-source online repositories.\n",
    "- You are free to use, but NOT allowed to change or distribute this package.\n",
    "\n",
    "Prepared by and for \n",
    "**Student Members** |\n",
    "2006-2018 [TULIP Lab](http://www.tulip.org.au), Australia\n",
    "\n",
    "---"
   ]
  },
  {
   "cell_type": "markdown",
   "metadata": {
    "slideshow": {
     "slide_type": "slide"
    }
   },
   "source": [
    "# Inventory Management"
   ]
  },
  {
   "cell_type": "markdown",
   "metadata": {},
   "source": [
    "This [IPython notebook](http://ipython.org/notebook.html) illustrates the formulation of an elementary model for multi-product plant using GLPK/MathProg."
   ]
  },
  {
   "cell_type": "markdown",
   "metadata": {},
   "source": [
    "### Initializations"
   ]
  },
  {
   "cell_type": "code",
   "execution_count": null,
   "metadata": {
    "collapsed": false
   },
   "outputs": [],
   "source": [
    "%matplotlib inline\n",
    "from pylab import *\n",
    "\n",
    "from IPython.core.display import HTML\n",
    "HTML(open(\"styles/custom.css\", \"r\").read())"
   ]
  },
  {
   "cell_type": "markdown",
   "metadata": {
    "slideshow": {
     "slide_type": "slide"
    }
   },
   "source": [
    "## Economic Order Quantity (EOQ)"
   ]
  },
  {
   "cell_type": "code",
   "execution_count": null,
   "metadata": {
    "collapsed": false,
    "slideshow": {
     "slide_type": "fragment"
    }
   },
   "outputs": [],
   "source": [
    "K = 200.00      # Cost to place an order\n",
    "D = 1200.       # Annual Demand\n",
    "h = 25.00       # Cost of holding an item for one year\n",
    "\n",
    "HC = lambda Q: Q*h/2.0\n",
    "OC = lambda Q: K*D/Q\n",
    "AC = lambda Q: OC(Q) + HC(Q)\n",
    "\n",
    "EOQ = sqrt(2.0*D*K/h)\n",
    "\n",
    "Q = linspace(50,400)\n",
    "plot(Q,AC(Q),lw=2)\n",
    "xlim(0,400)\n",
    "ylim(0,ylim()[1])\n",
    "\n",
    "hold(True)\n",
    "plot(Q,HC(Q),'r',lw = 2)\n",
    "plot(Q,OC(Q),'g',lw = 2)\n",
    "plot([EOQ,EOQ,0],[0,AC(EOQ),AC(EOQ)],'k--')\n",
    "hold(False)\n",
    "\n",
    "xlabel('Q: Order Quantity')\n",
    "ylabel('Annual Cost')\n",
    "title('Variable Costs of Maintaining Inventory')\n",
    "\n",
    "text(240,4600,'Total Inventory Costs',horizontalalignment='right')\n",
    "annotate('', xy=(275,AC(275)), xytext=(240,4600),\n",
    "         arrowprops=dict(shrink=0.1,width=0.5,headwidth=4,frac=0.25))\n",
    "\n",
    "text(250,2500,'Holding Costs = $h Q/2$',verticalalignment='center')\n",
    "annotate('', xy=(225,HC(225)), xytext=(250,2500),\n",
    "         arrowprops=dict(shrink=0.1,width=0.5,headwidth=4,frac=0.25))\n",
    "\n",
    "text(250,1500,'Order Costs = $K D/Q$',verticalalignment='center')\n",
    "annotate('', xy=(225,OC(225)), xytext=(250,1500),\n",
    "         arrowprops=dict(shrink=0.1,width=0.5,headwidth=4,frac=0.25))\n",
    "\n",
    "text(200,300,'Economic Order Quantity',verticalalignment='center')\n",
    "annotate('', xy=(EOQ,0), xytext=(200,300),\n",
    "         arrowprops=dict(shrink=0.1,width=0.5,headwidth=4,frac=0.15))\n",
    "\n",
    "text(25,1900,'Minimum Cost',verticalalignment='center')\n",
    "annotate('', xy=(0,AC(EOQ)), xytext=(25,1900),\n",
    "         arrowprops=dict(shrink=0.1,width=0.5,headwidth=4,frac=0.1))\n",
    "\n",
    "savefig('img/InventoryManagementEOQ.png')"
   ]
  },
  {
   "cell_type": "code",
   "execution_count": null,
   "metadata": {
    "collapsed": false
   },
   "outputs": [],
   "source": []
  }
 ],
 "metadata": {
  "anaconda-cloud": {},
  "kernelspec": {
   "display_name": "Python 2",
   "language": "python",
   "name": "python2"
  },
  "language_info": {
   "codemirror_mode": {
    "name": "ipython",
    "version": 2
   },
   "file_extension": ".py",
   "mimetype": "text/x-python",
   "name": "python",
   "nbconvert_exporter": "python",
   "pygments_lexer": "ipython2",
   "version": "2.7.12"
  }
 },
 "nbformat": 4,
 "nbformat_minor": 0
}
