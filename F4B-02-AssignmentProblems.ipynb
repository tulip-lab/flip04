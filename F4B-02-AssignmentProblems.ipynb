{
 "cells": [
  {
   "cell_type": "markdown",
   "metadata": {},
   "source": [
    "# FLIP (04): Learning Theory (I)\n",
    "**(Module 03: Operation Research)**\n",
    "\n",
    "---\n",
    "- Materials in this module include resources collected from various open-source online repositories.\n",
    "- You are free to use, but NOT allowed to change or distribute this package.\n",
    "\n",
    "Prepared by and for \n",
    "**Student Members** |\n",
    "2006-2018 [TULIP Lab](http://www.tulip.org.au), Australia\n",
    "\n",
    "---"
   ]
  },
  {
   "cell_type": "markdown",
   "metadata": {
    "slideshow": {
     "slide_type": "slide"
    }
   },
   "source": [
    "# Assignment Problems"
   ]
  },
  {
   "cell_type": "markdown",
   "metadata": {},
   "source": [
    "This [IPython notebook](http://ipython.org/notebook.html) demonstrates models for various types of assignment problems using GLPK/MathProg."
   ]
  },
  {
   "cell_type": "markdown",
   "metadata": {},
   "source": [
    "### Initializations"
   ]
  },
  {
   "cell_type": "code",
   "execution_count": null,
   "metadata": {
    "collapsed": false
   },
   "outputs": [],
   "source": [
    "from IPython.core.display import HTML\n",
    "HTML(open(\"styles/custom.css\", \"r\").read())"
   ]
  },
  {
   "cell_type": "markdown",
   "metadata": {
    "slideshow": {
     "slide_type": "slide"
    }
   },
   "source": [
    "## Example Problem"
   ]
  },
  {
   "cell_type": "markdown",
   "metadata": {},
   "source": [
    "You work as a logistics manager for a toy manufacturer, and you currently have five delivery trucks on the road. Your trucks are in Austin, Boston, Chicago, Denver, Edmonton, and Fargo. You need them to drive to five other cities: Atlanta, Boise, Charlotte, Dallas, and Fresno. The table below shows the distance in miles between these cities.\n",
    "\n",
    "| From\\To  | Atlanta | Boise    | Charlotte | Dallas | Fresno |\n",
    "| : -----: | :-----: | :------: | :-------: | :----: | :----: |\n",
    "| Austin   | 921     | 1627     | 1166      | 196    | 1594   |\n",
    "| Boston   | 1078    | 2661     | 837       | 1767   | 3107   |\n",
    "| Chicago  | 716     | 1693     | 756       | 925    | 2140   |\n",
    "| Denver   | 1400    | 815      | 1561      | 788    | 1142   |\n",
    "| Edmonton | 3764    | 1718     | 3848      | 3310   | 2835   |\n",
    "\n",
    "Where should you send each of your trucks in order to minimize travel distance?"
   ]
  },
  {
   "cell_type": "markdown",
   "metadata": {
    "slideshow": {
     "slide_type": "slide"
    }
   },
   "source": [
    "### Combinatorial Complexity"
   ]
  },
  {
   "cell_type": "markdown",
   "metadata": {},
   "source": [
    "How many ways are there to assign destinations to each truck?\n",
    "\n",
    "$N = 5 \\times 4 \\times 3 \\times 2 \\times 1 = 120$\n",
    "\n",
    "In general there are \n",
    "\n",
    "$N = n!$ \n",
    "\n",
    "ways to assign $n$ resources to $n$ tasks."
   ]
  },
  {
   "cell_type": "code",
   "execution_count": null,
   "metadata": {
    "collapsed": false,
    "slideshow": {
     "slide_type": "slide"
    }
   },
   "outputs": [],
   "source": [
    "n = arange(0,10)\n",
    "plot(n,n);\n",
    "xlabel('Number of Resources/Tasks');"
   ]
  },
  {
   "cell_type": "code",
   "execution_count": null,
   "metadata": {
    "collapsed": false,
    "slideshow": {
     "slide_type": "slide"
    }
   },
   "outputs": [],
   "source": [
    "xlabel('Number of Resources/Tasks')\n",
    "plot(n,n,n,n**2)\n",
    "legend(['n','n**2'],loc='best');"
   ]
  },
  {
   "cell_type": "code",
   "execution_count": null,
   "metadata": {
    "collapsed": false,
    "slideshow": {
     "slide_type": "slide"
    }
   },
   "outputs": [],
   "source": [
    "xlabel('Number of Resources/Tasks')\n",
    "plot(n,n,n,n**2,n,exp(n))\n",
    "legend(['n','n**2','exp(n)'],loc='best');"
   ]
  },
  {
   "cell_type": "code",
   "execution_count": null,
   "metadata": {
    "collapsed": false,
    "slideshow": {
     "slide_type": "slide"
    }
   },
   "outputs": [],
   "source": [
    "xlabel('Number of Resources/Tasks')\n",
    "semilogy(n,n,n,n**2,n,exp(n),n,map(math.factorial,n))\n",
    "legend(['n','n**2','exp(n)','n!'],loc='best');"
   ]
  },
  {
   "cell_type": "markdown",
   "metadata": {},
   "source": [
    "### Types of Complexity\n",
    "\n",
    "$$ Combinatoric >> Exponential >> Geometric >> Linear $$\n",
    "\n",
    "Assignment problems can be incredibly difficult to solve. The speed of solution will depend on the exact details of the problem, what features can be left out without affecting the utility of the solution, and the availability of specialized algorithms."
   ]
  },
  {
   "cell_type": "markdown",
   "metadata": {
    "slideshow": {
     "slide_type": "slide"
    }
   },
   "source": [
    "## Formulation"
   ]
  },
  {
   "cell_type": "markdown",
   "metadata": {},
   "source": [
    "Let _x[R,T]_ be a binary variable where _x[R,T] = 1_ means resource _R_ is assigned to task _T_. "
   ]
  },
  {
   "cell_type": "markdown",
   "metadata": {
    "slideshow": {
     "slide_type": "fragment"
    }
   },
   "source": [
    "One resource must be assigned to each task. So for all $t\\in TASKS$\n",
    "\n",
    "$$\\sum_{r \\in RESOURCES} x[R,T] = 1$$  "
   ]
  },
  {
   "cell_type": "markdown",
   "metadata": {
    "slideshow": {
     "slide_type": "fragment"
    }
   },
   "source": [
    "Each resource must be assigned to one task. So for all $r\\in RESOURCES$\n",
    "\n",
    "$$\\sum_{t \\in TASKS} x[R,T] = 1$$  "
   ]
  },
  {
   "cell_type": "code",
   "execution_count": null,
   "metadata": {
    "collapsed": false,
    "slideshow": {
     "slide_type": "slide"
    }
   },
   "outputs": [],
   "source": [
    "%%writefile Assign.mod\n",
    "\n",
    "set RESOURCES;\n",
    "set TASKS;\n",
    "\n",
    "param a {RESOURCES,TASKS} >= 0;\n",
    "\n",
    "var x {RESOURCES,TASKS} binary;\n",
    "\n",
    "minimize Cost: sum{r in RESOURCES, t in TASKS} a[r,t]*x[r,t];\n",
    "subject to R {r in RESOURCES}: sum {t in TASKS} x[r,t] = 1;\n",
    "subject to T {t in TASKS}: sum {r in RESOURCES} x[r,t] = 1;\n",
    "\n",
    "solve;\n",
    "\n",
    "printf \"\\n\\n\";\n",
    "for {r in RESOURCES} {\n",
    "   for {t in TASKS : x[r,t] == 1} {\n",
    "      printf \"Assign %10s   to %10s   Cost: %6.0f\\n\", r, t, a[r,t];\n",
    "   }\n",
    "}\n",
    "printf \"\\n\\n\";\n",
    "\n",
    "end;\n"
   ]
  },
  {
   "cell_type": "markdown",
   "metadata": {},
   "source": [
    "## Solution"
   ]
  },
  {
   "cell_type": "code",
   "execution_count": null,
   "metadata": {
    "collapsed": false
   },
   "outputs": [],
   "source": [
    "%%script glpsol -m Assign.mod -d /dev/stdin\n",
    "\n",
    "set RESOURCES := Austin Boston Chicago Denver Edmonton ;\n",
    "set TASKS := Atlanta Boise Charlotte Dallas Fresno ;\n",
    "    \n",
    "param a :   Atlanta\t Boise Charlotte Dallas Fresno :=\n",
    "Austin       921     1627    1166      196   1594\n",
    "Boston      1078     2661     837     1767   3107\n",
    "Chicago      716     1693     756      925   2140\n",
    "Denver      1400      815    1561      788   1142\n",
    "Edmonton    3764     1718    3848     3310   2835 ;\n",
    "\n",
    "end;"
   ]
  },
  {
   "cell_type": "markdown",
   "metadata": {
    "slideshow": {
     "slide_type": "slide"
    }
   },
   "source": [
    "## Example"
   ]
  },
  {
   "cell_type": "markdown",
   "metadata": {},
   "source": [
    "A foreman has ﬁve workers and ﬁve jobs to complete. The\n",
    "time in hours each worker needs to complete each job is shown in the following\n",
    "table.\n",
    "\n",
    "| Resource\\Task | Job 1 | Job 2 | Job 3 | Job 4 | Job 5 |\n",
    "| :-----------: | :---: | :---: | :---: | :---: | :---: |\n",
    "| Worker 1      | 3     | 4     | 8     | 7     | 8     |\n",
    "| Worker 2      | 2     | 5     | 3     | 2     | 6     |\n",
    "| Worker 3      | 7     | 9     | 1     | 8     | 3     |\n",
    "| Worker 4      | 5     | 3     | 4     | 6     | 6     |\n",
    "| Worker 5      | 8     | 9     | 7     | 5     | 8     |"
   ]
  },
  {
   "cell_type": "markdown",
   "metadata": {
    "slideshow": {
     "slide_type": "slide"
    }
   },
   "source": [
    "### What is the minimum time solution if one worker is assigned to each job?"
   ]
  },
  {
   "cell_type": "code",
   "execution_count": null,
   "metadata": {
    "collapsed": false,
    "slideshow": {
     "slide_type": "fragment"
    }
   },
   "outputs": [],
   "source": [
    "%%script glpsol -m Assign.mod -d /dev/stdin\n",
    "\n",
    "set RESOURCES := Worker_1 Worker_2 Worker_3 Worker_4 Worker_5 ;\n",
    "set TASKS := Job_1 Job_2 Job_3 Job_4 Job_5 ;\n",
    "    \n",
    "param a : Job_1\tJob_2 Job_3\tJob_4 Job_5 :=\n",
    "Worker_1\t3\t4\t8\t7\t8\n",
    "Worker_2\t2\t5\t3\t2\t6\n",
    "Worker_3\t7\t9\t1\t8\t3\n",
    "Worker_4\t5\t3\t4\t6\t6\n",
    "Worker_5\t8\t9\t7\t5\t8 ;\n",
    "\n",
    "end;"
   ]
  },
  {
   "cell_type": "markdown",
   "metadata": {
    "slideshow": {
     "slide_type": "slide"
    }
   },
   "source": [
    "### What is the minimum time solution if workers can be assigned multiple times?"
   ]
  },
  {
   "cell_type": "code",
   "execution_count": null,
   "metadata": {
    "collapsed": false,
    "slideshow": {
     "slide_type": "fragment"
    }
   },
   "outputs": [],
   "source": [
    "%%script glpsol -m /dev/stdin\n",
    "\n",
    "set RESOURCES;\n",
    "set TASKS;\n",
    "\n",
    "param a {RESOURCES,TASKS} >= 0;\n",
    "\n",
    "var x {RESOURCES,TASKS} binary;\n",
    "\n",
    "maximize Cost: sum{r in RESOURCES, t in TASKS} a[r,t]*x[r,t];\n",
    "#subject to R {r in RESOURCES}: sum {t in TASKS} x[r,t] = 1;\n",
    "subject to T {t in TASKS}: sum {r in RESOURCES} x[r,t] = 1;\n",
    "\n",
    "solve;\n",
    "\n",
    "printf \"\\n\\n\";\n",
    "for {r in RESOURCES} {\n",
    "   for {t in TASKS : x[r,t] == 1} {\n",
    "      printf \"Assign %10s   to %10s   Cost: %6.0f\\n\", r, t, a[r,t];\n",
    "   }\n",
    "}\n",
    "printf \"\\n\\n\";\n",
    "\n",
    "data;\n",
    "\n",
    "set RESOURCES := Worker_1 Worker_2 Worker_3 Worker_4 Worker_5 ;\n",
    "set TASKS := Job_1 Job_2 Job_3 Job_4 Job_5 ;\n",
    "    \n",
    "param a : Job_1\tJob_2 Job_3\tJob_4 Job_5 :=\n",
    "Worker_1\t3\t4\t8\t7\t8\n",
    "Worker_2\t2\t5\t3\t2\t6\n",
    "Worker_3\t7\t9\t1\t8\t3\n",
    "Worker_4\t5\t3\t4\t6\t6\n",
    "Worker_5\t8\t9\t7\t5\t8 ;\n",
    "\n",
    "end;"
   ]
  },
  {
   "cell_type": "markdown",
   "metadata": {},
   "source": [
    "### Exercise\n",
    "\n",
    "Suppose we want to assign just two workers. What is the minimum time solution using just two workers?"
   ]
  },
  {
   "cell_type": "markdown",
   "metadata": {},
   "source": [
    "## Knapsack Problems"
   ]
  },
  {
   "cell_type": "markdown",
   "metadata": {},
   "source": [
    "### Typical Applications\n",
    "\n",
    "* Resource allocations with financial constraints\n",
    "* Construction and scoring of a heterogenous test\n",
    "* Selection of Capital Investments"
   ]
  },
  {
   "cell_type": "markdown",
   "metadata": {},
   "source": [
    "### Example\n",
    "\n",
    "Need to complete a set of jobs\n",
    "\n",
    "\n",
    "|       | A | B | C | D  | E  | F | G |\n",
    "|:-----:|:-:|:-:|:-:|:--:|:--:|:-:|:-:|\n",
    "| Value | 7 | 9 | 5 | 12 | 14 | 6 | 12 |\n",
    "| Time  | 3 | 4 | 2 | 6  | 7  | 3 | 5 |\n",
    "\n"
   ]
  },
  {
   "cell_type": "code",
   "execution_count": null,
   "metadata": {
    "collapsed": false
   },
   "outputs": [],
   "source": [
    "%%script glpsol -m /dev/stdin\n",
    "\n",
    "set ITEMS;\n",
    "\n",
    "param value{ITEMS};\n",
    "param cost{ITEMS};\n",
    "\n",
    "var x {ITEMS} binary;\n",
    "\n",
    "maximize Obj: sum{i in ITEMS} value[i]*x[i];\n",
    "subject to C: sum{i in ITEMS} cost[i]*x[i] <= 12 ;\n",
    "\n",
    "solve;\n",
    "\n",
    "for {i in ITEMS}{\n",
    "    printf \"%3s  %2d\\n\",i,x[i];\n",
    "}\n",
    "\n",
    "data;\n",
    "\n",
    "param : ITEMS : value cost :=\n",
    " A   7 3\n",
    " B   9 4\n",
    " C   5 2\n",
    " D  12 6\n",
    " E  14 7\n",
    " F   6 3\n",
    " G  12 5 ;\n",
    "            \n",
    "end;\n"
   ]
  },
  {
   "cell_type": "markdown",
   "metadata": {},
   "source": [
    "### Exercise\n",
    "\n",
    "| Investment | Location | Cost (millions) | Expected Profit |\n",
    "| :--------: | :------: | :-------------: | :-------------: |\n",
    "| 1 | Europe   | 10 | 1.0 |\n",
    "| 2 | Europe | 8 | 0.9 |\n",
    "| 3 | Europe | 8 | 0.9 |\n",
    "| 4 | South America | 16 | 2.0 |\n",
    "| 5 | South America | 12 | 1.4 |\n",
    "| 6 | Africa | 4 | 0.2 |\n",
    "| 7 | Africa | 6 | 0.5 |\n",
    "| 8 | Africa | 16 | 2.1 |\n",
    "\n",
    "The objective is to maximize the total expected profits subject to:\n",
    "\n",
    "* Contractual commitments require at least 2 investments in Europe\n",
    "* There must be one South American Investment\n",
    "* No more than one African investment\n",
    "* Total cost must be less than $40 million\n",
    "\n",
    "\n",
    "\n"
   ]
  },
  {
   "cell_type": "code",
   "execution_count": null,
   "metadata": {
    "collapsed": false
   },
   "outputs": [],
   "source": []
  }
 ],
 "metadata": {
  "anaconda-cloud": {},
  "kernelspec": {
   "display_name": "Python 2",
   "language": "python",
   "name": "python2"
  },
  "language_info": {
   "codemirror_mode": {
    "name": "ipython",
    "version": 2
   },
   "file_extension": ".py",
   "mimetype": "text/x-python",
   "name": "python",
   "nbconvert_exporter": "python",
   "pygments_lexer": "ipython2",
   "version": "2.7.12"
  }
 },
 "nbformat": 4,
 "nbformat_minor": 0
}
