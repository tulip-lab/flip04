{
 "cells": [
  {
   "cell_type": "markdown",
   "metadata": {},
   "source": [
    "# FLIP (04): Learning Theory (I)\n",
    "**(Module 03: Convex Optimization)**\n",
    "\n",
    "---\n",
    "- Materials in this module include resources collected from various open-source online repositories.\n",
    "- You are free to use, but NOT allowed to change or distribute this package.\n",
    "\n",
    "Prepared by and for \n",
    "**Student Members** |\n",
    "2006-2018 [TULIP Lab](http://www.tulip.org.au), Australia\n",
    "\n",
    "---"
   ]
  },
  {
   "cell_type": "markdown",
   "metadata": {},
   "source": [
    "## Mocking conditional statements using binary constraints"
   ]
  },
  {
   "cell_type": "markdown",
   "metadata": {},
   "source": [
    "In part 5, I mentioned that in some cases it is possible to construct conditional statements using binary constraints.\n",
    "\n",
    "We will explore not only conditional statements using binary constraints, but combining them with logical operators, 'and' and 'or'.\n",
    "\n",
    "First we'll work through some theory, then a real world example as an extension of part 5's example at the end.\n",
    "\n",
    "#### Conditional statement\n",
    "To start simply, if we have the binary constraint x<sub>1</sub> and we want:\n",
    "\n",
    "```python\n",
    "if x1 == 1:\n",
    "    y1 == 1\n",
    "elif x1 == 0:\n",
    "    y1 == 0\n",
    "```\n",
    "\n",
    "We can achieve this easily using the following constraint:\n",
    "```python\n",
    "y1 == x1\n",
    "```"
   ]
  },
  {
   "cell_type": "markdown",
   "metadata": {},
   "source": [
    "However, if we wanted the opposite:  \n",
    "\n",
    "```python\n",
    "if x1 == 1:\n",
    "    y1 == 0\n",
    "elif x1 == 0:\n",
    "    y1 == 1\n",
    "```\n",
    "\n",
    "Given that they most both be 1 or 0, we just need the following constraint:\n",
    "```python\n",
    "x1 + y1 == 1\n",
    "```"
   ]
  },
  {
   "cell_type": "markdown",
   "metadata": {},
   "source": [
    "#### Logical 'AND' operator\n",
    "\n",
    "Now for something a little more complex, we can coerce a particular binary constraint to be 1 based on the states of 2 other binary constraints.\n",
    "\n",
    "If we have binary constraints x<sub>1</sub> and x<sub>2</sub> and we want to achieve the following:\n",
    "\n",
    "```python\n",
    "if x1 == 1 and x2 == 0:\n",
    "    y1 == 1\n",
    "else:\n",
    "    y1 == 0\n",
    "```\n",
    "\n",
    "So that $y_1$ is only 1 in the case that x<sub>1</sub> is 1 and x<sub>2</sub> is 0. We can use the following 3 constraints to achieve this:\n",
    "\n",
    "```python\n",
    "[\n",
    "y1 >= x1 - x2,\n",
    "y1 <= x1,\n",
    "y1 <= (1 - x2)\n",
    "]\n",
    "```"
   ]
  },
  {
   "cell_type": "markdown",
   "metadata": {},
   "source": [
    "We'll take a moment to deconstruct this. In our preferred case that x<sub>1</sub> = 1 and x<sub>2</sub> = 0, the three statments resolve to:\n",
    "* y<sub>1</sub> ≥ 1\n",
    "* y<sub>1</sub> ≤ 1\n",
    "* y<sub>1</sub> ≤ 1\n",
    "\n",
    "The only value of $y_1$ that fulfils each of these is 1.\n",
    "\n",
    "In any other case, however, y<sub>1</sub> will be zero. Let's take another example, say x<sub>1</sub> = 0 and x<sub>2</sub> = 1. This resolves to:\n",
    "* y<sub>1</sub> ≥ -1\n",
    "* y<sub>1</sub> ≤ 0\n",
    "* y<sub>1</sub> ≤ 0\n",
    "\n",
    "Given that y<sub>1</sub> is a binary variable and must be 0 or 1, the only value of y<sub>1</sub> that can fulfil each of these is 0.\n",
    "\n",
    "You can construct 3 constraints so that y<sub>1</sub> is equal to 1, only in the case you're interested in out of the 4 following options:\n",
    "* x<sub>1</sub> = 1 and x<sub>2</sub> = 1 \n",
    "* x<sub>1</sub> = 1 and x<sub>2</sub> = 0 \n",
    "* x<sub>1</sub> = 0 and x<sub>2</sub> = 1 \n",
    "* x<sub>1</sub> = 0 and x<sub>2</sub> = 0 \n",
    "\n",
    "I have created a function for exactly this purpose to cover all cases:"
   ]
  },
  {
   "cell_type": "code",
   "execution_count": null,
   "metadata": {
    "collapsed": true
   },
   "outputs": [],
   "source": [
    "def make_io_and_constraint(y1, x1, x2, target_x1, target_x2):\n",
    "    \"\"\"\n",
    "    Returns a list of constraints for a linear programming model\n",
    "    that will constrain y1 to 1 when\n",
    "    x1 = target_x1 and x2 = target_x2; \n",
    "    where target_x1 and target_x2 are 1 or 0\n",
    "    \"\"\"\n",
    "    binary = [0,1]\n",
    "    assert target_x1 in binary\n",
    "    assert target_x2 in binary\n",
    "    \n",
    "    if IOx1 == 1 and IOx2 == 1:\n",
    "        return [\n",
    "            y1 >= x1 + x2 - 1,\n",
    "            y1 <= x1,\n",
    "            y1 <= x2\n",
    "        ]\n",
    "    elif IOx1 == 1 and IOx2 == 0:\n",
    "        return [\n",
    "            y1 >= x1 - x2,\n",
    "            y1 <= x1,\n",
    "            y1 <= (1 - x2)\n",
    "        ]\n",
    "    elif IOx1 == 0 and IOx2 == 1:\n",
    "        return [\n",
    "            y1 >= x2 - x1,\n",
    "            y1 <= (1 - x1),\n",
    "            y1 <= x2\n",
    "        ]\n",
    "    else:\n",
    "        return [\n",
    "            y1 >= - (x1 + x2 -1),\n",
    "            y1 <= (1 - x1),\n",
    "            y1 <= (1 - x2)\n",
    "        ]"
   ]
  },
  {
   "cell_type": "markdown",
   "metadata": {},
   "source": [
    "#### Logical 'OR' operator\n",
    "\n",
    "This is all well and good for the 'and' logical operator. What about the 'or' logical operator.\n",
    "\n",
    "If we would like the following:\n",
    "```python\n",
    "if x1 == 1 or x2 == 1:\n",
    "    y1 == 1\n",
    "else:\n",
    "    y1 == 0\n",
    "```\n",
    "\n",
    "We can use the following linear constraints:\n",
    "```python\n",
    "y1 <= x1 + x2\n",
    "y1 * 2 >= x1 + x2\n",
    "```\n",
    "\n",
    "So that:\n",
    "* if x<sub>1</sub> is 1 and x<sub>2</sub> is 1:\n",
    "  * y<sub>1</sub> ≤ 2\n",
    "  * 2y<sub>1</sub> ≥ 2\n",
    "  * y<sub>1</sub> must equal 1\n",
    "* if x<sub>1</sub> is 1 and x<sub>2</sub> is 0:\n",
    "  * y<sub>1</sub> ≤ 1\n",
    "  * 2y<sub>1</sub> ≥ 1\n",
    "  * y<sub>1</sub> must equal 1\n",
    "* if x<sub>1</sub> is 0 and x<sub>2</sub> is 1:\n",
    "  * y<sub>1</sub> ≤ 1\n",
    "  * 2y<sub>1</sub> ≥ 1\n",
    "  * y<sub>1</sub> must equal 1\n",
    "* if x<sub>1</sub> is 0 and x<sub>2</sub> is 0:\n",
    "  * y<sub>1</sub> ≤ 0\n",
    "  * 2y<sub>1</sub> ≥ 0\n",
    "  * y<sub>1</sub> must equal 0\n",
    "  \n",
    "\n",
    "Again, we'll consider the alternative option:\n",
    "```python\n",
    "if x1 == 0 or x2 == 0:\n",
    "    y1 == 1\n",
    "else:\n",
    "    y1 == 0\n",
    "```\n",
    "\n",
    "We can use the following linear constraints:\n",
    "```python\n",
    "y1 * 2 <= 2 - (x1 + x2)\n",
    "y1 >= 1 - (x1 + x2)\n",
    "```\n"
   ]
  },
  {
   "cell_type": "markdown",
   "metadata": {},
   "source": [
    "### An Example - Scheduling Example Extended"
   ]
  },
  {
   "cell_type": "markdown",
   "metadata": {},
   "source": [
    "In our last example, we explored the scheduling of 2 factories.\n",
    "\n",
    "Both factories had 2 costs:\n",
    "* Fixed Costs - Costs incurred while the factory is running\n",
    "* Variable Costs - Cost per unit of production\n",
    "\n",
    "We're going to introduce a third cost - Start up cost.\n",
    "\n",
    "This will be a cost incurred by turning on the machines at one of the factories.\n",
    "\n",
    "In this example, our start-up costs will be:\n",
    "* Factory A - €20,000\n",
    "* Factory B - €400,000\n",
    "\n",
    "Let's start by reminding ourselves of the input data."
   ]
  },
  {
   "cell_type": "code",
   "execution_count": null,
   "metadata": {
    "collapsed": false
   },
   "outputs": [],
   "source": [
    "import pandas as pd\n",
    "import pulp\n",
    "\n",
    "factories = pd.DataFrame.from_csv('csv/factory_variables.csv', index_col=['Month', 'Factory'])\n",
    "factories"
   ]
  },
  {
   "cell_type": "code",
   "execution_count": null,
   "metadata": {
    "collapsed": false,
    "scrolled": true
   },
   "outputs": [],
   "source": [
    "demand = pd.DataFrame.from_csv('csv/monthly_demand.csv', index_col=['Month'])\n",
    "demand"
   ]
  },
  {
   "cell_type": "markdown",
   "metadata": {},
   "source": [
    "We'll begin by defining our decision variables, we have an additional binary variable for switching on the factory."
   ]
  },
  {
   "cell_type": "code",
   "execution_count": null,
   "metadata": {
    "collapsed": true
   },
   "outputs": [],
   "source": [
    "# Production\n",
    "production = pulp.LpVariable.dicts(\"production\",\n",
    "                                     ((month, factory) for month, factory in factories.index),\n",
    "                                     lowBound=0,\n",
    "                                     cat='Integer')\n",
    "\n",
    "# Factory Status, On or Off\n",
    "factory_status = pulp.LpVariable.dicts(\"factory_status\",\n",
    "                                     ((month, factory) for month, factory in factories.index),\n",
    "                                     cat='Binary')\n",
    "\n",
    "# Factory switch on or off\n",
    "switch_on = pulp.LpVariable.dicts(\"switch_on\",\n",
    "                                    ((month, factory) for month, factory in factories.index),\n",
    "                                    cat='Binary')"
   ]
  },
  {
   "cell_type": "markdown",
   "metadata": {},
   "source": [
    "We instantiate our model and define our objective function, including start up costs"
   ]
  },
  {
   "cell_type": "code",
   "execution_count": null,
   "metadata": {
    "collapsed": true
   },
   "outputs": [],
   "source": [
    "# Instantiate the model\n",
    "model = pulp.LpProblem(\"Cost minimising scheduling problem\", pulp.LpMinimize)\n",
    "\n",
    "# Select index on factory A or B\n",
    "factory_A_index = [tpl for tpl in factories.index if tpl[1] == 'A']\n",
    "factory_B_index = [tpl for tpl in factories.index if tpl[1] == 'B']\n",
    "\n",
    "# Define objective function\n",
    "model += pulp.lpSum(\n",
    "    [production[m, f] * factories.loc[(m, f), 'Variable_Costs'] for m, f in factories.index]\n",
    "    + [factory_status[m, f] * factories.loc[(m, f), 'Fixed_Costs'] for m, f in factories.index]\n",
    "    + [switch_on[m, f] * 20000 for m, f in factory_A_index]\n",
    "    + [switch_on[m, f] * 400000 for m, f in factory_B_index]\n",
    ")"
   ]
  },
  {
   "cell_type": "markdown",
   "metadata": {},
   "source": [
    "Now we begin to build up our constraints as in Part 5"
   ]
  },
  {
   "cell_type": "code",
   "execution_count": null,
   "metadata": {
    "collapsed": true
   },
   "outputs": [],
   "source": [
    "# Production in any month must be equal to demand\n",
    "months = demand.index\n",
    "for month in months:\n",
    "    model += production[(month, 'A')] + production[(month, 'B')] == demand.loc[month, 'Demand']\n",
    "\n",
    "# Production in any month must be between minimum and maximum capacity, or zero.\n",
    "for month, factory in factories.index:\n",
    "    min_production = factories.loc[(month, factory), 'Min_Capacity']\n",
    "    max_production = factories.loc[(month, factory), 'Max_Capacity']\n",
    "    model += production[(month, factory)] >= min_production * factory_status[month, factory]\n",
    "    model += production[(month, factory)] <= max_production * factory_status[month, factory]\n",
    "\n",
    "# Factory B is off in May\n",
    "model += factory_status[5, 'B'] == 0\n",
    "model += production[5, 'B'] == 0"
   ]
  },
  {
   "cell_type": "markdown",
   "metadata": {},
   "source": [
    "But now we want to add in our constraints for switching on.\n",
    "\n",
    "A factory switches on if:\n",
    "* It is off in the previous month (m-1)\n",
    "* AND it on in the current month (m).\n",
    "\n",
    "As we don't know if the factory is on before month 0, we'll assume that the factory has switched on if it is on in month 1.\n",
    "\n"
   ]
  },
  {
   "cell_type": "code",
   "execution_count": null,
   "metadata": {
    "collapsed": false
   },
   "outputs": [],
   "source": [
    "for month, factory in factories.index:\n",
    "    # In month 1, if the factory ison, we assume it turned on\n",
    "    if month == 1:\n",
    "        model += switch_on[month, factory] == factory_status[month, factory]\n",
    "    \n",
    "    # In other months, if the factory is on in the current month AND off in the previous month, switch on = 1\n",
    "    else:\n",
    "        model += switch_on[month, factory] >= factory_status[month, factory] - factory_status[month-1, factory]\n",
    "        model += switch_on[month, factory] <= 1 - factory_status[month-1, factory]\n",
    "        model += switch_on[month, factory] <= factory_status[month, factory]\n",
    "        "
   ]
  },
  {
   "cell_type": "markdown",
   "metadata": {},
   "source": [
    "We'll then solve our model"
   ]
  },
  {
   "cell_type": "code",
   "execution_count": null,
   "metadata": {
    "collapsed": false
   },
   "outputs": [],
   "source": [
    "model.solve()\n",
    "pulp.LpStatus[model.status]"
   ]
  },
  {
   "cell_type": "code",
   "execution_count": null,
   "metadata": {
    "collapsed": false
   },
   "outputs": [],
   "source": [
    "output = []\n",
    "for month, factory in production:\n",
    "    var_output = {\n",
    "        'Month': month,\n",
    "        'Factory': factory,\n",
    "        'Production': production[(month, factory)].varValue,\n",
    "        'Factory Status': factory_status[(month, factory)].varValue,\n",
    "        'Switch On': switch_on[(month, factory)].varValue\n",
    "    }\n",
    "    output.append(var_output)\n",
    "output_df = pd.DataFrame.from_records(output).sort_values(['Month', 'Factory'])\n",
    "output_df.set_index(['Month', 'Factory'], inplace=True)\n",
    "output_df"
   ]
  },
  {
   "cell_type": "markdown",
   "metadata": {},
   "source": [
    "Interestingly, we see that it now makes economic sense to keep factory B on after it turns off in month 5 up until month 12.\n",
    "\n",
    "Previously, we had the case that it was not economic to run factory B in month 10, but as there is now a significant cost to switching off and back on, the factory runs through month 10 at its lowest capacity (20,000 units)."
   ]
  },
  {
   "cell_type": "markdown",
   "metadata": {},
   "source": [
    "-----\n",
    "For those interested in using my function defined above (make_io_and_constraint). Instead of:\n",
    "\n",
    "```python\n",
    "model += switch_on[month, factory] >= factory_status[month, factory] - factory_status[month-1, factory]\n",
    "model += switch_on[month, factory] <= 1 - factory_status[month-1, factory]\n",
    "model += switch_on[month, factory] <= factory_status[month, factory]\n",
    "```\n",
    "\n",
    "You could write:\n",
    "```python\n",
    "for constraint in make_io_and_constraint(switch_on[month, factory], \n",
    "                                        factory_status[month, factory], \n",
    "                                        factory_status[month-1, factory], 0, 1):\n",
    "    model += constriant\n",
    "```"
   ]
  }
 ],
 "metadata": {
  "anaconda-cloud": {},
  "kernelspec": {
   "display_name": "Python 2",
   "language": "python",
   "name": "python2"
  },
  "language_info": {
   "codemirror_mode": {
    "name": "ipython",
    "version": 2
   },
   "file_extension": ".py",
   "mimetype": "text/x-python",
   "name": "python",
   "nbconvert_exporter": "python",
   "pygments_lexer": "ipython2",
   "version": "2.7.12"
  }
 },
 "nbformat": 4,
 "nbformat_minor": 0
}
