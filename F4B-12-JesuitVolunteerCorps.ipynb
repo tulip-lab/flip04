{
 "cells": [
  {
   "cell_type": "markdown",
   "metadata": {},
   "source": [
    "# FLIP (04): Learning Theory (I)\n",
    "**(Module 03: Operation Research)**\n",
    "\n",
    "---\n",
    "- Materials in this module include resources collected from various open-source online repositories.\n",
    "- You are free to use, but NOT allowed to change or distribute this package.\n",
    "\n",
    "Prepared by and for \n",
    "**Student Members** |\n",
    "2006-2018 [TULIP Lab](http://www.tulip.org.au), Australia\n",
    "\n",
    "---"
   ]
  },
  {
   "cell_type": "markdown",
   "metadata": {},
   "source": [
    "# Jesuit Volunteer Corps"
   ]
  },
  {
   "cell_type": "markdown",
   "metadata": {},
   "source": [
    "This [IPython notebook](http://ipython.org/notebook.html) demonstrates the formulation and solution of a team scheduling problem using GLPK/Mathprog."
   ]
  },
  {
   "cell_type": "markdown",
   "metadata": {},
   "source": [
    "###### Initializations"
   ]
  },
  {
   "cell_type": "code",
   "execution_count": null,
   "metadata": {
    "collapsed": false
   },
   "outputs": [],
   "source": [
    "from IPython.core.display import HTML\n",
    "HTML(open(\"styles/custom.css\", \"r\").read())"
   ]
  },
  {
   "cell_type": "markdown",
   "metadata": {},
   "source": [
    "## Background"
   ]
  },
  {
   "cell_type": "markdown",
   "metadata": {},
   "source": [
    "<p>\n",
    "    The following problem was formulated by Tomas C. (ND '09) who was \n",
    "    working with the Jesuit Volunteer Corp in 2009-2010. Here was his \n",
    "    problem:\n",
    "</p>\n",
    "<blockquote>\n",
    "    There are 7 of us in the house. We have broken down the chores into 4 \n",
    "    major sections: 1) Kitchen, 2) Bathroom, 3) Common Area, 4) Trash. The \n",
    "    trash is the only task that needs only one person to accomplish, the \n",
    "    other 3 tasks have 2 people assigned to them. Each person needs to rotate\n",
    "    through each task twice and the trash only once. The assignments rotate \n",
    "    each week. Each person needs to have a new partner each week and no \n",
    "    person can have more than one task in a week.\n",
    "</blockquote>\n",
    "<p>\n",
    "    In the formulation below we require every possible pair to do at least\n",
    "    one task together. This is different that requiring a new partner each \n",
    "    week, but Tomas said later that this would meet their needs.\n",
    "</p>\n",
    "<p>\n",
    "    This a challenging computation, depending\n",
    "    on your computer this may take a few seconds to a few minutes.\n",
    "</p>\n"
   ]
  },
  {
   "cell_type": "markdown",
   "metadata": {},
   "source": [
    "## Solution"
   ]
  },
  {
   "cell_type": "code",
   "execution_count": null,
   "metadata": {
    "collapsed": false
   },
   "outputs": [],
   "source": [
    "%%script glpsol -m /dev/stdin \n",
    "\n",
    "# Example: JesuitVols.mod\n",
    "\n",
    "/* Number of weeks to schedule */\n",
    "param T :=  7;\n",
    "\n",
    "/* Numeric labels for volunteers facilitate creating non-replicated pairs */\n",
    "set VOLS := 1..7;\n",
    "set TASKS := {'Kitchen', 'Bathroom', 'Commons', 'Trash'};\n",
    "set WEEKS := 1..T;\n",
    "\n",
    "/* Compute all pairs of volunteers */\n",
    "set PAIRS := setof{u in VOLS, v in VOLS: u < v} (u,v);\n",
    "\n",
    "/* x[v,t,w] = 1 if volunteer v is assigned task t in week w */\n",
    "var x{v in VOLS, t in TASKS, w in WEEKS} binary;\n",
    "\n",
    "/* p[u,v,t,w] = 1 if volunteers u and v are paired together on t in week w */\n",
    "var p{(u,v) in PAIRS, t in TASKS, w in WEEKS} binary;\n",
    "\n",
    "/* The objective will be the number of times anyone has to do the trash */\n",
    "var z integer;\n",
    "\n",
    "minimize obj: z;\n",
    "\n",
    "/* Each volunteer each week must be assigned one task */\n",
    "s.t. fa{v in VOLS, w in WEEKS}: sum {t in TASKS} x[v,t,w] = 1;\n",
    "\n",
    "/* Except for Trash, each task each week must be assigned two volunteers */\n",
    "s.t. fb{w in WEEKS}: sum {v in VOLS} x[v,'Trash',w] = 1;\n",
    "s.t. fc{t in TASKS, w in WEEKS : t <> 'Trash'}: sum {v in VOLS} x[v,t,w] = 2;\n",
    "\n",
    "/* Each volunteer must cycle through each task twice (except trash) */\n",
    "s.t. fd{t in TASKS, v in VOLS : t <> 'Trash'}: sum {w in WEEKS} x[v,t,w] >= 2;\n",
    "\n",
    "/* Minimize number of times anyone has to do trash */\n",
    "s.t. fz{v in VOLS}: sum {w in WEEKS} x[v,'Trash',w] <= z;\n",
    "\n",
    "/* Pair p(u,v,t,w) is 1 if u and v worked together on Week w and Task t */\n",
    "s.t. ga{t in TASKS, w in WEEKS, (u,v) in PAIRS}: p[u,v,t,w] <= x[u,t,w];\n",
    "s.t. gb{t in TASKS, w in WEEKS, (u,v) in PAIRS}: p[u,v,t,w] <= x[v,t,w];\n",
    "s.t. gc{t in TASKS, w in WEEKS, (u,v) in PAIRS}: \n",
    "   p[u,v,t,w] >= x[u,t,w] + x[v,t,w] - 1;\n",
    "\n",
    "/* Each possible pair must do at least one task together. */\n",
    "s.t. gd{(u,v) in PAIRS}: sum{t in TASKS, w in WEEKS} p[u,v,t,w] >= 1;\n",
    "\n",
    "solve;\n",
    "\n",
    "printf \"Volunteer Assignments by Weeks\";\n",
    "for {w in WEEKS}{\n",
    "   printf \"\\n\\nWeek: %2s\\n\",w;\n",
    "   printf \"Volunteer:\";\n",
    "   printf {v in VOLS} \"%3s\",v;\n",
    "   for {t in TASKS}{\n",
    "      printf \"\\n%9s:\",t;\n",
    "      printf {v in VOLS} \"%3s\", if x[v,t,w]=1 then \"X\" else \"-\";\n",
    "   }\n",
    "}\n",
    "\n",
    "printf \"\\n\\n\\n Analysis of Volunteer Pairs\";\n",
    "for{(u,v) in PAIRS}{\n",
    "   printf \"\\n\\nPair: (%s,%s)\\n\",u,v;\n",
    "   printf \"     Week:\";\n",
    "   printf {w in WEEKS} \"%3s\",w;\n",
    "   for {t in TASKS}{\n",
    "      printf \"\\n%9s:\",t;\n",
    "      printf {w in WEEKS} \"%3s\", if p[u,v,t,w]=1 then \"X\" else \"-\";\n",
    "   }\n",
    "}\n",
    "\n",
    "end;\n"
   ]
  },
  {
   "cell_type": "code",
   "execution_count": null,
   "metadata": {
    "collapsed": false
   },
   "outputs": [],
   "source": []
  }
 ],
 "metadata": {
  "anaconda-cloud": {},
  "kernelspec": {
   "display_name": "Python 2",
   "language": "python",
   "name": "python2"
  },
  "language_info": {
   "codemirror_mode": {
    "name": "ipython",
    "version": 2
   },
   "file_extension": ".py",
   "mimetype": "text/x-python",
   "name": "python",
   "nbconvert_exporter": "python",
   "pygments_lexer": "ipython2",
   "version": "2.7.12"
  }
 },
 "nbformat": 4,
 "nbformat_minor": 0
}
