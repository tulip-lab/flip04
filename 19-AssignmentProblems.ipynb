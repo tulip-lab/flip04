{
 "cells": [
  {
   "cell_type": "markdown",
   "metadata": {},
   "source": [
    "# FLIP (02) Operation Research\n",
    "\n",
    "---\n",
    "Team Director: Meng Ren | mren@tulip.academy<br />\n",
    "\n",
    "TULIP Academy <br />\n",
    "http://www.tulip.academy\n",
    "\n",
    "---"
   ]
  },
  {
   "cell_type": "markdown",
   "metadata": {
    "slideshow": {
     "slide_type": "slide"
    }
   },
   "source": [
    "# Assignment Problems"
   ]
  },
  {
   "cell_type": "markdown",
   "metadata": {},
   "source": [
    "This [IPython notebook](http://ipython.org/notebook.html) demonstrates models for various types of assignment problems using GLPK/MathProg."
   ]
  },
  {
   "cell_type": "markdown",
   "metadata": {},
   "source": [
    "### Initializations"
   ]
  },
  {
   "cell_type": "code",
   "execution_count": 1,
   "metadata": {
    "collapsed": false
   },
   "outputs": [
    {
     "data": {
      "text/html": [
       "<link href='http://fonts.googleapis.com/css?family=Fenix' rel='stylesheet' type='text/css'>\n",
       "<link href='http://fonts.googleapis.com/css?family=Alegreya+Sans:100,300,400,500,700,800,\n",
       "    900,100italic,300italic,400italic,500italic,700italic,800italic,900italic' rel='stylesheet' type='text/css'>\n",
       "<link href='http://fonts.googleapis.com/css?family=Source+Code+Pro:300,400' rel='stylesheet' type='text/css'>\n",
       "<link href='http://fonts.googleapis.com/css?family=Crimson+Text' rel='stylesheet' type='text/css'>\n",
       "<link href='http://fonts.googleapis.com/css?family=Kameron' rel='stylesheet' type='text/css'>\n",
       "<link href='http://fonts.googleapis.com/css?family=Lato:200' rel='stylesheet' type='text/css'>\n",
       "<link href='http://fonts.googleapis.com/css?family=Lato:300' rel='stylesheet' type='text/css'>\n",
       "<link href='http://fonts.googleapis.com/css?family=Lato:400' rel='stylesheet' type='text/css'>\n",
       "<link href='http://fonts.googleapis.com/css?family=Source+Code+Pro' rel='stylesheet' type='text/css'>\n",
       "\n",
       "<style>\n",
       "\n",
       "@font-face {\n",
       "    font-family: \"Computer Modern\";\n",
       "    src: url('http://mirrors.ctan.org/fonts/cm-unicode/fonts/otf/cmunss.otf');\n",
       "}\n",
       "\n",
       "#notebook_panel { /* establish main background and color */\n",
       "    background: #fff;\n",
       "    color: #ff0000;\n",
       "}\n",
       "\n",
       "div.cell { /* set cell width */\n",
       "    width:800px;\n",
       "    margin-left:0%;\n",
       "    margin-right:auto;\n",
       "}\n",
       "\n",
       "div #notebook { /* centers the content */\n",
       "    background: #fff;\n",
       "    width: 1000px;\n",
       "    margin: auto;\n",
       "    padding-left: 1em;\n",
       "}\n",
       "\n",
       "#notebook li { /* more space between bullet points */\n",
       "    margin-top:0.8em;\n",
       "}\n",
       "\n",
       "/* draw border around running cells */\n",
       "div.cell.border-box-sizing.code_cell.running {\n",
       "    border: 3px solid #111;\n",
       "}\n",
       "\n",
       "/* Put a solid color box around each code cell and its output,\n",
       "     visually linking them together */\n",
       "div.cell.code_cell {\n",
       "    background-color: rgba(171,165,131,0.2);\n",
       "    border-radius: 10px; /* rounded borders */\n",
       "    padding: 1em;\n",
       "    margin-top: 1em;\n",
       "}\n",
       "\n",
       ".CodeMirror {\n",
       "    font-family: \"Source Code Pro\";\n",
       "    font-size: 90%;\n",
       "}\n",
       "\n",
       "div.text_cell_render code {\n",
       "    font-family: \"Source Code Pro\";\n",
       "    font-size: 90%;\n",
       "    color: red;\n",
       "}\n",
       "\n",
       "pre {\n",
       "    font-family: \"Source Code Pro\";\n",
       "    font-size: 90%;\n",
       "}\n",
       "\n",
       "div.text_cell_render { /* rendering of basic text cell */\n",
       "    font-family: 'Alegreya Sans', Computer Modern, \"Helvetica Neue\", Arial, Helvetica, sans-serif;\n",
       "    line-height: 135%;\n",
       "    font-size: 120%;\n",
       "    width:700px;\n",
       "    margin-left:auto;\n",
       "    margin-right:auto;\n",
       "}\n",
       "\n",
       ".text_cell_render h1 {\n",
       "    font-family: 'Alegreya Sans', sans-serif;\n",
       "    font-weight: 300;\n",
       "    font-size: 40pt;\n",
       "    line-height: 100%;\n",
       "    color:#CD2305;\n",
       "    margin-bottom: 0.4em;\n",
       "    margin-top: 0em;\n",
       "    display: block;\n",
       "}\n",
       "\n",
       "h2 {\n",
       "    font-family: 'Fenix', serif;\n",
       "}\n",
       "\n",
       "h3 {\n",
       "    font-family: 'Fenix', serif;\n",
       "    margin-top:12px;\n",
       "    margin-bottom: 3px;\n",
       "}\n",
       "\n",
       "h4 {\n",
       "    font-family: 'Fenix', serif;\n",
       "}\n",
       "\n",
       ".text_cell_render h5 {\n",
       "    font-family: 'Alegreya Sans', sans-serif;\n",
       "    font-weight: 100;\n",
       "    font-size: 16pt;\n",
       "    color: #CD2305;\n",
       "    font-style: italic;\n",
       "    margin-bottom: .5em;\n",
       "    margin-top: 0.5em;\n",
       "    display: block;\n",
       "}\n",
       "\n",
       ".text_cell_render h6 { /*use this for copyright note*/\n",
       "    font-family: 'Alegreya Sans', sans-serif;\n",
       "    font-weight: 400;\n",
       "    font-size: 10pt;\n",
       "    font-style: normal;\n",
       "    line-height: 120%;\n",
       "    margin-bottom: 1px;\n",
       "    margin-top: 1px;\n",
       "}\n",
       "\n",
       ".MathJax, .MathJax_Display  {\n",
       "    font-family: 'Alegreya Sans', sans-serif  !important;\n",
       "    font-size: 90%  !important;\n",
       "    vertical-align: 0px  !important;\n",
       "}\n",
       "\n",
       ".warning{\n",
       "    color: rgb( 240, 20, 20 )\n",
       "}\n",
       "\n",
       "</style>\n",
       "\n",
       "<script>\n",
       "MathJax.Hub.Config({\n",
       "    TeX: {\n",
       "        extensions: [\"AMSmath.js\"]\n",
       "    },\n",
       "    tex2jax: {\n",
       "        inlineMath: [ ['$','$'], [\"\\\\(\",\"\\\\)\"] ],\n",
       "        displayMath: [ ['$$','$$'], [\"\\\\[\",\"\\\\]\"] ],\n",
       "        processEscapes: true\n",
       "    },\n",
       "    displayAlign: 'center', // Change this to 'center' to center equations.\n",
       "    \"HTML-CSS\": {\n",
       "        styles: {'.MathJax_Display': {\"margin\": 4}}\n",
       "    }\n",
       "});\n",
       "</script>\n",
       "\n"
      ],
      "text/plain": [
       "<IPython.core.display.HTML at 0x106367250>"
      ]
     },
     "execution_count": 1,
     "metadata": {},
     "output_type": "execute_result"
    }
   ],
   "source": [
    "from IPython.core.display import HTML\n",
    "HTML(open(\"styles/custom.css\", \"r\").read())"
   ]
  },
  {
   "cell_type": "markdown",
   "metadata": {
    "slideshow": {
     "slide_type": "slide"
    }
   },
   "source": [
    "## Example Problem"
   ]
  },
  {
   "cell_type": "markdown",
   "metadata": {},
   "source": [
    "You work as a logistics manager for a toy manufacturer, and you currently have five delivery trucks on the road. Your trucks are in Austin, Boston, Chicago, Denver, Edmonton, and Fargo. You need them to drive to five other cities: Atlanta, Boise, Charlotte, Dallas, and Fresno. The table below shows the distance in miles between these cities.\n",
    "\n",
    "| From\\To  | Atlanta | Boise    | Charlotte | Dallas | Fresno |\n",
    "| : -----: | :-----: | :------: | :-------: | :----: | :----: |\n",
    "| Austin   | 921     | 1627     | 1166      | 196    | 1594   |\n",
    "| Boston   | 1078    | 2661     | 837       | 1767   | 3107   |\n",
    "| Chicago  | 716     | 1693     | 756       | 925    | 2140   |\n",
    "| Denver   | 1400    | 815      | 1561      | 788    | 1142   |\n",
    "| Edmonton | 3764    | 1718     | 3848      | 3310   | 2835   |\n",
    "\n",
    "Where should you send each of your trucks in order to minimize travel distance?"
   ]
  },
  {
   "cell_type": "markdown",
   "metadata": {
    "slideshow": {
     "slide_type": "slide"
    }
   },
   "source": [
    "### Combinatorial Complexity"
   ]
  },
  {
   "cell_type": "markdown",
   "metadata": {},
   "source": [
    "How many ways are there to assign destinations to each truck?\n",
    "\n",
    "$N = 5 \\times 4 \\times 3 \\times 2 \\times 1 = 120$\n",
    "\n",
    "In general there are \n",
    "\n",
    "$N = n!$ \n",
    "\n",
    "ways to assign $n$ resources to $n$ tasks."
   ]
  },
  {
   "cell_type": "code",
   "execution_count": 26,
   "metadata": {
    "collapsed": false,
    "slideshow": {
     "slide_type": "slide"
    }
   },
   "outputs": [
    {
     "data": {
      "image/png": "[encoded data removed]",
      "text/plain": [
       "<matplotlib.figure.Figure at 0x107f6fe90>"
      ]
     },
     "metadata": {},
     "output_type": "display_data"
    }
   ],
   "source": [
    "n = arange(0,10)\n",
    "plot(n,n);\n",
    "xlabel('Number of Resources/Tasks');"
   ]
  },
  {
   "cell_type": "code",
   "execution_count": 28,
   "metadata": {
    "collapsed": false,
    "slideshow": {
     "slide_type": "slide"
    }
   },
   "outputs": [
    {
     "data": {
      "text/plain": [
       "<matplotlib.legend.Legend at 0x107f6ec50>"
      ]
     },
     "execution_count": 28,
     "metadata": {},
     "output_type": "execute_result"
    },
    {
     "data": {
      "image/png": "[encoded data removed]",
      "text/plain": [
       "<matplotlib.figure.Figure at 0x107fd6290>"
      ]
     },
     "metadata": {},
     "output_type": "display_data"
    }
   ],
   "source": [
    "xlabel('Number of Resources/Tasks')\n",
    "plot(n,n,n,n**2)\n",
    "legend(['n','n**2'],loc='best');"
   ]
  },
  {
   "cell_type": "code",
   "execution_count": 29,
   "metadata": {
    "collapsed": false,
    "slideshow": {
     "slide_type": "slide"
    }
   },
   "outputs": [
    {
     "data": {
      "text/plain": [
       "<matplotlib.legend.Legend at 0x107fb03d0>"
      ]
     },
     "execution_count": 29,
     "metadata": {},
     "output_type": "execute_result"
    },
    {
     "data": {
      "image/png": "[encoded data removed]",
      "text/plain": [
       "<matplotlib.figure.Figure at 0x107fc7bd0>"
      ]
     },
     "metadata": {},
     "output_type": "display_data"
    }
   ],
   "source": [
    "xlabel('Number of Resources/Tasks')\n",
    "plot(n,n,n,n**2,n,exp(n))\n",
    "legend(['n','n**2','exp(n)'],loc='best');"
   ]
  },
  {
   "cell_type": "code",
   "execution_count": 31,
   "metadata": {
    "collapsed": false,
    "slideshow": {
     "slide_type": "slide"
    }
   },
   "outputs": [
    {
     "data": {
      "text/plain": [
       "<matplotlib.legend.Legend at 0x107fd29d0>"
      ]
     },
     "execution_count": 31,
     "metadata": {},
     "output_type": "execute_result"
    },
    {
     "data": {
      "image/png": "[encoded data removed]",
      "text/plain": [
       "<matplotlib.figure.Figure at 0x107f49a50>"
      ]
     },
     "metadata": {},
     "output_type": "display_data"
    }
   ],
   "source": [
    "xlabel('Number of Resources/Tasks')\n",
    "semilogy(n,n,n,n**2,n,exp(n),n,map(math.factorial,n))\n",
    "legend(['n','n**2','exp(n)','n!'],loc='best');"
   ]
  },
  {
   "cell_type": "markdown",
   "metadata": {},
   "source": [
    "### Types of Complexity\n",
    "\n",
    "$$ Combinatoric >> Exponential >> Geometric >> Linear $$\n",
    "\n",
    "Assignment problems can be incredibly difficult to solve. The speed of solution will depend on the exact details of the problem, what features can be left out without affecting the utility of the solution, and the availability of specialized algorithms."
   ]
  },
  {
   "cell_type": "markdown",
   "metadata": {
    "slideshow": {
     "slide_type": "slide"
    }
   },
   "source": [
    "## Formulation"
   ]
  },
  {
   "cell_type": "markdown",
   "metadata": {},
   "source": [
    "Let _x[R,T]_ be a binary variable where _x[R,T] = 1_ means resource _R_ is assigned to task _T_. "
   ]
  },
  {
   "cell_type": "markdown",
   "metadata": {
    "slideshow": {
     "slide_type": "fragment"
    }
   },
   "source": [
    "One resource must be assigned to each task. So for all $t\\in TASKS$\n",
    "\n",
    "$$\\sum_{r \\in RESOURCES} x[R,T] = 1$$  "
   ]
  },
  {
   "cell_type": "markdown",
   "metadata": {
    "slideshow": {
     "slide_type": "fragment"
    }
   },
   "source": [
    "Each resource must be assigned to one task. So for all $r\\in RESOURCES$\n",
    "\n",
    "$$\\sum_{t \\in TASKS} x[R,T] = 1$$  "
   ]
  },
  {
   "cell_type": "code",
   "execution_count": 9,
   "metadata": {
    "collapsed": false,
    "slideshow": {
     "slide_type": "slide"
    }
   },
   "outputs": [
    {
     "name": "stdout",
     "output_type": "stream",
     "text": [
      "Overwriting Assign.mod\n"
     ]
    }
   ],
   "source": [
    "%%writefile Assign.mod\n",
    "\n",
    "set RESOURCES;\n",
    "set TASKS;\n",
    "\n",
    "param a {RESOURCES,TASKS} >= 0;\n",
    "\n",
    "var x {RESOURCES,TASKS} binary;\n",
    "\n",
    "minimize Cost: sum{r in RESOURCES, t in TASKS} a[r,t]*x[r,t];\n",
    "subject to R {r in RESOURCES}: sum {t in TASKS} x[r,t] = 1;\n",
    "subject to T {t in TASKS}: sum {r in RESOURCES} x[r,t] = 1;\n",
    "\n",
    "solve;\n",
    "\n",
    "printf \"\\n\\n\";\n",
    "for {r in RESOURCES} {\n",
    "   for {t in TASKS : x[r,t] == 1} {\n",
    "      printf \"Assign %10s   to %10s   Cost: %6.0f\\n\", r, t, a[r,t];\n",
    "   }\n",
    "}\n",
    "printf \"\\n\\n\";\n",
    "\n",
    "end;\n"
   ]
  },
  {
   "cell_type": "markdown",
   "metadata": {},
   "source": [
    "## Solution"
   ]
  },
  {
   "cell_type": "code",
   "execution_count": 10,
   "metadata": {
    "collapsed": false
   },
   "outputs": [
    {
     "name": "stdout",
     "output_type": "stream",
     "text": [
      "GLPSOL: GLPK LP/MIP Solver, v4.52\n",
      "Parameter(s) specified in the command line:\n",
      " -m Assign.mod -d /dev/stdin\n",
      "Reading model section from Assign.mod...\n",
      "Assign.mod:23: warning: final NL missing before end of file\n",
      "23 lines were read\n",
      "Reading data section from /dev/stdin...\n",
      "/dev/stdin:12: warning: final NL missing before end of file\n",
      "12 lines were read\n",
      "Generating Cost...\n",
      "Generating R...\n",
      "Generating T...\n",
      "Model has been successfully generated\n",
      "GLPK Integer Optimizer, v4.52\n",
      "11 rows, 25 columns, 75 non-zeros\n",
      "25 integer variables, all of which are binary\n",
      "Preprocessing...\n",
      "10 rows, 25 columns, 50 non-zeros\n",
      "25 integer variables, all of which are binary\n",
      "Scaling...\n",
      " A: min|aij| =  1.000e+00  max|aij| =  1.000e+00  ratio =  1.000e+00\n",
      "Problem data seem to be well scaled\n",
      "Constructing initial basis...\n",
      "Size of triangular part is 9\n",
      "Solving LP relaxation...\n",
      "GLPK Simplex Optimizer, v4.52\n",
      "10 rows, 25 columns, 50 non-zeros\n",
      "      0: obj =   1.211800000e+04  infeas =  3.000e+00 (1)\n",
      "*     7: obj =   8.790000000e+03  infeas =  0.000e+00 (1)\n",
      "*    17: obj =   4.609000000e+03  infeas =  0.000e+00 (1)\n",
      "OPTIMAL LP SOLUTION FOUND\n",
      "Integer optimization begins...\n",
      "+    17: mip =     not found yet >=              -inf        (1; 0)\n",
      "+    17: >>>>>   4.609000000e+03 >=   4.609000000e+03   0.0% (1; 0)\n",
      "+    17: mip =   4.609000000e+03 >=     tree is empty   0.0% (0; 1)\n",
      "INTEGER OPTIMAL SOLUTION FOUND\n",
      "Time used:   0.0 secs\n",
      "Memory used: 0.1 Mb (150106 bytes)\n",
      "\n",
      "\n",
      "Assign     Austin   to     Dallas   Cost:    196\n",
      "Assign     Boston   to  Charlotte   Cost:    837\n",
      "Assign    Chicago   to    Atlanta   Cost:    716\n",
      "Assign     Denver   to     Fresno   Cost:   1142\n",
      "Assign   Edmonton   to      Boise   Cost:   1718\n",
      "\n",
      "\n",
      "Model has been successfully processed\n"
     ]
    }
   ],
   "source": [
    "%%script glpsol -m Assign.mod -d /dev/stdin\n",
    "\n",
    "set RESOURCES := Austin Boston Chicago Denver Edmonton ;\n",
    "set TASKS := Atlanta Boise Charlotte Dallas Fresno ;\n",
    "    \n",
    "param a :   Atlanta\t Boise Charlotte Dallas Fresno :=\n",
    "Austin       921     1627    1166      196   1594\n",
    "Boston      1078     2661     837     1767   3107\n",
    "Chicago      716     1693     756      925   2140\n",
    "Denver      1400      815    1561      788   1142\n",
    "Edmonton    3764     1718    3848     3310   2835 ;\n",
    "\n",
    "end;"
   ]
  },
  {
   "cell_type": "markdown",
   "metadata": {
    "slideshow": {
     "slide_type": "slide"
    }
   },
   "source": [
    "## Example"
   ]
  },
  {
   "cell_type": "markdown",
   "metadata": {},
   "source": [
    "A foreman has ﬁve workers and ﬁve jobs to complete. The\n",
    "time in hours each worker needs to complete each job is shown in the following\n",
    "table.\n",
    "\n",
    "| Resource\\Task | Job 1 | Job 2 | Job 3 | Job 4 | Job 5 |\n",
    "| :-----------: | :---: | :---: | :---: | :---: | :---: |\n",
    "| Worker 1      | 3     | 4     | 8     | 7     | 8     |\n",
    "| Worker 2      | 2     | 5     | 3     | 2     | 6     |\n",
    "| Worker 3      | 7     | 9     | 1     | 8     | 3     |\n",
    "| Worker 4      | 5     | 3     | 4     | 6     | 6     |\n",
    "| Worker 5      | 8     | 9     | 7     | 5     | 8     |"
   ]
  },
  {
   "cell_type": "markdown",
   "metadata": {
    "slideshow": {
     "slide_type": "slide"
    }
   },
   "source": [
    "### What is the minimum time solution if one worker is assigned to each job?"
   ]
  },
  {
   "cell_type": "code",
   "execution_count": 22,
   "metadata": {
    "collapsed": false,
    "slideshow": {
     "slide_type": "fragment"
    }
   },
   "outputs": [
    {
     "name": "stdout",
     "output_type": "stream",
     "text": [
      "GLPSOL: GLPK LP/MIP Solver, v4.52\n",
      "Parameter(s) specified in the command line:\n",
      " -m Assign.mod -d /dev/stdin\n",
      "Reading model section from Assign.mod...\n",
      "Assign.mod:23: warning: final NL missing before end of file\n",
      "23 lines were read\n",
      "Reading data section from /dev/stdin...\n",
      "/dev/stdin:12: warning: final NL missing before end of file\n",
      "12 lines were read\n",
      "Generating Cost...\n",
      "Generating R...\n",
      "Generating T...\n",
      "Model has been successfully generated\n",
      "GLPK Integer Optimizer, v4.52\n",
      "11 rows, 25 columns, 75 non-zeros\n",
      "25 integer variables, all of which are binary\n",
      "Preprocessing...\n",
      "10 rows, 25 columns, 50 non-zeros\n",
      "25 integer variables, all of which are binary\n",
      "Scaling...\n",
      " A: min|aij| =  1.000e+00  max|aij| =  1.000e+00  ratio =  1.000e+00\n",
      "Problem data seem to be well scaled\n",
      "Constructing initial basis...\n",
      "Size of triangular part is 9\n",
      "Solving LP relaxation...\n",
      "GLPK Simplex Optimizer, v4.52\n",
      "10 rows, 25 columns, 50 non-zeros\n",
      "      0: obj =   2.800000000e+01  infeas =  3.000e+00 (1)\n",
      "*     7: obj =   2.000000000e+01  infeas =  0.000e+00 (1)\n",
      "*    11: obj =   1.700000000e+01  infeas =  0.000e+00 (1)\n",
      "OPTIMAL LP SOLUTION FOUND\n",
      "Integer optimization begins...\n",
      "+    11: mip =     not found yet >=              -inf        (1; 0)\n",
      "+    11: >>>>>   1.700000000e+01 >=   1.700000000e+01   0.0% (1; 0)\n",
      "+    11: mip =   1.700000000e+01 >=     tree is empty   0.0% (0; 1)\n",
      "INTEGER OPTIMAL SOLUTION FOUND\n",
      "Time used:   0.0 secs\n",
      "Memory used: 0.1 Mb (150106 bytes)\n",
      "\n",
      "\n",
      "Assign   Worker_1   to      Job_1   Cost:      3\n",
      "Assign   Worker_2   to      Job_4   Cost:      2\n",
      "Assign   Worker_3   to      Job_3   Cost:      1\n",
      "Assign   Worker_4   to      Job_2   Cost:      3\n",
      "Assign   Worker_5   to      Job_5   Cost:      8\n",
      "\n",
      "\n",
      "Model has been successfully processed\n"
     ]
    }
   ],
   "source": [
    "%%script glpsol -m Assign.mod -d /dev/stdin\n",
    "\n",
    "set RESOURCES := Worker_1 Worker_2 Worker_3 Worker_4 Worker_5 ;\n",
    "set TASKS := Job_1 Job_2 Job_3 Job_4 Job_5 ;\n",
    "    \n",
    "param a : Job_1\tJob_2 Job_3\tJob_4 Job_5 :=\n",
    "Worker_1\t3\t4\t8\t7\t8\n",
    "Worker_2\t2\t5\t3\t2\t6\n",
    "Worker_3\t7\t9\t1\t8\t3\n",
    "Worker_4\t5\t3\t4\t6\t6\n",
    "Worker_5\t8\t9\t7\t5\t8 ;\n",
    "\n",
    "end;"
   ]
  },
  {
   "cell_type": "markdown",
   "metadata": {
    "slideshow": {
     "slide_type": "slide"
    }
   },
   "source": [
    "### What is the minimum time solution if workers can be assigned multiple times?"
   ]
  },
  {
   "cell_type": "code",
   "execution_count": 23,
   "metadata": {
    "collapsed": false,
    "slideshow": {
     "slide_type": "fragment"
    }
   },
   "outputs": [
    {
     "name": "stdout",
     "output_type": "stream",
     "text": [
      "GLPSOL: GLPK LP/MIP Solver, v4.52\n",
      "Parameter(s) specified in the command line:\n",
      " -m /dev/stdin\n",
      "Reading model section from /dev/stdin...\n",
      "Reading data section from /dev/stdin...\n",
      "/dev/stdin:35: warning: final NL missing before end of file\n",
      "35 lines were read\n",
      "Generating Cost...\n",
      "Generating T...\n",
      "Model has been successfully generated\n",
      "GLPK Integer Optimizer, v4.52\n",
      "6 rows, 25 columns, 50 non-zeros\n",
      "25 integer variables, all of which are binary\n",
      "Preprocessing...\n",
      "5 rows, 25 columns, 25 non-zeros\n",
      "25 integer variables, all of which are binary\n",
      "Scaling...\n",
      " A: min|aij| =  1.000e+00  max|aij| =  1.000e+00  ratio =  1.000e+00\n",
      "Problem data seem to be well scaled\n",
      "Constructing initial basis...\n",
      "Size of triangular part is 5\n",
      "Solving LP relaxation...\n",
      "GLPK Simplex Optimizer, v4.52\n",
      "5 rows, 25 columns, 25 non-zeros\n",
      "*     0: obj =   3.700000000e+01  infeas =  0.000e+00 (0)\n",
      "*     3: obj =   4.100000000e+01  infeas =  0.000e+00 (0)\n",
      "OPTIMAL LP SOLUTION FOUND\n",
      "Integer optimization begins...\n",
      "+     3: mip =     not found yet <=              +inf        (1; 0)\n",
      "+     3: >>>>>   4.100000000e+01 <=   4.100000000e+01   0.0% (1; 0)\n",
      "+     3: mip =   4.100000000e+01 <=     tree is empty   0.0% (0; 1)\n",
      "INTEGER OPTIMAL SOLUTION FOUND\n",
      "Time used:   0.0 secs\n",
      "Memory used: 0.1 Mb (139304 bytes)\n",
      "\n",
      "\n",
      "Assign   Worker_1   to      Job_3   Cost:      8\n",
      "Assign   Worker_3   to      Job_4   Cost:      8\n",
      "Assign   Worker_5   to      Job_1   Cost:      8\n",
      "Assign   Worker_5   to      Job_2   Cost:      9\n",
      "Assign   Worker_5   to      Job_5   Cost:      8\n",
      "\n",
      "\n",
      "Model has been successfully processed\n"
     ]
    }
   ],
   "source": [
    "%%script glpsol -m /dev/stdin\n",
    "\n",
    "set RESOURCES;\n",
    "set TASKS;\n",
    "\n",
    "param a {RESOURCES,TASKS} >= 0;\n",
    "\n",
    "var x {RESOURCES,TASKS} binary;\n",
    "\n",
    "maximize Cost: sum{r in RESOURCES, t in TASKS} a[r,t]*x[r,t];\n",
    "#subject to R {r in RESOURCES}: sum {t in TASKS} x[r,t] = 1;\n",
    "subject to T {t in TASKS}: sum {r in RESOURCES} x[r,t] = 1;\n",
    "\n",
    "solve;\n",
    "\n",
    "printf \"\\n\\n\";\n",
    "for {r in RESOURCES} {\n",
    "   for {t in TASKS : x[r,t] == 1} {\n",
    "      printf \"Assign %10s   to %10s   Cost: %6.0f\\n\", r, t, a[r,t];\n",
    "   }\n",
    "}\n",
    "printf \"\\n\\n\";\n",
    "\n",
    "data;\n",
    "\n",
    "set RESOURCES := Worker_1 Worker_2 Worker_3 Worker_4 Worker_5 ;\n",
    "set TASKS := Job_1 Job_2 Job_3 Job_4 Job_5 ;\n",
    "    \n",
    "param a : Job_1\tJob_2 Job_3\tJob_4 Job_5 :=\n",
    "Worker_1\t3\t4\t8\t7\t8\n",
    "Worker_2\t2\t5\t3\t2\t6\n",
    "Worker_3\t7\t9\t1\t8\t3\n",
    "Worker_4\t5\t3\t4\t6\t6\n",
    "Worker_5\t8\t9\t7\t5\t8 ;\n",
    "\n",
    "end;"
   ]
  },
  {
   "cell_type": "markdown",
   "metadata": {},
   "source": [
    "### Exercise\n",
    "\n",
    "Suppose we want to assign just two workers. What is the minimum time solution using just two workers?"
   ]
  },
  {
   "cell_type": "markdown",
   "metadata": {},
   "source": [
    "## Knapsack Problems"
   ]
  },
  {
   "cell_type": "markdown",
   "metadata": {},
   "source": [
    "### Typical Applications\n",
    "\n",
    "* Resource allocations with financial constraints\n",
    "* Construction and scoring of a heterogenous test\n",
    "* Selection of Capital Investments"
   ]
  },
  {
   "cell_type": "markdown",
   "metadata": {},
   "source": [
    "### Example\n",
    "\n",
    "Need to complete a set of jobs\n",
    "\n",
    "\n",
    "|       | A | B | C | D  | E  | F | G |\n",
    "|:-----:|:-:|:-:|:-:|:--:|:--:|:-:|:-:|\n",
    "| Value | 7 | 9 | 5 | 12 | 14 | 6 | 12 |\n",
    "| Time  | 3 | 4 | 2 | 6  | 7  | 3 | 5 |\n",
    "\n"
   ]
  },
  {
   "cell_type": "code",
   "execution_count": 24,
   "metadata": {
    "collapsed": false
   },
   "outputs": [
    {
     "name": "stdout",
     "output_type": "stream",
     "text": [
      "GLPSOL: GLPK LP/MIP Solver, v4.52\n",
      "Parameter(s) specified in the command line:\n",
      " -m /dev/stdin\n",
      "Reading model section from /dev/stdin...\n",
      "Reading data section from /dev/stdin...\n",
      "/dev/stdin:29: warning: final NL missing before end of file\n",
      "29 lines were read\n",
      "Generating Obj...\n",
      "Generating C...\n",
      "Model has been successfully generated\n",
      "GLPK Integer Optimizer, v4.52\n",
      "2 rows, 7 columns, 14 non-zeros\n",
      "7 integer variables, all of which are binary\n",
      "Preprocessing...\n",
      "1 row, 7 columns, 7 non-zeros\n",
      "7 integer variables, all of which are binary\n",
      "Scaling...\n",
      " A: min|aij| =  2.000e+00  max|aij| =  7.000e+00  ratio =  3.500e+00\n",
      "Problem data seem to be well scaled\n",
      "Constructing initial basis...\n",
      "Size of triangular part is 1\n",
      "Solving LP relaxation...\n",
      "GLPK Simplex Optimizer, v4.52\n",
      "1 row, 7 columns, 7 non-zeros\n",
      "*     0: obj =   0.000000000e+00  infeas =  0.000e+00 (0)\n",
      "*     7: obj =   2.850000000e+01  infeas =  0.000e+00 (0)\n",
      "OPTIMAL LP SOLUTION FOUND\n",
      "Integer optimization begins...\n",
      "+     7: mip =     not found yet <=              +inf        (1; 0)\n",
      "Solution found by heuristic: 26\n",
      "+     9: >>>>>   2.800000000e+01 <=   2.800000000e+01   0.0% (4; 0)\n",
      "+     9: mip =   2.800000000e+01 <=     tree is empty   0.0% (0; 7)\n",
      "INTEGER OPTIMAL SOLUTION FOUND\n",
      "Time used:   0.0 secs\n",
      "Memory used: 0.1 Mb (137038 bytes)\n",
      "  A   1\n",
      "  B   1\n",
      "  C   0\n",
      "  D   0\n",
      "  E   0\n",
      "  F   0\n",
      "  G   1\n",
      "Model has been successfully processed\n"
     ]
    }
   ],
   "source": [
    "%%script glpsol -m /dev/stdin\n",
    "\n",
    "set ITEMS;\n",
    "\n",
    "param value{ITEMS};\n",
    "param cost{ITEMS};\n",
    "\n",
    "var x {ITEMS} binary;\n",
    "\n",
    "maximize Obj: sum{i in ITEMS} value[i]*x[i];\n",
    "subject to C: sum{i in ITEMS} cost[i]*x[i] <= 12 ;\n",
    "\n",
    "solve;\n",
    "\n",
    "for {i in ITEMS}{\n",
    "    printf \"%3s  %2d\\n\",i,x[i];\n",
    "}\n",
    "\n",
    "data;\n",
    "\n",
    "param : ITEMS : value cost :=\n",
    " A   7 3\n",
    " B   9 4\n",
    " C   5 2\n",
    " D  12 6\n",
    " E  14 7\n",
    " F   6 3\n",
    " G  12 5 ;\n",
    "            \n",
    "end;\n"
   ]
  },
  {
   "cell_type": "markdown",
   "metadata": {},
   "source": [
    "### Exercise\n",
    "\n",
    "| Investment | Location | Cost (millions) | Expected Profit |\n",
    "| :--------: | :------: | :-------------: | :-------------: |\n",
    "| 1 | Europe   | 10 | 1.0 |\n",
    "| 2 | Europe | 8 | 0.9 |\n",
    "| 3 | Europe | 8 | 0.9 |\n",
    "| 4 | South America | 16 | 2.0 |\n",
    "| 5 | South America | 12 | 1.4 |\n",
    "| 6 | Africa | 4 | 0.2 |\n",
    "| 7 | Africa | 6 | 0.5 |\n",
    "| 8 | Africa | 16 | 2.1 |\n",
    "\n",
    "The objective is to maximize the total expected profits subject to:\n",
    "\n",
    "* Contractual commitments require at least 2 investments in Europe\n",
    "* There must be one South American Investment\n",
    "* No more than one African investment\n",
    "* Total cost must be less than $40 million\n",
    "\n",
    "\n",
    "\n"
   ]
  },
  {
   "cell_type": "code",
   "execution_count": null,
   "metadata": {
    "collapsed": false
   },
   "outputs": [],
   "source": []
  }
 ],
 "metadata": {
  "kernelspec": {
   "display_name": "Python 3",
   "language": "python",
   "name": "python3"
  },
  "language_info": {
   "codemirror_mode": {
    "name": "ipython",
    "version": 3
   },
   "file_extension": ".py",
   "mimetype": "text/x-python",
   "name": "python",
   "nbconvert_exporter": "python",
   "pygments_lexer": "ipython3",
   "version": "3.6.0"
  }
 },
 "nbformat": 4,
 "nbformat_minor": 0
}
