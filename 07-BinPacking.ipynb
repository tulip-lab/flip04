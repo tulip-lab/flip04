{
 "cells": [
  {
   "cell_type": "markdown",
   "metadata": {},
   "source": [
    "# FLIP (02) Optimization Data Science\n",
    "\n",
    "---\n",
    "Team Director: Meng Ren | mren@tulip.academy<br />\n",
    "\n",
    "TULIP Academy <br />\n",
    "http://www.tulip.academy \n",
    "\n",
    "---"
   ]
  },
  {
   "cell_type": "markdown",
   "metadata": {},
   "source": [
    "## Bin Packing\n",
    "\n",
    "Imagine we have a lots of objects of various sizes, costs, shapes etc and we wish to pack them away in boxes. We can ask, how many boxes will this take? or if we perhaps only have a few boxes on hand, which objects we should put in them? These are known as bin packing problems and have practical uses in logistics, finance, and manufacturing. Despite being NP-Hard problems, they are heavily studied and have we are able so solve them efficiently through really clever heuristics. Here we will focus on applying linear programming to solving them.\n",
    "\n",
    "If we have a bunch of objects of various sizes to pack, minimizing the number of boxes used gives us the classic 1-d bin packing problem. Variants exist for more dimensions but they are much harder to express."
   ]
  },
  {
   "cell_type": "code",
   "execution_count": 40,
   "metadata": {
    "collapsed": false
   },
   "outputs": [],
   "source": [
    "from pulp import *\n",
    "import numpy as np\n",
    "import seaborn as sn\n",
    "import matplotlib.pyplot as plt\n",
    "%matplotlib inline"
   ]
  },
  {
   "cell_type": "markdown",
   "metadata": {},
   "source": [
    "### 1. First lets make some fake data"
   ]
  },
  {
   "cell_type": "code",
   "execution_count": 41,
   "metadata": {
    "collapsed": true
   },
   "outputs": [],
   "source": [
    "items=['item_%d'%i for i in range(50)]"
   ]
  },
  {
   "cell_type": "code",
   "execution_count": 42,
   "metadata": {
    "collapsed": false
   },
   "outputs": [],
   "source": [
    "item_sizes = dict( (i,np.random.randint(1,20)) for i in items)"
   ]
  },
  {
   "cell_type": "markdown",
   "metadata": {},
   "source": [
    "### The Model\n",
    "\n",
    "Lets model the each possible bins as having at most N spots to be filled by item 0,...,N.\n",
    "\n",
    "$$x_{i,b} = \\begin{cases}\n",
    "    1, & \\text{if item i is in bin b } \\\\\n",
    "    0, & \\text{otherwise}\n",
    "\\end{cases}\n",
    "$$\n",
    "\n",
    "We need to make sure each item is placed in exactly one bin. Ie for any given item, summing $x_{i,b}$ along the bins should equal 1.\n",
    "\n",
    "$$\\sum_{b} x_{i,b} = 1 \\ \\forall i$$\n",
    "\n",
    "We also need to make sure that if a bin is used, it is not used beyond its capacity. \n",
    "\n",
    "$$\\sum_{i} x_{i,b} \\leq \\text{bin_capacity}*y_{b} \\ \\forall b$$\n",
    "\n",
    "Finally, we are trying to minimize the number of needed bins, so our objective is:\n",
    "\n",
    "$$\\text{Minimize} \\ \\sum_{b} y_{b}$$"
   ]
  },
  {
   "cell_type": "code",
   "execution_count": 43,
   "metadata": {
    "collapsed": true
   },
   "outputs": [],
   "source": [
    "bin_size = 40"
   ]
  },
  {
   "cell_type": "code",
   "execution_count": 44,
   "metadata": {
    "collapsed": false
   },
   "outputs": [
    {
     "data": {
      "text/plain": [
       "<matplotlib.text.Text at 0x116b6c438>"
      ]
     },
     "execution_count": 44,
     "metadata": {},
     "output_type": "execute_result"
    },
    {
     "data": {
      "image/png": "[encoded data removed]",
      "text/plain": [
       "<matplotlib.figure.Figure at 0x116fa1128>"
      ]
     },
     "metadata": {},
     "output_type": "display_data"
    }
   ],
   "source": [
    "#average item size\n",
    "avg_size = np.mean([ item_sizes[k] for k in item_sizes])\n",
    "plt.barh([0,1],[avg_size,bin_size],height=.99)\n",
    "plt.gca().text(.5,1.5,'Bin Size',verticalalignment='center', fontsize=12)\n",
    "plt.gca().text(.5,0.5,'Avg item Size', verticalalignment='center', fontsize=12)\n",
    "plt.ylim(0,2)\n",
    "plt.gca().axis('off');\n",
    "plt.title('Bin size vs Object Size')"
   ]
  },
  {
   "cell_type": "code",
   "execution_count": 45,
   "metadata": {
    "collapsed": false
   },
   "outputs": [],
   "source": [
    "bins = ['bin_%d'%i for i in range(len(items))]"
   ]
  },
  {
   "cell_type": "code",
   "execution_count": 46,
   "metadata": {
    "collapsed": false
   },
   "outputs": [],
   "source": [
    "x = LpVariable.dicts('x',[(i,b) for i in items for b in bins],0,1,LpBinary)"
   ]
  },
  {
   "cell_type": "code",
   "execution_count": 47,
   "metadata": {
    "collapsed": false
   },
   "outputs": [],
   "source": [
    "y = LpVariable.dicts('bin',bins,0,10, LpBinary)"
   ]
  },
  {
   "cell_type": "code",
   "execution_count": 48,
   "metadata": {
    "collapsed": false
   },
   "outputs": [],
   "source": [
    "#create the problme\n",
    "prob=LpProblem(\"bin_packing\",LpMinimize)"
   ]
  },
  {
   "cell_type": "code",
   "execution_count": 49,
   "metadata": {
    "collapsed": false
   },
   "outputs": [],
   "source": [
    "#the objective\n",
    "cost = lpSum([ y[b] for b in bins])\n",
    "prob+=cost"
   ]
  },
  {
   "cell_type": "code",
   "execution_count": 50,
   "metadata": {
    "collapsed": false
   },
   "outputs": [],
   "source": [
    "#every item is placed in exactly one bin\n",
    "for i in items:\n",
    "    prob+= lpSum([x[i,b] for b in bins]) == 1"
   ]
  },
  {
   "cell_type": "code",
   "execution_count": 51,
   "metadata": {
    "collapsed": true
   },
   "outputs": [],
   "source": [
    "#if a bin is used, it has a capacity constraint\n",
    "for b in bins:\n",
    "    prob+=lpSum([ item_sizes[i]*x[i,b] for i in items]) <= bin_size*y[b]"
   ]
  },
  {
   "cell_type": "markdown",
   "metadata": {},
   "source": [
    "### Solve it!"
   ]
  },
  {
   "cell_type": "code",
   "execution_count": 52,
   "metadata": {
    "collapsed": false
   },
   "outputs": [
    {
     "name": "stdout",
     "output_type": "stream",
     "text": [
      "CPU times: user 65.2 ms, sys: 8.66 ms, total: 73.8 ms\n",
      "Wall time: 3.11 s\n",
      "Optimal\n"
     ]
    }
   ],
   "source": [
    "%time prob.solve()\n",
    "print(LpStatus[prob.status])"
   ]
  },
  {
   "cell_type": "markdown",
   "metadata": {},
   "source": [
    "And the result:"
   ]
  },
  {
   "cell_type": "code",
   "execution_count": 53,
   "metadata": {
    "collapsed": false
   },
   "outputs": [
    {
     "name": "stdout",
     "output_type": "stream",
     "text": [
      "13.0\n"
     ]
    }
   ],
   "source": [
    "print(value(prob.objective))"
   ]
  },
  {
   "cell_type": "code",
   "execution_count": 54,
   "metadata": {
    "collapsed": false
   },
   "outputs": [
    {
     "name": "stdout",
     "output_type": "stream",
     "text": [
      "bin_0 : item_19, item_20, item_27, item_33, item_48\n",
      "bin_1 : item_1, item_3, item_13\n",
      "bin_2 : item_5, item_11, item_23, item_43, item_45\n",
      "bin_3 : item_0, item_16, item_31, item_41, item_42\n",
      "bin_11 : item_7, item_29, item_36, item_39\n",
      "bin_12 : item_15, item_22, item_28, item_44\n",
      "bin_13 : item_9, item_32, item_46, item_47, item_49\n",
      "bin_14 : item_2, item_12, item_25, item_35\n",
      "bin_15 : item_6, item_8, item_26\n",
      "bin_16 : item_14, item_17, item_38\n",
      "bin_17 : item_18, item_37, item_40\n",
      "bin_18 : item_21, item_24, item_30\n",
      "bin_26 : item_4, item_10, item_34\n"
     ]
    }
   ],
   "source": [
    "for b in bins:\n",
    "    if value(y[b]) !=0:\n",
    "        print(b,':',', '.join([ i for i in items if value(x[i,b]) !=0 ]))"
   ]
  },
  {
   "cell_type": "code",
   "execution_count": null,
   "metadata": {
    "collapsed": true
   },
   "outputs": [],
   "source": []
  }
 ],
 "metadata": {
  "anaconda-cloud": {},
  "kernelspec": {
   "display_name": "Python [Root]",
   "language": "python",
   "name": "Python [Root]"
  },
  "language_info": {
   "codemirror_mode": {
    "name": "ipython",
    "version": 3
   },
   "file_extension": ".py",
   "mimetype": "text/x-python",
   "name": "python",
   "nbconvert_exporter": "python",
   "pygments_lexer": "ipython3",
   "version": "3.5.2"
  }
 },
 "nbformat": 4,
 "nbformat_minor": 1
}
